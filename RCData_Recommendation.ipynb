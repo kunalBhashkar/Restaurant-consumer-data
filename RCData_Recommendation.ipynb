{
 "cells": [
  {
   "cell_type": "markdown",
   "metadata": {},
   "source": [
    "## Quick Guide to Build a Restaurants Recommendation System  "
   ]
  },
  {
   "cell_type": "raw",
   "metadata": {},
   "source": [
    "Abstract\n",
    "The dataset is obtained from a recommender system prototype. The task is to generate a top-n list of restaurants according to the consumer preferences."
   ]
  },
  {
   "cell_type": "code",
   "execution_count": 1,
   "metadata": {
    "collapsed": true
   },
   "outputs": [],
   "source": [
    "#importing packages\n",
    "import pandas as pd\n",
    "import numpy as np\n",
    "import matplotlib.pyplot as plt\n",
    "import seaborn as sns\n",
    "import scipy as stats\n",
    "%matplotlib inline"
   ]
  },
  {
   "cell_type": "raw",
   "metadata": {},
   "source": [
    "Note: In the above packeges we use matplotlib and seaborn for visualization purpose. It provides a high-level interface for drawing attractive statistical graphics. The line “%matplotlib inline” is used  in a Notebook causes plots to be shown as static images."
   ]
  },
  {
   "cell_type": "code",
   "execution_count": 2,
   "metadata": {
    "collapsed": true
   },
   "outputs": [],
   "source": [
    "#Reading the csv files from all three category\n",
    "#Restaurants\n",
    "chefmozaccepts_df=pd.read_csv('../data/RCdata/chefmozaccepts.csv')\n",
    "chefmozcuisine_df=pd.read_csv('../data/RCdata/chefmozcuisine.csv')\n",
    "chefmozhours4_df=pd.read_csv('../data/RCdata/chefmozhours4.csv')\n",
    "chefmozparking_df=pd.read_csv('../data/RCdata/chefmozparking.csv')\n",
    "geoplaces2_df=pd.read_csv('../data/RCdata/geoplaces2.csv',encoding='latin-1')\n",
    "#User-Item-Rating\n",
    "rating_final_df=pd.read_csv('../data/RCdata/rating_final.csv')\n",
    "#Consumers \n",
    "usercuisine_df=pd.read_csv('../data/RCdata/usercuisine.csv')\n",
    "userpayment_df=pd.read_csv('../data/RCdata/userpayment.csv')\n",
    "userprofile_df=pd.read_csv('../data/RCdata/userprofile.csv')"
   ]
  },
  {
   "cell_type": "raw",
   "metadata": {},
   "source": [
    "Note: In the above file five csv file are from Restaurant category, one is from user-item-rating category another three are from Consumers category."
   ]
  },
  {
   "cell_type": "markdown",
   "metadata": {},
   "source": [
    "### Explore the Restaurent files\n",
    "#### chefmozaccepts.csv dataset"
   ]
  },
  {
   "cell_type": "code",
   "execution_count": 3,
   "metadata": {},
   "outputs": [
    {
     "data": {
      "text/plain": [
       "Index(['placeID', 'Rpayment'], dtype='object')"
      ]
     },
     "execution_count": 3,
     "metadata": {},
     "output_type": "execute_result"
    }
   ],
   "source": [
    "#Getting column name\n",
    "chefmozaccepts_df.columns"
   ]
  },
  {
   "cell_type": "code",
   "execution_count": 4,
   "metadata": {},
   "outputs": [
    {
     "data": {
      "text/plain": [
       "(1314, 2)"
      ]
     },
     "execution_count": 4,
     "metadata": {},
     "output_type": "execute_result"
    }
   ],
   "source": [
    "#Getting information of shape \n",
    "chefmozaccepts_df.shape"
   ]
  },
  {
   "cell_type": "code",
   "execution_count": 5,
   "metadata": {},
   "outputs": [
    {
     "name": "stdout",
     "output_type": "stream",
     "text": [
      "<class 'pandas.core.frame.DataFrame'>\n",
      "RangeIndex: 1314 entries, 0 to 1313\n",
      "Data columns (total 2 columns):\n",
      "placeID     1314 non-null int64\n",
      "Rpayment    1314 non-null object\n",
      "dtypes: int64(1), object(1)\n",
      "memory usage: 20.6+ KB\n"
     ]
    }
   ],
   "source": [
    "#Getting infoamation about columns\n",
    "chefmozaccepts_df.info()"
   ]
  },
  {
   "cell_type": "code",
   "execution_count": 6,
   "metadata": {},
   "outputs": [
    {
     "data": {
      "text/plain": [
       "placeID     0\n",
       "Rpayment    0\n",
       "dtype: int64"
      ]
     },
     "execution_count": 6,
     "metadata": {},
     "output_type": "execute_result"
    }
   ],
   "source": [
    "#checking for null value\n",
    "chefmozaccepts_df.isnull().sum()"
   ]
  },
  {
   "cell_type": "code",
   "execution_count": 7,
   "metadata": {},
   "outputs": [
    {
     "data": {
      "text/plain": [
       "placeID      int64\n",
       "Rpayment    object\n",
       "dtype: object"
      ]
     },
     "execution_count": 7,
     "metadata": {},
     "output_type": "execute_result"
    }
   ],
   "source": [
    "#Getting dtypes of this columns\n",
    "chefmozaccepts_df.dtypes"
   ]
  },
  {
   "cell_type": "code",
   "execution_count": 8,
   "metadata": {},
   "outputs": [
    {
     "data": {
      "text/plain": [
       "count     1314\n",
       "unique      12\n",
       "top       cash\n",
       "freq       500\n",
       "Name: Rpayment, dtype: object"
      ]
     },
     "execution_count": 8,
     "metadata": {},
     "output_type": "execute_result"
    }
   ],
   "source": [
    "#Describe the dataset\n",
    "chefmozaccepts_df['Rpayment'].describe()"
   ]
  },
  {
   "cell_type": "code",
   "execution_count": 9,
   "metadata": {},
   "outputs": [
    {
     "data": {
      "text/html": [
       "<div>\n",
       "<style scoped>\n",
       "    .dataframe tbody tr th:only-of-type {\n",
       "        vertical-align: middle;\n",
       "    }\n",
       "\n",
       "    .dataframe tbody tr th {\n",
       "        vertical-align: top;\n",
       "    }\n",
       "\n",
       "    .dataframe thead th {\n",
       "        text-align: right;\n",
       "    }\n",
       "</style>\n",
       "<table border=\"1\" class=\"dataframe\">\n",
       "  <thead>\n",
       "    <tr style=\"text-align: right;\">\n",
       "      <th></th>\n",
       "      <th>placeID</th>\n",
       "      <th>Rpayment</th>\n",
       "    </tr>\n",
       "  </thead>\n",
       "  <tbody>\n",
       "    <tr>\n",
       "      <th>0</th>\n",
       "      <td>135110</td>\n",
       "      <td>cash</td>\n",
       "    </tr>\n",
       "    <tr>\n",
       "      <th>1</th>\n",
       "      <td>135110</td>\n",
       "      <td>VISA</td>\n",
       "    </tr>\n",
       "    <tr>\n",
       "      <th>2</th>\n",
       "      <td>135110</td>\n",
       "      <td>MasterCard-Eurocard</td>\n",
       "    </tr>\n",
       "    <tr>\n",
       "      <th>3</th>\n",
       "      <td>135110</td>\n",
       "      <td>American_Express</td>\n",
       "    </tr>\n",
       "    <tr>\n",
       "      <th>4</th>\n",
       "      <td>135110</td>\n",
       "      <td>bank_debit_cards</td>\n",
       "    </tr>\n",
       "  </tbody>\n",
       "</table>\n",
       "</div>"
      ],
      "text/plain": [
       "   placeID             Rpayment\n",
       "0   135110                 cash\n",
       "1   135110                 VISA\n",
       "2   135110  MasterCard-Eurocard\n",
       "3   135110     American_Express\n",
       "4   135110     bank_debit_cards"
      ]
     },
     "execution_count": 9,
     "metadata": {},
     "output_type": "execute_result"
    }
   ],
   "source": [
    "#Getting first five rows\n",
    "chefmozaccepts_df.head()"
   ]
  },
  {
   "cell_type": "markdown",
   "metadata": {},
   "source": [
    "#### chefmozcuisine.csv dataset"
   ]
  },
  {
   "cell_type": "code",
   "execution_count": 10,
   "metadata": {},
   "outputs": [
    {
     "data": {
      "text/plain": [
       "Index(['placeID', 'Rcuisine'], dtype='object')"
      ]
     },
     "execution_count": 10,
     "metadata": {},
     "output_type": "execute_result"
    }
   ],
   "source": [
    "#Getting column infomation\n",
    "chefmozcuisine_df.columns"
   ]
  },
  {
   "cell_type": "code",
   "execution_count": 11,
   "metadata": {},
   "outputs": [
    {
     "data": {
      "text/plain": [
       "(916, 2)"
      ]
     },
     "execution_count": 11,
     "metadata": {},
     "output_type": "execute_result"
    }
   ],
   "source": [
    "#Getting information of shape and size\n",
    "chefmozcuisine_df.shape"
   ]
  },
  {
   "cell_type": "code",
   "execution_count": 12,
   "metadata": {},
   "outputs": [
    {
     "name": "stdout",
     "output_type": "stream",
     "text": [
      "<class 'pandas.core.frame.DataFrame'>\n",
      "RangeIndex: 916 entries, 0 to 915\n",
      "Data columns (total 2 columns):\n",
      "placeID     916 non-null int64\n",
      "Rcuisine    916 non-null object\n",
      "dtypes: int64(1), object(1)\n",
      "memory usage: 14.4+ KB\n"
     ]
    }
   ],
   "source": [
    "#Getting information about dataframe\n",
    "chefmozcuisine_df.info()"
   ]
  },
  {
   "cell_type": "code",
   "execution_count": 13,
   "metadata": {},
   "outputs": [
    {
     "data": {
      "text/plain": [
       "count         916\n",
       "unique         59\n",
       "top       Mexican\n",
       "freq          239\n",
       "Name: Rcuisine, dtype: object"
      ]
     },
     "execution_count": 13,
     "metadata": {},
     "output_type": "execute_result"
    }
   ],
   "source": [
    "#Describe the dataset\n",
    "chefmozcuisine_df['Rcuisine'].describe()"
   ]
  },
  {
   "cell_type": "code",
   "execution_count": 14,
   "metadata": {},
   "outputs": [
    {
     "data": {
      "text/plain": [
       "placeID     0\n",
       "Rcuisine    0\n",
       "dtype: int64"
      ]
     },
     "execution_count": 14,
     "metadata": {},
     "output_type": "execute_result"
    }
   ],
   "source": [
    "#Checking for null value\n",
    "chefmozcuisine_df.isnull().sum()"
   ]
  },
  {
   "cell_type": "code",
   "execution_count": 15,
   "metadata": {},
   "outputs": [
    {
     "data": {
      "text/html": [
       "<div>\n",
       "<style scoped>\n",
       "    .dataframe tbody tr th:only-of-type {\n",
       "        vertical-align: middle;\n",
       "    }\n",
       "\n",
       "    .dataframe tbody tr th {\n",
       "        vertical-align: top;\n",
       "    }\n",
       "\n",
       "    .dataframe thead th {\n",
       "        text-align: right;\n",
       "    }\n",
       "</style>\n",
       "<table border=\"1\" class=\"dataframe\">\n",
       "  <thead>\n",
       "    <tr style=\"text-align: right;\">\n",
       "      <th></th>\n",
       "      <th>placeID</th>\n",
       "      <th>Rcuisine</th>\n",
       "    </tr>\n",
       "  </thead>\n",
       "  <tbody>\n",
       "    <tr>\n",
       "      <th>0</th>\n",
       "      <td>135110</td>\n",
       "      <td>Spanish</td>\n",
       "    </tr>\n",
       "    <tr>\n",
       "      <th>1</th>\n",
       "      <td>135109</td>\n",
       "      <td>Italian</td>\n",
       "    </tr>\n",
       "    <tr>\n",
       "      <th>2</th>\n",
       "      <td>135107</td>\n",
       "      <td>Latin_American</td>\n",
       "    </tr>\n",
       "    <tr>\n",
       "      <th>3</th>\n",
       "      <td>135106</td>\n",
       "      <td>Mexican</td>\n",
       "    </tr>\n",
       "    <tr>\n",
       "      <th>4</th>\n",
       "      <td>135105</td>\n",
       "      <td>Fast_Food</td>\n",
       "    </tr>\n",
       "  </tbody>\n",
       "</table>\n",
       "</div>"
      ],
      "text/plain": [
       "   placeID        Rcuisine\n",
       "0   135110         Spanish\n",
       "1   135109         Italian\n",
       "2   135107  Latin_American\n",
       "3   135106         Mexican\n",
       "4   135105       Fast_Food"
      ]
     },
     "execution_count": 15,
     "metadata": {},
     "output_type": "execute_result"
    }
   ],
   "source": [
    "#Getting top five rows of dataset\n",
    "chefmozcuisine_df.head()"
   ]
  },
  {
   "cell_type": "markdown",
   "metadata": {},
   "source": [
    "#### chefmozhours4.csv dataset"
   ]
  },
  {
   "cell_type": "code",
   "execution_count": 16,
   "metadata": {},
   "outputs": [
    {
     "data": {
      "text/plain": [
       "Index(['placeID', 'hours', 'days'], dtype='object')"
      ]
     },
     "execution_count": 16,
     "metadata": {},
     "output_type": "execute_result"
    }
   ],
   "source": [
    "#Getting the column information\n",
    "chefmozhours4_df.columns"
   ]
  },
  {
   "cell_type": "code",
   "execution_count": 17,
   "metadata": {},
   "outputs": [
    {
     "data": {
      "text/plain": [
       "(2339, 3)"
      ]
     },
     "execution_count": 17,
     "metadata": {},
     "output_type": "execute_result"
    }
   ],
   "source": [
    "#Getting shape \n",
    "chefmozhours4_df.shape"
   ]
  },
  {
   "cell_type": "code",
   "execution_count": 18,
   "metadata": {},
   "outputs": [
    {
     "name": "stdout",
     "output_type": "stream",
     "text": [
      "<class 'pandas.core.frame.DataFrame'>\n",
      "RangeIndex: 2339 entries, 0 to 2338\n",
      "Data columns (total 3 columns):\n",
      "placeID    2339 non-null int64\n",
      "hours      2339 non-null object\n",
      "days       2339 non-null object\n",
      "dtypes: int64(1), object(2)\n",
      "memory usage: 54.9+ KB\n"
     ]
    }
   ],
   "source": [
    "#Getting information about dataset\n",
    "chefmozhours4_df.info()"
   ]
  },
  {
   "cell_type": "code",
   "execution_count": 19,
   "metadata": {},
   "outputs": [
    {
     "data": {
      "text/plain": [
       "count                     2339\n",
       "unique                       3\n",
       "top       Mon;Tue;Wed;Thu;Fri;\n",
       "freq                       793\n",
       "Name: days, dtype: object"
      ]
     },
     "execution_count": 19,
     "metadata": {},
     "output_type": "execute_result"
    }
   ],
   "source": [
    "#Describe the dataset\n",
    "chefmozhours4_df['days'].describe()"
   ]
  },
  {
   "cell_type": "code",
   "execution_count": 20,
   "metadata": {},
   "outputs": [
    {
     "data": {
      "text/plain": [
       "0    Mon;Tue;Wed;Thu;Fri;\n",
       "1                    Sat;\n",
       "2                    Sun;\n",
       "3    Mon;Tue;Wed;Thu;Fri;\n",
       "4                    Sat;\n",
       "Name: days, dtype: object"
      ]
     },
     "execution_count": 20,
     "metadata": {},
     "output_type": "execute_result"
    }
   ],
   "source": [
    "chefmozhours4_df['days'].head()"
   ]
  },
  {
   "cell_type": "code",
   "execution_count": 21,
   "metadata": {
    "collapsed": true
   },
   "outputs": [],
   "source": [
    "#Split the date\n",
    "chefmozhours4_df[['day1','day2','day3','day4','day5','day6']]= chefmozhours4_df.days.str.split(';', expand = True)"
   ]
  },
  {
   "cell_type": "code",
   "execution_count": 22,
   "metadata": {},
   "outputs": [
    {
     "data": {
      "text/plain": [
       "placeID       0\n",
       "hours         0\n",
       "days          0\n",
       "day1          0\n",
       "day2          0\n",
       "day3       1546\n",
       "day4       1546\n",
       "day5       1546\n",
       "day6       1546\n",
       "dtype: int64"
      ]
     },
     "execution_count": 22,
     "metadata": {},
     "output_type": "execute_result"
    }
   ],
   "source": [
    "#checking for null value\n",
    "chefmozhours4_df.isnull().sum()"
   ]
  },
  {
   "cell_type": "code",
   "execution_count": 23,
   "metadata": {},
   "outputs": [
    {
     "data": {
      "text/html": [
       "<div>\n",
       "<style scoped>\n",
       "    .dataframe tbody tr th:only-of-type {\n",
       "        vertical-align: middle;\n",
       "    }\n",
       "\n",
       "    .dataframe tbody tr th {\n",
       "        vertical-align: top;\n",
       "    }\n",
       "\n",
       "    .dataframe thead th {\n",
       "        text-align: right;\n",
       "    }\n",
       "</style>\n",
       "<table border=\"1\" class=\"dataframe\">\n",
       "  <thead>\n",
       "    <tr style=\"text-align: right;\">\n",
       "      <th></th>\n",
       "      <th>placeID</th>\n",
       "      <th>hours</th>\n",
       "      <th>days</th>\n",
       "      <th>day1</th>\n",
       "      <th>day2</th>\n",
       "      <th>day3</th>\n",
       "      <th>day4</th>\n",
       "      <th>day5</th>\n",
       "      <th>day6</th>\n",
       "    </tr>\n",
       "  </thead>\n",
       "  <tbody>\n",
       "    <tr>\n",
       "      <th>0</th>\n",
       "      <td>135111</td>\n",
       "      <td>00:00-23:30;</td>\n",
       "      <td>Mon;Tue;Wed;Thu;Fri;</td>\n",
       "      <td>Mon</td>\n",
       "      <td>Tue</td>\n",
       "      <td>Wed</td>\n",
       "      <td>Thu</td>\n",
       "      <td>Fri</td>\n",
       "      <td></td>\n",
       "    </tr>\n",
       "    <tr>\n",
       "      <th>1</th>\n",
       "      <td>135111</td>\n",
       "      <td>00:00-23:30;</td>\n",
       "      <td>Sat;</td>\n",
       "      <td>Sat</td>\n",
       "      <td></td>\n",
       "      <td>None</td>\n",
       "      <td>None</td>\n",
       "      <td>None</td>\n",
       "      <td>None</td>\n",
       "    </tr>\n",
       "    <tr>\n",
       "      <th>2</th>\n",
       "      <td>135111</td>\n",
       "      <td>00:00-23:30;</td>\n",
       "      <td>Sun;</td>\n",
       "      <td>Sun</td>\n",
       "      <td></td>\n",
       "      <td>None</td>\n",
       "      <td>None</td>\n",
       "      <td>None</td>\n",
       "      <td>None</td>\n",
       "    </tr>\n",
       "    <tr>\n",
       "      <th>3</th>\n",
       "      <td>135110</td>\n",
       "      <td>08:00-19:00;</td>\n",
       "      <td>Mon;Tue;Wed;Thu;Fri;</td>\n",
       "      <td>Mon</td>\n",
       "      <td>Tue</td>\n",
       "      <td>Wed</td>\n",
       "      <td>Thu</td>\n",
       "      <td>Fri</td>\n",
       "      <td></td>\n",
       "    </tr>\n",
       "    <tr>\n",
       "      <th>4</th>\n",
       "      <td>135110</td>\n",
       "      <td>00:00-00:00;</td>\n",
       "      <td>Sat;</td>\n",
       "      <td>Sat</td>\n",
       "      <td></td>\n",
       "      <td>None</td>\n",
       "      <td>None</td>\n",
       "      <td>None</td>\n",
       "      <td>None</td>\n",
       "    </tr>\n",
       "  </tbody>\n",
       "</table>\n",
       "</div>"
      ],
      "text/plain": [
       "   placeID         hours                  days day1 day2  day3  day4  day5  \\\n",
       "0   135111  00:00-23:30;  Mon;Tue;Wed;Thu;Fri;  Mon  Tue   Wed   Thu   Fri   \n",
       "1   135111  00:00-23:30;                  Sat;  Sat       None  None  None   \n",
       "2   135111  00:00-23:30;                  Sun;  Sun       None  None  None   \n",
       "3   135110  08:00-19:00;  Mon;Tue;Wed;Thu;Fri;  Mon  Tue   Wed   Thu   Fri   \n",
       "4   135110  00:00-00:00;                  Sat;  Sat       None  None  None   \n",
       "\n",
       "   day6  \n",
       "0        \n",
       "1  None  \n",
       "2  None  \n",
       "3        \n",
       "4  None  "
      ]
     },
     "execution_count": 23,
     "metadata": {},
     "output_type": "execute_result"
    }
   ],
   "source": [
    "#Getting first five rows of this dataset\n",
    "chefmozhours4_df.head()"
   ]
  },
  {
   "cell_type": "markdown",
   "metadata": {},
   "source": [
    "#### chefmozparking.csv dataset"
   ]
  },
  {
   "cell_type": "code",
   "execution_count": 24,
   "metadata": {},
   "outputs": [
    {
     "data": {
      "text/plain": [
       "Index(['placeID', 'parking_lot'], dtype='object')"
      ]
     },
     "execution_count": 24,
     "metadata": {},
     "output_type": "execute_result"
    }
   ],
   "source": [
    "#Columns information\n",
    "chefmozparking_df.columns"
   ]
  },
  {
   "cell_type": "code",
   "execution_count": 25,
   "metadata": {},
   "outputs": [
    {
     "data": {
      "text/plain": [
       "(702, 2)"
      ]
     },
     "execution_count": 25,
     "metadata": {},
     "output_type": "execute_result"
    }
   ],
   "source": [
    "#Getting information of shape \n",
    "chefmozparking_df.shape"
   ]
  },
  {
   "cell_type": "code",
   "execution_count": 26,
   "metadata": {},
   "outputs": [
    {
     "name": "stdout",
     "output_type": "stream",
     "text": [
      "<class 'pandas.core.frame.DataFrame'>\n",
      "RangeIndex: 702 entries, 0 to 701\n",
      "Data columns (total 2 columns):\n",
      "placeID        702 non-null int64\n",
      "parking_lot    702 non-null object\n",
      "dtypes: int64(1), object(1)\n",
      "memory usage: 11.0+ KB\n"
     ]
    }
   ],
   "source": [
    "#Getting information about dataset\n",
    "chefmozparking_df.info()"
   ]
  },
  {
   "cell_type": "code",
   "execution_count": 27,
   "metadata": {},
   "outputs": [
    {
     "data": {
      "text/plain": [
       "count      702\n",
       "unique       7\n",
       "top       none\n",
       "freq       348\n",
       "Name: parking_lot, dtype: object"
      ]
     },
     "execution_count": 27,
     "metadata": {},
     "output_type": "execute_result"
    }
   ],
   "source": [
    "#Describe the dataset\n",
    "chefmozparking_df['parking_lot'].describe()"
   ]
  },
  {
   "cell_type": "code",
   "execution_count": 28,
   "metadata": {},
   "outputs": [
    {
     "data": {
      "text/html": [
       "<div>\n",
       "<style scoped>\n",
       "    .dataframe tbody tr th:only-of-type {\n",
       "        vertical-align: middle;\n",
       "    }\n",
       "\n",
       "    .dataframe tbody tr th {\n",
       "        vertical-align: top;\n",
       "    }\n",
       "\n",
       "    .dataframe thead th {\n",
       "        text-align: right;\n",
       "    }\n",
       "</style>\n",
       "<table border=\"1\" class=\"dataframe\">\n",
       "  <thead>\n",
       "    <tr style=\"text-align: right;\">\n",
       "      <th></th>\n",
       "      <th>placeID</th>\n",
       "      <th>parking_lot</th>\n",
       "    </tr>\n",
       "  </thead>\n",
       "  <tbody>\n",
       "    <tr>\n",
       "      <th>0</th>\n",
       "      <td>135111</td>\n",
       "      <td>public</td>\n",
       "    </tr>\n",
       "    <tr>\n",
       "      <th>1</th>\n",
       "      <td>135110</td>\n",
       "      <td>none</td>\n",
       "    </tr>\n",
       "    <tr>\n",
       "      <th>2</th>\n",
       "      <td>135109</td>\n",
       "      <td>none</td>\n",
       "    </tr>\n",
       "    <tr>\n",
       "      <th>3</th>\n",
       "      <td>135108</td>\n",
       "      <td>none</td>\n",
       "    </tr>\n",
       "    <tr>\n",
       "      <th>4</th>\n",
       "      <td>135107</td>\n",
       "      <td>none</td>\n",
       "    </tr>\n",
       "  </tbody>\n",
       "</table>\n",
       "</div>"
      ],
      "text/plain": [
       "   placeID parking_lot\n",
       "0   135111      public\n",
       "1   135110        none\n",
       "2   135109        none\n",
       "3   135108        none\n",
       "4   135107        none"
      ]
     },
     "execution_count": 28,
     "metadata": {},
     "output_type": "execute_result"
    }
   ],
   "source": [
    "#Getting first five rows\n",
    "chefmozparking_df.head()"
   ]
  },
  {
   "cell_type": "markdown",
   "metadata": {},
   "source": [
    "#### geoplaces2.csv dataset"
   ]
  },
  {
   "cell_type": "code",
   "execution_count": 29,
   "metadata": {},
   "outputs": [
    {
     "data": {
      "text/plain": [
       "Index(['placeID', 'latitude', 'longitude', 'the_geom_meter', 'name', 'address',\n",
       "       'city', 'state', 'country', 'fax', 'zip', 'alcohol', 'smoking_area',\n",
       "       'dress_code', 'accessibility', 'price', 'url', 'Rambience', 'franchise',\n",
       "       'area', 'other_services'],\n",
       "      dtype='object')"
      ]
     },
     "execution_count": 29,
     "metadata": {},
     "output_type": "execute_result"
    }
   ],
   "source": [
    "#Column information\n",
    "geoplaces2_df.columns"
   ]
  },
  {
   "cell_type": "code",
   "execution_count": 30,
   "metadata": {},
   "outputs": [
    {
     "name": "stdout",
     "output_type": "stream",
     "text": [
      "<class 'pandas.core.frame.DataFrame'>\n",
      "RangeIndex: 130 entries, 0 to 129\n",
      "Data columns (total 21 columns):\n",
      "placeID           130 non-null int64\n",
      "latitude          130 non-null float64\n",
      "longitude         130 non-null float64\n",
      "the_geom_meter    130 non-null object\n",
      "name              130 non-null object\n",
      "address           130 non-null object\n",
      "city              130 non-null object\n",
      "state             130 non-null object\n",
      "country           130 non-null object\n",
      "fax               130 non-null object\n",
      "zip               130 non-null object\n",
      "alcohol           130 non-null object\n",
      "smoking_area      130 non-null object\n",
      "dress_code        130 non-null object\n",
      "accessibility     130 non-null object\n",
      "price             130 non-null object\n",
      "url               130 non-null object\n",
      "Rambience         130 non-null object\n",
      "franchise         130 non-null object\n",
      "area              130 non-null object\n",
      "other_services    130 non-null object\n",
      "dtypes: float64(2), int64(1), object(18)\n",
      "memory usage: 21.4+ KB\n"
     ]
    }
   ],
   "source": [
    "#Information about columns\n",
    "geoplaces2_df.info()"
   ]
  },
  {
   "cell_type": "code",
   "execution_count": 31,
   "metadata": {},
   "outputs": [
    {
     "data": {
      "text/plain": [
       "placeID           0\n",
       "latitude          0\n",
       "longitude         0\n",
       "the_geom_meter    0\n",
       "name              0\n",
       "address           0\n",
       "city              0\n",
       "state             0\n",
       "country           0\n",
       "fax               0\n",
       "zip               0\n",
       "alcohol           0\n",
       "smoking_area      0\n",
       "dress_code        0\n",
       "accessibility     0\n",
       "price             0\n",
       "url               0\n",
       "Rambience         0\n",
       "franchise         0\n",
       "area              0\n",
       "other_services    0\n",
       "dtype: int64"
      ]
     },
     "execution_count": 31,
     "metadata": {},
     "output_type": "execute_result"
    }
   ],
   "source": [
    "#Check for null value\n",
    "geoplaces2_df.isnull().sum()"
   ]
  },
  {
   "cell_type": "code",
   "execution_count": 32,
   "metadata": {},
   "outputs": [
    {
     "data": {
      "text/plain": [
       "(130, 21)"
      ]
     },
     "execution_count": 32,
     "metadata": {},
     "output_type": "execute_result"
    }
   ],
   "source": [
    "#Getting information of shape\n",
    "geoplaces2_df.shape"
   ]
  },
  {
   "cell_type": "code",
   "execution_count": 33,
   "metadata": {},
   "outputs": [
    {
     "data": {
      "text/html": [
       "<div>\n",
       "<style scoped>\n",
       "    .dataframe tbody tr th:only-of-type {\n",
       "        vertical-align: middle;\n",
       "    }\n",
       "\n",
       "    .dataframe tbody tr th {\n",
       "        vertical-align: top;\n",
       "    }\n",
       "\n",
       "    .dataframe thead th {\n",
       "        text-align: right;\n",
       "    }\n",
       "</style>\n",
       "<table border=\"1\" class=\"dataframe\">\n",
       "  <thead>\n",
       "    <tr style=\"text-align: right;\">\n",
       "      <th></th>\n",
       "      <th>placeID</th>\n",
       "      <th>latitude</th>\n",
       "      <th>longitude</th>\n",
       "      <th>the_geom_meter</th>\n",
       "      <th>name</th>\n",
       "      <th>address</th>\n",
       "      <th>city</th>\n",
       "      <th>state</th>\n",
       "      <th>country</th>\n",
       "      <th>fax</th>\n",
       "      <th>...</th>\n",
       "      <th>alcohol</th>\n",
       "      <th>smoking_area</th>\n",
       "      <th>dress_code</th>\n",
       "      <th>accessibility</th>\n",
       "      <th>price</th>\n",
       "      <th>url</th>\n",
       "      <th>Rambience</th>\n",
       "      <th>franchise</th>\n",
       "      <th>area</th>\n",
       "      <th>other_services</th>\n",
       "    </tr>\n",
       "  </thead>\n",
       "  <tbody>\n",
       "    <tr>\n",
       "      <th>0</th>\n",
       "      <td>134999</td>\n",
       "      <td>18.915421</td>\n",
       "      <td>-99.184871</td>\n",
       "      <td>0101000020957F000088568DE356715AC138C0A525FC46...</td>\n",
       "      <td>Kiku Cuernavaca</td>\n",
       "      <td>Revolucion</td>\n",
       "      <td>Cuernavaca</td>\n",
       "      <td>Morelos</td>\n",
       "      <td>Mexico</td>\n",
       "      <td>?</td>\n",
       "      <td>...</td>\n",
       "      <td>No_Alcohol_Served</td>\n",
       "      <td>none</td>\n",
       "      <td>informal</td>\n",
       "      <td>no_accessibility</td>\n",
       "      <td>medium</td>\n",
       "      <td>kikucuernavaca.com.mx</td>\n",
       "      <td>familiar</td>\n",
       "      <td>f</td>\n",
       "      <td>closed</td>\n",
       "      <td>none</td>\n",
       "    </tr>\n",
       "  </tbody>\n",
       "</table>\n",
       "<p>1 rows × 21 columns</p>\n",
       "</div>"
      ],
      "text/plain": [
       "   placeID   latitude  longitude  \\\n",
       "0   134999  18.915421 -99.184871   \n",
       "\n",
       "                                      the_geom_meter             name  \\\n",
       "0  0101000020957F000088568DE356715AC138C0A525FC46...  Kiku Cuernavaca   \n",
       "\n",
       "      address        city    state country fax      ...        \\\n",
       "0  Revolucion  Cuernavaca  Morelos  Mexico   ?      ...         \n",
       "\n",
       "             alcohol smoking_area dress_code     accessibility   price  \\\n",
       "0  No_Alcohol_Served         none   informal  no_accessibility  medium   \n",
       "\n",
       "                     url Rambience franchise    area other_services  \n",
       "0  kikucuernavaca.com.mx  familiar         f  closed           none  \n",
       "\n",
       "[1 rows x 21 columns]"
      ]
     },
     "execution_count": 33,
     "metadata": {},
     "output_type": "execute_result"
    }
   ],
   "source": [
    "#Getting Top five rows\n",
    "geoplaces2_df.head(1)"
   ]
  },
  {
   "cell_type": "code",
   "execution_count": 34,
   "metadata": {},
   "outputs": [
    {
     "name": "stdout",
     "output_type": "stream",
     "text": [
      "the_geom_meter 0\n",
      "name 0\n",
      "address 27\n",
      "city 18\n",
      "state 18\n",
      "country 28\n",
      "fax 130\n",
      "zip 74\n",
      "alcohol 0\n",
      "smoking_area 0\n",
      "dress_code 0\n",
      "accessibility 0\n",
      "price 0\n",
      "url 116\n",
      "Rambience 0\n",
      "franchise 0\n",
      "area 0\n",
      "other_services 0\n"
     ]
    }
   ],
   "source": [
    "#Print the column name with total number of unknown value ('\\?')\n",
    "#str.contains(' \\?') -String into it contains unknown values\n",
    "for col in geoplaces2_df.columns:\n",
    "    if geoplaces2_df[col].dtype == object:         \n",
    "            print(col, (geoplaces2_df[col].str.contains('\\?') == True).sum()) "
   ]
  },
  {
   "cell_type": "code",
   "execution_count": 35,
   "metadata": {
    "collapsed": true
   },
   "outputs": [],
   "source": [
    "#Taking unknown value ' ?' column as another parameter\n",
    "columns_with_na_vals= ['address','city','state','country','fax','zip','url']"
   ]
  },
  {
   "cell_type": "code",
   "execution_count": 36,
   "metadata": {
    "collapsed": true
   },
   "outputs": [],
   "source": [
    "#Replace the '\\?' value with nan to all columns\n",
    "for col in columns_with_na_vals:\n",
    "    geoplaces2_df[col] = (geoplaces2_df[col].replace({'?': np.NaN})) "
   ]
  },
  {
   "cell_type": "code",
   "execution_count": 37,
   "metadata": {},
   "outputs": [
    {
     "data": {
      "text/html": [
       "<div>\n",
       "<style scoped>\n",
       "    .dataframe tbody tr th:only-of-type {\n",
       "        vertical-align: middle;\n",
       "    }\n",
       "\n",
       "    .dataframe tbody tr th {\n",
       "        vertical-align: top;\n",
       "    }\n",
       "\n",
       "    .dataframe thead th {\n",
       "        text-align: right;\n",
       "    }\n",
       "</style>\n",
       "<table border=\"1\" class=\"dataframe\">\n",
       "  <thead>\n",
       "    <tr style=\"text-align: right;\">\n",
       "      <th></th>\n",
       "      <th>placeID</th>\n",
       "      <th>latitude</th>\n",
       "      <th>longitude</th>\n",
       "      <th>the_geom_meter</th>\n",
       "      <th>name</th>\n",
       "      <th>address</th>\n",
       "      <th>city</th>\n",
       "      <th>state</th>\n",
       "      <th>country</th>\n",
       "      <th>fax</th>\n",
       "      <th>...</th>\n",
       "      <th>alcohol</th>\n",
       "      <th>smoking_area</th>\n",
       "      <th>dress_code</th>\n",
       "      <th>accessibility</th>\n",
       "      <th>price</th>\n",
       "      <th>url</th>\n",
       "      <th>Rambience</th>\n",
       "      <th>franchise</th>\n",
       "      <th>area</th>\n",
       "      <th>other_services</th>\n",
       "    </tr>\n",
       "  </thead>\n",
       "  <tbody>\n",
       "    <tr>\n",
       "      <th>0</th>\n",
       "      <td>134999</td>\n",
       "      <td>18.915421</td>\n",
       "      <td>-99.184871</td>\n",
       "      <td>0101000020957F000088568DE356715AC138C0A525FC46...</td>\n",
       "      <td>Kiku Cuernavaca</td>\n",
       "      <td>Revolucion</td>\n",
       "      <td>Cuernavaca</td>\n",
       "      <td>Morelos</td>\n",
       "      <td>Mexico</td>\n",
       "      <td>NaN</td>\n",
       "      <td>...</td>\n",
       "      <td>No_Alcohol_Served</td>\n",
       "      <td>none</td>\n",
       "      <td>informal</td>\n",
       "      <td>no_accessibility</td>\n",
       "      <td>medium</td>\n",
       "      <td>kikucuernavaca.com.mx</td>\n",
       "      <td>familiar</td>\n",
       "      <td>f</td>\n",
       "      <td>closed</td>\n",
       "      <td>none</td>\n",
       "    </tr>\n",
       "    <tr>\n",
       "      <th>1</th>\n",
       "      <td>132825</td>\n",
       "      <td>22.147392</td>\n",
       "      <td>-100.983092</td>\n",
       "      <td>0101000020957F00001AD016568C4858C1243261274BA5...</td>\n",
       "      <td>puesto de tacos</td>\n",
       "      <td>esquina santos degollado y leon guzman</td>\n",
       "      <td>s.l.p.</td>\n",
       "      <td>s.l.p.</td>\n",
       "      <td>mexico</td>\n",
       "      <td>NaN</td>\n",
       "      <td>...</td>\n",
       "      <td>No_Alcohol_Served</td>\n",
       "      <td>none</td>\n",
       "      <td>informal</td>\n",
       "      <td>completely</td>\n",
       "      <td>low</td>\n",
       "      <td>NaN</td>\n",
       "      <td>familiar</td>\n",
       "      <td>f</td>\n",
       "      <td>open</td>\n",
       "      <td>none</td>\n",
       "    </tr>\n",
       "    <tr>\n",
       "      <th>2</th>\n",
       "      <td>135106</td>\n",
       "      <td>22.149709</td>\n",
       "      <td>-100.976093</td>\n",
       "      <td>0101000020957F0000649D6F21634858C119AE9BF528A3...</td>\n",
       "      <td>El Rincón de San Francisco</td>\n",
       "      <td>Universidad 169</td>\n",
       "      <td>San Luis Potosi</td>\n",
       "      <td>San Luis Potosi</td>\n",
       "      <td>Mexico</td>\n",
       "      <td>NaN</td>\n",
       "      <td>...</td>\n",
       "      <td>Wine-Beer</td>\n",
       "      <td>only at bar</td>\n",
       "      <td>informal</td>\n",
       "      <td>partially</td>\n",
       "      <td>medium</td>\n",
       "      <td>NaN</td>\n",
       "      <td>familiar</td>\n",
       "      <td>f</td>\n",
       "      <td>open</td>\n",
       "      <td>none</td>\n",
       "    </tr>\n",
       "    <tr>\n",
       "      <th>3</th>\n",
       "      <td>132667</td>\n",
       "      <td>23.752697</td>\n",
       "      <td>-99.163359</td>\n",
       "      <td>0101000020957F00005D67BCDDED8157C1222A2DC8D84D...</td>\n",
       "      <td>little pizza Emilio Portes Gil</td>\n",
       "      <td>calle emilio portes gil</td>\n",
       "      <td>victoria</td>\n",
       "      <td>tamaulipas</td>\n",
       "      <td>NaN</td>\n",
       "      <td>NaN</td>\n",
       "      <td>...</td>\n",
       "      <td>No_Alcohol_Served</td>\n",
       "      <td>none</td>\n",
       "      <td>informal</td>\n",
       "      <td>completely</td>\n",
       "      <td>low</td>\n",
       "      <td>NaN</td>\n",
       "      <td>familiar</td>\n",
       "      <td>t</td>\n",
       "      <td>closed</td>\n",
       "      <td>none</td>\n",
       "    </tr>\n",
       "    <tr>\n",
       "      <th>4</th>\n",
       "      <td>132613</td>\n",
       "      <td>23.752903</td>\n",
       "      <td>-99.165076</td>\n",
       "      <td>0101000020957F00008EBA2D06DC8157C194E03B7B504E...</td>\n",
       "      <td>carnitas_mata</td>\n",
       "      <td>lic. Emilio portes gil</td>\n",
       "      <td>victoria</td>\n",
       "      <td>Tamaulipas</td>\n",
       "      <td>Mexico</td>\n",
       "      <td>NaN</td>\n",
       "      <td>...</td>\n",
       "      <td>No_Alcohol_Served</td>\n",
       "      <td>permitted</td>\n",
       "      <td>informal</td>\n",
       "      <td>completely</td>\n",
       "      <td>medium</td>\n",
       "      <td>NaN</td>\n",
       "      <td>familiar</td>\n",
       "      <td>t</td>\n",
       "      <td>closed</td>\n",
       "      <td>none</td>\n",
       "    </tr>\n",
       "  </tbody>\n",
       "</table>\n",
       "<p>5 rows × 21 columns</p>\n",
       "</div>"
      ],
      "text/plain": [
       "   placeID   latitude   longitude  \\\n",
       "0   134999  18.915421  -99.184871   \n",
       "1   132825  22.147392 -100.983092   \n",
       "2   135106  22.149709 -100.976093   \n",
       "3   132667  23.752697  -99.163359   \n",
       "4   132613  23.752903  -99.165076   \n",
       "\n",
       "                                      the_geom_meter  \\\n",
       "0  0101000020957F000088568DE356715AC138C0A525FC46...   \n",
       "1  0101000020957F00001AD016568C4858C1243261274BA5...   \n",
       "2  0101000020957F0000649D6F21634858C119AE9BF528A3...   \n",
       "3  0101000020957F00005D67BCDDED8157C1222A2DC8D84D...   \n",
       "4  0101000020957F00008EBA2D06DC8157C194E03B7B504E...   \n",
       "\n",
       "                             name                                 address  \\\n",
       "0                 Kiku Cuernavaca                              Revolucion   \n",
       "1                 puesto de tacos  esquina santos degollado y leon guzman   \n",
       "2      El Rincón de San Francisco                         Universidad 169   \n",
       "3  little pizza Emilio Portes Gil                 calle emilio portes gil   \n",
       "4                   carnitas_mata                  lic. Emilio portes gil   \n",
       "\n",
       "              city            state country  fax      ...        \\\n",
       "0       Cuernavaca          Morelos  Mexico  NaN      ...         \n",
       "1           s.l.p.           s.l.p.  mexico  NaN      ...         \n",
       "2  San Luis Potosi  San Luis Potosi  Mexico  NaN      ...         \n",
       "3        victoria        tamaulipas     NaN  NaN      ...         \n",
       "4         victoria       Tamaulipas  Mexico  NaN      ...         \n",
       "\n",
       "             alcohol smoking_area dress_code     accessibility   price  \\\n",
       "0  No_Alcohol_Served         none   informal  no_accessibility  medium   \n",
       "1  No_Alcohol_Served         none   informal        completely     low   \n",
       "2          Wine-Beer  only at bar   informal         partially  medium   \n",
       "3  No_Alcohol_Served         none   informal        completely     low   \n",
       "4  No_Alcohol_Served    permitted   informal        completely  medium   \n",
       "\n",
       "                     url Rambience franchise    area other_services  \n",
       "0  kikucuernavaca.com.mx  familiar         f  closed           none  \n",
       "1                    NaN  familiar         f    open           none  \n",
       "2                    NaN  familiar         f    open           none  \n",
       "3                    NaN  familiar         t  closed           none  \n",
       "4                    NaN  familiar         t  closed           none  \n",
       "\n",
       "[5 rows x 21 columns]"
      ]
     },
     "execution_count": 37,
     "metadata": {},
     "output_type": "execute_result"
    }
   ],
   "source": [
    "#Getting Top five rows\n",
    "geoplaces2_df.head()"
   ]
  },
  {
   "cell_type": "code",
   "execution_count": 38,
   "metadata": {},
   "outputs": [
    {
     "data": {
      "text/plain": [
       "placeID             0\n",
       "latitude            0\n",
       "longitude           0\n",
       "the_geom_meter      0\n",
       "name                0\n",
       "address            27\n",
       "city               18\n",
       "state              18\n",
       "country            28\n",
       "fax               130\n",
       "zip                74\n",
       "alcohol             0\n",
       "smoking_area        0\n",
       "dress_code          0\n",
       "accessibility       0\n",
       "price               0\n",
       "url               116\n",
       "Rambience           0\n",
       "franchise           0\n",
       "area                0\n",
       "other_services      0\n",
       "dtype: int64"
      ]
     },
     "execution_count": 38,
     "metadata": {},
     "output_type": "execute_result"
    }
   ],
   "source": [
    "#Check for null value\n",
    "geoplaces2_df.isnull().sum()"
   ]
  },
  {
   "cell_type": "markdown",
   "metadata": {},
   "source": [
    "#### Concatenate All restaurent file together of common column placeID"
   ]
  },
  {
   "cell_type": "code",
   "execution_count": 39,
   "metadata": {},
   "outputs": [
    {
     "name": "stdout",
     "output_type": "stream",
     "text": [
      "938\n"
     ]
    }
   ],
   "source": [
    "#Concatenate All restaurent file together of common column placeID\n",
    "restaurant_all = np.concatenate((chefmozaccepts_df.placeID, chefmozcuisine_df.placeID, chefmozhours4_df.placeID, chefmozparking_df.placeID, geoplaces2_df.placeID))\n",
    "restaurant_all = np.sort(np.unique(restaurant_all) ) # All the unique placeID's\n",
    "print(len(restaurant_all))"
   ]
  },
  {
   "cell_type": "raw",
   "metadata": {},
   "source": [
    "Note: Here we concatenate all restaurant files according to their placeID, it will give all common placeID which is present in all five .csv file. Finally, we get total 938 placeID which is unique."
   ]
  },
  {
   "cell_type": "markdown",
   "metadata": {},
   "source": [
    "### Explore the user item rating files\n",
    "#### rating_final.csv "
   ]
  },
  {
   "cell_type": "code",
   "execution_count": 40,
   "metadata": {},
   "outputs": [
    {
     "data": {
      "text/plain": [
       "Index(['userID', 'placeID', 'rating', 'food_rating', 'service_rating'], dtype='object')"
      ]
     },
     "execution_count": 40,
     "metadata": {},
     "output_type": "execute_result"
    }
   ],
   "source": [
    "#Getting columns names\n",
    "rating_final_df.columns"
   ]
  },
  {
   "cell_type": "code",
   "execution_count": 41,
   "metadata": {},
   "outputs": [
    {
     "name": "stdout",
     "output_type": "stream",
     "text": [
      "<class 'pandas.core.frame.DataFrame'>\n",
      "RangeIndex: 1161 entries, 0 to 1160\n",
      "Data columns (total 5 columns):\n",
      "userID            1161 non-null object\n",
      "placeID           1161 non-null int64\n",
      "rating            1161 non-null int64\n",
      "food_rating       1161 non-null int64\n",
      "service_rating    1161 non-null int64\n",
      "dtypes: int64(4), object(1)\n",
      "memory usage: 45.4+ KB\n"
     ]
    }
   ],
   "source": [
    "#Information about column\n",
    "rating_final_df.info()"
   ]
  },
  {
   "cell_type": "code",
   "execution_count": 42,
   "metadata": {},
   "outputs": [
    {
     "data": {
      "text/plain": [
       "(1161, 5)"
      ]
     },
     "execution_count": 42,
     "metadata": {},
     "output_type": "execute_result"
    }
   ],
   "source": [
    "#Getting information of shape \n",
    "rating_final_df.shape"
   ]
  },
  {
   "cell_type": "code",
   "execution_count": 43,
   "metadata": {},
   "outputs": [
    {
     "data": {
      "text/plain": [
       "userID            0\n",
       "placeID           0\n",
       "rating            0\n",
       "food_rating       0\n",
       "service_rating    0\n",
       "dtype: int64"
      ]
     },
     "execution_count": 43,
     "metadata": {},
     "output_type": "execute_result"
    }
   ],
   "source": [
    "#Checking for null values\n",
    "rating_final_df.isnull().sum()"
   ]
  },
  {
   "cell_type": "code",
   "execution_count": 44,
   "metadata": {},
   "outputs": [
    {
     "data": {
      "text/html": [
       "<div>\n",
       "<style scoped>\n",
       "    .dataframe tbody tr th:only-of-type {\n",
       "        vertical-align: middle;\n",
       "    }\n",
       "\n",
       "    .dataframe tbody tr th {\n",
       "        vertical-align: top;\n",
       "    }\n",
       "\n",
       "    .dataframe thead th {\n",
       "        text-align: right;\n",
       "    }\n",
       "</style>\n",
       "<table border=\"1\" class=\"dataframe\">\n",
       "  <thead>\n",
       "    <tr style=\"text-align: right;\">\n",
       "      <th></th>\n",
       "      <th>rating</th>\n",
       "      <th>food_rating</th>\n",
       "      <th>service_rating</th>\n",
       "    </tr>\n",
       "  </thead>\n",
       "  <tbody>\n",
       "    <tr>\n",
       "      <th>count</th>\n",
       "      <td>1161.000000</td>\n",
       "      <td>1161.000000</td>\n",
       "      <td>1161.000000</td>\n",
       "    </tr>\n",
       "    <tr>\n",
       "      <th>mean</th>\n",
       "      <td>1.199828</td>\n",
       "      <td>1.215332</td>\n",
       "      <td>1.090439</td>\n",
       "    </tr>\n",
       "    <tr>\n",
       "      <th>std</th>\n",
       "      <td>0.773282</td>\n",
       "      <td>0.792294</td>\n",
       "      <td>0.790844</td>\n",
       "    </tr>\n",
       "    <tr>\n",
       "      <th>min</th>\n",
       "      <td>0.000000</td>\n",
       "      <td>0.000000</td>\n",
       "      <td>0.000000</td>\n",
       "    </tr>\n",
       "    <tr>\n",
       "      <th>25%</th>\n",
       "      <td>1.000000</td>\n",
       "      <td>1.000000</td>\n",
       "      <td>0.000000</td>\n",
       "    </tr>\n",
       "    <tr>\n",
       "      <th>50%</th>\n",
       "      <td>1.000000</td>\n",
       "      <td>1.000000</td>\n",
       "      <td>1.000000</td>\n",
       "    </tr>\n",
       "    <tr>\n",
       "      <th>75%</th>\n",
       "      <td>2.000000</td>\n",
       "      <td>2.000000</td>\n",
       "      <td>2.000000</td>\n",
       "    </tr>\n",
       "    <tr>\n",
       "      <th>max</th>\n",
       "      <td>2.000000</td>\n",
       "      <td>2.000000</td>\n",
       "      <td>2.000000</td>\n",
       "    </tr>\n",
       "  </tbody>\n",
       "</table>\n",
       "</div>"
      ],
      "text/plain": [
       "            rating  food_rating  service_rating\n",
       "count  1161.000000  1161.000000     1161.000000\n",
       "mean      1.199828     1.215332        1.090439\n",
       "std       0.773282     0.792294        0.790844\n",
       "min       0.000000     0.000000        0.000000\n",
       "25%       1.000000     1.000000        0.000000\n",
       "50%       1.000000     1.000000        1.000000\n",
       "75%       2.000000     2.000000        2.000000\n",
       "max       2.000000     2.000000        2.000000"
      ]
     },
     "execution_count": 44,
     "metadata": {},
     "output_type": "execute_result"
    }
   ],
   "source": [
    "#Describe the dataset\n",
    "rating_final_df[['rating','food_rating','service_rating']].describe()"
   ]
  },
  {
   "cell_type": "code",
   "execution_count": 45,
   "metadata": {},
   "outputs": [
    {
     "data": {
      "text/html": [
       "<div>\n",
       "<style scoped>\n",
       "    .dataframe tbody tr th:only-of-type {\n",
       "        vertical-align: middle;\n",
       "    }\n",
       "\n",
       "    .dataframe tbody tr th {\n",
       "        vertical-align: top;\n",
       "    }\n",
       "\n",
       "    .dataframe thead th {\n",
       "        text-align: right;\n",
       "    }\n",
       "</style>\n",
       "<table border=\"1\" class=\"dataframe\">\n",
       "  <thead>\n",
       "    <tr style=\"text-align: right;\">\n",
       "      <th></th>\n",
       "      <th>userID</th>\n",
       "      <th>placeID</th>\n",
       "      <th>rating</th>\n",
       "      <th>food_rating</th>\n",
       "      <th>service_rating</th>\n",
       "    </tr>\n",
       "  </thead>\n",
       "  <tbody>\n",
       "    <tr>\n",
       "      <th>0</th>\n",
       "      <td>U1077</td>\n",
       "      <td>135085</td>\n",
       "      <td>2</td>\n",
       "      <td>2</td>\n",
       "      <td>2</td>\n",
       "    </tr>\n",
       "    <tr>\n",
       "      <th>1</th>\n",
       "      <td>U1077</td>\n",
       "      <td>135038</td>\n",
       "      <td>2</td>\n",
       "      <td>2</td>\n",
       "      <td>1</td>\n",
       "    </tr>\n",
       "    <tr>\n",
       "      <th>2</th>\n",
       "      <td>U1077</td>\n",
       "      <td>132825</td>\n",
       "      <td>2</td>\n",
       "      <td>2</td>\n",
       "      <td>2</td>\n",
       "    </tr>\n",
       "    <tr>\n",
       "      <th>3</th>\n",
       "      <td>U1077</td>\n",
       "      <td>135060</td>\n",
       "      <td>1</td>\n",
       "      <td>2</td>\n",
       "      <td>2</td>\n",
       "    </tr>\n",
       "    <tr>\n",
       "      <th>4</th>\n",
       "      <td>U1068</td>\n",
       "      <td>135104</td>\n",
       "      <td>1</td>\n",
       "      <td>1</td>\n",
       "      <td>2</td>\n",
       "    </tr>\n",
       "  </tbody>\n",
       "</table>\n",
       "</div>"
      ],
      "text/plain": [
       "  userID  placeID  rating  food_rating  service_rating\n",
       "0  U1077   135085       2            2               2\n",
       "1  U1077   135038       2            2               1\n",
       "2  U1077   132825       2            2               2\n",
       "3  U1077   135060       1            2               2\n",
       "4  U1068   135104       1            1               2"
      ]
     },
     "execution_count": 45,
     "metadata": {},
     "output_type": "execute_result"
    }
   ],
   "source": [
    "#Top five rows information\n",
    "rating_final_df.head()"
   ]
  },
  {
   "cell_type": "code",
   "execution_count": 46,
   "metadata": {},
   "outputs": [
    {
     "data": {
      "text/plain": [
       "130"
      ]
     },
     "execution_count": 46,
     "metadata": {},
     "output_type": "execute_result"
    }
   ],
   "source": [
    "#The total number of restaurent having rating value\n",
    "len(rating_final_df.placeID.unique())"
   ]
  },
  {
   "cell_type": "code",
   "execution_count": 47,
   "metadata": {},
   "outputs": [
    {
     "data": {
      "text/plain": [
       "138"
      ]
     },
     "execution_count": 47,
     "metadata": {},
     "output_type": "execute_result"
    }
   ],
   "source": [
    "#The total number of users who gave rating\n",
    "len(rating_final_df.userID.unique())"
   ]
  },
  {
   "cell_type": "code",
   "execution_count": 48,
   "metadata": {},
   "outputs": [
    {
     "data": {
      "text/plain": [
       "<matplotlib.axes._subplots.AxesSubplot at 0x7f5166e4e470>"
      ]
     },
     "execution_count": 48,
     "metadata": {},
     "output_type": "execute_result"
    },
    {
     "data": {
      "image/png": "[encoded data removed]",
      "text/plain": [
       "<matplotlib.figure.Figure at 0x7f5166df2080>"
      ]
     },
     "metadata": {},
     "output_type": "display_data"
    }
   ],
   "source": [
    "# Another way to plot a histogram of rating is shown below\n",
    "rating_final_df['rating'].hist(bins=50)"
   ]
  },
  {
   "cell_type": "code",
   "execution_count": 49,
   "metadata": {},
   "outputs": [
    {
     "data": {
      "text/plain": [
       "<matplotlib.axes._subplots.AxesSubplot at 0x7f5164d21748>"
      ]
     },
     "execution_count": 49,
     "metadata": {},
     "output_type": "execute_result"
    },
    {
     "data": {
      "image/png": "[encoded data removed]",
      "text/plain": [
       "<matplotlib.figure.Figure at 0x7f5166df2ef0>"
      ]
     },
     "metadata": {},
     "output_type": "display_data"
    }
   ],
   "source": [
    "# Another way to plot a histogram of food_rating is shown below\n",
    "rating_final_df['food_rating'].hist(bins=50)"
   ]
  },
  {
   "cell_type": "code",
   "execution_count": 50,
   "metadata": {},
   "outputs": [
    {
     "data": {
      "text/plain": [
       "<matplotlib.axes._subplots.AxesSubplot at 0x7f5166df2f60>"
      ]
     },
     "execution_count": 50,
     "metadata": {},
     "output_type": "execute_result"
    },
    {
     "data": {
      "image/png": "[encoded data removed]",
      "text/plain": [
       "<matplotlib.figure.Figure at 0x7f5164cc7240>"
      ]
     },
     "metadata": {},
     "output_type": "display_data"
    }
   ],
   "source": [
    "# Another way to plot a histogram of service_rating is shown below\n",
    "rating_final_df['service_rating'].hist(bins=50)"
   ]
  },
  {
   "cell_type": "markdown",
   "metadata": {},
   "source": [
    "### Explore the Consumers files\n",
    "#### usercuisine.csv file"
   ]
  },
  {
   "cell_type": "code",
   "execution_count": 51,
   "metadata": {},
   "outputs": [
    {
     "data": {
      "text/plain": [
       "Index(['userID', 'Rcuisine'], dtype='object')"
      ]
     },
     "execution_count": 51,
     "metadata": {},
     "output_type": "execute_result"
    }
   ],
   "source": [
    "#Getting column names\n",
    "usercuisine_df.columns"
   ]
  },
  {
   "cell_type": "code",
   "execution_count": 52,
   "metadata": {},
   "outputs": [
    {
     "data": {
      "text/plain": [
       "(330, 2)"
      ]
     },
     "execution_count": 52,
     "metadata": {},
     "output_type": "execute_result"
    }
   ],
   "source": [
    "#Getting information of shape and size\n",
    "usercuisine_df.shape"
   ]
  },
  {
   "cell_type": "code",
   "execution_count": 53,
   "metadata": {},
   "outputs": [
    {
     "name": "stdout",
     "output_type": "stream",
     "text": [
      "<class 'pandas.core.frame.DataFrame'>\n",
      "RangeIndex: 330 entries, 0 to 329\n",
      "Data columns (total 2 columns):\n",
      "userID      330 non-null object\n",
      "Rcuisine    330 non-null object\n",
      "dtypes: object(2)\n",
      "memory usage: 5.2+ KB\n"
     ]
    }
   ],
   "source": [
    "#Getting Information about columns\n",
    "usercuisine_df.info()"
   ]
  },
  {
   "cell_type": "code",
   "execution_count": 54,
   "metadata": {},
   "outputs": [
    {
     "data": {
      "text/plain": [
       "userID      0\n",
       "Rcuisine    0\n",
       "dtype: int64"
      ]
     },
     "execution_count": 54,
     "metadata": {},
     "output_type": "execute_result"
    }
   ],
   "source": [
    "#Checking for null values\n",
    "usercuisine_df.isnull().sum()"
   ]
  },
  {
   "cell_type": "code",
   "execution_count": 55,
   "metadata": {},
   "outputs": [
    {
     "data": {
      "text/plain": [
       "count         330\n",
       "unique        103\n",
       "top       Mexican\n",
       "freq           97\n",
       "Name: Rcuisine, dtype: object"
      ]
     },
     "execution_count": 55,
     "metadata": {},
     "output_type": "execute_result"
    }
   ],
   "source": [
    "#Describe the dataset\n",
    "usercuisine_df['Rcuisine'].describe()"
   ]
  },
  {
   "cell_type": "code",
   "execution_count": 56,
   "metadata": {},
   "outputs": [
    {
     "data": {
      "text/html": [
       "<div>\n",
       "<style scoped>\n",
       "    .dataframe tbody tr th:only-of-type {\n",
       "        vertical-align: middle;\n",
       "    }\n",
       "\n",
       "    .dataframe tbody tr th {\n",
       "        vertical-align: top;\n",
       "    }\n",
       "\n",
       "    .dataframe thead th {\n",
       "        text-align: right;\n",
       "    }\n",
       "</style>\n",
       "<table border=\"1\" class=\"dataframe\">\n",
       "  <thead>\n",
       "    <tr style=\"text-align: right;\">\n",
       "      <th></th>\n",
       "      <th>userID</th>\n",
       "      <th>Rcuisine</th>\n",
       "    </tr>\n",
       "  </thead>\n",
       "  <tbody>\n",
       "    <tr>\n",
       "      <th>0</th>\n",
       "      <td>U1001</td>\n",
       "      <td>American</td>\n",
       "    </tr>\n",
       "    <tr>\n",
       "      <th>1</th>\n",
       "      <td>U1002</td>\n",
       "      <td>Mexican</td>\n",
       "    </tr>\n",
       "    <tr>\n",
       "      <th>2</th>\n",
       "      <td>U1003</td>\n",
       "      <td>Mexican</td>\n",
       "    </tr>\n",
       "    <tr>\n",
       "      <th>3</th>\n",
       "      <td>U1004</td>\n",
       "      <td>Bakery</td>\n",
       "    </tr>\n",
       "    <tr>\n",
       "      <th>4</th>\n",
       "      <td>U1004</td>\n",
       "      <td>Breakfast-Brunch</td>\n",
       "    </tr>\n",
       "  </tbody>\n",
       "</table>\n",
       "</div>"
      ],
      "text/plain": [
       "  userID          Rcuisine\n",
       "0  U1001          American\n",
       "1  U1002           Mexican\n",
       "2  U1003           Mexican\n",
       "3  U1004            Bakery\n",
       "4  U1004  Breakfast-Brunch"
      ]
     },
     "execution_count": 56,
     "metadata": {},
     "output_type": "execute_result"
    }
   ],
   "source": [
    "#Getting top five rows\n",
    "usercuisine_df.head()"
   ]
  },
  {
   "cell_type": "markdown",
   "metadata": {},
   "source": [
    "#### userpayment.csv"
   ]
  },
  {
   "cell_type": "code",
   "execution_count": 57,
   "metadata": {},
   "outputs": [
    {
     "data": {
      "text/plain": [
       "Index(['userID', 'Upayment'], dtype='object')"
      ]
     },
     "execution_count": 57,
     "metadata": {},
     "output_type": "execute_result"
    }
   ],
   "source": [
    "#Getting columns names\n",
    "userpayment_df.columns"
   ]
  },
  {
   "cell_type": "code",
   "execution_count": 58,
   "metadata": {},
   "outputs": [
    {
     "name": "stdout",
     "output_type": "stream",
     "text": [
      "<class 'pandas.core.frame.DataFrame'>\n",
      "RangeIndex: 177 entries, 0 to 176\n",
      "Data columns (total 2 columns):\n",
      "userID      177 non-null object\n",
      "Upayment    177 non-null object\n",
      "dtypes: object(2)\n",
      "memory usage: 2.8+ KB\n"
     ]
    }
   ],
   "source": [
    "#Information about columns\n",
    "userpayment_df.info()"
   ]
  },
  {
   "cell_type": "code",
   "execution_count": 59,
   "metadata": {},
   "outputs": [
    {
     "data": {
      "text/plain": [
       "(177, 2)"
      ]
     },
     "execution_count": 59,
     "metadata": {},
     "output_type": "execute_result"
    }
   ],
   "source": [
    "#Getting information of shape \n",
    "userpayment_df.shape"
   ]
  },
  {
   "cell_type": "code",
   "execution_count": 60,
   "metadata": {},
   "outputs": [
    {
     "data": {
      "text/plain": [
       "userID      0\n",
       "Upayment    0\n",
       "dtype: int64"
      ]
     },
     "execution_count": 60,
     "metadata": {},
     "output_type": "execute_result"
    }
   ],
   "source": [
    "#Checking for null values\n",
    "userpayment_df.isnull().sum()"
   ]
  },
  {
   "cell_type": "code",
   "execution_count": 61,
   "metadata": {},
   "outputs": [
    {
     "data": {
      "text/plain": [
       "count      177\n",
       "unique       5\n",
       "top       cash\n",
       "freq       131\n",
       "Name: Upayment, dtype: object"
      ]
     },
     "execution_count": 61,
     "metadata": {},
     "output_type": "execute_result"
    }
   ],
   "source": [
    "#Describe the dataset\n",
    "userpayment_df['Upayment'].describe()"
   ]
  },
  {
   "cell_type": "code",
   "execution_count": 62,
   "metadata": {},
   "outputs": [
    {
     "data": {
      "text/html": [
       "<div>\n",
       "<style scoped>\n",
       "    .dataframe tbody tr th:only-of-type {\n",
       "        vertical-align: middle;\n",
       "    }\n",
       "\n",
       "    .dataframe tbody tr th {\n",
       "        vertical-align: top;\n",
       "    }\n",
       "\n",
       "    .dataframe thead th {\n",
       "        text-align: right;\n",
       "    }\n",
       "</style>\n",
       "<table border=\"1\" class=\"dataframe\">\n",
       "  <thead>\n",
       "    <tr style=\"text-align: right;\">\n",
       "      <th></th>\n",
       "      <th>userID</th>\n",
       "      <th>Upayment</th>\n",
       "    </tr>\n",
       "  </thead>\n",
       "  <tbody>\n",
       "    <tr>\n",
       "      <th>0</th>\n",
       "      <td>U1001</td>\n",
       "      <td>cash</td>\n",
       "    </tr>\n",
       "    <tr>\n",
       "      <th>1</th>\n",
       "      <td>U1002</td>\n",
       "      <td>cash</td>\n",
       "    </tr>\n",
       "    <tr>\n",
       "      <th>2</th>\n",
       "      <td>U1003</td>\n",
       "      <td>cash</td>\n",
       "    </tr>\n",
       "    <tr>\n",
       "      <th>3</th>\n",
       "      <td>U1004</td>\n",
       "      <td>cash</td>\n",
       "    </tr>\n",
       "    <tr>\n",
       "      <th>4</th>\n",
       "      <td>U1004</td>\n",
       "      <td>bank_debit_cards</td>\n",
       "    </tr>\n",
       "  </tbody>\n",
       "</table>\n",
       "</div>"
      ],
      "text/plain": [
       "  userID          Upayment\n",
       "0  U1001              cash\n",
       "1  U1002              cash\n",
       "2  U1003              cash\n",
       "3  U1004              cash\n",
       "4  U1004  bank_debit_cards"
      ]
     },
     "execution_count": 62,
     "metadata": {},
     "output_type": "execute_result"
    }
   ],
   "source": [
    "#Getting Top five rows\n",
    "userpayment_df.head()"
   ]
  },
  {
   "cell_type": "markdown",
   "metadata": {},
   "source": [
    "#### userprofile.csv"
   ]
  },
  {
   "cell_type": "code",
   "execution_count": 63,
   "metadata": {},
   "outputs": [
    {
     "data": {
      "text/plain": [
       "Index(['userID', 'latitude', 'longitude', 'smoker', 'drink_level',\n",
       "       'dress_preference', 'ambience', 'transport', 'marital_status', 'hijos',\n",
       "       'birth_year', 'interest', 'personality', 'religion', 'activity',\n",
       "       'color', 'weight', 'budget', 'height', 'Unnamed: 19', 'd'],\n",
       "      dtype='object')"
      ]
     },
     "execution_count": 63,
     "metadata": {},
     "output_type": "execute_result"
    }
   ],
   "source": [
    "#Getting columns names\n",
    "userprofile_df.columns"
   ]
  },
  {
   "cell_type": "code",
   "execution_count": 64,
   "metadata": {},
   "outputs": [
    {
     "name": "stdout",
     "output_type": "stream",
     "text": [
      "<class 'pandas.core.frame.DataFrame'>\n",
      "RangeIndex: 138 entries, 0 to 137\n",
      "Data columns (total 21 columns):\n",
      "userID              138 non-null object\n",
      "latitude            138 non-null float64\n",
      "longitude           138 non-null float64\n",
      "smoker              138 non-null object\n",
      "drink_level         138 non-null object\n",
      "dress_preference    138 non-null object\n",
      "ambience            138 non-null object\n",
      "transport           138 non-null object\n",
      "marital_status      138 non-null object\n",
      "hijos               138 non-null object\n",
      "birth_year          138 non-null int64\n",
      "interest            138 non-null object\n",
      "personality         138 non-null object\n",
      "religion            138 non-null object\n",
      "activity            138 non-null object\n",
      "color               138 non-null object\n",
      "weight              138 non-null int64\n",
      "budget              138 non-null object\n",
      "height              138 non-null float64\n",
      "Unnamed: 19         0 non-null float64\n",
      "d                   0 non-null float64\n",
      "dtypes: float64(5), int64(2), object(14)\n",
      "memory usage: 22.7+ KB\n"
     ]
    }
   ],
   "source": [
    "#Information about columns\n",
    "userprofile_df.info()"
   ]
  },
  {
   "cell_type": "code",
   "execution_count": 65,
   "metadata": {},
   "outputs": [
    {
     "data": {
      "text/plain": [
       "userID                0\n",
       "latitude              0\n",
       "longitude             0\n",
       "smoker                0\n",
       "drink_level           0\n",
       "dress_preference      0\n",
       "ambience              0\n",
       "transport             0\n",
       "marital_status        0\n",
       "hijos                 0\n",
       "birth_year            0\n",
       "interest              0\n",
       "personality           0\n",
       "religion              0\n",
       "activity              0\n",
       "color                 0\n",
       "weight                0\n",
       "budget                0\n",
       "height                0\n",
       "Unnamed: 19         138\n",
       "d                   138\n",
       "dtype: int64"
      ]
     },
     "execution_count": 65,
     "metadata": {},
     "output_type": "execute_result"
    }
   ],
   "source": [
    "#Check for null value\n",
    "userprofile_df.isnull().sum()"
   ]
  },
  {
   "cell_type": "code",
   "execution_count": 66,
   "metadata": {},
   "outputs": [
    {
     "data": {
      "text/html": [
       "<div>\n",
       "<style scoped>\n",
       "    .dataframe tbody tr th:only-of-type {\n",
       "        vertical-align: middle;\n",
       "    }\n",
       "\n",
       "    .dataframe tbody tr th {\n",
       "        vertical-align: top;\n",
       "    }\n",
       "\n",
       "    .dataframe thead th {\n",
       "        text-align: right;\n",
       "    }\n",
       "</style>\n",
       "<table border=\"1\" class=\"dataframe\">\n",
       "  <thead>\n",
       "    <tr style=\"text-align: right;\">\n",
       "      <th></th>\n",
       "      <th>smoker</th>\n",
       "      <th>drink_level</th>\n",
       "      <th>dress_preference</th>\n",
       "      <th>ambience</th>\n",
       "      <th>transport</th>\n",
       "      <th>marital_status</th>\n",
       "      <th>hijos</th>\n",
       "      <th>interest</th>\n",
       "      <th>personality</th>\n",
       "      <th>religion</th>\n",
       "      <th>activity</th>\n",
       "      <th>color</th>\n",
       "      <th>budget</th>\n",
       "    </tr>\n",
       "  </thead>\n",
       "  <tbody>\n",
       "    <tr>\n",
       "      <th>count</th>\n",
       "      <td>138</td>\n",
       "      <td>138</td>\n",
       "      <td>138</td>\n",
       "      <td>138</td>\n",
       "      <td>138</td>\n",
       "      <td>138</td>\n",
       "      <td>138</td>\n",
       "      <td>138</td>\n",
       "      <td>138</td>\n",
       "      <td>138</td>\n",
       "      <td>138</td>\n",
       "      <td>138</td>\n",
       "      <td>138</td>\n",
       "    </tr>\n",
       "    <tr>\n",
       "      <th>unique</th>\n",
       "      <td>3</td>\n",
       "      <td>3</td>\n",
       "      <td>5</td>\n",
       "      <td>4</td>\n",
       "      <td>4</td>\n",
       "      <td>4</td>\n",
       "      <td>4</td>\n",
       "      <td>5</td>\n",
       "      <td>4</td>\n",
       "      <td>5</td>\n",
       "      <td>5</td>\n",
       "      <td>8</td>\n",
       "      <td>4</td>\n",
       "    </tr>\n",
       "    <tr>\n",
       "      <th>top</th>\n",
       "      <td>false</td>\n",
       "      <td>abstemious</td>\n",
       "      <td>no preference</td>\n",
       "      <td>family</td>\n",
       "      <td>public</td>\n",
       "      <td>single</td>\n",
       "      <td>independent</td>\n",
       "      <td>variety</td>\n",
       "      <td>hard-worker</td>\n",
       "      <td>Catholic</td>\n",
       "      <td>student</td>\n",
       "      <td>blue</td>\n",
       "      <td>medium</td>\n",
       "    </tr>\n",
       "    <tr>\n",
       "      <th>freq</th>\n",
       "      <td>109</td>\n",
       "      <td>51</td>\n",
       "      <td>53</td>\n",
       "      <td>70</td>\n",
       "      <td>82</td>\n",
       "      <td>122</td>\n",
       "      <td>113</td>\n",
       "      <td>50</td>\n",
       "      <td>61</td>\n",
       "      <td>99</td>\n",
       "      <td>113</td>\n",
       "      <td>45</td>\n",
       "      <td>91</td>\n",
       "    </tr>\n",
       "  </tbody>\n",
       "</table>\n",
       "</div>"
      ],
      "text/plain": [
       "       smoker drink_level dress_preference ambience transport marital_status  \\\n",
       "count     138         138              138      138       138            138   \n",
       "unique      3           3                5        4         4              4   \n",
       "top     false  abstemious    no preference   family    public         single   \n",
       "freq      109          51               53       70        82            122   \n",
       "\n",
       "              hijos interest  personality  religion activity color  budget  \n",
       "count           138      138          138       138      138   138     138  \n",
       "unique            4        5            4         5        5     8       4  \n",
       "top     independent  variety  hard-worker  Catholic  student  blue  medium  \n",
       "freq            113       50           61        99      113    45      91  "
      ]
     },
     "execution_count": 66,
     "metadata": {},
     "output_type": "execute_result"
    }
   ],
   "source": [
    "#Describe the dataset\n",
    "userprofile_df[['smoker', 'drink_level',\n",
    "       'dress_preference', 'ambience', 'transport', 'marital_status', 'hijos',\n",
    "       'interest', 'personality', 'religion', 'activity',\n",
    "       'color','budget']].describe()"
   ]
  },
  {
   "cell_type": "code",
   "execution_count": 67,
   "metadata": {},
   "outputs": [
    {
     "data": {
      "text/plain": [
       "(138, 21)"
      ]
     },
     "execution_count": 67,
     "metadata": {},
     "output_type": "execute_result"
    }
   ],
   "source": [
    "#Getting information of shape \n",
    "userprofile_df.shape"
   ]
  },
  {
   "cell_type": "code",
   "execution_count": 68,
   "metadata": {},
   "outputs": [
    {
     "data": {
      "text/html": [
       "<div>\n",
       "<style scoped>\n",
       "    .dataframe tbody tr th:only-of-type {\n",
       "        vertical-align: middle;\n",
       "    }\n",
       "\n",
       "    .dataframe tbody tr th {\n",
       "        vertical-align: top;\n",
       "    }\n",
       "\n",
       "    .dataframe thead th {\n",
       "        text-align: right;\n",
       "    }\n",
       "</style>\n",
       "<table border=\"1\" class=\"dataframe\">\n",
       "  <thead>\n",
       "    <tr style=\"text-align: right;\">\n",
       "      <th></th>\n",
       "      <th>userID</th>\n",
       "      <th>latitude</th>\n",
       "      <th>longitude</th>\n",
       "      <th>smoker</th>\n",
       "      <th>drink_level</th>\n",
       "      <th>dress_preference</th>\n",
       "      <th>ambience</th>\n",
       "      <th>transport</th>\n",
       "      <th>marital_status</th>\n",
       "      <th>hijos</th>\n",
       "      <th>...</th>\n",
       "      <th>interest</th>\n",
       "      <th>personality</th>\n",
       "      <th>religion</th>\n",
       "      <th>activity</th>\n",
       "      <th>color</th>\n",
       "      <th>weight</th>\n",
       "      <th>budget</th>\n",
       "      <th>height</th>\n",
       "      <th>Unnamed: 19</th>\n",
       "      <th>d</th>\n",
       "    </tr>\n",
       "  </thead>\n",
       "  <tbody>\n",
       "    <tr>\n",
       "      <th>0</th>\n",
       "      <td>U1001</td>\n",
       "      <td>22.139997</td>\n",
       "      <td>-100.978803</td>\n",
       "      <td>false</td>\n",
       "      <td>abstemious</td>\n",
       "      <td>informal</td>\n",
       "      <td>family</td>\n",
       "      <td>on foot</td>\n",
       "      <td>single</td>\n",
       "      <td>independent</td>\n",
       "      <td>...</td>\n",
       "      <td>variety</td>\n",
       "      <td>thrifty-protector</td>\n",
       "      <td>none</td>\n",
       "      <td>student</td>\n",
       "      <td>black</td>\n",
       "      <td>69</td>\n",
       "      <td>medium</td>\n",
       "      <td>1.77</td>\n",
       "      <td>NaN</td>\n",
       "      <td>NaN</td>\n",
       "    </tr>\n",
       "    <tr>\n",
       "      <th>1</th>\n",
       "      <td>U1002</td>\n",
       "      <td>22.150087</td>\n",
       "      <td>-100.983325</td>\n",
       "      <td>false</td>\n",
       "      <td>abstemious</td>\n",
       "      <td>informal</td>\n",
       "      <td>family</td>\n",
       "      <td>public</td>\n",
       "      <td>single</td>\n",
       "      <td>independent</td>\n",
       "      <td>...</td>\n",
       "      <td>technology</td>\n",
       "      <td>hunter-ostentatious</td>\n",
       "      <td>Catholic</td>\n",
       "      <td>student</td>\n",
       "      <td>red</td>\n",
       "      <td>40</td>\n",
       "      <td>low</td>\n",
       "      <td>1.87</td>\n",
       "      <td>NaN</td>\n",
       "      <td>NaN</td>\n",
       "    </tr>\n",
       "    <tr>\n",
       "      <th>2</th>\n",
       "      <td>U1003</td>\n",
       "      <td>22.119847</td>\n",
       "      <td>-100.946527</td>\n",
       "      <td>false</td>\n",
       "      <td>social drinker</td>\n",
       "      <td>formal</td>\n",
       "      <td>family</td>\n",
       "      <td>public</td>\n",
       "      <td>single</td>\n",
       "      <td>independent</td>\n",
       "      <td>...</td>\n",
       "      <td>none</td>\n",
       "      <td>hard-worker</td>\n",
       "      <td>Catholic</td>\n",
       "      <td>student</td>\n",
       "      <td>blue</td>\n",
       "      <td>60</td>\n",
       "      <td>low</td>\n",
       "      <td>1.69</td>\n",
       "      <td>NaN</td>\n",
       "      <td>NaN</td>\n",
       "    </tr>\n",
       "    <tr>\n",
       "      <th>3</th>\n",
       "      <td>U1004</td>\n",
       "      <td>18.867000</td>\n",
       "      <td>-99.183000</td>\n",
       "      <td>false</td>\n",
       "      <td>abstemious</td>\n",
       "      <td>informal</td>\n",
       "      <td>family</td>\n",
       "      <td>public</td>\n",
       "      <td>single</td>\n",
       "      <td>independent</td>\n",
       "      <td>...</td>\n",
       "      <td>variety</td>\n",
       "      <td>hard-worker</td>\n",
       "      <td>none</td>\n",
       "      <td>professional</td>\n",
       "      <td>green</td>\n",
       "      <td>44</td>\n",
       "      <td>medium</td>\n",
       "      <td>1.53</td>\n",
       "      <td>NaN</td>\n",
       "      <td>NaN</td>\n",
       "    </tr>\n",
       "    <tr>\n",
       "      <th>4</th>\n",
       "      <td>U1005</td>\n",
       "      <td>22.183477</td>\n",
       "      <td>-100.959891</td>\n",
       "      <td>false</td>\n",
       "      <td>abstemious</td>\n",
       "      <td>no preference</td>\n",
       "      <td>family</td>\n",
       "      <td>public</td>\n",
       "      <td>single</td>\n",
       "      <td>independent</td>\n",
       "      <td>...</td>\n",
       "      <td>none</td>\n",
       "      <td>thrifty-protector</td>\n",
       "      <td>Catholic</td>\n",
       "      <td>student</td>\n",
       "      <td>black</td>\n",
       "      <td>65</td>\n",
       "      <td>medium</td>\n",
       "      <td>1.69</td>\n",
       "      <td>NaN</td>\n",
       "      <td>NaN</td>\n",
       "    </tr>\n",
       "  </tbody>\n",
       "</table>\n",
       "<p>5 rows × 21 columns</p>\n",
       "</div>"
      ],
      "text/plain": [
       "  userID   latitude   longitude smoker     drink_level dress_preference  \\\n",
       "0  U1001  22.139997 -100.978803  false      abstemious         informal   \n",
       "1  U1002  22.150087 -100.983325  false      abstemious         informal   \n",
       "2  U1003  22.119847 -100.946527  false  social drinker           formal   \n",
       "3  U1004  18.867000  -99.183000  false      abstemious         informal   \n",
       "4  U1005  22.183477 -100.959891  false      abstemious    no preference   \n",
       "\n",
       "  ambience transport marital_status        hijos ...    interest  \\\n",
       "0   family   on foot         single  independent ...     variety   \n",
       "1   family    public         single  independent ...  technology   \n",
       "2   family    public         single  independent ...        none   \n",
       "3   family    public         single  independent ...     variety   \n",
       "4   family    public         single  independent ...        none   \n",
       "\n",
       "           personality  religion      activity  color weight  budget height  \\\n",
       "0    thrifty-protector      none       student  black     69  medium   1.77   \n",
       "1  hunter-ostentatious  Catholic       student    red     40     low   1.87   \n",
       "2          hard-worker  Catholic       student   blue     60     low   1.69   \n",
       "3          hard-worker      none  professional  green     44  medium   1.53   \n",
       "4    thrifty-protector  Catholic       student  black     65  medium   1.69   \n",
       "\n",
       "   Unnamed: 19   d  \n",
       "0          NaN NaN  \n",
       "1          NaN NaN  \n",
       "2          NaN NaN  \n",
       "3          NaN NaN  \n",
       "4          NaN NaN  \n",
       "\n",
       "[5 rows x 21 columns]"
      ]
     },
     "execution_count": 68,
     "metadata": {},
     "output_type": "execute_result"
    }
   ],
   "source": [
    "#Getting top five rows\n",
    "userprofile_df.head()"
   ]
  },
  {
   "cell_type": "markdown",
   "metadata": {},
   "source": [
    "#### combined all user according to their userID"
   ]
  },
  {
   "cell_type": "raw",
   "metadata": {},
   "source": [
    "Now combine all user of all three .csv file according to their userID and get their unique value, so that it is easy to compare."
   ]
  },
  {
   "cell_type": "code",
   "execution_count": 69,
   "metadata": {},
   "outputs": [
    {
     "data": {
      "text/plain": [
       "138"
      ]
     },
     "execution_count": 69,
     "metadata": {},
     "output_type": "execute_result"
    }
   ],
   "source": [
    "user_all = np.concatenate((usercuisine_df.userID, userpayment_df.userID, userprofile_df.userID))\n",
    "user_all = np.sort( np.unique(user_all) ) #UserID's of all theree users\n",
    "len(user_all)"
   ]
  },
  {
   "cell_type": "code",
   "execution_count": 70,
   "metadata": {},
   "outputs": [
    {
     "data": {
      "text/plain": [
       "array(['userID', 'latitude', 'longitude', 'smoker', 'drink_level',\n",
       "       'dress_preference', 'ambience', 'transport', 'marital_status',\n",
       "       'hijos', 'birth_year', 'interest', 'personality', 'religion',\n",
       "       'activity', 'color', 'weight', 'budget', 'height', 'Unnamed: 19',\n",
       "       'd'], dtype=object)"
      ]
     },
     "execution_count": 70,
     "metadata": {},
     "output_type": "execute_result"
    }
   ],
   "source": [
    "#Check the column present in user profile\n",
    "userprofile_df.columns.values"
   ]
  },
  {
   "cell_type": "raw",
   "metadata": {},
   "source": [
    "Here 'smoker','drink_level','transport','budget','dress_preference','ambience','activity','interest' are more effective features which mostly effect the results. I will take only these features for further analysis."
   ]
  },
  {
   "cell_type": "code",
   "execution_count": 71,
   "metadata": {},
   "outputs": [
    {
     "name": "stdout",
     "output_type": "stream",
     "text": [
      "false    109\n",
      "true      26\n",
      "?          3\n",
      "Name: smoker, dtype: int64\n",
      "abstemious        51\n",
      "casual drinker    47\n",
      "social drinker    40\n",
      "Name: drink_level, dtype: int64\n",
      "public       82\n",
      "car owner    35\n",
      "on foot      14\n",
      "?             7\n",
      "Name: transport, dtype: int64\n",
      "medium    91\n",
      "low       35\n",
      "?          7\n",
      "high       5\n",
      "Name: budget, dtype: int64\n",
      "no preference    53\n",
      "formal           41\n",
      "informal         35\n",
      "?                 5\n",
      "elegant           4\n",
      "Name: dress_preference, dtype: int64\n",
      "family      70\n",
      "friends     46\n",
      "solitary    16\n",
      "?            6\n",
      "Name: ambience, dtype: int64\n",
      "student          113\n",
      "professional      15\n",
      "?                  7\n",
      "unemployed         2\n",
      "working-class      1\n",
      "Name: activity, dtype: int64\n",
      "variety         50\n",
      "technology      36\n",
      "none            30\n",
      "eco-friendly    16\n",
      "retro            6\n",
      "Name: interest, dtype: int64\n"
     ]
    }
   ],
   "source": [
    "#Taking some important features from userprofile_df and print their value counts\n",
    "features_user =userprofile_df[['smoker','drink_level','transport','budget','dress_preference','ambience','activity','interest']]\n",
    "#Getting all information about features users\n",
    "for col in features_user.columns.values:\n",
    "        print(features_user[col].value_counts())"
   ]
  },
  {
   "cell_type": "raw",
   "metadata": {},
   "source": [
    "Here we see that some values from transport and dress_preference have same category, so we replace those value with common value for analysis purpose."
   ]
  },
  {
   "cell_type": "code",
   "execution_count": 72,
   "metadata": {},
   "outputs": [
    {
     "name": "stderr",
     "output_type": "stream",
     "text": [
      "/home/kunal/anaconda3/lib/python3.6/site-packages/ipykernel_launcher.py:2: SettingWithCopyWarning: \n",
      "A value is trying to be set on a copy of a slice from a DataFrame.\n",
      "Try using .loc[row_indexer,col_indexer] = value instead\n",
      "\n",
      "See the caveats in the documentation: http://pandas.pydata.org/pandas-docs/stable/indexing.html#indexing-view-versus-copy\n",
      "  \n",
      "/home/kunal/anaconda3/lib/python3.6/site-packages/ipykernel_launcher.py:3: SettingWithCopyWarning: \n",
      "A value is trying to be set on a copy of a slice from a DataFrame.\n",
      "Try using .loc[row_indexer,col_indexer] = value instead\n",
      "\n",
      "See the caveats in the documentation: http://pandas.pydata.org/pandas-docs/stable/indexing.html#indexing-view-versus-copy\n",
      "  This is separate from the ipykernel package so we can avoid doing imports until\n"
     ]
    }
   ],
   "source": [
    "#Replace some values of column which is similar type\n",
    "features_user['transport'] = features_user['transport'].replace({'public':'no car','on foot':'no car'}) \n",
    "features_user['dress_preference'] = features_user['dress_preference'].replace({'elegant':'formal'})  "
   ]
  },
  {
   "cell_type": "code",
   "execution_count": 73,
   "metadata": {},
   "outputs": [
    {
     "name": "stderr",
     "output_type": "stream",
     "text": [
      "/home/kunal/anaconda3/lib/python3.6/site-packages/ipykernel_launcher.py:3: SettingWithCopyWarning: \n",
      "A value is trying to be set on a copy of a slice from a DataFrame.\n",
      "Try using .loc[row_indexer,col_indexer] = value instead\n",
      "\n",
      "See the caveats in the documentation: http://pandas.pydata.org/pandas-docs/stable/indexing.html#indexing-view-versus-copy\n",
      "  This is separate from the ipykernel package so we can avoid doing imports until\n"
     ]
    }
   ],
   "source": [
    "#Replace the '\\?' value with nan to all 'workclass', 'occupation', 'native_country' columns\n",
    "for col in features_user.columns:\n",
    "    features_user[col] = (features_user[col].replace({'?': np.NaN}))"
   ]
  },
  {
   "cell_type": "code",
   "execution_count": 74,
   "metadata": {},
   "outputs": [
    {
     "data": {
      "text/html": [
       "<div>\n",
       "<style scoped>\n",
       "    .dataframe tbody tr th:only-of-type {\n",
       "        vertical-align: middle;\n",
       "    }\n",
       "\n",
       "    .dataframe tbody tr th {\n",
       "        vertical-align: top;\n",
       "    }\n",
       "\n",
       "    .dataframe thead th {\n",
       "        text-align: right;\n",
       "    }\n",
       "</style>\n",
       "<table border=\"1\" class=\"dataframe\">\n",
       "  <thead>\n",
       "    <tr style=\"text-align: right;\">\n",
       "      <th></th>\n",
       "      <th>smoker</th>\n",
       "      <th>drink_level</th>\n",
       "      <th>transport</th>\n",
       "      <th>budget</th>\n",
       "      <th>dress_preference</th>\n",
       "      <th>ambience</th>\n",
       "      <th>activity</th>\n",
       "      <th>interest</th>\n",
       "    </tr>\n",
       "  </thead>\n",
       "  <tbody>\n",
       "    <tr>\n",
       "      <th>0</th>\n",
       "      <td>false</td>\n",
       "      <td>abstemious</td>\n",
       "      <td>no car</td>\n",
       "      <td>medium</td>\n",
       "      <td>informal</td>\n",
       "      <td>family</td>\n",
       "      <td>student</td>\n",
       "      <td>variety</td>\n",
       "    </tr>\n",
       "    <tr>\n",
       "      <th>1</th>\n",
       "      <td>false</td>\n",
       "      <td>abstemious</td>\n",
       "      <td>no car</td>\n",
       "      <td>low</td>\n",
       "      <td>informal</td>\n",
       "      <td>family</td>\n",
       "      <td>student</td>\n",
       "      <td>technology</td>\n",
       "    </tr>\n",
       "    <tr>\n",
       "      <th>2</th>\n",
       "      <td>false</td>\n",
       "      <td>social drinker</td>\n",
       "      <td>no car</td>\n",
       "      <td>low</td>\n",
       "      <td>formal</td>\n",
       "      <td>family</td>\n",
       "      <td>student</td>\n",
       "      <td>none</td>\n",
       "    </tr>\n",
       "    <tr>\n",
       "      <th>3</th>\n",
       "      <td>false</td>\n",
       "      <td>abstemious</td>\n",
       "      <td>no car</td>\n",
       "      <td>medium</td>\n",
       "      <td>informal</td>\n",
       "      <td>family</td>\n",
       "      <td>professional</td>\n",
       "      <td>variety</td>\n",
       "    </tr>\n",
       "    <tr>\n",
       "      <th>4</th>\n",
       "      <td>false</td>\n",
       "      <td>abstemious</td>\n",
       "      <td>no car</td>\n",
       "      <td>medium</td>\n",
       "      <td>no preference</td>\n",
       "      <td>family</td>\n",
       "      <td>student</td>\n",
       "      <td>none</td>\n",
       "    </tr>\n",
       "  </tbody>\n",
       "</table>\n",
       "</div>"
      ],
      "text/plain": [
       "  smoker     drink_level transport  budget dress_preference ambience  \\\n",
       "0  false      abstemious    no car  medium         informal   family   \n",
       "1  false      abstemious    no car     low         informal   family   \n",
       "2  false  social drinker    no car     low           formal   family   \n",
       "3  false      abstemious    no car  medium         informal   family   \n",
       "4  false      abstemious    no car  medium    no preference   family   \n",
       "\n",
       "       activity    interest  \n",
       "0       student     variety  \n",
       "1       student  technology  \n",
       "2       student        none  \n",
       "3  professional     variety  \n",
       "4       student        none  "
      ]
     },
     "execution_count": 74,
     "metadata": {},
     "output_type": "execute_result"
    }
   ],
   "source": [
    "#Drop the row having all value is Nan\n",
    "(features_user.dropna(axis=0, how='all')).head()"
   ]
  },
  {
   "cell_type": "markdown",
   "metadata": {},
   "source": [
    "#### Plotting graph of some categorical data from user profile using plotly"
   ]
  },
  {
   "cell_type": "code",
   "execution_count": 75,
   "metadata": {},
   "outputs": [
    {
     "data": {
      "text/html": [
       "<script>requirejs.config({paths: { 'plotly': ['https://cdn.plot.ly/plotly-latest.min']},});if(!window.Plotly) {{require(['plotly'],function(plotly) {window.Plotly=plotly;});}}</script>"
      ],
      "text/vnd.plotly.v1+html": [
       "<script>requirejs.config({paths: { 'plotly': ['https://cdn.plot.ly/plotly-latest.min']},});if(!window.Plotly) {{require(['plotly'],function(plotly) {window.Plotly=plotly;});}}</script>"
      ]
     },
     "metadata": {},
     "output_type": "display_data"
    }
   ],
   "source": [
    "#importing the packeges\n",
    "from IPython.core.interactiveshell import InteractiveShell     #An enhanced, interactive shell for Python\n",
    "#‘all’, ‘last’, ‘last_expr’ or ‘none’, ‘last_expr_or_assign’\n",
    "#specifying which nodes should be run interactively \n",
    "import plotly \n",
    "plotly.tools.set_credentials_file(username='@user_name', api_key='@api_keys')\n",
    "InteractiveShell.ast_node_interactivity = \"all\"   #Options:\t'all','last','last_expr','none','last_expr_or_assign'\n",
    "\n",
    "import numpy as np # linear algebra\n",
    "import pandas as pd # data processing\n",
    "\n",
    "#Plotly Offline brings interactive Plotly graphs to the offline (local) environment\n",
    "import plotly.offline as py\n",
    "import plotly.figure_factory as ff\n",
    "import plotly.graph_objs as gobj\n",
    "import plotly.plotly as plty\n",
    "from plotly.graph_objs import *\n",
    "py.init_notebook_mode(connected=True)  # initiate notebook for offline plot"
   ]
  },
  {
   "cell_type": "code",
   "execution_count": 76,
   "metadata": {
    "collapsed": true
   },
   "outputs": [],
   "source": [
    "#Getting some features of categorical data which is important\n",
    "features_user_col=features_user.columns"
   ]
  },
  {
   "cell_type": "code",
   "execution_count": 77,
   "metadata": {
    "collapsed": true
   },
   "outputs": [],
   "source": [
    "#Method for plotting \n",
    "\n",
    "def plot_value_counts(col_name,table=False,bar=False):\n",
    "    \n",
    "    values_count = pd.DataFrame(features_user[col_name].value_counts())\n",
    "    values_count.columns = ['count']\n",
    "   \n",
    "    # Converting the index column into value count\n",
    "    values_count[col_name] = [ str(i) for i in values_count.index ]\n",
    "    \n",
    "    # add a column with the percentage of each data point to the sum of all data points\n",
    "    values_count['percent'] = values_count['count'].div(values_count['count'].sum()).multiply(100).round(2)\n",
    "    \n",
    "    # change the order of the columns.\n",
    "    values_count = values_count.reindex([col_name,'count','percent'],axis=1)\n",
    "    values_count.reset_index(drop=True,inplace=True)    \n",
    "    \n",
    "    if bar :\n",
    "        # add a font size for annotations0 which is relevant to the length of the data points.\n",
    "        font_size = 20 - (.25 * len(values_count[col_name]))\n",
    "        \n",
    "        trace0 = gobj.Bar( x = values_count[col_name], y = values_count['count'] )\n",
    "        data_ = gobj.Data( [trace0] )\n",
    "        \n",
    "        annotations0 = [ dict(x = xi,\n",
    "                             y = yi, \n",
    "                             showarrow=False,\n",
    "                             font={'size':font_size},\n",
    "                             text = \"{:,}\".format(yi),\n",
    "                             xanchor='center',\n",
    "                             yanchor='bottom' )\n",
    "                       for xi,yi,_ in values_count.values ]\n",
    "        \n",
    "        annotations1 = [ dict( x = xi,\n",
    "                              y = yi/2,\n",
    "                              showarrow = False,\n",
    "                              text = \"{}%\".format(pi),\n",
    "                              xanchor = 'center',\n",
    "                              yanchor = 'center',\n",
    "                              font = {'color':'yellow'})\n",
    "                         for xi,yi,pi in values_count.values if pi > 10 ]\n",
    "        \n",
    "        annotations = annotations0 + annotations1                       \n",
    "        \n",
    "        layout = gobj.Layout( title = col_name.replace('_',' ').capitalize(),\n",
    "                             titlefont = {'size': 50},\n",
    "                             yaxis = {'title':'count'},\n",
    "                             xaxis = {'type':'category'},\n",
    "                            annotations = annotations  )\n",
    "        figure = gobj.Figure( data = data_, layout = layout )\n",
    "        py.iplot(figure)\n",
    "    \n",
    "    if table : \n",
    "        values_count['count'] = values_count['count'].apply(lambda d : \"{:,}\".format(d))\n",
    "        table = ff.create_table(values_count,index_title=\"race\")      #Creating the table for race\n",
    "        py.iplot(table)\n",
    "    \n",
    "    return values_count"
   ]
  },
  {
   "cell_type": "code",
   "execution_count": 78,
   "metadata": {},
   "outputs": [
    {
     "data": {
      "application/vnd.plotly.v1+json": {
       "data": [
        {
         "type": "bar",
         "x": [
          "false",
          "true"
         ],
         "y": [
          109,
          26
         ]
        }
       ],
       "layout": {
        "annotations": [
         {
          "font": {
           "size": 19.5
          },
          "showarrow": false,
          "text": "109",
          "x": "false",
          "xanchor": "center",
          "y": 109,
          "yanchor": "bottom"
         },
         {
          "font": {
           "size": 19.5
          },
          "showarrow": false,
          "text": "26",
          "x": "true",
          "xanchor": "center",
          "y": 26,
          "yanchor": "bottom"
         },
         {
          "font": {
           "color": "yellow"
          },
          "showarrow": false,
          "text": "80.74%",
          "x": "false",
          "xanchor": "center",
          "y": 54.5,
          "yanchor": "center"
         },
         {
          "font": {
           "color": "yellow"
          },
          "showarrow": false,
          "text": "19.26%",
          "x": "true",
          "xanchor": "center",
          "y": 13,
          "yanchor": "center"
         }
        ],
        "title": "Smoker",
        "titlefont": {
         "size": 50
        },
        "xaxis": {
         "type": "category"
        },
        "yaxis": {
         "title": "count"
        }
       }
      },
      "text/html": [
       "<div id=\"d09d424f-f117-49c2-907a-c6a62fd61812\" style=\"height: 525px; width: 100%;\" class=\"plotly-graph-div\"></div><script type=\"text/javascript\">require([\"plotly\"], function(Plotly) { window.PLOTLYENV=window.PLOTLYENV || {};window.PLOTLYENV.BASE_URL=\"https://plot.ly\";Plotly.newPlot(\"d09d424f-f117-49c2-907a-c6a62fd61812\", [{\"type\": \"bar\", \"x\": [\"false\", \"true\"], \"y\": [109, 26]}], {\"title\": \"Smoker\", \"titlefont\": {\"size\": 50}, \"yaxis\": {\"title\": \"count\"}, \"xaxis\": {\"type\": \"category\"}, \"annotations\": [{\"x\": \"false\", \"y\": 109, \"showarrow\": false, \"font\": {\"size\": 19.5}, \"text\": \"109\", \"xanchor\": \"center\", \"yanchor\": \"bottom\"}, {\"x\": \"true\", \"y\": 26, \"showarrow\": false, \"font\": {\"size\": 19.5}, \"text\": \"26\", \"xanchor\": \"center\", \"yanchor\": \"bottom\"}, {\"x\": \"false\", \"y\": 54.5, \"showarrow\": false, \"text\": \"80.74%\", \"xanchor\": \"center\", \"yanchor\": \"center\", \"font\": {\"color\": \"yellow\"}}, {\"x\": \"true\", \"y\": 13.0, \"showarrow\": false, \"text\": \"19.26%\", \"xanchor\": \"center\", \"yanchor\": \"center\", \"font\": {\"color\": \"yellow\"}}]}, {\"showLink\": true, \"linkText\": \"Export to plot.ly\"})});</script>"
      ],
      "text/vnd.plotly.v1+html": [
       "<div id=\"d09d424f-f117-49c2-907a-c6a62fd61812\" style=\"height: 525px; width: 100%;\" class=\"plotly-graph-div\"></div><script type=\"text/javascript\">require([\"plotly\"], function(Plotly) { window.PLOTLYENV=window.PLOTLYENV || {};window.PLOTLYENV.BASE_URL=\"https://plot.ly\";Plotly.newPlot(\"d09d424f-f117-49c2-907a-c6a62fd61812\", [{\"type\": \"bar\", \"x\": [\"false\", \"true\"], \"y\": [109, 26]}], {\"title\": \"Smoker\", \"titlefont\": {\"size\": 50}, \"yaxis\": {\"title\": \"count\"}, \"xaxis\": {\"type\": \"category\"}, \"annotations\": [{\"x\": \"false\", \"y\": 109, \"showarrow\": false, \"font\": {\"size\": 19.5}, \"text\": \"109\", \"xanchor\": \"center\", \"yanchor\": \"bottom\"}, {\"x\": \"true\", \"y\": 26, \"showarrow\": false, \"font\": {\"size\": 19.5}, \"text\": \"26\", \"xanchor\": \"center\", \"yanchor\": \"bottom\"}, {\"x\": \"false\", \"y\": 54.5, \"showarrow\": false, \"text\": \"80.74%\", \"xanchor\": \"center\", \"yanchor\": \"center\", \"font\": {\"color\": \"yellow\"}}, {\"x\": \"true\", \"y\": 13.0, \"showarrow\": false, \"text\": \"19.26%\", \"xanchor\": \"center\", \"yanchor\": \"center\", \"font\": {\"color\": \"yellow\"}}]}, {\"showLink\": true, \"linkText\": \"Export to plot.ly\"})});</script>"
      ]
     },
     "metadata": {},
     "output_type": "display_data"
    },
    {
     "data": {
      "application/vnd.plotly.v1+json": {
       "data": [
        {
         "type": "bar",
         "x": [
          "abstemious",
          "casual drinker",
          "social drinker"
         ],
         "y": [
          51,
          47,
          40
         ]
        }
       ],
       "layout": {
        "annotations": [
         {
          "font": {
           "size": 19.25
          },
          "showarrow": false,
          "text": "51",
          "x": "abstemious",
          "xanchor": "center",
          "y": 51,
          "yanchor": "bottom"
         },
         {
          "font": {
           "size": 19.25
          },
          "showarrow": false,
          "text": "47",
          "x": "casual drinker",
          "xanchor": "center",
          "y": 47,
          "yanchor": "bottom"
         },
         {
          "font": {
           "size": 19.25
          },
          "showarrow": false,
          "text": "40",
          "x": "social drinker",
          "xanchor": "center",
          "y": 40,
          "yanchor": "bottom"
         },
         {
          "font": {
           "color": "yellow"
          },
          "showarrow": false,
          "text": "36.96%",
          "x": "abstemious",
          "xanchor": "center",
          "y": 25.5,
          "yanchor": "center"
         },
         {
          "font": {
           "color": "yellow"
          },
          "showarrow": false,
          "text": "34.06%",
          "x": "casual drinker",
          "xanchor": "center",
          "y": 23.5,
          "yanchor": "center"
         },
         {
          "font": {
           "color": "yellow"
          },
          "showarrow": false,
          "text": "28.99%",
          "x": "social drinker",
          "xanchor": "center",
          "y": 20,
          "yanchor": "center"
         }
        ],
        "title": "Drink level",
        "titlefont": {
         "size": 50
        },
        "xaxis": {
         "type": "category"
        },
        "yaxis": {
         "title": "count"
        }
       }
      },
      "text/html": [
       "<div id=\"acfcf7ea-cc2c-4ad7-9bc7-b0414fb0eed6\" style=\"height: 525px; width: 100%;\" class=\"plotly-graph-div\"></div><script type=\"text/javascript\">require([\"plotly\"], function(Plotly) { window.PLOTLYENV=window.PLOTLYENV || {};window.PLOTLYENV.BASE_URL=\"https://plot.ly\";Plotly.newPlot(\"acfcf7ea-cc2c-4ad7-9bc7-b0414fb0eed6\", [{\"type\": \"bar\", \"x\": [\"abstemious\", \"casual drinker\", \"social drinker\"], \"y\": [51, 47, 40]}], {\"title\": \"Drink level\", \"titlefont\": {\"size\": 50}, \"yaxis\": {\"title\": \"count\"}, \"xaxis\": {\"type\": \"category\"}, \"annotations\": [{\"x\": \"abstemious\", \"y\": 51, \"showarrow\": false, \"font\": {\"size\": 19.25}, \"text\": \"51\", \"xanchor\": \"center\", \"yanchor\": \"bottom\"}, {\"x\": \"casual drinker\", \"y\": 47, \"showarrow\": false, \"font\": {\"size\": 19.25}, \"text\": \"47\", \"xanchor\": \"center\", \"yanchor\": \"bottom\"}, {\"x\": \"social drinker\", \"y\": 40, \"showarrow\": false, \"font\": {\"size\": 19.25}, \"text\": \"40\", \"xanchor\": \"center\", \"yanchor\": \"bottom\"}, {\"x\": \"abstemious\", \"y\": 25.5, \"showarrow\": false, \"text\": \"36.96%\", \"xanchor\": \"center\", \"yanchor\": \"center\", \"font\": {\"color\": \"yellow\"}}, {\"x\": \"casual drinker\", \"y\": 23.5, \"showarrow\": false, \"text\": \"34.06%\", \"xanchor\": \"center\", \"yanchor\": \"center\", \"font\": {\"color\": \"yellow\"}}, {\"x\": \"social drinker\", \"y\": 20.0, \"showarrow\": false, \"text\": \"28.99%\", \"xanchor\": \"center\", \"yanchor\": \"center\", \"font\": {\"color\": \"yellow\"}}]}, {\"showLink\": true, \"linkText\": \"Export to plot.ly\"})});</script>"
      ],
      "text/vnd.plotly.v1+html": [
       "<div id=\"acfcf7ea-cc2c-4ad7-9bc7-b0414fb0eed6\" style=\"height: 525px; width: 100%;\" class=\"plotly-graph-div\"></div><script type=\"text/javascript\">require([\"plotly\"], function(Plotly) { window.PLOTLYENV=window.PLOTLYENV || {};window.PLOTLYENV.BASE_URL=\"https://plot.ly\";Plotly.newPlot(\"acfcf7ea-cc2c-4ad7-9bc7-b0414fb0eed6\", [{\"type\": \"bar\", \"x\": [\"abstemious\", \"casual drinker\", \"social drinker\"], \"y\": [51, 47, 40]}], {\"title\": \"Drink level\", \"titlefont\": {\"size\": 50}, \"yaxis\": {\"title\": \"count\"}, \"xaxis\": {\"type\": \"category\"}, \"annotations\": [{\"x\": \"abstemious\", \"y\": 51, \"showarrow\": false, \"font\": {\"size\": 19.25}, \"text\": \"51\", \"xanchor\": \"center\", \"yanchor\": \"bottom\"}, {\"x\": \"casual drinker\", \"y\": 47, \"showarrow\": false, \"font\": {\"size\": 19.25}, \"text\": \"47\", \"xanchor\": \"center\", \"yanchor\": \"bottom\"}, {\"x\": \"social drinker\", \"y\": 40, \"showarrow\": false, \"font\": {\"size\": 19.25}, \"text\": \"40\", \"xanchor\": \"center\", \"yanchor\": \"bottom\"}, {\"x\": \"abstemious\", \"y\": 25.5, \"showarrow\": false, \"text\": \"36.96%\", \"xanchor\": \"center\", \"yanchor\": \"center\", \"font\": {\"color\": \"yellow\"}}, {\"x\": \"casual drinker\", \"y\": 23.5, \"showarrow\": false, \"text\": \"34.06%\", \"xanchor\": \"center\", \"yanchor\": \"center\", \"font\": {\"color\": \"yellow\"}}, {\"x\": \"social drinker\", \"y\": 20.0, \"showarrow\": false, \"text\": \"28.99%\", \"xanchor\": \"center\", \"yanchor\": \"center\", \"font\": {\"color\": \"yellow\"}}]}, {\"showLink\": true, \"linkText\": \"Export to plot.ly\"})});</script>"
      ]
     },
     "metadata": {},
     "output_type": "display_data"
    },
    {
     "data": {
      "application/vnd.plotly.v1+json": {
       "data": [
        {
         "type": "bar",
         "x": [
          "no car",
          "car owner"
         ],
         "y": [
          96,
          35
         ]
        }
       ],
       "layout": {
        "annotations": [
         {
          "font": {
           "size": 19.5
          },
          "showarrow": false,
          "text": "96",
          "x": "no car",
          "xanchor": "center",
          "y": 96,
          "yanchor": "bottom"
         },
         {
          "font": {
           "size": 19.5
          },
          "showarrow": false,
          "text": "35",
          "x": "car owner",
          "xanchor": "center",
          "y": 35,
          "yanchor": "bottom"
         },
         {
          "font": {
           "color": "yellow"
          },
          "showarrow": false,
          "text": "73.28%",
          "x": "no car",
          "xanchor": "center",
          "y": 48,
          "yanchor": "center"
         },
         {
          "font": {
           "color": "yellow"
          },
          "showarrow": false,
          "text": "26.72%",
          "x": "car owner",
          "xanchor": "center",
          "y": 17.5,
          "yanchor": "center"
         }
        ],
        "title": "Transport",
        "titlefont": {
         "size": 50
        },
        "xaxis": {
         "type": "category"
        },
        "yaxis": {
         "title": "count"
        }
       }
      },
      "text/html": [
       "<div id=\"66aca1c4-5647-4ccc-946e-b59dabf3d2d7\" style=\"height: 525px; width: 100%;\" class=\"plotly-graph-div\"></div><script type=\"text/javascript\">require([\"plotly\"], function(Plotly) { window.PLOTLYENV=window.PLOTLYENV || {};window.PLOTLYENV.BASE_URL=\"https://plot.ly\";Plotly.newPlot(\"66aca1c4-5647-4ccc-946e-b59dabf3d2d7\", [{\"type\": \"bar\", \"x\": [\"no car\", \"car owner\"], \"y\": [96, 35]}], {\"title\": \"Transport\", \"titlefont\": {\"size\": 50}, \"yaxis\": {\"title\": \"count\"}, \"xaxis\": {\"type\": \"category\"}, \"annotations\": [{\"x\": \"no car\", \"y\": 96, \"showarrow\": false, \"font\": {\"size\": 19.5}, \"text\": \"96\", \"xanchor\": \"center\", \"yanchor\": \"bottom\"}, {\"x\": \"car owner\", \"y\": 35, \"showarrow\": false, \"font\": {\"size\": 19.5}, \"text\": \"35\", \"xanchor\": \"center\", \"yanchor\": \"bottom\"}, {\"x\": \"no car\", \"y\": 48.0, \"showarrow\": false, \"text\": \"73.28%\", \"xanchor\": \"center\", \"yanchor\": \"center\", \"font\": {\"color\": \"yellow\"}}, {\"x\": \"car owner\", \"y\": 17.5, \"showarrow\": false, \"text\": \"26.72%\", \"xanchor\": \"center\", \"yanchor\": \"center\", \"font\": {\"color\": \"yellow\"}}]}, {\"showLink\": true, \"linkText\": \"Export to plot.ly\"})});</script>"
      ],
      "text/vnd.plotly.v1+html": [
       "<div id=\"66aca1c4-5647-4ccc-946e-b59dabf3d2d7\" style=\"height: 525px; width: 100%;\" class=\"plotly-graph-div\"></div><script type=\"text/javascript\">require([\"plotly\"], function(Plotly) { window.PLOTLYENV=window.PLOTLYENV || {};window.PLOTLYENV.BASE_URL=\"https://plot.ly\";Plotly.newPlot(\"66aca1c4-5647-4ccc-946e-b59dabf3d2d7\", [{\"type\": \"bar\", \"x\": [\"no car\", \"car owner\"], \"y\": [96, 35]}], {\"title\": \"Transport\", \"titlefont\": {\"size\": 50}, \"yaxis\": {\"title\": \"count\"}, \"xaxis\": {\"type\": \"category\"}, \"annotations\": [{\"x\": \"no car\", \"y\": 96, \"showarrow\": false, \"font\": {\"size\": 19.5}, \"text\": \"96\", \"xanchor\": \"center\", \"yanchor\": \"bottom\"}, {\"x\": \"car owner\", \"y\": 35, \"showarrow\": false, \"font\": {\"size\": 19.5}, \"text\": \"35\", \"xanchor\": \"center\", \"yanchor\": \"bottom\"}, {\"x\": \"no car\", \"y\": 48.0, \"showarrow\": false, \"text\": \"73.28%\", \"xanchor\": \"center\", \"yanchor\": \"center\", \"font\": {\"color\": \"yellow\"}}, {\"x\": \"car owner\", \"y\": 17.5, \"showarrow\": false, \"text\": \"26.72%\", \"xanchor\": \"center\", \"yanchor\": \"center\", \"font\": {\"color\": \"yellow\"}}]}, {\"showLink\": true, \"linkText\": \"Export to plot.ly\"})});</script>"
      ]
     },
     "metadata": {},
     "output_type": "display_data"
    },
    {
     "data": {
      "application/vnd.plotly.v1+json": {
       "data": [
        {
         "type": "bar",
         "x": [
          "medium",
          "low",
          "high"
         ],
         "y": [
          91,
          35,
          5
         ]
        }
       ],
       "layout": {
        "annotations": [
         {
          "font": {
           "size": 19.25
          },
          "showarrow": false,
          "text": "91",
          "x": "medium",
          "xanchor": "center",
          "y": 91,
          "yanchor": "bottom"
         },
         {
          "font": {
           "size": 19.25
          },
          "showarrow": false,
          "text": "35",
          "x": "low",
          "xanchor": "center",
          "y": 35,
          "yanchor": "bottom"
         },
         {
          "font": {
           "size": 19.25
          },
          "showarrow": false,
          "text": "5",
          "x": "high",
          "xanchor": "center",
          "y": 5,
          "yanchor": "bottom"
         },
         {
          "font": {
           "color": "yellow"
          },
          "showarrow": false,
          "text": "69.47%",
          "x": "medium",
          "xanchor": "center",
          "y": 45.5,
          "yanchor": "center"
         },
         {
          "font": {
           "color": "yellow"
          },
          "showarrow": false,
          "text": "26.72%",
          "x": "low",
          "xanchor": "center",
          "y": 17.5,
          "yanchor": "center"
         }
        ],
        "title": "Budget",
        "titlefont": {
         "size": 50
        },
        "xaxis": {
         "type": "category"
        },
        "yaxis": {
         "title": "count"
        }
       }
      },
      "text/html": [
       "<div id=\"28675c0f-9f6a-4096-9b1a-260f59cd3295\" style=\"height: 525px; width: 100%;\" class=\"plotly-graph-div\"></div><script type=\"text/javascript\">require([\"plotly\"], function(Plotly) { window.PLOTLYENV=window.PLOTLYENV || {};window.PLOTLYENV.BASE_URL=\"https://plot.ly\";Plotly.newPlot(\"28675c0f-9f6a-4096-9b1a-260f59cd3295\", [{\"type\": \"bar\", \"x\": [\"medium\", \"low\", \"high\"], \"y\": [91, 35, 5]}], {\"title\": \"Budget\", \"titlefont\": {\"size\": 50}, \"yaxis\": {\"title\": \"count\"}, \"xaxis\": {\"type\": \"category\"}, \"annotations\": [{\"x\": \"medium\", \"y\": 91, \"showarrow\": false, \"font\": {\"size\": 19.25}, \"text\": \"91\", \"xanchor\": \"center\", \"yanchor\": \"bottom\"}, {\"x\": \"low\", \"y\": 35, \"showarrow\": false, \"font\": {\"size\": 19.25}, \"text\": \"35\", \"xanchor\": \"center\", \"yanchor\": \"bottom\"}, {\"x\": \"high\", \"y\": 5, \"showarrow\": false, \"font\": {\"size\": 19.25}, \"text\": \"5\", \"xanchor\": \"center\", \"yanchor\": \"bottom\"}, {\"x\": \"medium\", \"y\": 45.5, \"showarrow\": false, \"text\": \"69.47%\", \"xanchor\": \"center\", \"yanchor\": \"center\", \"font\": {\"color\": \"yellow\"}}, {\"x\": \"low\", \"y\": 17.5, \"showarrow\": false, \"text\": \"26.72%\", \"xanchor\": \"center\", \"yanchor\": \"center\", \"font\": {\"color\": \"yellow\"}}]}, {\"showLink\": true, \"linkText\": \"Export to plot.ly\"})});</script>"
      ],
      "text/vnd.plotly.v1+html": [
       "<div id=\"28675c0f-9f6a-4096-9b1a-260f59cd3295\" style=\"height: 525px; width: 100%;\" class=\"plotly-graph-div\"></div><script type=\"text/javascript\">require([\"plotly\"], function(Plotly) { window.PLOTLYENV=window.PLOTLYENV || {};window.PLOTLYENV.BASE_URL=\"https://plot.ly\";Plotly.newPlot(\"28675c0f-9f6a-4096-9b1a-260f59cd3295\", [{\"type\": \"bar\", \"x\": [\"medium\", \"low\", \"high\"], \"y\": [91, 35, 5]}], {\"title\": \"Budget\", \"titlefont\": {\"size\": 50}, \"yaxis\": {\"title\": \"count\"}, \"xaxis\": {\"type\": \"category\"}, \"annotations\": [{\"x\": \"medium\", \"y\": 91, \"showarrow\": false, \"font\": {\"size\": 19.25}, \"text\": \"91\", \"xanchor\": \"center\", \"yanchor\": \"bottom\"}, {\"x\": \"low\", \"y\": 35, \"showarrow\": false, \"font\": {\"size\": 19.25}, \"text\": \"35\", \"xanchor\": \"center\", \"yanchor\": \"bottom\"}, {\"x\": \"high\", \"y\": 5, \"showarrow\": false, \"font\": {\"size\": 19.25}, \"text\": \"5\", \"xanchor\": \"center\", \"yanchor\": \"bottom\"}, {\"x\": \"medium\", \"y\": 45.5, \"showarrow\": false, \"text\": \"69.47%\", \"xanchor\": \"center\", \"yanchor\": \"center\", \"font\": {\"color\": \"yellow\"}}, {\"x\": \"low\", \"y\": 17.5, \"showarrow\": false, \"text\": \"26.72%\", \"xanchor\": \"center\", \"yanchor\": \"center\", \"font\": {\"color\": \"yellow\"}}]}, {\"showLink\": true, \"linkText\": \"Export to plot.ly\"})});</script>"
      ]
     },
     "metadata": {},
     "output_type": "display_data"
    },
    {
     "data": {
      "application/vnd.plotly.v1+json": {
       "data": [
        {
         "type": "bar",
         "x": [
          "no preference",
          "formal",
          "informal"
         ],
         "y": [
          53,
          45,
          35
         ]
        }
       ],
       "layout": {
        "annotations": [
         {
          "font": {
           "size": 19.25
          },
          "showarrow": false,
          "text": "53",
          "x": "no preference",
          "xanchor": "center",
          "y": 53,
          "yanchor": "bottom"
         },
         {
          "font": {
           "size": 19.25
          },
          "showarrow": false,
          "text": "45",
          "x": "formal",
          "xanchor": "center",
          "y": 45,
          "yanchor": "bottom"
         },
         {
          "font": {
           "size": 19.25
          },
          "showarrow": false,
          "text": "35",
          "x": "informal",
          "xanchor": "center",
          "y": 35,
          "yanchor": "bottom"
         },
         {
          "font": {
           "color": "yellow"
          },
          "showarrow": false,
          "text": "39.85%",
          "x": "no preference",
          "xanchor": "center",
          "y": 26.5,
          "yanchor": "center"
         },
         {
          "font": {
           "color": "yellow"
          },
          "showarrow": false,
          "text": "33.83%",
          "x": "formal",
          "xanchor": "center",
          "y": 22.5,
          "yanchor": "center"
         },
         {
          "font": {
           "color": "yellow"
          },
          "showarrow": false,
          "text": "26.32%",
          "x": "informal",
          "xanchor": "center",
          "y": 17.5,
          "yanchor": "center"
         }
        ],
        "title": "Dress preference",
        "titlefont": {
         "size": 50
        },
        "xaxis": {
         "type": "category"
        },
        "yaxis": {
         "title": "count"
        }
       }
      },
      "text/html": [
       "<div id=\"7e65340f-69a0-42b1-bf7d-e2b06fd77382\" style=\"height: 525px; width: 100%;\" class=\"plotly-graph-div\"></div><script type=\"text/javascript\">require([\"plotly\"], function(Plotly) { window.PLOTLYENV=window.PLOTLYENV || {};window.PLOTLYENV.BASE_URL=\"https://plot.ly\";Plotly.newPlot(\"7e65340f-69a0-42b1-bf7d-e2b06fd77382\", [{\"type\": \"bar\", \"x\": [\"no preference\", \"formal\", \"informal\"], \"y\": [53, 45, 35]}], {\"title\": \"Dress preference\", \"titlefont\": {\"size\": 50}, \"yaxis\": {\"title\": \"count\"}, \"xaxis\": {\"type\": \"category\"}, \"annotations\": [{\"x\": \"no preference\", \"y\": 53, \"showarrow\": false, \"font\": {\"size\": 19.25}, \"text\": \"53\", \"xanchor\": \"center\", \"yanchor\": \"bottom\"}, {\"x\": \"formal\", \"y\": 45, \"showarrow\": false, \"font\": {\"size\": 19.25}, \"text\": \"45\", \"xanchor\": \"center\", \"yanchor\": \"bottom\"}, {\"x\": \"informal\", \"y\": 35, \"showarrow\": false, \"font\": {\"size\": 19.25}, \"text\": \"35\", \"xanchor\": \"center\", \"yanchor\": \"bottom\"}, {\"x\": \"no preference\", \"y\": 26.5, \"showarrow\": false, \"text\": \"39.85%\", \"xanchor\": \"center\", \"yanchor\": \"center\", \"font\": {\"color\": \"yellow\"}}, {\"x\": \"formal\", \"y\": 22.5, \"showarrow\": false, \"text\": \"33.83%\", \"xanchor\": \"center\", \"yanchor\": \"center\", \"font\": {\"color\": \"yellow\"}}, {\"x\": \"informal\", \"y\": 17.5, \"showarrow\": false, \"text\": \"26.32%\", \"xanchor\": \"center\", \"yanchor\": \"center\", \"font\": {\"color\": \"yellow\"}}]}, {\"showLink\": true, \"linkText\": \"Export to plot.ly\"})});</script>"
      ],
      "text/vnd.plotly.v1+html": [
       "<div id=\"7e65340f-69a0-42b1-bf7d-e2b06fd77382\" style=\"height: 525px; width: 100%;\" class=\"plotly-graph-div\"></div><script type=\"text/javascript\">require([\"plotly\"], function(Plotly) { window.PLOTLYENV=window.PLOTLYENV || {};window.PLOTLYENV.BASE_URL=\"https://plot.ly\";Plotly.newPlot(\"7e65340f-69a0-42b1-bf7d-e2b06fd77382\", [{\"type\": \"bar\", \"x\": [\"no preference\", \"formal\", \"informal\"], \"y\": [53, 45, 35]}], {\"title\": \"Dress preference\", \"titlefont\": {\"size\": 50}, \"yaxis\": {\"title\": \"count\"}, \"xaxis\": {\"type\": \"category\"}, \"annotations\": [{\"x\": \"no preference\", \"y\": 53, \"showarrow\": false, \"font\": {\"size\": 19.25}, \"text\": \"53\", \"xanchor\": \"center\", \"yanchor\": \"bottom\"}, {\"x\": \"formal\", \"y\": 45, \"showarrow\": false, \"font\": {\"size\": 19.25}, \"text\": \"45\", \"xanchor\": \"center\", \"yanchor\": \"bottom\"}, {\"x\": \"informal\", \"y\": 35, \"showarrow\": false, \"font\": {\"size\": 19.25}, \"text\": \"35\", \"xanchor\": \"center\", \"yanchor\": \"bottom\"}, {\"x\": \"no preference\", \"y\": 26.5, \"showarrow\": false, \"text\": \"39.85%\", \"xanchor\": \"center\", \"yanchor\": \"center\", \"font\": {\"color\": \"yellow\"}}, {\"x\": \"formal\", \"y\": 22.5, \"showarrow\": false, \"text\": \"33.83%\", \"xanchor\": \"center\", \"yanchor\": \"center\", \"font\": {\"color\": \"yellow\"}}, {\"x\": \"informal\", \"y\": 17.5, \"showarrow\": false, \"text\": \"26.32%\", \"xanchor\": \"center\", \"yanchor\": \"center\", \"font\": {\"color\": \"yellow\"}}]}, {\"showLink\": true, \"linkText\": \"Export to plot.ly\"})});</script>"
      ]
     },
     "metadata": {},
     "output_type": "display_data"
    },
    {
     "data": {
      "application/vnd.plotly.v1+json": {
       "data": [
        {
         "type": "bar",
         "x": [
          "family",
          "friends",
          "solitary"
         ],
         "y": [
          70,
          46,
          16
         ]
        }
       ],
       "layout": {
        "annotations": [
         {
          "font": {
           "size": 19.25
          },
          "showarrow": false,
          "text": "70",
          "x": "family",
          "xanchor": "center",
          "y": 70,
          "yanchor": "bottom"
         },
         {
          "font": {
           "size": 19.25
          },
          "showarrow": false,
          "text": "46",
          "x": "friends",
          "xanchor": "center",
          "y": 46,
          "yanchor": "bottom"
         },
         {
          "font": {
           "size": 19.25
          },
          "showarrow": false,
          "text": "16",
          "x": "solitary",
          "xanchor": "center",
          "y": 16,
          "yanchor": "bottom"
         },
         {
          "font": {
           "color": "yellow"
          },
          "showarrow": false,
          "text": "53.03%",
          "x": "family",
          "xanchor": "center",
          "y": 35,
          "yanchor": "center"
         },
         {
          "font": {
           "color": "yellow"
          },
          "showarrow": false,
          "text": "34.85%",
          "x": "friends",
          "xanchor": "center",
          "y": 23,
          "yanchor": "center"
         },
         {
          "font": {
           "color": "yellow"
          },
          "showarrow": false,
          "text": "12.12%",
          "x": "solitary",
          "xanchor": "center",
          "y": 8,
          "yanchor": "center"
         }
        ],
        "title": "Ambience",
        "titlefont": {
         "size": 50
        },
        "xaxis": {
         "type": "category"
        },
        "yaxis": {
         "title": "count"
        }
       }
      },
      "text/html": [
       "<div id=\"8d093004-a4dc-48e8-bc5d-50d17ae789a5\" style=\"height: 525px; width: 100%;\" class=\"plotly-graph-div\"></div><script type=\"text/javascript\">require([\"plotly\"], function(Plotly) { window.PLOTLYENV=window.PLOTLYENV || {};window.PLOTLYENV.BASE_URL=\"https://plot.ly\";Plotly.newPlot(\"8d093004-a4dc-48e8-bc5d-50d17ae789a5\", [{\"type\": \"bar\", \"x\": [\"family\", \"friends\", \"solitary\"], \"y\": [70, 46, 16]}], {\"title\": \"Ambience\", \"titlefont\": {\"size\": 50}, \"yaxis\": {\"title\": \"count\"}, \"xaxis\": {\"type\": \"category\"}, \"annotations\": [{\"x\": \"family\", \"y\": 70, \"showarrow\": false, \"font\": {\"size\": 19.25}, \"text\": \"70\", \"xanchor\": \"center\", \"yanchor\": \"bottom\"}, {\"x\": \"friends\", \"y\": 46, \"showarrow\": false, \"font\": {\"size\": 19.25}, \"text\": \"46\", \"xanchor\": \"center\", \"yanchor\": \"bottom\"}, {\"x\": \"solitary\", \"y\": 16, \"showarrow\": false, \"font\": {\"size\": 19.25}, \"text\": \"16\", \"xanchor\": \"center\", \"yanchor\": \"bottom\"}, {\"x\": \"family\", \"y\": 35.0, \"showarrow\": false, \"text\": \"53.03%\", \"xanchor\": \"center\", \"yanchor\": \"center\", \"font\": {\"color\": \"yellow\"}}, {\"x\": \"friends\", \"y\": 23.0, \"showarrow\": false, \"text\": \"34.85%\", \"xanchor\": \"center\", \"yanchor\": \"center\", \"font\": {\"color\": \"yellow\"}}, {\"x\": \"solitary\", \"y\": 8.0, \"showarrow\": false, \"text\": \"12.12%\", \"xanchor\": \"center\", \"yanchor\": \"center\", \"font\": {\"color\": \"yellow\"}}]}, {\"showLink\": true, \"linkText\": \"Export to plot.ly\"})});</script>"
      ],
      "text/vnd.plotly.v1+html": [
       "<div id=\"8d093004-a4dc-48e8-bc5d-50d17ae789a5\" style=\"height: 525px; width: 100%;\" class=\"plotly-graph-div\"></div><script type=\"text/javascript\">require([\"plotly\"], function(Plotly) { window.PLOTLYENV=window.PLOTLYENV || {};window.PLOTLYENV.BASE_URL=\"https://plot.ly\";Plotly.newPlot(\"8d093004-a4dc-48e8-bc5d-50d17ae789a5\", [{\"type\": \"bar\", \"x\": [\"family\", \"friends\", \"solitary\"], \"y\": [70, 46, 16]}], {\"title\": \"Ambience\", \"titlefont\": {\"size\": 50}, \"yaxis\": {\"title\": \"count\"}, \"xaxis\": {\"type\": \"category\"}, \"annotations\": [{\"x\": \"family\", \"y\": 70, \"showarrow\": false, \"font\": {\"size\": 19.25}, \"text\": \"70\", \"xanchor\": \"center\", \"yanchor\": \"bottom\"}, {\"x\": \"friends\", \"y\": 46, \"showarrow\": false, \"font\": {\"size\": 19.25}, \"text\": \"46\", \"xanchor\": \"center\", \"yanchor\": \"bottom\"}, {\"x\": \"solitary\", \"y\": 16, \"showarrow\": false, \"font\": {\"size\": 19.25}, \"text\": \"16\", \"xanchor\": \"center\", \"yanchor\": \"bottom\"}, {\"x\": \"family\", \"y\": 35.0, \"showarrow\": false, \"text\": \"53.03%\", \"xanchor\": \"center\", \"yanchor\": \"center\", \"font\": {\"color\": \"yellow\"}}, {\"x\": \"friends\", \"y\": 23.0, \"showarrow\": false, \"text\": \"34.85%\", \"xanchor\": \"center\", \"yanchor\": \"center\", \"font\": {\"color\": \"yellow\"}}, {\"x\": \"solitary\", \"y\": 8.0, \"showarrow\": false, \"text\": \"12.12%\", \"xanchor\": \"center\", \"yanchor\": \"center\", \"font\": {\"color\": \"yellow\"}}]}, {\"showLink\": true, \"linkText\": \"Export to plot.ly\"})});</script>"
      ]
     },
     "metadata": {},
     "output_type": "display_data"
    },
    {
     "data": {
      "application/vnd.plotly.v1+json": {
       "data": [
        {
         "type": "bar",
         "x": [
          "student",
          "professional",
          "unemployed",
          "working-class"
         ],
         "y": [
          113,
          15,
          2,
          1
         ]
        }
       ],
       "layout": {
        "annotations": [
         {
          "font": {
           "size": 19
          },
          "showarrow": false,
          "text": "113",
          "x": "student",
          "xanchor": "center",
          "y": 113,
          "yanchor": "bottom"
         },
         {
          "font": {
           "size": 19
          },
          "showarrow": false,
          "text": "15",
          "x": "professional",
          "xanchor": "center",
          "y": 15,
          "yanchor": "bottom"
         },
         {
          "font": {
           "size": 19
          },
          "showarrow": false,
          "text": "2",
          "x": "unemployed",
          "xanchor": "center",
          "y": 2,
          "yanchor": "bottom"
         },
         {
          "font": {
           "size": 19
          },
          "showarrow": false,
          "text": "1",
          "x": "working-class",
          "xanchor": "center",
          "y": 1,
          "yanchor": "bottom"
         },
         {
          "font": {
           "color": "yellow"
          },
          "showarrow": false,
          "text": "86.26%",
          "x": "student",
          "xanchor": "center",
          "y": 56.5,
          "yanchor": "center"
         },
         {
          "font": {
           "color": "yellow"
          },
          "showarrow": false,
          "text": "11.45%",
          "x": "professional",
          "xanchor": "center",
          "y": 7.5,
          "yanchor": "center"
         }
        ],
        "title": "Activity",
        "titlefont": {
         "size": 50
        },
        "xaxis": {
         "type": "category"
        },
        "yaxis": {
         "title": "count"
        }
       }
      },
      "text/html": [
       "<div id=\"f1d8750e-cc47-4b8e-860b-e9c1d7764b99\" style=\"height: 525px; width: 100%;\" class=\"plotly-graph-div\"></div><script type=\"text/javascript\">require([\"plotly\"], function(Plotly) { window.PLOTLYENV=window.PLOTLYENV || {};window.PLOTLYENV.BASE_URL=\"https://plot.ly\";Plotly.newPlot(\"f1d8750e-cc47-4b8e-860b-e9c1d7764b99\", [{\"type\": \"bar\", \"x\": [\"student\", \"professional\", \"unemployed\", \"working-class\"], \"y\": [113, 15, 2, 1]}], {\"title\": \"Activity\", \"titlefont\": {\"size\": 50}, \"yaxis\": {\"title\": \"count\"}, \"xaxis\": {\"type\": \"category\"}, \"annotations\": [{\"x\": \"student\", \"y\": 113, \"showarrow\": false, \"font\": {\"size\": 19.0}, \"text\": \"113\", \"xanchor\": \"center\", \"yanchor\": \"bottom\"}, {\"x\": \"professional\", \"y\": 15, \"showarrow\": false, \"font\": {\"size\": 19.0}, \"text\": \"15\", \"xanchor\": \"center\", \"yanchor\": \"bottom\"}, {\"x\": \"unemployed\", \"y\": 2, \"showarrow\": false, \"font\": {\"size\": 19.0}, \"text\": \"2\", \"xanchor\": \"center\", \"yanchor\": \"bottom\"}, {\"x\": \"working-class\", \"y\": 1, \"showarrow\": false, \"font\": {\"size\": 19.0}, \"text\": \"1\", \"xanchor\": \"center\", \"yanchor\": \"bottom\"}, {\"x\": \"student\", \"y\": 56.5, \"showarrow\": false, \"text\": \"86.26%\", \"xanchor\": \"center\", \"yanchor\": \"center\", \"font\": {\"color\": \"yellow\"}}, {\"x\": \"professional\", \"y\": 7.5, \"showarrow\": false, \"text\": \"11.45%\", \"xanchor\": \"center\", \"yanchor\": \"center\", \"font\": {\"color\": \"yellow\"}}]}, {\"showLink\": true, \"linkText\": \"Export to plot.ly\"})});</script>"
      ],
      "text/vnd.plotly.v1+html": [
       "<div id=\"f1d8750e-cc47-4b8e-860b-e9c1d7764b99\" style=\"height: 525px; width: 100%;\" class=\"plotly-graph-div\"></div><script type=\"text/javascript\">require([\"plotly\"], function(Plotly) { window.PLOTLYENV=window.PLOTLYENV || {};window.PLOTLYENV.BASE_URL=\"https://plot.ly\";Plotly.newPlot(\"f1d8750e-cc47-4b8e-860b-e9c1d7764b99\", [{\"type\": \"bar\", \"x\": [\"student\", \"professional\", \"unemployed\", \"working-class\"], \"y\": [113, 15, 2, 1]}], {\"title\": \"Activity\", \"titlefont\": {\"size\": 50}, \"yaxis\": {\"title\": \"count\"}, \"xaxis\": {\"type\": \"category\"}, \"annotations\": [{\"x\": \"student\", \"y\": 113, \"showarrow\": false, \"font\": {\"size\": 19.0}, \"text\": \"113\", \"xanchor\": \"center\", \"yanchor\": \"bottom\"}, {\"x\": \"professional\", \"y\": 15, \"showarrow\": false, \"font\": {\"size\": 19.0}, \"text\": \"15\", \"xanchor\": \"center\", \"yanchor\": \"bottom\"}, {\"x\": \"unemployed\", \"y\": 2, \"showarrow\": false, \"font\": {\"size\": 19.0}, \"text\": \"2\", \"xanchor\": \"center\", \"yanchor\": \"bottom\"}, {\"x\": \"working-class\", \"y\": 1, \"showarrow\": false, \"font\": {\"size\": 19.0}, \"text\": \"1\", \"xanchor\": \"center\", \"yanchor\": \"bottom\"}, {\"x\": \"student\", \"y\": 56.5, \"showarrow\": false, \"text\": \"86.26%\", \"xanchor\": \"center\", \"yanchor\": \"center\", \"font\": {\"color\": \"yellow\"}}, {\"x\": \"professional\", \"y\": 7.5, \"showarrow\": false, \"text\": \"11.45%\", \"xanchor\": \"center\", \"yanchor\": \"center\", \"font\": {\"color\": \"yellow\"}}]}, {\"showLink\": true, \"linkText\": \"Export to plot.ly\"})});</script>"
      ]
     },
     "metadata": {},
     "output_type": "display_data"
    },
    {
     "data": {
      "application/vnd.plotly.v1+json": {
       "data": [
        {
         "type": "bar",
         "x": [
          "variety",
          "technology",
          "none",
          "eco-friendly",
          "retro"
         ],
         "y": [
          50,
          36,
          30,
          16,
          6
         ]
        }
       ],
       "layout": {
        "annotations": [
         {
          "font": {
           "size": 18.75
          },
          "showarrow": false,
          "text": "50",
          "x": "variety",
          "xanchor": "center",
          "y": 50,
          "yanchor": "bottom"
         },
         {
          "font": {
           "size": 18.75
          },
          "showarrow": false,
          "text": "36",
          "x": "technology",
          "xanchor": "center",
          "y": 36,
          "yanchor": "bottom"
         },
         {
          "font": {
           "size": 18.75
          },
          "showarrow": false,
          "text": "30",
          "x": "none",
          "xanchor": "center",
          "y": 30,
          "yanchor": "bottom"
         },
         {
          "font": {
           "size": 18.75
          },
          "showarrow": false,
          "text": "16",
          "x": "eco-friendly",
          "xanchor": "center",
          "y": 16,
          "yanchor": "bottom"
         },
         {
          "font": {
           "size": 18.75
          },
          "showarrow": false,
          "text": "6",
          "x": "retro",
          "xanchor": "center",
          "y": 6,
          "yanchor": "bottom"
         },
         {
          "font": {
           "color": "yellow"
          },
          "showarrow": false,
          "text": "36.23%",
          "x": "variety",
          "xanchor": "center",
          "y": 25,
          "yanchor": "center"
         },
         {
          "font": {
           "color": "yellow"
          },
          "showarrow": false,
          "text": "26.09%",
          "x": "technology",
          "xanchor": "center",
          "y": 18,
          "yanchor": "center"
         },
         {
          "font": {
           "color": "yellow"
          },
          "showarrow": false,
          "text": "21.74%",
          "x": "none",
          "xanchor": "center",
          "y": 15,
          "yanchor": "center"
         },
         {
          "font": {
           "color": "yellow"
          },
          "showarrow": false,
          "text": "11.59%",
          "x": "eco-friendly",
          "xanchor": "center",
          "y": 8,
          "yanchor": "center"
         }
        ],
        "title": "Interest",
        "titlefont": {
         "size": 50
        },
        "xaxis": {
         "type": "category"
        },
        "yaxis": {
         "title": "count"
        }
       }
      },
      "text/html": [
       "<div id=\"2392317f-297f-4177-89af-4eb17aae8d73\" style=\"height: 525px; width: 100%;\" class=\"plotly-graph-div\"></div><script type=\"text/javascript\">require([\"plotly\"], function(Plotly) { window.PLOTLYENV=window.PLOTLYENV || {};window.PLOTLYENV.BASE_URL=\"https://plot.ly\";Plotly.newPlot(\"2392317f-297f-4177-89af-4eb17aae8d73\", [{\"type\": \"bar\", \"x\": [\"variety\", \"technology\", \"none\", \"eco-friendly\", \"retro\"], \"y\": [50, 36, 30, 16, 6]}], {\"title\": \"Interest\", \"titlefont\": {\"size\": 50}, \"yaxis\": {\"title\": \"count\"}, \"xaxis\": {\"type\": \"category\"}, \"annotations\": [{\"x\": \"variety\", \"y\": 50, \"showarrow\": false, \"font\": {\"size\": 18.75}, \"text\": \"50\", \"xanchor\": \"center\", \"yanchor\": \"bottom\"}, {\"x\": \"technology\", \"y\": 36, \"showarrow\": false, \"font\": {\"size\": 18.75}, \"text\": \"36\", \"xanchor\": \"center\", \"yanchor\": \"bottom\"}, {\"x\": \"none\", \"y\": 30, \"showarrow\": false, \"font\": {\"size\": 18.75}, \"text\": \"30\", \"xanchor\": \"center\", \"yanchor\": \"bottom\"}, {\"x\": \"eco-friendly\", \"y\": 16, \"showarrow\": false, \"font\": {\"size\": 18.75}, \"text\": \"16\", \"xanchor\": \"center\", \"yanchor\": \"bottom\"}, {\"x\": \"retro\", \"y\": 6, \"showarrow\": false, \"font\": {\"size\": 18.75}, \"text\": \"6\", \"xanchor\": \"center\", \"yanchor\": \"bottom\"}, {\"x\": \"variety\", \"y\": 25.0, \"showarrow\": false, \"text\": \"36.23%\", \"xanchor\": \"center\", \"yanchor\": \"center\", \"font\": {\"color\": \"yellow\"}}, {\"x\": \"technology\", \"y\": 18.0, \"showarrow\": false, \"text\": \"26.09%\", \"xanchor\": \"center\", \"yanchor\": \"center\", \"font\": {\"color\": \"yellow\"}}, {\"x\": \"none\", \"y\": 15.0, \"showarrow\": false, \"text\": \"21.74%\", \"xanchor\": \"center\", \"yanchor\": \"center\", \"font\": {\"color\": \"yellow\"}}, {\"x\": \"eco-friendly\", \"y\": 8.0, \"showarrow\": false, \"text\": \"11.59%\", \"xanchor\": \"center\", \"yanchor\": \"center\", \"font\": {\"color\": \"yellow\"}}]}, {\"showLink\": true, \"linkText\": \"Export to plot.ly\"})});</script>"
      ],
      "text/vnd.plotly.v1+html": [
       "<div id=\"2392317f-297f-4177-89af-4eb17aae8d73\" style=\"height: 525px; width: 100%;\" class=\"plotly-graph-div\"></div><script type=\"text/javascript\">require([\"plotly\"], function(Plotly) { window.PLOTLYENV=window.PLOTLYENV || {};window.PLOTLYENV.BASE_URL=\"https://plot.ly\";Plotly.newPlot(\"2392317f-297f-4177-89af-4eb17aae8d73\", [{\"type\": \"bar\", \"x\": [\"variety\", \"technology\", \"none\", \"eco-friendly\", \"retro\"], \"y\": [50, 36, 30, 16, 6]}], {\"title\": \"Interest\", \"titlefont\": {\"size\": 50}, \"yaxis\": {\"title\": \"count\"}, \"xaxis\": {\"type\": \"category\"}, \"annotations\": [{\"x\": \"variety\", \"y\": 50, \"showarrow\": false, \"font\": {\"size\": 18.75}, \"text\": \"50\", \"xanchor\": \"center\", \"yanchor\": \"bottom\"}, {\"x\": \"technology\", \"y\": 36, \"showarrow\": false, \"font\": {\"size\": 18.75}, \"text\": \"36\", \"xanchor\": \"center\", \"yanchor\": \"bottom\"}, {\"x\": \"none\", \"y\": 30, \"showarrow\": false, \"font\": {\"size\": 18.75}, \"text\": \"30\", \"xanchor\": \"center\", \"yanchor\": \"bottom\"}, {\"x\": \"eco-friendly\", \"y\": 16, \"showarrow\": false, \"font\": {\"size\": 18.75}, \"text\": \"16\", \"xanchor\": \"center\", \"yanchor\": \"bottom\"}, {\"x\": \"retro\", \"y\": 6, \"showarrow\": false, \"font\": {\"size\": 18.75}, \"text\": \"6\", \"xanchor\": \"center\", \"yanchor\": \"bottom\"}, {\"x\": \"variety\", \"y\": 25.0, \"showarrow\": false, \"text\": \"36.23%\", \"xanchor\": \"center\", \"yanchor\": \"center\", \"font\": {\"color\": \"yellow\"}}, {\"x\": \"technology\", \"y\": 18.0, \"showarrow\": false, \"text\": \"26.09%\", \"xanchor\": \"center\", \"yanchor\": \"center\", \"font\": {\"color\": \"yellow\"}}, {\"x\": \"none\", \"y\": 15.0, \"showarrow\": false, \"text\": \"21.74%\", \"xanchor\": \"center\", \"yanchor\": \"center\", \"font\": {\"color\": \"yellow\"}}, {\"x\": \"eco-friendly\", \"y\": 8.0, \"showarrow\": false, \"text\": \"11.59%\", \"xanchor\": \"center\", \"yanchor\": \"center\", \"font\": {\"color\": \"yellow\"}}]}, {\"showLink\": true, \"linkText\": \"Export to plot.ly\"})});</script>"
      ]
     },
     "metadata": {},
     "output_type": "display_data"
    }
   ],
   "source": [
    "for col in features_user_col:\n",
    "    _ = plot_value_counts(col,0,1)"
   ]
  },
  {
   "cell_type": "markdown",
   "metadata": {},
   "source": [
    "### Combined Analysis"
   ]
  },
  {
   "cell_type": "raw",
   "metadata": {},
   "source": [
    "Now i will make a data frame of all 938 restaurant and 138 users for rating purpose. Here initially i'll put all the value of rating of all category (rating,food_rating,service_rating) restaurant-user combination to -1"
   ]
  },
  {
   "cell_type": "code",
   "execution_count": 79,
   "metadata": {
    "collapsed": true
   },
   "outputs": [],
   "source": [
    "#Combined the rating\n",
    "combined_rating = pd.DataFrame(np.zeros((len(restaurant_all),len(user_all)))-1.0,columns=user_all,index=restaurant_all)"
   ]
  },
  {
   "cell_type": "code",
   "execution_count": 80,
   "metadata": {
    "collapsed": true
   },
   "outputs": [],
   "source": [
    "#Assign a food rating\n",
    "food_rating =combined_rating.copy()  "
   ]
  },
  {
   "cell_type": "code",
   "execution_count": 81,
   "metadata": {
    "collapsed": true
   },
   "outputs": [],
   "source": [
    "#Assign a service rating\n",
    "service_rating = combined_rating.copy()"
   ]
  },
  {
   "cell_type": "raw",
   "metadata": {},
   "source": [
    "Now i'll assign some rating value to those pair of restaurant-user which have some rating in rating_final.csv file and rest rating remain -1."
   ]
  },
  {
   "cell_type": "code",
   "execution_count": 82,
   "metadata": {
    "collapsed": true
   },
   "outputs": [],
   "source": [
    "#Assign a particular value of rating for those user who has given rating\n",
    "for i,j,p,q,r in zip(rating_final_df.placeID, rating_final_df.userID, rating_final_df.rating, rating_final_df.food_rating, \n",
    "                            rating_final_df.service_rating):\n",
    "    combined_rating.loc[i,j] = p\n",
    "    food_rating.loc[i,j] = q\n",
    "    service_rating.loc[i,j] = r"
   ]
  },
  {
   "cell_type": "raw",
   "metadata": {},
   "source": [
    "Now i'll review all rating of user-restaurant combination which having some rating in rating_final.csv file.Now assign 0 for no rating and 1 for rating."
   ]
  },
  {
   "cell_type": "code",
   "execution_count": 83,
   "metadata": {
    "collapsed": true
   },
   "outputs": [],
   "source": [
    "#Rastaurant-user pair rating, 0 means no rating and 1 means yes rating\n",
    "review_rate = pd.DataFrame( np.zeros(combined_rating.shape),columns=user_all,index=restaurant_all)\n",
    "review_rate[combined_rating >= 0] = 1"
   ]
  },
  {
   "cell_type": "code",
   "execution_count": 84,
   "metadata": {
    "collapsed": true
   },
   "outputs": [],
   "source": [
    "# For the different cuisine categories of the restaurants use dummy variable\n",
    "cuisine_res = pd.get_dummies(chefmozcuisine_df,columns=['Rcuisine'])"
   ]
  },
  {
   "cell_type": "code",
   "execution_count": 85,
   "metadata": {
    "collapsed": true
   },
   "outputs": [],
   "source": [
    "#Applying groupby on placeID for removing duplicate restaurant ID's\n",
    "cuisine_res = cuisine_res.groupby('placeID',as_index=False).sum()"
   ]
  },
  {
   "cell_type": "code",
   "execution_count": 86,
   "metadata": {},
   "outputs": [
    {
     "data": {
      "text/html": [
       "<div>\n",
       "<style scoped>\n",
       "    .dataframe tbody tr th:only-of-type {\n",
       "        vertical-align: middle;\n",
       "    }\n",
       "\n",
       "    .dataframe tbody tr th {\n",
       "        vertical-align: top;\n",
       "    }\n",
       "\n",
       "    .dataframe thead th {\n",
       "        text-align: right;\n",
       "    }\n",
       "</style>\n",
       "<table border=\"1\" class=\"dataframe\">\n",
       "  <thead>\n",
       "    <tr style=\"text-align: right;\">\n",
       "      <th></th>\n",
       "      <th>placeID</th>\n",
       "      <th>Rcuisine_Afghan</th>\n",
       "      <th>Rcuisine_African</th>\n",
       "      <th>Rcuisine_American</th>\n",
       "      <th>Rcuisine_Armenian</th>\n",
       "      <th>Rcuisine_Asian</th>\n",
       "      <th>Rcuisine_Bagels</th>\n",
       "      <th>Rcuisine_Bakery</th>\n",
       "      <th>Rcuisine_Bar</th>\n",
       "      <th>Rcuisine_Bar_Pub_Brewery</th>\n",
       "      <th>...</th>\n",
       "      <th>Rcuisine_Soup</th>\n",
       "      <th>Rcuisine_Southern</th>\n",
       "      <th>Rcuisine_Southwestern</th>\n",
       "      <th>Rcuisine_Spanish</th>\n",
       "      <th>Rcuisine_Steaks</th>\n",
       "      <th>Rcuisine_Sushi</th>\n",
       "      <th>Rcuisine_Thai</th>\n",
       "      <th>Rcuisine_Turkish</th>\n",
       "      <th>Rcuisine_Vegetarian</th>\n",
       "      <th>Rcuisine_Vietnamese</th>\n",
       "    </tr>\n",
       "  </thead>\n",
       "  <tbody>\n",
       "    <tr>\n",
       "      <th>0</th>\n",
       "      <td>132001</td>\n",
       "      <td>0</td>\n",
       "      <td>0</td>\n",
       "      <td>0</td>\n",
       "      <td>0</td>\n",
       "      <td>0</td>\n",
       "      <td>0</td>\n",
       "      <td>0</td>\n",
       "      <td>0</td>\n",
       "      <td>0</td>\n",
       "      <td>...</td>\n",
       "      <td>0</td>\n",
       "      <td>0</td>\n",
       "      <td>0</td>\n",
       "      <td>0</td>\n",
       "      <td>0</td>\n",
       "      <td>0</td>\n",
       "      <td>0</td>\n",
       "      <td>0</td>\n",
       "      <td>0</td>\n",
       "      <td>0</td>\n",
       "    </tr>\n",
       "    <tr>\n",
       "      <th>1</th>\n",
       "      <td>132002</td>\n",
       "      <td>0</td>\n",
       "      <td>0</td>\n",
       "      <td>0</td>\n",
       "      <td>0</td>\n",
       "      <td>0</td>\n",
       "      <td>0</td>\n",
       "      <td>0</td>\n",
       "      <td>0</td>\n",
       "      <td>0</td>\n",
       "      <td>...</td>\n",
       "      <td>0</td>\n",
       "      <td>0</td>\n",
       "      <td>0</td>\n",
       "      <td>0</td>\n",
       "      <td>0</td>\n",
       "      <td>0</td>\n",
       "      <td>0</td>\n",
       "      <td>0</td>\n",
       "      <td>0</td>\n",
       "      <td>0</td>\n",
       "    </tr>\n",
       "    <tr>\n",
       "      <th>2</th>\n",
       "      <td>132003</td>\n",
       "      <td>0</td>\n",
       "      <td>0</td>\n",
       "      <td>0</td>\n",
       "      <td>0</td>\n",
       "      <td>0</td>\n",
       "      <td>0</td>\n",
       "      <td>0</td>\n",
       "      <td>0</td>\n",
       "      <td>0</td>\n",
       "      <td>...</td>\n",
       "      <td>0</td>\n",
       "      <td>0</td>\n",
       "      <td>0</td>\n",
       "      <td>0</td>\n",
       "      <td>0</td>\n",
       "      <td>0</td>\n",
       "      <td>0</td>\n",
       "      <td>0</td>\n",
       "      <td>0</td>\n",
       "      <td>0</td>\n",
       "    </tr>\n",
       "    <tr>\n",
       "      <th>3</th>\n",
       "      <td>132004</td>\n",
       "      <td>0</td>\n",
       "      <td>0</td>\n",
       "      <td>0</td>\n",
       "      <td>0</td>\n",
       "      <td>0</td>\n",
       "      <td>0</td>\n",
       "      <td>0</td>\n",
       "      <td>0</td>\n",
       "      <td>0</td>\n",
       "      <td>...</td>\n",
       "      <td>0</td>\n",
       "      <td>0</td>\n",
       "      <td>0</td>\n",
       "      <td>0</td>\n",
       "      <td>0</td>\n",
       "      <td>0</td>\n",
       "      <td>0</td>\n",
       "      <td>0</td>\n",
       "      <td>0</td>\n",
       "      <td>0</td>\n",
       "    </tr>\n",
       "    <tr>\n",
       "      <th>4</th>\n",
       "      <td>132005</td>\n",
       "      <td>0</td>\n",
       "      <td>0</td>\n",
       "      <td>0</td>\n",
       "      <td>0</td>\n",
       "      <td>0</td>\n",
       "      <td>0</td>\n",
       "      <td>0</td>\n",
       "      <td>0</td>\n",
       "      <td>0</td>\n",
       "      <td>...</td>\n",
       "      <td>0</td>\n",
       "      <td>0</td>\n",
       "      <td>0</td>\n",
       "      <td>0</td>\n",
       "      <td>0</td>\n",
       "      <td>0</td>\n",
       "      <td>0</td>\n",
       "      <td>0</td>\n",
       "      <td>0</td>\n",
       "      <td>0</td>\n",
       "    </tr>\n",
       "  </tbody>\n",
       "</table>\n",
       "<p>5 rows × 60 columns</p>\n",
       "</div>"
      ],
      "text/plain": [
       "   placeID  Rcuisine_Afghan  Rcuisine_African  Rcuisine_American  \\\n",
       "0   132001                0                 0                  0   \n",
       "1   132002                0                 0                  0   \n",
       "2   132003                0                 0                  0   \n",
       "3   132004                0                 0                  0   \n",
       "4   132005                0                 0                  0   \n",
       "\n",
       "   Rcuisine_Armenian  Rcuisine_Asian  Rcuisine_Bagels  Rcuisine_Bakery  \\\n",
       "0                  0               0                0                0   \n",
       "1                  0               0                0                0   \n",
       "2                  0               0                0                0   \n",
       "3                  0               0                0                0   \n",
       "4                  0               0                0                0   \n",
       "\n",
       "   Rcuisine_Bar  Rcuisine_Bar_Pub_Brewery         ...           Rcuisine_Soup  \\\n",
       "0             0                         0         ...                       0   \n",
       "1             0                         0         ...                       0   \n",
       "2             0                         0         ...                       0   \n",
       "3             0                         0         ...                       0   \n",
       "4             0                         0         ...                       0   \n",
       "\n",
       "   Rcuisine_Southern  Rcuisine_Southwestern  Rcuisine_Spanish  \\\n",
       "0                  0                      0                 0   \n",
       "1                  0                      0                 0   \n",
       "2                  0                      0                 0   \n",
       "3                  0                      0                 0   \n",
       "4                  0                      0                 0   \n",
       "\n",
       "   Rcuisine_Steaks  Rcuisine_Sushi  Rcuisine_Thai  Rcuisine_Turkish  \\\n",
       "0                0               0              0                 0   \n",
       "1                0               0              0                 0   \n",
       "2                0               0              0                 0   \n",
       "3                0               0              0                 0   \n",
       "4                0               0              0                 0   \n",
       "\n",
       "   Rcuisine_Vegetarian  Rcuisine_Vietnamese  \n",
       "0                    0                    0  \n",
       "1                    0                    0  \n",
       "2                    0                    0  \n",
       "3                    0                    0  \n",
       "4                    0                    0  \n",
       "\n",
       "[5 rows x 60 columns]"
      ]
     },
     "execution_count": 86,
     "metadata": {},
     "output_type": "execute_result"
    }
   ],
   "source": [
    "cuisine_res.head()"
   ]
  },
  {
   "cell_type": "code",
   "execution_count": 87,
   "metadata": {
    "collapsed": true
   },
   "outputs": [],
   "source": [
    "#For different cuisine categories of the restaurants use dummy variable\n",
    "parking_res = pd.get_dummies(chefmozparking_df,columns=['parking_lot'])"
   ]
  },
  {
   "cell_type": "code",
   "execution_count": 88,
   "metadata": {
    "collapsed": true
   },
   "outputs": [],
   "source": [
    "#Applying groupby on placeID for removing duplicate restaurant ID's\n",
    "parking_res= parking_res.groupby('placeID',as_index=False).sum()"
   ]
  },
  {
   "cell_type": "code",
   "execution_count": 89,
   "metadata": {},
   "outputs": [
    {
     "data": {
      "text/html": [
       "<div>\n",
       "<style scoped>\n",
       "    .dataframe tbody tr th:only-of-type {\n",
       "        vertical-align: middle;\n",
       "    }\n",
       "\n",
       "    .dataframe tbody tr th {\n",
       "        vertical-align: top;\n",
       "    }\n",
       "\n",
       "    .dataframe thead th {\n",
       "        text-align: right;\n",
       "    }\n",
       "</style>\n",
       "<table border=\"1\" class=\"dataframe\">\n",
       "  <thead>\n",
       "    <tr style=\"text-align: right;\">\n",
       "      <th></th>\n",
       "      <th>placeID</th>\n",
       "      <th>parking_lot_fee</th>\n",
       "      <th>parking_lot_none</th>\n",
       "      <th>parking_lot_public</th>\n",
       "      <th>parking_lot_street</th>\n",
       "      <th>parking_lot_valet parking</th>\n",
       "      <th>parking_lot_validated parking</th>\n",
       "      <th>parking_lot_yes</th>\n",
       "    </tr>\n",
       "  </thead>\n",
       "  <tbody>\n",
       "    <tr>\n",
       "      <th>0</th>\n",
       "      <td>132012</td>\n",
       "      <td>0</td>\n",
       "      <td>0</td>\n",
       "      <td>1</td>\n",
       "      <td>1</td>\n",
       "      <td>0</td>\n",
       "      <td>0</td>\n",
       "      <td>0</td>\n",
       "    </tr>\n",
       "    <tr>\n",
       "      <th>1</th>\n",
       "      <td>132023</td>\n",
       "      <td>1</td>\n",
       "      <td>0</td>\n",
       "      <td>1</td>\n",
       "      <td>0</td>\n",
       "      <td>0</td>\n",
       "      <td>0</td>\n",
       "      <td>0</td>\n",
       "    </tr>\n",
       "    <tr>\n",
       "      <th>2</th>\n",
       "      <td>132024</td>\n",
       "      <td>0</td>\n",
       "      <td>0</td>\n",
       "      <td>0</td>\n",
       "      <td>1</td>\n",
       "      <td>0</td>\n",
       "      <td>0</td>\n",
       "      <td>0</td>\n",
       "    </tr>\n",
       "    <tr>\n",
       "      <th>3</th>\n",
       "      <td>132026</td>\n",
       "      <td>1</td>\n",
       "      <td>0</td>\n",
       "      <td>0</td>\n",
       "      <td>0</td>\n",
       "      <td>0</td>\n",
       "      <td>0</td>\n",
       "      <td>0</td>\n",
       "    </tr>\n",
       "    <tr>\n",
       "      <th>4</th>\n",
       "      <td>132030</td>\n",
       "      <td>0</td>\n",
       "      <td>0</td>\n",
       "      <td>0</td>\n",
       "      <td>1</td>\n",
       "      <td>0</td>\n",
       "      <td>0</td>\n",
       "      <td>0</td>\n",
       "    </tr>\n",
       "  </tbody>\n",
       "</table>\n",
       "</div>"
      ],
      "text/plain": [
       "   placeID  parking_lot_fee  parking_lot_none  parking_lot_public  \\\n",
       "0   132012                0                 0                   1   \n",
       "1   132023                1                 0                   1   \n",
       "2   132024                0                 0                   0   \n",
       "3   132026                1                 0                   0   \n",
       "4   132030                0                 0                   0   \n",
       "\n",
       "   parking_lot_street  parking_lot_valet parking  \\\n",
       "0                   1                          0   \n",
       "1                   0                          0   \n",
       "2                   1                          0   \n",
       "3                   0                          0   \n",
       "4                   1                          0   \n",
       "\n",
       "   parking_lot_validated parking  parking_lot_yes  \n",
       "0                              0                0  \n",
       "1                              0                0  \n",
       "2                              0                0  \n",
       "3                              0                0  \n",
       "4                              0                0  "
      ]
     },
     "execution_count": 89,
     "metadata": {},
     "output_type": "execute_result"
    }
   ],
   "source": [
    "parking_res.head()"
   ]
  },
  {
   "cell_type": "code",
   "execution_count": 90,
   "metadata": {
    "collapsed": true
   },
   "outputs": [],
   "source": [
    "# Taking some features which are more relevant\n",
    "features_res = geoplaces2_df[['placeID','alcohol','smoking_area','Rambience','other_services','price','dress_code',\n",
    "                    'accessibility','area']]"
   ]
  },
  {
   "cell_type": "code",
   "execution_count": 91,
   "metadata": {},
   "outputs": [
    {
     "data": {
      "text/html": [
       "<div>\n",
       "<style scoped>\n",
       "    .dataframe tbody tr th:only-of-type {\n",
       "        vertical-align: middle;\n",
       "    }\n",
       "\n",
       "    .dataframe tbody tr th {\n",
       "        vertical-align: top;\n",
       "    }\n",
       "\n",
       "    .dataframe thead th {\n",
       "        text-align: right;\n",
       "    }\n",
       "</style>\n",
       "<table border=\"1\" class=\"dataframe\">\n",
       "  <thead>\n",
       "    <tr style=\"text-align: right;\">\n",
       "      <th></th>\n",
       "      <th>placeID</th>\n",
       "    </tr>\n",
       "  </thead>\n",
       "  <tbody>\n",
       "    <tr>\n",
       "      <th>0</th>\n",
       "      <td>132001</td>\n",
       "    </tr>\n",
       "    <tr>\n",
       "      <th>1</th>\n",
       "      <td>132002</td>\n",
       "    </tr>\n",
       "    <tr>\n",
       "      <th>2</th>\n",
       "      <td>132003</td>\n",
       "    </tr>\n",
       "    <tr>\n",
       "      <th>3</th>\n",
       "      <td>132004</td>\n",
       "    </tr>\n",
       "    <tr>\n",
       "      <th>4</th>\n",
       "      <td>132005</td>\n",
       "    </tr>\n",
       "  </tbody>\n",
       "</table>\n",
       "</div>"
      ],
      "text/plain": [
       "   placeID\n",
       "0   132001\n",
       "1   132002\n",
       "2   132003\n",
       "3   132004\n",
       "4   132005"
      ]
     },
     "execution_count": 91,
     "metadata": {},
     "output_type": "execute_result"
    }
   ],
   "source": [
    "#Applying groupby on placeID for removing duplicate restaurant ID's\n",
    "restaurant_df = pd.DataFrame({'placeID': restaurant_all})\n",
    "restaurant_df.head()"
   ]
  },
  {
   "cell_type": "raw",
   "metadata": {},
   "source": [
    "Here i'll merge restaurant file with cuisine,parking and features columns on placeID to get all important features which will effect the result."
   ]
  },
  {
   "cell_type": "code",
   "execution_count": 92,
   "metadata": {},
   "outputs": [
    {
     "data": {
      "text/html": [
       "<div>\n",
       "<style scoped>\n",
       "    .dataframe tbody tr th:only-of-type {\n",
       "        vertical-align: middle;\n",
       "    }\n",
       "\n",
       "    .dataframe tbody tr th {\n",
       "        vertical-align: top;\n",
       "    }\n",
       "\n",
       "    .dataframe thead th {\n",
       "        text-align: right;\n",
       "    }\n",
       "</style>\n",
       "<table border=\"1\" class=\"dataframe\">\n",
       "  <thead>\n",
       "    <tr style=\"text-align: right;\">\n",
       "      <th></th>\n",
       "      <th>placeID</th>\n",
       "      <th>Rcuisine_Afghan</th>\n",
       "      <th>Rcuisine_African</th>\n",
       "      <th>Rcuisine_American</th>\n",
       "      <th>Rcuisine_Armenian</th>\n",
       "      <th>Rcuisine_Asian</th>\n",
       "      <th>Rcuisine_Bagels</th>\n",
       "      <th>Rcuisine_Bakery</th>\n",
       "      <th>Rcuisine_Bar</th>\n",
       "      <th>Rcuisine_Bar_Pub_Brewery</th>\n",
       "      <th>...</th>\n",
       "      <th>parking_lot_validated parking</th>\n",
       "      <th>parking_lot_yes</th>\n",
       "      <th>alcohol</th>\n",
       "      <th>smoking_area</th>\n",
       "      <th>Rambience</th>\n",
       "      <th>other_services</th>\n",
       "      <th>price</th>\n",
       "      <th>dress_code</th>\n",
       "      <th>accessibility</th>\n",
       "      <th>area</th>\n",
       "    </tr>\n",
       "  </thead>\n",
       "  <tbody>\n",
       "    <tr>\n",
       "      <th>0</th>\n",
       "      <td>132001</td>\n",
       "      <td>0.0</td>\n",
       "      <td>0.0</td>\n",
       "      <td>0.0</td>\n",
       "      <td>0.0</td>\n",
       "      <td>0.0</td>\n",
       "      <td>0.0</td>\n",
       "      <td>0.0</td>\n",
       "      <td>0.0</td>\n",
       "      <td>0.0</td>\n",
       "      <td>...</td>\n",
       "      <td>NaN</td>\n",
       "      <td>NaN</td>\n",
       "      <td>NaN</td>\n",
       "      <td>NaN</td>\n",
       "      <td>NaN</td>\n",
       "      <td>NaN</td>\n",
       "      <td>NaN</td>\n",
       "      <td>NaN</td>\n",
       "      <td>NaN</td>\n",
       "      <td>NaN</td>\n",
       "    </tr>\n",
       "    <tr>\n",
       "      <th>1</th>\n",
       "      <td>132002</td>\n",
       "      <td>0.0</td>\n",
       "      <td>0.0</td>\n",
       "      <td>0.0</td>\n",
       "      <td>0.0</td>\n",
       "      <td>0.0</td>\n",
       "      <td>0.0</td>\n",
       "      <td>0.0</td>\n",
       "      <td>0.0</td>\n",
       "      <td>0.0</td>\n",
       "      <td>...</td>\n",
       "      <td>NaN</td>\n",
       "      <td>NaN</td>\n",
       "      <td>NaN</td>\n",
       "      <td>NaN</td>\n",
       "      <td>NaN</td>\n",
       "      <td>NaN</td>\n",
       "      <td>NaN</td>\n",
       "      <td>NaN</td>\n",
       "      <td>NaN</td>\n",
       "      <td>NaN</td>\n",
       "    </tr>\n",
       "    <tr>\n",
       "      <th>2</th>\n",
       "      <td>132003</td>\n",
       "      <td>0.0</td>\n",
       "      <td>0.0</td>\n",
       "      <td>0.0</td>\n",
       "      <td>0.0</td>\n",
       "      <td>0.0</td>\n",
       "      <td>0.0</td>\n",
       "      <td>0.0</td>\n",
       "      <td>0.0</td>\n",
       "      <td>0.0</td>\n",
       "      <td>...</td>\n",
       "      <td>NaN</td>\n",
       "      <td>NaN</td>\n",
       "      <td>NaN</td>\n",
       "      <td>NaN</td>\n",
       "      <td>NaN</td>\n",
       "      <td>NaN</td>\n",
       "      <td>NaN</td>\n",
       "      <td>NaN</td>\n",
       "      <td>NaN</td>\n",
       "      <td>NaN</td>\n",
       "    </tr>\n",
       "    <tr>\n",
       "      <th>3</th>\n",
       "      <td>132004</td>\n",
       "      <td>0.0</td>\n",
       "      <td>0.0</td>\n",
       "      <td>0.0</td>\n",
       "      <td>0.0</td>\n",
       "      <td>0.0</td>\n",
       "      <td>0.0</td>\n",
       "      <td>0.0</td>\n",
       "      <td>0.0</td>\n",
       "      <td>0.0</td>\n",
       "      <td>...</td>\n",
       "      <td>NaN</td>\n",
       "      <td>NaN</td>\n",
       "      <td>NaN</td>\n",
       "      <td>NaN</td>\n",
       "      <td>NaN</td>\n",
       "      <td>NaN</td>\n",
       "      <td>NaN</td>\n",
       "      <td>NaN</td>\n",
       "      <td>NaN</td>\n",
       "      <td>NaN</td>\n",
       "    </tr>\n",
       "    <tr>\n",
       "      <th>4</th>\n",
       "      <td>132005</td>\n",
       "      <td>0.0</td>\n",
       "      <td>0.0</td>\n",
       "      <td>0.0</td>\n",
       "      <td>0.0</td>\n",
       "      <td>0.0</td>\n",
       "      <td>0.0</td>\n",
       "      <td>0.0</td>\n",
       "      <td>0.0</td>\n",
       "      <td>0.0</td>\n",
       "      <td>...</td>\n",
       "      <td>NaN</td>\n",
       "      <td>NaN</td>\n",
       "      <td>NaN</td>\n",
       "      <td>NaN</td>\n",
       "      <td>NaN</td>\n",
       "      <td>NaN</td>\n",
       "      <td>NaN</td>\n",
       "      <td>NaN</td>\n",
       "      <td>NaN</td>\n",
       "      <td>NaN</td>\n",
       "    </tr>\n",
       "  </tbody>\n",
       "</table>\n",
       "<p>5 rows × 75 columns</p>\n",
       "</div>"
      ],
      "text/plain": [
       "   placeID  Rcuisine_Afghan  Rcuisine_African  Rcuisine_American  \\\n",
       "0   132001              0.0               0.0                0.0   \n",
       "1   132002              0.0               0.0                0.0   \n",
       "2   132003              0.0               0.0                0.0   \n",
       "3   132004              0.0               0.0                0.0   \n",
       "4   132005              0.0               0.0                0.0   \n",
       "\n",
       "   Rcuisine_Armenian  Rcuisine_Asian  Rcuisine_Bagels  Rcuisine_Bakery  \\\n",
       "0                0.0             0.0              0.0              0.0   \n",
       "1                0.0             0.0              0.0              0.0   \n",
       "2                0.0             0.0              0.0              0.0   \n",
       "3                0.0             0.0              0.0              0.0   \n",
       "4                0.0             0.0              0.0              0.0   \n",
       "\n",
       "   Rcuisine_Bar  Rcuisine_Bar_Pub_Brewery  ...   \\\n",
       "0           0.0                       0.0  ...    \n",
       "1           0.0                       0.0  ...    \n",
       "2           0.0                       0.0  ...    \n",
       "3           0.0                       0.0  ...    \n",
       "4           0.0                       0.0  ...    \n",
       "\n",
       "   parking_lot_validated parking  parking_lot_yes  alcohol  smoking_area  \\\n",
       "0                            NaN              NaN      NaN           NaN   \n",
       "1                            NaN              NaN      NaN           NaN   \n",
       "2                            NaN              NaN      NaN           NaN   \n",
       "3                            NaN              NaN      NaN           NaN   \n",
       "4                            NaN              NaN      NaN           NaN   \n",
       "\n",
       "   Rambience  other_services  price  dress_code  accessibility  area  \n",
       "0        NaN             NaN    NaN         NaN            NaN   NaN  \n",
       "1        NaN             NaN    NaN         NaN            NaN   NaN  \n",
       "2        NaN             NaN    NaN         NaN            NaN   NaN  \n",
       "3        NaN             NaN    NaN         NaN            NaN   NaN  \n",
       "4        NaN             NaN    NaN         NaN            NaN   NaN  \n",
       "\n",
       "[5 rows x 75 columns]"
      ]
     },
     "execution_count": 92,
     "metadata": {},
     "output_type": "execute_result"
    }
   ],
   "source": [
    "#Merge the restaurant_df according to cuisine,parking and features\n",
    "restaurant_df = pd.merge(left=restaurant_df, right=cuisine_res, how=\"left\", on=\"placeID\")\n",
    "restaurant_df = pd.merge(left=restaurant_df, right=parking_res, how=\"left\", on=\"placeID\")\n",
    "restaurant_df = pd.merge(left=restaurant_df, right=features_res, how=\"left\", on=\"placeID\")\n",
    "restaurant_df.head()"
   ]
  },
  {
   "cell_type": "code",
   "execution_count": 93,
   "metadata": {
    "collapsed": true
   },
   "outputs": [],
   "source": [
    "# Getting the placeID's for all 938 restaurant having rating\n",
    "rated_res = restaurant_all[np.sum(review_rate,axis=1) > 0]"
   ]
  },
  {
   "cell_type": "code",
   "execution_count": 94,
   "metadata": {},
   "outputs": [
    {
     "data": {
      "text/plain": [
       "array([[0., 0., 0., ..., 0., 0., 0.],\n",
       "       [0., 0., 0., ..., 0., 0., 0.],\n",
       "       [0., 0., 0., ..., 0., 0., 0.],\n",
       "       ...,\n",
       "       [0., 1., 0., ..., 0., 0., 0.],\n",
       "       [0., 0., 0., ..., 0., 0., 0.],\n",
       "       [0., 0., 0., ..., 0., 0., 0.]])"
      ]
     },
     "execution_count": 94,
     "metadata": {},
     "output_type": "execute_result"
    }
   ],
   "source": [
    "# Check for restaurant has rating, 0 means No and 1 means Yes.\n",
    "Rate = review_rate.loc[rated_res].values\n",
    "Rate"
   ]
  },
  {
   "cell_type": "code",
   "execution_count": 95,
   "metadata": {
    "collapsed": true
   },
   "outputs": [],
   "source": [
    "# Assigning combined,food and service rating of combined restaurant file\n",
    "combined_Y = combined_rating.loc[rated_res].values\n",
    "food_Y  = food_rating.loc[rated_res].values\n",
    "service_Y = service_rating.loc[rated_res].values"
   ]
  },
  {
   "cell_type": "code",
   "execution_count": 96,
   "metadata": {
    "collapsed": true
   },
   "outputs": [],
   "source": [
    "#Getting index value of restaurant_df having rating value\n",
    "index = [x in rated_res for x in restaurant_df['placeID'].values]"
   ]
  },
  {
   "cell_type": "code",
   "execution_count": 97,
   "metadata": {
    "collapsed": true
   },
   "outputs": [],
   "source": [
    "# Features for all 938 restaurant having rating\n",
    "X_val = restaurant_df.loc[index, :].reset_index(drop=True)"
   ]
  },
  {
   "cell_type": "code",
   "execution_count": 98,
   "metadata": {},
   "outputs": [
    {
     "data": {
      "text/plain": [
       "placeID                           0\n",
       "Rcuisine_Afghan                  35\n",
       "Rcuisine_African                 35\n",
       "Rcuisine_American                35\n",
       "Rcuisine_Armenian                35\n",
       "Rcuisine_Asian                   35\n",
       "Rcuisine_Bagels                  35\n",
       "Rcuisine_Bakery                  35\n",
       "Rcuisine_Bar                     35\n",
       "Rcuisine_Bar_Pub_Brewery         35\n",
       "Rcuisine_Barbecue                35\n",
       "Rcuisine_Brazilian               35\n",
       "Rcuisine_Breakfast-Brunch        35\n",
       "Rcuisine_Burgers                 35\n",
       "Rcuisine_Cafe-Coffee_Shop        35\n",
       "Rcuisine_Cafeteria               35\n",
       "Rcuisine_California              35\n",
       "Rcuisine_Caribbean               35\n",
       "Rcuisine_Chinese                 35\n",
       "Rcuisine_Contemporary            35\n",
       "Rcuisine_Continental-European    35\n",
       "Rcuisine_Deli-Sandwiches         35\n",
       "Rcuisine_Dessert-Ice_Cream       35\n",
       "Rcuisine_Diner                   35\n",
       "Rcuisine_Dutch-Belgian           35\n",
       "Rcuisine_Eastern_European        35\n",
       "Rcuisine_Ethiopian               35\n",
       "Rcuisine_Family                  35\n",
       "Rcuisine_Fast_Food               35\n",
       "Rcuisine_Fine_Dining             35\n",
       "                                 ..\n",
       "Rcuisine_Persian                 35\n",
       "Rcuisine_Pizzeria                35\n",
       "Rcuisine_Polish                  35\n",
       "Rcuisine_Regional                35\n",
       "Rcuisine_Seafood                 35\n",
       "Rcuisine_Soup                    35\n",
       "Rcuisine_Southern                35\n",
       "Rcuisine_Southwestern            35\n",
       "Rcuisine_Spanish                 35\n",
       "Rcuisine_Steaks                  35\n",
       "Rcuisine_Sushi                   35\n",
       "Rcuisine_Thai                    35\n",
       "Rcuisine_Turkish                 35\n",
       "Rcuisine_Vegetarian              35\n",
       "Rcuisine_Vietnamese              35\n",
       "parking_lot_fee                   0\n",
       "parking_lot_none                  0\n",
       "parking_lot_public                0\n",
       "parking_lot_street                0\n",
       "parking_lot_valet parking         0\n",
       "parking_lot_validated parking     0\n",
       "parking_lot_yes                   0\n",
       "alcohol                           0\n",
       "smoking_area                      0\n",
       "Rambience                         0\n",
       "other_services                    0\n",
       "price                             0\n",
       "dress_code                        0\n",
       "accessibility                     0\n",
       "area                              0\n",
       "Length: 75, dtype: int64"
      ]
     },
     "execution_count": 98,
     "metadata": {},
     "output_type": "execute_result"
    }
   ],
   "source": [
    "X_val.isnull().sum() # all the NANs are from cuisine"
   ]
  },
  {
   "cell_type": "code",
   "execution_count": 99,
   "metadata": {},
   "outputs": [
    {
     "data": {
      "text/html": [
       "<div>\n",
       "<style scoped>\n",
       "    .dataframe tbody tr th:only-of-type {\n",
       "        vertical-align: middle;\n",
       "    }\n",
       "\n",
       "    .dataframe tbody tr th {\n",
       "        vertical-align: top;\n",
       "    }\n",
       "\n",
       "    .dataframe thead th {\n",
       "        text-align: right;\n",
       "    }\n",
       "</style>\n",
       "<table border=\"1\" class=\"dataframe\">\n",
       "  <thead>\n",
       "    <tr style=\"text-align: right;\">\n",
       "      <th></th>\n",
       "      <th>placeID</th>\n",
       "      <th>Rcuisine_Afghan</th>\n",
       "      <th>Rcuisine_African</th>\n",
       "      <th>Rcuisine_American</th>\n",
       "      <th>Rcuisine_Armenian</th>\n",
       "      <th>Rcuisine_Asian</th>\n",
       "      <th>Rcuisine_Bagels</th>\n",
       "      <th>Rcuisine_Bakery</th>\n",
       "      <th>Rcuisine_Bar</th>\n",
       "      <th>Rcuisine_Bar_Pub_Brewery</th>\n",
       "      <th>...</th>\n",
       "      <th>parking_lot_validated parking</th>\n",
       "      <th>parking_lot_yes</th>\n",
       "      <th>alcohol</th>\n",
       "      <th>smoking_area</th>\n",
       "      <th>Rambience</th>\n",
       "      <th>other_services</th>\n",
       "      <th>price</th>\n",
       "      <th>dress_code</th>\n",
       "      <th>accessibility</th>\n",
       "      <th>area</th>\n",
       "    </tr>\n",
       "  </thead>\n",
       "  <tbody>\n",
       "    <tr>\n",
       "      <th>0</th>\n",
       "      <td>132560</td>\n",
       "      <td>0.0</td>\n",
       "      <td>0.0</td>\n",
       "      <td>0.0</td>\n",
       "      <td>0.0</td>\n",
       "      <td>0.0</td>\n",
       "      <td>0.0</td>\n",
       "      <td>0.0</td>\n",
       "      <td>0.0</td>\n",
       "      <td>0.0</td>\n",
       "      <td>...</td>\n",
       "      <td>0.0</td>\n",
       "      <td>0.0</td>\n",
       "      <td>No_Alcohol_Served</td>\n",
       "      <td>permitted</td>\n",
       "      <td>familiar</td>\n",
       "      <td>none</td>\n",
       "      <td>low</td>\n",
       "      <td>informal</td>\n",
       "      <td>no_accessibility</td>\n",
       "      <td>open</td>\n",
       "    </tr>\n",
       "    <tr>\n",
       "      <th>1</th>\n",
       "      <td>132561</td>\n",
       "      <td>0.0</td>\n",
       "      <td>0.0</td>\n",
       "      <td>0.0</td>\n",
       "      <td>0.0</td>\n",
       "      <td>0.0</td>\n",
       "      <td>0.0</td>\n",
       "      <td>0.0</td>\n",
       "      <td>0.0</td>\n",
       "      <td>0.0</td>\n",
       "      <td>...</td>\n",
       "      <td>0.0</td>\n",
       "      <td>0.0</td>\n",
       "      <td>No_Alcohol_Served</td>\n",
       "      <td>none</td>\n",
       "      <td>familiar</td>\n",
       "      <td>none</td>\n",
       "      <td>low</td>\n",
       "      <td>informal</td>\n",
       "      <td>completely</td>\n",
       "      <td>closed</td>\n",
       "    </tr>\n",
       "    <tr>\n",
       "      <th>2</th>\n",
       "      <td>132564</td>\n",
       "      <td>0.0</td>\n",
       "      <td>0.0</td>\n",
       "      <td>0.0</td>\n",
       "      <td>0.0</td>\n",
       "      <td>0.0</td>\n",
       "      <td>0.0</td>\n",
       "      <td>0.0</td>\n",
       "      <td>0.0</td>\n",
       "      <td>0.0</td>\n",
       "      <td>...</td>\n",
       "      <td>0.0</td>\n",
       "      <td>0.0</td>\n",
       "      <td>No_Alcohol_Served</td>\n",
       "      <td>none</td>\n",
       "      <td>familiar</td>\n",
       "      <td>none</td>\n",
       "      <td>low</td>\n",
       "      <td>informal</td>\n",
       "      <td>completely</td>\n",
       "      <td>closed</td>\n",
       "    </tr>\n",
       "    <tr>\n",
       "      <th>3</th>\n",
       "      <td>132572</td>\n",
       "      <td>0.0</td>\n",
       "      <td>0.0</td>\n",
       "      <td>0.0</td>\n",
       "      <td>0.0</td>\n",
       "      <td>0.0</td>\n",
       "      <td>0.0</td>\n",
       "      <td>0.0</td>\n",
       "      <td>0.0</td>\n",
       "      <td>0.0</td>\n",
       "      <td>...</td>\n",
       "      <td>0.0</td>\n",
       "      <td>1.0</td>\n",
       "      <td>No_Alcohol_Served</td>\n",
       "      <td>not permitted</td>\n",
       "      <td>familiar</td>\n",
       "      <td>none</td>\n",
       "      <td>low</td>\n",
       "      <td>informal</td>\n",
       "      <td>completely</td>\n",
       "      <td>closed</td>\n",
       "    </tr>\n",
       "    <tr>\n",
       "      <th>4</th>\n",
       "      <td>132583</td>\n",
       "      <td>0.0</td>\n",
       "      <td>0.0</td>\n",
       "      <td>1.0</td>\n",
       "      <td>0.0</td>\n",
       "      <td>0.0</td>\n",
       "      <td>0.0</td>\n",
       "      <td>0.0</td>\n",
       "      <td>0.0</td>\n",
       "      <td>0.0</td>\n",
       "      <td>...</td>\n",
       "      <td>0.0</td>\n",
       "      <td>0.0</td>\n",
       "      <td>No_Alcohol_Served</td>\n",
       "      <td>not permitted</td>\n",
       "      <td>familiar</td>\n",
       "      <td>none</td>\n",
       "      <td>low</td>\n",
       "      <td>informal</td>\n",
       "      <td>partially</td>\n",
       "      <td>closed</td>\n",
       "    </tr>\n",
       "  </tbody>\n",
       "</table>\n",
       "<p>5 rows × 75 columns</p>\n",
       "</div>"
      ],
      "text/plain": [
       "   placeID  Rcuisine_Afghan  Rcuisine_African  Rcuisine_American  \\\n",
       "0   132560              0.0               0.0                0.0   \n",
       "1   132561              0.0               0.0                0.0   \n",
       "2   132564              0.0               0.0                0.0   \n",
       "3   132572              0.0               0.0                0.0   \n",
       "4   132583              0.0               0.0                1.0   \n",
       "\n",
       "   Rcuisine_Armenian  Rcuisine_Asian  Rcuisine_Bagels  Rcuisine_Bakery  \\\n",
       "0                0.0             0.0              0.0              0.0   \n",
       "1                0.0             0.0              0.0              0.0   \n",
       "2                0.0             0.0              0.0              0.0   \n",
       "3                0.0             0.0              0.0              0.0   \n",
       "4                0.0             0.0              0.0              0.0   \n",
       "\n",
       "   Rcuisine_Bar  Rcuisine_Bar_Pub_Brewery   ...    \\\n",
       "0           0.0                       0.0   ...     \n",
       "1           0.0                       0.0   ...     \n",
       "2           0.0                       0.0   ...     \n",
       "3           0.0                       0.0   ...     \n",
       "4           0.0                       0.0   ...     \n",
       "\n",
       "   parking_lot_validated parking  parking_lot_yes            alcohol  \\\n",
       "0                            0.0              0.0  No_Alcohol_Served   \n",
       "1                            0.0              0.0  No_Alcohol_Served   \n",
       "2                            0.0              0.0  No_Alcohol_Served   \n",
       "3                            0.0              1.0  No_Alcohol_Served   \n",
       "4                            0.0              0.0  No_Alcohol_Served   \n",
       "\n",
       "    smoking_area  Rambience  other_services  price  dress_code  \\\n",
       "0      permitted   familiar            none    low    informal   \n",
       "1           none   familiar            none    low    informal   \n",
       "2           none   familiar            none    low    informal   \n",
       "3  not permitted   familiar            none    low    informal   \n",
       "4  not permitted   familiar            none    low    informal   \n",
       "\n",
       "      accessibility    area  \n",
       "0  no_accessibility    open  \n",
       "1        completely  closed  \n",
       "2        completely  closed  \n",
       "3        completely  closed  \n",
       "4         partially  closed  \n",
       "\n",
       "[5 rows x 75 columns]"
      ]
     },
     "execution_count": 99,
     "metadata": {},
     "output_type": "execute_result"
    }
   ],
   "source": [
    "#Fill the na value with zero\n",
    "X_val.fillna(0).head()"
   ]
  },
  {
   "cell_type": "code",
   "execution_count": 100,
   "metadata": {},
   "outputs": [
    {
     "data": {
      "text/html": [
       "<div>\n",
       "<style scoped>\n",
       "    .dataframe tbody tr th:only-of-type {\n",
       "        vertical-align: middle;\n",
       "    }\n",
       "\n",
       "    .dataframe tbody tr th {\n",
       "        vertical-align: top;\n",
       "    }\n",
       "\n",
       "    .dataframe thead th {\n",
       "        text-align: right;\n",
       "    }\n",
       "</style>\n",
       "<table border=\"1\" class=\"dataframe\">\n",
       "  <thead>\n",
       "    <tr style=\"text-align: right;\">\n",
       "      <th></th>\n",
       "      <th>placeID</th>\n",
       "      <th>Rcuisine_American</th>\n",
       "      <th>Rcuisine_Armenian</th>\n",
       "      <th>Rcuisine_Bakery</th>\n",
       "      <th>Rcuisine_Bar</th>\n",
       "      <th>Rcuisine_Bar_Pub_Brewery</th>\n",
       "      <th>Rcuisine_Breakfast-Brunch</th>\n",
       "      <th>Rcuisine_Burgers</th>\n",
       "      <th>Rcuisine_Cafe-Coffee_Shop</th>\n",
       "      <th>Rcuisine_Cafeteria</th>\n",
       "      <th>...</th>\n",
       "      <th>parking_lot_valet parking</th>\n",
       "      <th>parking_lot_yes</th>\n",
       "      <th>alcohol</th>\n",
       "      <th>smoking_area</th>\n",
       "      <th>Rambience</th>\n",
       "      <th>other_services</th>\n",
       "      <th>price</th>\n",
       "      <th>dress_code</th>\n",
       "      <th>accessibility</th>\n",
       "      <th>area</th>\n",
       "    </tr>\n",
       "  </thead>\n",
       "  <tbody>\n",
       "    <tr>\n",
       "      <th>0</th>\n",
       "      <td>132560</td>\n",
       "      <td>0.0</td>\n",
       "      <td>0.0</td>\n",
       "      <td>0.0</td>\n",
       "      <td>0.0</td>\n",
       "      <td>0.0</td>\n",
       "      <td>0.0</td>\n",
       "      <td>0.0</td>\n",
       "      <td>0.0</td>\n",
       "      <td>0.0</td>\n",
       "      <td>...</td>\n",
       "      <td>0.0</td>\n",
       "      <td>0.0</td>\n",
       "      <td>No_Alcohol_Served</td>\n",
       "      <td>permitted</td>\n",
       "      <td>familiar</td>\n",
       "      <td>none</td>\n",
       "      <td>low</td>\n",
       "      <td>informal</td>\n",
       "      <td>no_accessibility</td>\n",
       "      <td>open</td>\n",
       "    </tr>\n",
       "    <tr>\n",
       "      <th>1</th>\n",
       "      <td>132561</td>\n",
       "      <td>NaN</td>\n",
       "      <td>NaN</td>\n",
       "      <td>NaN</td>\n",
       "      <td>NaN</td>\n",
       "      <td>NaN</td>\n",
       "      <td>NaN</td>\n",
       "      <td>NaN</td>\n",
       "      <td>NaN</td>\n",
       "      <td>NaN</td>\n",
       "      <td>...</td>\n",
       "      <td>0.0</td>\n",
       "      <td>0.0</td>\n",
       "      <td>No_Alcohol_Served</td>\n",
       "      <td>none</td>\n",
       "      <td>familiar</td>\n",
       "      <td>none</td>\n",
       "      <td>low</td>\n",
       "      <td>informal</td>\n",
       "      <td>completely</td>\n",
       "      <td>closed</td>\n",
       "    </tr>\n",
       "    <tr>\n",
       "      <th>2</th>\n",
       "      <td>132564</td>\n",
       "      <td>NaN</td>\n",
       "      <td>NaN</td>\n",
       "      <td>NaN</td>\n",
       "      <td>NaN</td>\n",
       "      <td>NaN</td>\n",
       "      <td>NaN</td>\n",
       "      <td>NaN</td>\n",
       "      <td>NaN</td>\n",
       "      <td>NaN</td>\n",
       "      <td>...</td>\n",
       "      <td>0.0</td>\n",
       "      <td>0.0</td>\n",
       "      <td>No_Alcohol_Served</td>\n",
       "      <td>none</td>\n",
       "      <td>familiar</td>\n",
       "      <td>none</td>\n",
       "      <td>low</td>\n",
       "      <td>informal</td>\n",
       "      <td>completely</td>\n",
       "      <td>closed</td>\n",
       "    </tr>\n",
       "    <tr>\n",
       "      <th>3</th>\n",
       "      <td>132572</td>\n",
       "      <td>0.0</td>\n",
       "      <td>0.0</td>\n",
       "      <td>0.0</td>\n",
       "      <td>0.0</td>\n",
       "      <td>0.0</td>\n",
       "      <td>0.0</td>\n",
       "      <td>0.0</td>\n",
       "      <td>0.0</td>\n",
       "      <td>1.0</td>\n",
       "      <td>...</td>\n",
       "      <td>0.0</td>\n",
       "      <td>1.0</td>\n",
       "      <td>No_Alcohol_Served</td>\n",
       "      <td>not permitted</td>\n",
       "      <td>familiar</td>\n",
       "      <td>none</td>\n",
       "      <td>low</td>\n",
       "      <td>informal</td>\n",
       "      <td>completely</td>\n",
       "      <td>closed</td>\n",
       "    </tr>\n",
       "    <tr>\n",
       "      <th>4</th>\n",
       "      <td>132583</td>\n",
       "      <td>1.0</td>\n",
       "      <td>0.0</td>\n",
       "      <td>0.0</td>\n",
       "      <td>0.0</td>\n",
       "      <td>0.0</td>\n",
       "      <td>0.0</td>\n",
       "      <td>0.0</td>\n",
       "      <td>0.0</td>\n",
       "      <td>0.0</td>\n",
       "      <td>...</td>\n",
       "      <td>0.0</td>\n",
       "      <td>0.0</td>\n",
       "      <td>No_Alcohol_Served</td>\n",
       "      <td>not permitted</td>\n",
       "      <td>familiar</td>\n",
       "      <td>none</td>\n",
       "      <td>low</td>\n",
       "      <td>informal</td>\n",
       "      <td>partially</td>\n",
       "      <td>closed</td>\n",
       "    </tr>\n",
       "  </tbody>\n",
       "</table>\n",
       "<p>5 rows × 36 columns</p>\n",
       "</div>"
      ],
      "text/plain": [
       "   placeID  Rcuisine_American  Rcuisine_Armenian  Rcuisine_Bakery  \\\n",
       "0   132560                0.0                0.0              0.0   \n",
       "1   132561                NaN                NaN              NaN   \n",
       "2   132564                NaN                NaN              NaN   \n",
       "3   132572                0.0                0.0              0.0   \n",
       "4   132583                1.0                0.0              0.0   \n",
       "\n",
       "   Rcuisine_Bar  Rcuisine_Bar_Pub_Brewery  Rcuisine_Breakfast-Brunch  \\\n",
       "0           0.0                       0.0                        0.0   \n",
       "1           NaN                       NaN                        NaN   \n",
       "2           NaN                       NaN                        NaN   \n",
       "3           0.0                       0.0                        0.0   \n",
       "4           0.0                       0.0                        0.0   \n",
       "\n",
       "   Rcuisine_Burgers  Rcuisine_Cafe-Coffee_Shop  Rcuisine_Cafeteria   ...    \\\n",
       "0               0.0                        0.0                 0.0   ...     \n",
       "1               NaN                        NaN                 NaN   ...     \n",
       "2               NaN                        NaN                 NaN   ...     \n",
       "3               0.0                        0.0                 1.0   ...     \n",
       "4               0.0                        0.0                 0.0   ...     \n",
       "\n",
       "   parking_lot_valet parking  parking_lot_yes            alcohol  \\\n",
       "0                        0.0              0.0  No_Alcohol_Served   \n",
       "1                        0.0              0.0  No_Alcohol_Served   \n",
       "2                        0.0              0.0  No_Alcohol_Served   \n",
       "3                        0.0              1.0  No_Alcohol_Served   \n",
       "4                        0.0              0.0  No_Alcohol_Served   \n",
       "\n",
       "    smoking_area  Rambience  other_services  price  dress_code  \\\n",
       "0      permitted   familiar            none    low    informal   \n",
       "1           none   familiar            none    low    informal   \n",
       "2           none   familiar            none    low    informal   \n",
       "3  not permitted   familiar            none    low    informal   \n",
       "4  not permitted   familiar            none    low    informal   \n",
       "\n",
       "      accessibility    area  \n",
       "0  no_accessibility    open  \n",
       "1        completely  closed  \n",
       "2        completely  closed  \n",
       "3        completely  closed  \n",
       "4         partially  closed  \n",
       "\n",
       "[5 rows x 36 columns]"
      ]
     },
     "execution_count": 100,
     "metadata": {},
     "output_type": "execute_result"
    }
   ],
   "source": [
    "# drop a feature if the entire column are 0\n",
    "features_to_drop = X_val.columns.values[np.sum(X_val,axis=0) == 0] \n",
    "X_val = X_val.drop(features_to_drop, axis=1)\n",
    "X_val.head()"
   ]
  },
  {
   "cell_type": "code",
   "execution_count": 101,
   "metadata": {},
   "outputs": [
    {
     "data": {
      "text/plain": [
       "Index(['placeID', 'Rcuisine_American', 'Rcuisine_Armenian', 'Rcuisine_Bakery',\n",
       "       'Rcuisine_Bar', 'Rcuisine_Bar_Pub_Brewery', 'Rcuisine_Breakfast-Brunch',\n",
       "       'Rcuisine_Burgers', 'Rcuisine_Cafe-Coffee_Shop', 'Rcuisine_Cafeteria',\n",
       "       'Rcuisine_Chinese', 'Rcuisine_Contemporary', 'Rcuisine_Family',\n",
       "       'Rcuisine_Fast_Food', 'Rcuisine_Game', 'Rcuisine_International',\n",
       "       'Rcuisine_Italian', 'Rcuisine_Japanese', 'Rcuisine_Mediterranean',\n",
       "       'Rcuisine_Mexican', 'Rcuisine_Pizzeria', 'Rcuisine_Regional',\n",
       "       'Rcuisine_Seafood', 'Rcuisine_Vietnamese', 'parking_lot_none',\n",
       "       'parking_lot_public', 'parking_lot_valet parking', 'parking_lot_yes',\n",
       "       'alcohol', 'smoking_area', 'Rambience', 'other_services', 'price',\n",
       "       'dress_code', 'accessibility', 'area'],\n",
       "      dtype='object')"
      ]
     },
     "execution_count": 101,
     "metadata": {},
     "output_type": "execute_result"
    }
   ],
   "source": [
    "#Columns in X_val which contain placeID,cuisine,parking and some features from geo file.\n",
    "X_val.columns"
   ]
  },
  {
   "cell_type": "code",
   "execution_count": 102,
   "metadata": {
    "collapsed": true
   },
   "outputs": [],
   "source": [
    "# drop placeID for getting only important features which will effect the result\n",
    "X_val = X_val.drop(['placeID'], axis=1)"
   ]
  },
  {
   "cell_type": "code",
   "execution_count": 103,
   "metadata": {},
   "outputs": [
    {
     "data": {
      "text/plain": [
       "Rcuisine_American            float64\n",
       "Rcuisine_Armenian            float64\n",
       "Rcuisine_Bakery              float64\n",
       "Rcuisine_Bar                 float64\n",
       "Rcuisine_Bar_Pub_Brewery     float64\n",
       "Rcuisine_Breakfast-Brunch    float64\n",
       "Rcuisine_Burgers             float64\n",
       "Rcuisine_Cafe-Coffee_Shop    float64\n",
       "Rcuisine_Cafeteria           float64\n",
       "Rcuisine_Chinese             float64\n",
       "Rcuisine_Contemporary        float64\n",
       "Rcuisine_Family              float64\n",
       "Rcuisine_Fast_Food           float64\n",
       "Rcuisine_Game                float64\n",
       "Rcuisine_International       float64\n",
       "Rcuisine_Italian             float64\n",
       "Rcuisine_Japanese            float64\n",
       "Rcuisine_Mediterranean       float64\n",
       "Rcuisine_Mexican             float64\n",
       "Rcuisine_Pizzeria            float64\n",
       "Rcuisine_Regional            float64\n",
       "Rcuisine_Seafood             float64\n",
       "Rcuisine_Vietnamese          float64\n",
       "parking_lot_none             float64\n",
       "parking_lot_public           float64\n",
       "parking_lot_valet parking    float64\n",
       "parking_lot_yes              float64\n",
       "alcohol                       object\n",
       "smoking_area                  object\n",
       "Rambience                     object\n",
       "other_services                object\n",
       "price                         object\n",
       "dress_code                    object\n",
       "accessibility                 object\n",
       "area                          object\n",
       "dtype: object"
      ]
     },
     "execution_count": 103,
     "metadata": {},
     "output_type": "execute_result"
    }
   ],
   "source": [
    "X_val.dtypes"
   ]
  },
  {
   "cell_type": "code",
   "execution_count": 104,
   "metadata": {
    "collapsed": true
   },
   "outputs": [],
   "source": [
    "#Categorize the column of dataset which is object type \n",
    "for col in X_val.columns:\n",
    "    if X_val[col].dtype == object:\n",
    "        X_val[col] = X_val[col].astype('category')"
   ]
  },
  {
   "cell_type": "code",
   "execution_count": 105,
   "metadata": {},
   "outputs": [
    {
     "name": "stdout",
     "output_type": "stream",
     "text": [
      "<class 'pandas.core.frame.DataFrame'>\n",
      "RangeIndex: 130 entries, 0 to 129\n",
      "Data columns (total 35 columns):\n",
      "Rcuisine_American            95 non-null float64\n",
      "Rcuisine_Armenian            95 non-null float64\n",
      "Rcuisine_Bakery              95 non-null float64\n",
      "Rcuisine_Bar                 95 non-null float64\n",
      "Rcuisine_Bar_Pub_Brewery     95 non-null float64\n",
      "Rcuisine_Breakfast-Brunch    95 non-null float64\n",
      "Rcuisine_Burgers             95 non-null float64\n",
      "Rcuisine_Cafe-Coffee_Shop    95 non-null float64\n",
      "Rcuisine_Cafeteria           95 non-null float64\n",
      "Rcuisine_Chinese             95 non-null float64\n",
      "Rcuisine_Contemporary        95 non-null float64\n",
      "Rcuisine_Family              95 non-null float64\n",
      "Rcuisine_Fast_Food           95 non-null float64\n",
      "Rcuisine_Game                95 non-null float64\n",
      "Rcuisine_International       95 non-null float64\n",
      "Rcuisine_Italian             95 non-null float64\n",
      "Rcuisine_Japanese            95 non-null float64\n",
      "Rcuisine_Mediterranean       95 non-null float64\n",
      "Rcuisine_Mexican             95 non-null float64\n",
      "Rcuisine_Pizzeria            95 non-null float64\n",
      "Rcuisine_Regional            95 non-null float64\n",
      "Rcuisine_Seafood             95 non-null float64\n",
      "Rcuisine_Vietnamese          95 non-null float64\n",
      "parking_lot_none             130 non-null float64\n",
      "parking_lot_public           130 non-null float64\n",
      "parking_lot_valet parking    130 non-null float64\n",
      "parking_lot_yes              130 non-null float64\n",
      "alcohol                      130 non-null category\n",
      "smoking_area                 130 non-null category\n",
      "Rambience                    130 non-null category\n",
      "other_services               130 non-null category\n",
      "price                        130 non-null category\n",
      "dress_code                   130 non-null category\n",
      "accessibility                130 non-null category\n",
      "area                         130 non-null category\n",
      "dtypes: category(8), float64(27)\n",
      "memory usage: 29.4 KB\n"
     ]
    }
   ],
   "source": [
    "X_val.info()"
   ]
  },
  {
   "cell_type": "markdown",
   "metadata": {},
   "source": [
    "### Plotting the above features using plotly"
   ]
  },
  {
   "cell_type": "code",
   "execution_count": 106,
   "metadata": {},
   "outputs": [
    {
     "data": {
      "text/html": [
       "<script>requirejs.config({paths: { 'plotly': ['https://cdn.plot.ly/plotly-latest.min']},});if(!window.Plotly) {{require(['plotly'],function(plotly) {window.Plotly=plotly;});}}</script>"
      ],
      "text/vnd.plotly.v1+html": [
       "<script>requirejs.config({paths: { 'plotly': ['https://cdn.plot.ly/plotly-latest.min']},});if(!window.Plotly) {{require(['plotly'],function(plotly) {window.Plotly=plotly;});}}</script>"
      ]
     },
     "metadata": {},
     "output_type": "display_data"
    }
   ],
   "source": [
    "#importing the packeges\n",
    "from IPython.core.interactiveshell import InteractiveShell     #An enhanced, interactive shell for Python\n",
    "#‘all’, ‘last’, ‘last_expr’ or ‘none’, ‘last_expr_or_assign’\n",
    "#specifying which nodes should be run interactively \n",
    "import plotly \n",
    "plotly.tools.set_credentials_file(username='@user_name', api_key='@api_keys')\n",
    "InteractiveShell.ast_node_interactivity = \"all\"   #Options:\t'all','last','last_expr','none','last_expr_or_assign'\n",
    "\n",
    "import numpy as np # linear algebra\n",
    "import pandas as pd # data processing\n",
    "\n",
    "#Plotly Offline brings interactive Plotly graphs to the offline (local) environment\n",
    "import plotly.offline as py\n",
    "import plotly.figure_factory as ff\n",
    "import plotly.graph_objs as gobj\n",
    "import plotly.plotly as plty\n",
    "from plotly.graph_objs import *\n",
    "py.init_notebook_mode(connected=True)  # initiate notebook for offline plot"
   ]
  },
  {
   "cell_type": "code",
   "execution_count": 107,
   "metadata": {
    "collapsed": true
   },
   "outputs": [],
   "source": [
    "#Method for plotting \n",
    "\n",
    "def plot_value_counts(col_name,table=False,bar=False):\n",
    "    \n",
    "    values_count = pd.DataFrame(X_val[col_name].value_counts())\n",
    "    values_count.columns = ['count']\n",
    "   \n",
    "    # Converting the index column into value count\n",
    "    values_count[col_name] = [ str(i) for i in values_count.index ]\n",
    "    \n",
    "    # add a column with the percentage of each data point to the sum of all data points\n",
    "    values_count['percent'] = values_count['count'].div(values_count['count'].sum()).multiply(100).round(2)\n",
    "    \n",
    "    # change the order of the columns.\n",
    "    values_count = values_count.reindex([col_name,'count','percent'],axis=1)\n",
    "    values_count.reset_index(drop=True,inplace=True)    \n",
    "    \n",
    "    if bar :\n",
    "        # add a font size for annotations0 which is relevant to the length of the data points.\n",
    "        font_size = 20 - (.25 * len(values_count[col_name]))\n",
    "        \n",
    "        trace0 = gobj.Bar( x = values_count[col_name], y = values_count['count'] )\n",
    "        data_ = gobj.Data( [trace0] )\n",
    "        \n",
    "        annotations0 = [ dict(x = xi,\n",
    "                             y = yi, \n",
    "                             showarrow=False,\n",
    "                             font={'size':font_size},\n",
    "                             text = \"{:,}\".format(yi),\n",
    "                             xanchor='center',\n",
    "                             yanchor='bottom' )\n",
    "                       for xi,yi,_ in values_count.values ]\n",
    "        \n",
    "        annotations1 = [ dict( x = xi,\n",
    "                              y = yi/2,\n",
    "                              showarrow = False,\n",
    "                              text = \"{}%\".format(pi),\n",
    "                              xanchor = 'center',\n",
    "                              yanchor = 'center',\n",
    "                              font = {'color':'yellow'})\n",
    "                         for xi,yi,pi in values_count.values if pi > 10 ]\n",
    "        \n",
    "        annotations = annotations0 + annotations1                       \n",
    "        \n",
    "        layout = gobj.Layout( title = col_name.replace('_',' ').capitalize(),\n",
    "                             titlefont = {'size': 50},\n",
    "                             yaxis = {'title':'count'},\n",
    "                             xaxis = {'type':'category'},\n",
    "                            annotations = annotations  )\n",
    "        figure = gobj.Figure( data = data_, layout = layout )\n",
    "        py.iplot(figure)\n",
    "    \n",
    "    if table : \n",
    "        values_count['count'] = values_count['count'].apply(lambda d : \"{:,}\".format(d))\n",
    "        table = ff.create_table(values_count,index_title=\"race\")      #Creating the table for race\n",
    "        py.iplot(table)\n",
    "    \n",
    "    return values_count"
   ]
  },
  {
   "cell_type": "code",
   "execution_count": 108,
   "metadata": {},
   "outputs": [
    {
     "data": {
      "application/vnd.plotly.v1+json": {
       "data": [
        {
         "type": "bar",
         "x": [
          "0.0",
          "1.0"
         ],
         "y": [
          90,
          5
         ]
        }
       ],
       "layout": {
        "annotations": [
         {
          "font": {
           "size": 19.5
          },
          "showarrow": false,
          "text": "90",
          "x": "0.0",
          "xanchor": "center",
          "y": 90,
          "yanchor": "bottom"
         },
         {
          "font": {
           "size": 19.5
          },
          "showarrow": false,
          "text": "5",
          "x": "1.0",
          "xanchor": "center",
          "y": 5,
          "yanchor": "bottom"
         },
         {
          "font": {
           "color": "yellow"
          },
          "showarrow": false,
          "text": "94.74%",
          "x": "0.0",
          "xanchor": "center",
          "y": 45,
          "yanchor": "center"
         }
        ],
        "title": "Rcuisine american",
        "titlefont": {
         "size": 50
        },
        "xaxis": {
         "type": "category"
        },
        "yaxis": {
         "title": "count"
        }
       }
      },
      "text/html": [
       "<div id=\"98ddb42c-fed6-4117-87b2-847c71d2cd2a\" style=\"height: 525px; width: 100%;\" class=\"plotly-graph-div\"></div><script type=\"text/javascript\">require([\"plotly\"], function(Plotly) { window.PLOTLYENV=window.PLOTLYENV || {};window.PLOTLYENV.BASE_URL=\"https://plot.ly\";Plotly.newPlot(\"98ddb42c-fed6-4117-87b2-847c71d2cd2a\", [{\"type\": \"bar\", \"x\": [\"0.0\", \"1.0\"], \"y\": [90, 5]}], {\"title\": \"Rcuisine american\", \"titlefont\": {\"size\": 50}, \"yaxis\": {\"title\": \"count\"}, \"xaxis\": {\"type\": \"category\"}, \"annotations\": [{\"x\": \"0.0\", \"y\": 90, \"showarrow\": false, \"font\": {\"size\": 19.5}, \"text\": \"90\", \"xanchor\": \"center\", \"yanchor\": \"bottom\"}, {\"x\": \"1.0\", \"y\": 5, \"showarrow\": false, \"font\": {\"size\": 19.5}, \"text\": \"5\", \"xanchor\": \"center\", \"yanchor\": \"bottom\"}, {\"x\": \"0.0\", \"y\": 45.0, \"showarrow\": false, \"text\": \"94.74%\", \"xanchor\": \"center\", \"yanchor\": \"center\", \"font\": {\"color\": \"yellow\"}}]}, {\"showLink\": true, \"linkText\": \"Export to plot.ly\"})});</script>"
      ],
      "text/vnd.plotly.v1+html": [
       "<div id=\"98ddb42c-fed6-4117-87b2-847c71d2cd2a\" style=\"height: 525px; width: 100%;\" class=\"plotly-graph-div\"></div><script type=\"text/javascript\">require([\"plotly\"], function(Plotly) { window.PLOTLYENV=window.PLOTLYENV || {};window.PLOTLYENV.BASE_URL=\"https://plot.ly\";Plotly.newPlot(\"98ddb42c-fed6-4117-87b2-847c71d2cd2a\", [{\"type\": \"bar\", \"x\": [\"0.0\", \"1.0\"], \"y\": [90, 5]}], {\"title\": \"Rcuisine american\", \"titlefont\": {\"size\": 50}, \"yaxis\": {\"title\": \"count\"}, \"xaxis\": {\"type\": \"category\"}, \"annotations\": [{\"x\": \"0.0\", \"y\": 90, \"showarrow\": false, \"font\": {\"size\": 19.5}, \"text\": \"90\", \"xanchor\": \"center\", \"yanchor\": \"bottom\"}, {\"x\": \"1.0\", \"y\": 5, \"showarrow\": false, \"font\": {\"size\": 19.5}, \"text\": \"5\", \"xanchor\": \"center\", \"yanchor\": \"bottom\"}, {\"x\": \"0.0\", \"y\": 45.0, \"showarrow\": false, \"text\": \"94.74%\", \"xanchor\": \"center\", \"yanchor\": \"center\", \"font\": {\"color\": \"yellow\"}}]}, {\"showLink\": true, \"linkText\": \"Export to plot.ly\"})});</script>"
      ]
     },
     "metadata": {},
     "output_type": "display_data"
    },
    {
     "data": {
      "application/vnd.plotly.v1+json": {
       "data": [
        {
         "type": "bar",
         "x": [
          "0.0",
          "1.0"
         ],
         "y": [
          94,
          1
         ]
        }
       ],
       "layout": {
        "annotations": [
         {
          "font": {
           "size": 19.5
          },
          "showarrow": false,
          "text": "94",
          "x": "0.0",
          "xanchor": "center",
          "y": 94,
          "yanchor": "bottom"
         },
         {
          "font": {
           "size": 19.5
          },
          "showarrow": false,
          "text": "1",
          "x": "1.0",
          "xanchor": "center",
          "y": 1,
          "yanchor": "bottom"
         },
         {
          "font": {
           "color": "yellow"
          },
          "showarrow": false,
          "text": "98.95%",
          "x": "0.0",
          "xanchor": "center",
          "y": 47,
          "yanchor": "center"
         }
        ],
        "title": "Rcuisine armenian",
        "titlefont": {
         "size": 50
        },
        "xaxis": {
         "type": "category"
        },
        "yaxis": {
         "title": "count"
        }
       }
      },
      "text/html": [
       "<div id=\"3ac16167-8efe-4f69-8a4f-0d0ff361cbe5\" style=\"height: 525px; width: 100%;\" class=\"plotly-graph-div\"></div><script type=\"text/javascript\">require([\"plotly\"], function(Plotly) { window.PLOTLYENV=window.PLOTLYENV || {};window.PLOTLYENV.BASE_URL=\"https://plot.ly\";Plotly.newPlot(\"3ac16167-8efe-4f69-8a4f-0d0ff361cbe5\", [{\"type\": \"bar\", \"x\": [\"0.0\", \"1.0\"], \"y\": [94, 1]}], {\"title\": \"Rcuisine armenian\", \"titlefont\": {\"size\": 50}, \"yaxis\": {\"title\": \"count\"}, \"xaxis\": {\"type\": \"category\"}, \"annotations\": [{\"x\": \"0.0\", \"y\": 94, \"showarrow\": false, \"font\": {\"size\": 19.5}, \"text\": \"94\", \"xanchor\": \"center\", \"yanchor\": \"bottom\"}, {\"x\": \"1.0\", \"y\": 1, \"showarrow\": false, \"font\": {\"size\": 19.5}, \"text\": \"1\", \"xanchor\": \"center\", \"yanchor\": \"bottom\"}, {\"x\": \"0.0\", \"y\": 47.0, \"showarrow\": false, \"text\": \"98.95%\", \"xanchor\": \"center\", \"yanchor\": \"center\", \"font\": {\"color\": \"yellow\"}}]}, {\"showLink\": true, \"linkText\": \"Export to plot.ly\"})});</script>"
      ],
      "text/vnd.plotly.v1+html": [
       "<div id=\"3ac16167-8efe-4f69-8a4f-0d0ff361cbe5\" style=\"height: 525px; width: 100%;\" class=\"plotly-graph-div\"></div><script type=\"text/javascript\">require([\"plotly\"], function(Plotly) { window.PLOTLYENV=window.PLOTLYENV || {};window.PLOTLYENV.BASE_URL=\"https://plot.ly\";Plotly.newPlot(\"3ac16167-8efe-4f69-8a4f-0d0ff361cbe5\", [{\"type\": \"bar\", \"x\": [\"0.0\", \"1.0\"], \"y\": [94, 1]}], {\"title\": \"Rcuisine armenian\", \"titlefont\": {\"size\": 50}, \"yaxis\": {\"title\": \"count\"}, \"xaxis\": {\"type\": \"category\"}, \"annotations\": [{\"x\": \"0.0\", \"y\": 94, \"showarrow\": false, \"font\": {\"size\": 19.5}, \"text\": \"94\", \"xanchor\": \"center\", \"yanchor\": \"bottom\"}, {\"x\": \"1.0\", \"y\": 1, \"showarrow\": false, \"font\": {\"size\": 19.5}, \"text\": \"1\", \"xanchor\": \"center\", \"yanchor\": \"bottom\"}, {\"x\": \"0.0\", \"y\": 47.0, \"showarrow\": false, \"text\": \"98.95%\", \"xanchor\": \"center\", \"yanchor\": \"center\", \"font\": {\"color\": \"yellow\"}}]}, {\"showLink\": true, \"linkText\": \"Export to plot.ly\"})});</script>"
      ]
     },
     "metadata": {},
     "output_type": "display_data"
    },
    {
     "data": {
      "application/vnd.plotly.v1+json": {
       "data": [
        {
         "type": "bar",
         "x": [
          "0.0",
          "1.0"
         ],
         "y": [
          94,
          1
         ]
        }
       ],
       "layout": {
        "annotations": [
         {
          "font": {
           "size": 19.5
          },
          "showarrow": false,
          "text": "94",
          "x": "0.0",
          "xanchor": "center",
          "y": 94,
          "yanchor": "bottom"
         },
         {
          "font": {
           "size": 19.5
          },
          "showarrow": false,
          "text": "1",
          "x": "1.0",
          "xanchor": "center",
          "y": 1,
          "yanchor": "bottom"
         },
         {
          "font": {
           "color": "yellow"
          },
          "showarrow": false,
          "text": "98.95%",
          "x": "0.0",
          "xanchor": "center",
          "y": 47,
          "yanchor": "center"
         }
        ],
        "title": "Rcuisine bakery",
        "titlefont": {
         "size": 50
        },
        "xaxis": {
         "type": "category"
        },
        "yaxis": {
         "title": "count"
        }
       }
      },
      "text/html": [
       "<div id=\"83dcf9e3-7467-4404-b819-6f56936ce48e\" style=\"height: 525px; width: 100%;\" class=\"plotly-graph-div\"></div><script type=\"text/javascript\">require([\"plotly\"], function(Plotly) { window.PLOTLYENV=window.PLOTLYENV || {};window.PLOTLYENV.BASE_URL=\"https://plot.ly\";Plotly.newPlot(\"83dcf9e3-7467-4404-b819-6f56936ce48e\", [{\"type\": \"bar\", \"x\": [\"0.0\", \"1.0\"], \"y\": [94, 1]}], {\"title\": \"Rcuisine bakery\", \"titlefont\": {\"size\": 50}, \"yaxis\": {\"title\": \"count\"}, \"xaxis\": {\"type\": \"category\"}, \"annotations\": [{\"x\": \"0.0\", \"y\": 94, \"showarrow\": false, \"font\": {\"size\": 19.5}, \"text\": \"94\", \"xanchor\": \"center\", \"yanchor\": \"bottom\"}, {\"x\": \"1.0\", \"y\": 1, \"showarrow\": false, \"font\": {\"size\": 19.5}, \"text\": \"1\", \"xanchor\": \"center\", \"yanchor\": \"bottom\"}, {\"x\": \"0.0\", \"y\": 47.0, \"showarrow\": false, \"text\": \"98.95%\", \"xanchor\": \"center\", \"yanchor\": \"center\", \"font\": {\"color\": \"yellow\"}}]}, {\"showLink\": true, \"linkText\": \"Export to plot.ly\"})});</script>"
      ],
      "text/vnd.plotly.v1+html": [
       "<div id=\"83dcf9e3-7467-4404-b819-6f56936ce48e\" style=\"height: 525px; width: 100%;\" class=\"plotly-graph-div\"></div><script type=\"text/javascript\">require([\"plotly\"], function(Plotly) { window.PLOTLYENV=window.PLOTLYENV || {};window.PLOTLYENV.BASE_URL=\"https://plot.ly\";Plotly.newPlot(\"83dcf9e3-7467-4404-b819-6f56936ce48e\", [{\"type\": \"bar\", \"x\": [\"0.0\", \"1.0\"], \"y\": [94, 1]}], {\"title\": \"Rcuisine bakery\", \"titlefont\": {\"size\": 50}, \"yaxis\": {\"title\": \"count\"}, \"xaxis\": {\"type\": \"category\"}, \"annotations\": [{\"x\": \"0.0\", \"y\": 94, \"showarrow\": false, \"font\": {\"size\": 19.5}, \"text\": \"94\", \"xanchor\": \"center\", \"yanchor\": \"bottom\"}, {\"x\": \"1.0\", \"y\": 1, \"showarrow\": false, \"font\": {\"size\": 19.5}, \"text\": \"1\", \"xanchor\": \"center\", \"yanchor\": \"bottom\"}, {\"x\": \"0.0\", \"y\": 47.0, \"showarrow\": false, \"text\": \"98.95%\", \"xanchor\": \"center\", \"yanchor\": \"center\", \"font\": {\"color\": \"yellow\"}}]}, {\"showLink\": true, \"linkText\": \"Export to plot.ly\"})});</script>"
      ]
     },
     "metadata": {},
     "output_type": "display_data"
    },
    {
     "data": {
      "application/vnd.plotly.v1+json": {
       "data": [
        {
         "type": "bar",
         "x": [
          "0.0",
          "1.0"
         ],
         "y": [
          82,
          13
         ]
        }
       ],
       "layout": {
        "annotations": [
         {
          "font": {
           "size": 19.5
          },
          "showarrow": false,
          "text": "82",
          "x": "0.0",
          "xanchor": "center",
          "y": 82,
          "yanchor": "bottom"
         },
         {
          "font": {
           "size": 19.5
          },
          "showarrow": false,
          "text": "13",
          "x": "1.0",
          "xanchor": "center",
          "y": 13,
          "yanchor": "bottom"
         },
         {
          "font": {
           "color": "yellow"
          },
          "showarrow": false,
          "text": "86.32%",
          "x": "0.0",
          "xanchor": "center",
          "y": 41,
          "yanchor": "center"
         },
         {
          "font": {
           "color": "yellow"
          },
          "showarrow": false,
          "text": "13.68%",
          "x": "1.0",
          "xanchor": "center",
          "y": 6.5,
          "yanchor": "center"
         }
        ],
        "title": "Rcuisine bar",
        "titlefont": {
         "size": 50
        },
        "xaxis": {
         "type": "category"
        },
        "yaxis": {
         "title": "count"
        }
       }
      },
      "text/html": [
       "<div id=\"5f96ca34-dea3-4e54-8174-d613114b8fc8\" style=\"height: 525px; width: 100%;\" class=\"plotly-graph-div\"></div><script type=\"text/javascript\">require([\"plotly\"], function(Plotly) { window.PLOTLYENV=window.PLOTLYENV || {};window.PLOTLYENV.BASE_URL=\"https://plot.ly\";Plotly.newPlot(\"5f96ca34-dea3-4e54-8174-d613114b8fc8\", [{\"type\": \"bar\", \"x\": [\"0.0\", \"1.0\"], \"y\": [82, 13]}], {\"title\": \"Rcuisine bar\", \"titlefont\": {\"size\": 50}, \"yaxis\": {\"title\": \"count\"}, \"xaxis\": {\"type\": \"category\"}, \"annotations\": [{\"x\": \"0.0\", \"y\": 82, \"showarrow\": false, \"font\": {\"size\": 19.5}, \"text\": \"82\", \"xanchor\": \"center\", \"yanchor\": \"bottom\"}, {\"x\": \"1.0\", \"y\": 13, \"showarrow\": false, \"font\": {\"size\": 19.5}, \"text\": \"13\", \"xanchor\": \"center\", \"yanchor\": \"bottom\"}, {\"x\": \"0.0\", \"y\": 41.0, \"showarrow\": false, \"text\": \"86.32%\", \"xanchor\": \"center\", \"yanchor\": \"center\", \"font\": {\"color\": \"yellow\"}}, {\"x\": \"1.0\", \"y\": 6.5, \"showarrow\": false, \"text\": \"13.68%\", \"xanchor\": \"center\", \"yanchor\": \"center\", \"font\": {\"color\": \"yellow\"}}]}, {\"showLink\": true, \"linkText\": \"Export to plot.ly\"})});</script>"
      ],
      "text/vnd.plotly.v1+html": [
       "<div id=\"5f96ca34-dea3-4e54-8174-d613114b8fc8\" style=\"height: 525px; width: 100%;\" class=\"plotly-graph-div\"></div><script type=\"text/javascript\">require([\"plotly\"], function(Plotly) { window.PLOTLYENV=window.PLOTLYENV || {};window.PLOTLYENV.BASE_URL=\"https://plot.ly\";Plotly.newPlot(\"5f96ca34-dea3-4e54-8174-d613114b8fc8\", [{\"type\": \"bar\", \"x\": [\"0.0\", \"1.0\"], \"y\": [82, 13]}], {\"title\": \"Rcuisine bar\", \"titlefont\": {\"size\": 50}, \"yaxis\": {\"title\": \"count\"}, \"xaxis\": {\"type\": \"category\"}, \"annotations\": [{\"x\": \"0.0\", \"y\": 82, \"showarrow\": false, \"font\": {\"size\": 19.5}, \"text\": \"82\", \"xanchor\": \"center\", \"yanchor\": \"bottom\"}, {\"x\": \"1.0\", \"y\": 13, \"showarrow\": false, \"font\": {\"size\": 19.5}, \"text\": \"13\", \"xanchor\": \"center\", \"yanchor\": \"bottom\"}, {\"x\": \"0.0\", \"y\": 41.0, \"showarrow\": false, \"text\": \"86.32%\", \"xanchor\": \"center\", \"yanchor\": \"center\", \"font\": {\"color\": \"yellow\"}}, {\"x\": \"1.0\", \"y\": 6.5, \"showarrow\": false, \"text\": \"13.68%\", \"xanchor\": \"center\", \"yanchor\": \"center\", \"font\": {\"color\": \"yellow\"}}]}, {\"showLink\": true, \"linkText\": \"Export to plot.ly\"})});</script>"
      ]
     },
     "metadata": {},
     "output_type": "display_data"
    },
    {
     "data": {
      "application/vnd.plotly.v1+json": {
       "data": [
        {
         "type": "bar",
         "x": [
          "0.0",
          "1.0"
         ],
         "y": [
          89,
          6
         ]
        }
       ],
       "layout": {
        "annotations": [
         {
          "font": {
           "size": 19.5
          },
          "showarrow": false,
          "text": "89",
          "x": "0.0",
          "xanchor": "center",
          "y": 89,
          "yanchor": "bottom"
         },
         {
          "font": {
           "size": 19.5
          },
          "showarrow": false,
          "text": "6",
          "x": "1.0",
          "xanchor": "center",
          "y": 6,
          "yanchor": "bottom"
         },
         {
          "font": {
           "color": "yellow"
          },
          "showarrow": false,
          "text": "93.68%",
          "x": "0.0",
          "xanchor": "center",
          "y": 44.5,
          "yanchor": "center"
         }
        ],
        "title": "Rcuisine bar pub brewery",
        "titlefont": {
         "size": 50
        },
        "xaxis": {
         "type": "category"
        },
        "yaxis": {
         "title": "count"
        }
       }
      },
      "text/html": [
       "<div id=\"77b8eee1-eae6-4231-9ba7-e5c5fab5a9f6\" style=\"height: 525px; width: 100%;\" class=\"plotly-graph-div\"></div><script type=\"text/javascript\">require([\"plotly\"], function(Plotly) { window.PLOTLYENV=window.PLOTLYENV || {};window.PLOTLYENV.BASE_URL=\"https://plot.ly\";Plotly.newPlot(\"77b8eee1-eae6-4231-9ba7-e5c5fab5a9f6\", [{\"type\": \"bar\", \"x\": [\"0.0\", \"1.0\"], \"y\": [89, 6]}], {\"title\": \"Rcuisine bar pub brewery\", \"titlefont\": {\"size\": 50}, \"yaxis\": {\"title\": \"count\"}, \"xaxis\": {\"type\": \"category\"}, \"annotations\": [{\"x\": \"0.0\", \"y\": 89, \"showarrow\": false, \"font\": {\"size\": 19.5}, \"text\": \"89\", \"xanchor\": \"center\", \"yanchor\": \"bottom\"}, {\"x\": \"1.0\", \"y\": 6, \"showarrow\": false, \"font\": {\"size\": 19.5}, \"text\": \"6\", \"xanchor\": \"center\", \"yanchor\": \"bottom\"}, {\"x\": \"0.0\", \"y\": 44.5, \"showarrow\": false, \"text\": \"93.68%\", \"xanchor\": \"center\", \"yanchor\": \"center\", \"font\": {\"color\": \"yellow\"}}]}, {\"showLink\": true, \"linkText\": \"Export to plot.ly\"})});</script>"
      ],
      "text/vnd.plotly.v1+html": [
       "<div id=\"77b8eee1-eae6-4231-9ba7-e5c5fab5a9f6\" style=\"height: 525px; width: 100%;\" class=\"plotly-graph-div\"></div><script type=\"text/javascript\">require([\"plotly\"], function(Plotly) { window.PLOTLYENV=window.PLOTLYENV || {};window.PLOTLYENV.BASE_URL=\"https://plot.ly\";Plotly.newPlot(\"77b8eee1-eae6-4231-9ba7-e5c5fab5a9f6\", [{\"type\": \"bar\", \"x\": [\"0.0\", \"1.0\"], \"y\": [89, 6]}], {\"title\": \"Rcuisine bar pub brewery\", \"titlefont\": {\"size\": 50}, \"yaxis\": {\"title\": \"count\"}, \"xaxis\": {\"type\": \"category\"}, \"annotations\": [{\"x\": \"0.0\", \"y\": 89, \"showarrow\": false, \"font\": {\"size\": 19.5}, \"text\": \"89\", \"xanchor\": \"center\", \"yanchor\": \"bottom\"}, {\"x\": \"1.0\", \"y\": 6, \"showarrow\": false, \"font\": {\"size\": 19.5}, \"text\": \"6\", \"xanchor\": \"center\", \"yanchor\": \"bottom\"}, {\"x\": \"0.0\", \"y\": 44.5, \"showarrow\": false, \"text\": \"93.68%\", \"xanchor\": \"center\", \"yanchor\": \"center\", \"font\": {\"color\": \"yellow\"}}]}, {\"showLink\": true, \"linkText\": \"Export to plot.ly\"})});</script>"
      ]
     },
     "metadata": {},
     "output_type": "display_data"
    },
    {
     "data": {
      "application/vnd.plotly.v1+json": {
       "data": [
        {
         "type": "bar",
         "x": [
          "0.0",
          "1.0"
         ],
         "y": [
          94,
          1
         ]
        }
       ],
       "layout": {
        "annotations": [
         {
          "font": {
           "size": 19.5
          },
          "showarrow": false,
          "text": "94",
          "x": "0.0",
          "xanchor": "center",
          "y": 94,
          "yanchor": "bottom"
         },
         {
          "font": {
           "size": 19.5
          },
          "showarrow": false,
          "text": "1",
          "x": "1.0",
          "xanchor": "center",
          "y": 1,
          "yanchor": "bottom"
         },
         {
          "font": {
           "color": "yellow"
          },
          "showarrow": false,
          "text": "98.95%",
          "x": "0.0",
          "xanchor": "center",
          "y": 47,
          "yanchor": "center"
         }
        ],
        "title": "Rcuisine breakfast-brunch",
        "titlefont": {
         "size": 50
        },
        "xaxis": {
         "type": "category"
        },
        "yaxis": {
         "title": "count"
        }
       }
      },
      "text/html": [
       "<div id=\"9483efc5-bec1-454c-84e3-6c4bb9d087bd\" style=\"height: 525px; width: 100%;\" class=\"plotly-graph-div\"></div><script type=\"text/javascript\">require([\"plotly\"], function(Plotly) { window.PLOTLYENV=window.PLOTLYENV || {};window.PLOTLYENV.BASE_URL=\"https://plot.ly\";Plotly.newPlot(\"9483efc5-bec1-454c-84e3-6c4bb9d087bd\", [{\"type\": \"bar\", \"x\": [\"0.0\", \"1.0\"], \"y\": [94, 1]}], {\"title\": \"Rcuisine breakfast-brunch\", \"titlefont\": {\"size\": 50}, \"yaxis\": {\"title\": \"count\"}, \"xaxis\": {\"type\": \"category\"}, \"annotations\": [{\"x\": \"0.0\", \"y\": 94, \"showarrow\": false, \"font\": {\"size\": 19.5}, \"text\": \"94\", \"xanchor\": \"center\", \"yanchor\": \"bottom\"}, {\"x\": \"1.0\", \"y\": 1, \"showarrow\": false, \"font\": {\"size\": 19.5}, \"text\": \"1\", \"xanchor\": \"center\", \"yanchor\": \"bottom\"}, {\"x\": \"0.0\", \"y\": 47.0, \"showarrow\": false, \"text\": \"98.95%\", \"xanchor\": \"center\", \"yanchor\": \"center\", \"font\": {\"color\": \"yellow\"}}]}, {\"showLink\": true, \"linkText\": \"Export to plot.ly\"})});</script>"
      ],
      "text/vnd.plotly.v1+html": [
       "<div id=\"9483efc5-bec1-454c-84e3-6c4bb9d087bd\" style=\"height: 525px; width: 100%;\" class=\"plotly-graph-div\"></div><script type=\"text/javascript\">require([\"plotly\"], function(Plotly) { window.PLOTLYENV=window.PLOTLYENV || {};window.PLOTLYENV.BASE_URL=\"https://plot.ly\";Plotly.newPlot(\"9483efc5-bec1-454c-84e3-6c4bb9d087bd\", [{\"type\": \"bar\", \"x\": [\"0.0\", \"1.0\"], \"y\": [94, 1]}], {\"title\": \"Rcuisine breakfast-brunch\", \"titlefont\": {\"size\": 50}, \"yaxis\": {\"title\": \"count\"}, \"xaxis\": {\"type\": \"category\"}, \"annotations\": [{\"x\": \"0.0\", \"y\": 94, \"showarrow\": false, \"font\": {\"size\": 19.5}, \"text\": \"94\", \"xanchor\": \"center\", \"yanchor\": \"bottom\"}, {\"x\": \"1.0\", \"y\": 1, \"showarrow\": false, \"font\": {\"size\": 19.5}, \"text\": \"1\", \"xanchor\": \"center\", \"yanchor\": \"bottom\"}, {\"x\": \"0.0\", \"y\": 47.0, \"showarrow\": false, \"text\": \"98.95%\", \"xanchor\": \"center\", \"yanchor\": \"center\", \"font\": {\"color\": \"yellow\"}}]}, {\"showLink\": true, \"linkText\": \"Export to plot.ly\"})});</script>"
      ]
     },
     "metadata": {},
     "output_type": "display_data"
    },
    {
     "data": {
      "application/vnd.plotly.v1+json": {
       "data": [
        {
         "type": "bar",
         "x": [
          "0.0",
          "1.0"
         ],
         "y": [
          90,
          5
         ]
        }
       ],
       "layout": {
        "annotations": [
         {
          "font": {
           "size": 19.5
          },
          "showarrow": false,
          "text": "90",
          "x": "0.0",
          "xanchor": "center",
          "y": 90,
          "yanchor": "bottom"
         },
         {
          "font": {
           "size": 19.5
          },
          "showarrow": false,
          "text": "5",
          "x": "1.0",
          "xanchor": "center",
          "y": 5,
          "yanchor": "bottom"
         },
         {
          "font": {
           "color": "yellow"
          },
          "showarrow": false,
          "text": "94.74%",
          "x": "0.0",
          "xanchor": "center",
          "y": 45,
          "yanchor": "center"
         }
        ],
        "title": "Rcuisine burgers",
        "titlefont": {
         "size": 50
        },
        "xaxis": {
         "type": "category"
        },
        "yaxis": {
         "title": "count"
        }
       }
      },
      "text/html": [
       "<div id=\"3d595583-56a7-4527-8c0e-9be95b736a2d\" style=\"height: 525px; width: 100%;\" class=\"plotly-graph-div\"></div><script type=\"text/javascript\">require([\"plotly\"], function(Plotly) { window.PLOTLYENV=window.PLOTLYENV || {};window.PLOTLYENV.BASE_URL=\"https://plot.ly\";Plotly.newPlot(\"3d595583-56a7-4527-8c0e-9be95b736a2d\", [{\"type\": \"bar\", \"x\": [\"0.0\", \"1.0\"], \"y\": [90, 5]}], {\"title\": \"Rcuisine burgers\", \"titlefont\": {\"size\": 50}, \"yaxis\": {\"title\": \"count\"}, \"xaxis\": {\"type\": \"category\"}, \"annotations\": [{\"x\": \"0.0\", \"y\": 90, \"showarrow\": false, \"font\": {\"size\": 19.5}, \"text\": \"90\", \"xanchor\": \"center\", \"yanchor\": \"bottom\"}, {\"x\": \"1.0\", \"y\": 5, \"showarrow\": false, \"font\": {\"size\": 19.5}, \"text\": \"5\", \"xanchor\": \"center\", \"yanchor\": \"bottom\"}, {\"x\": \"0.0\", \"y\": 45.0, \"showarrow\": false, \"text\": \"94.74%\", \"xanchor\": \"center\", \"yanchor\": \"center\", \"font\": {\"color\": \"yellow\"}}]}, {\"showLink\": true, \"linkText\": \"Export to plot.ly\"})});</script>"
      ],
      "text/vnd.plotly.v1+html": [
       "<div id=\"3d595583-56a7-4527-8c0e-9be95b736a2d\" style=\"height: 525px; width: 100%;\" class=\"plotly-graph-div\"></div><script type=\"text/javascript\">require([\"plotly\"], function(Plotly) { window.PLOTLYENV=window.PLOTLYENV || {};window.PLOTLYENV.BASE_URL=\"https://plot.ly\";Plotly.newPlot(\"3d595583-56a7-4527-8c0e-9be95b736a2d\", [{\"type\": \"bar\", \"x\": [\"0.0\", \"1.0\"], \"y\": [90, 5]}], {\"title\": \"Rcuisine burgers\", \"titlefont\": {\"size\": 50}, \"yaxis\": {\"title\": \"count\"}, \"xaxis\": {\"type\": \"category\"}, \"annotations\": [{\"x\": \"0.0\", \"y\": 90, \"showarrow\": false, \"font\": {\"size\": 19.5}, \"text\": \"90\", \"xanchor\": \"center\", \"yanchor\": \"bottom\"}, {\"x\": \"1.0\", \"y\": 5, \"showarrow\": false, \"font\": {\"size\": 19.5}, \"text\": \"5\", \"xanchor\": \"center\", \"yanchor\": \"bottom\"}, {\"x\": \"0.0\", \"y\": 45.0, \"showarrow\": false, \"text\": \"94.74%\", \"xanchor\": \"center\", \"yanchor\": \"center\", \"font\": {\"color\": \"yellow\"}}]}, {\"showLink\": true, \"linkText\": \"Export to plot.ly\"})});</script>"
      ]
     },
     "metadata": {},
     "output_type": "display_data"
    },
    {
     "data": {
      "application/vnd.plotly.v1+json": {
       "data": [
        {
         "type": "bar",
         "x": [
          "0.0",
          "1.0"
         ],
         "y": [
          94,
          1
         ]
        }
       ],
       "layout": {
        "annotations": [
         {
          "font": {
           "size": 19.5
          },
          "showarrow": false,
          "text": "94",
          "x": "0.0",
          "xanchor": "center",
          "y": 94,
          "yanchor": "bottom"
         },
         {
          "font": {
           "size": 19.5
          },
          "showarrow": false,
          "text": "1",
          "x": "1.0",
          "xanchor": "center",
          "y": 1,
          "yanchor": "bottom"
         },
         {
          "font": {
           "color": "yellow"
          },
          "showarrow": false,
          "text": "98.95%",
          "x": "0.0",
          "xanchor": "center",
          "y": 47,
          "yanchor": "center"
         }
        ],
        "title": "Rcuisine cafe-coffee shop",
        "titlefont": {
         "size": 50
        },
        "xaxis": {
         "type": "category"
        },
        "yaxis": {
         "title": "count"
        }
       }
      },
      "text/html": [
       "<div id=\"c29f2669-68ea-4598-91cd-eec840674d1b\" style=\"height: 525px; width: 100%;\" class=\"plotly-graph-div\"></div><script type=\"text/javascript\">require([\"plotly\"], function(Plotly) { window.PLOTLYENV=window.PLOTLYENV || {};window.PLOTLYENV.BASE_URL=\"https://plot.ly\";Plotly.newPlot(\"c29f2669-68ea-4598-91cd-eec840674d1b\", [{\"type\": \"bar\", \"x\": [\"0.0\", \"1.0\"], \"y\": [94, 1]}], {\"title\": \"Rcuisine cafe-coffee shop\", \"titlefont\": {\"size\": 50}, \"yaxis\": {\"title\": \"count\"}, \"xaxis\": {\"type\": \"category\"}, \"annotations\": [{\"x\": \"0.0\", \"y\": 94, \"showarrow\": false, \"font\": {\"size\": 19.5}, \"text\": \"94\", \"xanchor\": \"center\", \"yanchor\": \"bottom\"}, {\"x\": \"1.0\", \"y\": 1, \"showarrow\": false, \"font\": {\"size\": 19.5}, \"text\": \"1\", \"xanchor\": \"center\", \"yanchor\": \"bottom\"}, {\"x\": \"0.0\", \"y\": 47.0, \"showarrow\": false, \"text\": \"98.95%\", \"xanchor\": \"center\", \"yanchor\": \"center\", \"font\": {\"color\": \"yellow\"}}]}, {\"showLink\": true, \"linkText\": \"Export to plot.ly\"})});</script>"
      ],
      "text/vnd.plotly.v1+html": [
       "<div id=\"c29f2669-68ea-4598-91cd-eec840674d1b\" style=\"height: 525px; width: 100%;\" class=\"plotly-graph-div\"></div><script type=\"text/javascript\">require([\"plotly\"], function(Plotly) { window.PLOTLYENV=window.PLOTLYENV || {};window.PLOTLYENV.BASE_URL=\"https://plot.ly\";Plotly.newPlot(\"c29f2669-68ea-4598-91cd-eec840674d1b\", [{\"type\": \"bar\", \"x\": [\"0.0\", \"1.0\"], \"y\": [94, 1]}], {\"title\": \"Rcuisine cafe-coffee shop\", \"titlefont\": {\"size\": 50}, \"yaxis\": {\"title\": \"count\"}, \"xaxis\": {\"type\": \"category\"}, \"annotations\": [{\"x\": \"0.0\", \"y\": 94, \"showarrow\": false, \"font\": {\"size\": 19.5}, \"text\": \"94\", \"xanchor\": \"center\", \"yanchor\": \"bottom\"}, {\"x\": \"1.0\", \"y\": 1, \"showarrow\": false, \"font\": {\"size\": 19.5}, \"text\": \"1\", \"xanchor\": \"center\", \"yanchor\": \"bottom\"}, {\"x\": \"0.0\", \"y\": 47.0, \"showarrow\": false, \"text\": \"98.95%\", \"xanchor\": \"center\", \"yanchor\": \"center\", \"font\": {\"color\": \"yellow\"}}]}, {\"showLink\": true, \"linkText\": \"Export to plot.ly\"})});</script>"
      ]
     },
     "metadata": {},
     "output_type": "display_data"
    },
    {
     "data": {
      "application/vnd.plotly.v1+json": {
       "data": [
        {
         "type": "bar",
         "x": [
          "0.0",
          "1.0"
         ],
         "y": [
          86,
          9
         ]
        }
       ],
       "layout": {
        "annotations": [
         {
          "font": {
           "size": 19.5
          },
          "showarrow": false,
          "text": "86",
          "x": "0.0",
          "xanchor": "center",
          "y": 86,
          "yanchor": "bottom"
         },
         {
          "font": {
           "size": 19.5
          },
          "showarrow": false,
          "text": "9",
          "x": "1.0",
          "xanchor": "center",
          "y": 9,
          "yanchor": "bottom"
         },
         {
          "font": {
           "color": "yellow"
          },
          "showarrow": false,
          "text": "90.53%",
          "x": "0.0",
          "xanchor": "center",
          "y": 43,
          "yanchor": "center"
         }
        ],
        "title": "Rcuisine cafeteria",
        "titlefont": {
         "size": 50
        },
        "xaxis": {
         "type": "category"
        },
        "yaxis": {
         "title": "count"
        }
       }
      },
      "text/html": [
       "<div id=\"fb37a760-e11a-4ce7-9aeb-b2917a3dedda\" style=\"height: 525px; width: 100%;\" class=\"plotly-graph-div\"></div><script type=\"text/javascript\">require([\"plotly\"], function(Plotly) { window.PLOTLYENV=window.PLOTLYENV || {};window.PLOTLYENV.BASE_URL=\"https://plot.ly\";Plotly.newPlot(\"fb37a760-e11a-4ce7-9aeb-b2917a3dedda\", [{\"type\": \"bar\", \"x\": [\"0.0\", \"1.0\"], \"y\": [86, 9]}], {\"title\": \"Rcuisine cafeteria\", \"titlefont\": {\"size\": 50}, \"yaxis\": {\"title\": \"count\"}, \"xaxis\": {\"type\": \"category\"}, \"annotations\": [{\"x\": \"0.0\", \"y\": 86, \"showarrow\": false, \"font\": {\"size\": 19.5}, \"text\": \"86\", \"xanchor\": \"center\", \"yanchor\": \"bottom\"}, {\"x\": \"1.0\", \"y\": 9, \"showarrow\": false, \"font\": {\"size\": 19.5}, \"text\": \"9\", \"xanchor\": \"center\", \"yanchor\": \"bottom\"}, {\"x\": \"0.0\", \"y\": 43.0, \"showarrow\": false, \"text\": \"90.53%\", \"xanchor\": \"center\", \"yanchor\": \"center\", \"font\": {\"color\": \"yellow\"}}]}, {\"showLink\": true, \"linkText\": \"Export to plot.ly\"})});</script>"
      ],
      "text/vnd.plotly.v1+html": [
       "<div id=\"fb37a760-e11a-4ce7-9aeb-b2917a3dedda\" style=\"height: 525px; width: 100%;\" class=\"plotly-graph-div\"></div><script type=\"text/javascript\">require([\"plotly\"], function(Plotly) { window.PLOTLYENV=window.PLOTLYENV || {};window.PLOTLYENV.BASE_URL=\"https://plot.ly\";Plotly.newPlot(\"fb37a760-e11a-4ce7-9aeb-b2917a3dedda\", [{\"type\": \"bar\", \"x\": [\"0.0\", \"1.0\"], \"y\": [86, 9]}], {\"title\": \"Rcuisine cafeteria\", \"titlefont\": {\"size\": 50}, \"yaxis\": {\"title\": \"count\"}, \"xaxis\": {\"type\": \"category\"}, \"annotations\": [{\"x\": \"0.0\", \"y\": 86, \"showarrow\": false, \"font\": {\"size\": 19.5}, \"text\": \"86\", \"xanchor\": \"center\", \"yanchor\": \"bottom\"}, {\"x\": \"1.0\", \"y\": 9, \"showarrow\": false, \"font\": {\"size\": 19.5}, \"text\": \"9\", \"xanchor\": \"center\", \"yanchor\": \"bottom\"}, {\"x\": \"0.0\", \"y\": 43.0, \"showarrow\": false, \"text\": \"90.53%\", \"xanchor\": \"center\", \"yanchor\": \"center\", \"font\": {\"color\": \"yellow\"}}]}, {\"showLink\": true, \"linkText\": \"Export to plot.ly\"})});</script>"
      ]
     },
     "metadata": {},
     "output_type": "display_data"
    },
    {
     "data": {
      "application/vnd.plotly.v1+json": {
       "data": [
        {
         "type": "bar",
         "x": [
          "0.0",
          "1.0"
         ],
         "y": [
          92,
          3
         ]
        }
       ],
       "layout": {
        "annotations": [
         {
          "font": {
           "size": 19.5
          },
          "showarrow": false,
          "text": "92",
          "x": "0.0",
          "xanchor": "center",
          "y": 92,
          "yanchor": "bottom"
         },
         {
          "font": {
           "size": 19.5
          },
          "showarrow": false,
          "text": "3",
          "x": "1.0",
          "xanchor": "center",
          "y": 3,
          "yanchor": "bottom"
         },
         {
          "font": {
           "color": "yellow"
          },
          "showarrow": false,
          "text": "96.84%",
          "x": "0.0",
          "xanchor": "center",
          "y": 46,
          "yanchor": "center"
         }
        ],
        "title": "Rcuisine chinese",
        "titlefont": {
         "size": 50
        },
        "xaxis": {
         "type": "category"
        },
        "yaxis": {
         "title": "count"
        }
       }
      },
      "text/html": [
       "<div id=\"ed84c2b5-1f0e-4bae-83c5-f652b0b3b288\" style=\"height: 525px; width: 100%;\" class=\"plotly-graph-div\"></div><script type=\"text/javascript\">require([\"plotly\"], function(Plotly) { window.PLOTLYENV=window.PLOTLYENV || {};window.PLOTLYENV.BASE_URL=\"https://plot.ly\";Plotly.newPlot(\"ed84c2b5-1f0e-4bae-83c5-f652b0b3b288\", [{\"type\": \"bar\", \"x\": [\"0.0\", \"1.0\"], \"y\": [92, 3]}], {\"title\": \"Rcuisine chinese\", \"titlefont\": {\"size\": 50}, \"yaxis\": {\"title\": \"count\"}, \"xaxis\": {\"type\": \"category\"}, \"annotations\": [{\"x\": \"0.0\", \"y\": 92, \"showarrow\": false, \"font\": {\"size\": 19.5}, \"text\": \"92\", \"xanchor\": \"center\", \"yanchor\": \"bottom\"}, {\"x\": \"1.0\", \"y\": 3, \"showarrow\": false, \"font\": {\"size\": 19.5}, \"text\": \"3\", \"xanchor\": \"center\", \"yanchor\": \"bottom\"}, {\"x\": \"0.0\", \"y\": 46.0, \"showarrow\": false, \"text\": \"96.84%\", \"xanchor\": \"center\", \"yanchor\": \"center\", \"font\": {\"color\": \"yellow\"}}]}, {\"showLink\": true, \"linkText\": \"Export to plot.ly\"})});</script>"
      ],
      "text/vnd.plotly.v1+html": [
       "<div id=\"ed84c2b5-1f0e-4bae-83c5-f652b0b3b288\" style=\"height: 525px; width: 100%;\" class=\"plotly-graph-div\"></div><script type=\"text/javascript\">require([\"plotly\"], function(Plotly) { window.PLOTLYENV=window.PLOTLYENV || {};window.PLOTLYENV.BASE_URL=\"https://plot.ly\";Plotly.newPlot(\"ed84c2b5-1f0e-4bae-83c5-f652b0b3b288\", [{\"type\": \"bar\", \"x\": [\"0.0\", \"1.0\"], \"y\": [92, 3]}], {\"title\": \"Rcuisine chinese\", \"titlefont\": {\"size\": 50}, \"yaxis\": {\"title\": \"count\"}, \"xaxis\": {\"type\": \"category\"}, \"annotations\": [{\"x\": \"0.0\", \"y\": 92, \"showarrow\": false, \"font\": {\"size\": 19.5}, \"text\": \"92\", \"xanchor\": \"center\", \"yanchor\": \"bottom\"}, {\"x\": \"1.0\", \"y\": 3, \"showarrow\": false, \"font\": {\"size\": 19.5}, \"text\": \"3\", \"xanchor\": \"center\", \"yanchor\": \"bottom\"}, {\"x\": \"0.0\", \"y\": 46.0, \"showarrow\": false, \"text\": \"96.84%\", \"xanchor\": \"center\", \"yanchor\": \"center\", \"font\": {\"color\": \"yellow\"}}]}, {\"showLink\": true, \"linkText\": \"Export to plot.ly\"})});</script>"
      ]
     },
     "metadata": {},
     "output_type": "display_data"
    },
    {
     "data": {
      "application/vnd.plotly.v1+json": {
       "data": [
        {
         "type": "bar",
         "x": [
          "0.0",
          "1.0"
         ],
         "y": [
          93,
          2
         ]
        }
       ],
       "layout": {
        "annotations": [
         {
          "font": {
           "size": 19.5
          },
          "showarrow": false,
          "text": "93",
          "x": "0.0",
          "xanchor": "center",
          "y": 93,
          "yanchor": "bottom"
         },
         {
          "font": {
           "size": 19.5
          },
          "showarrow": false,
          "text": "2",
          "x": "1.0",
          "xanchor": "center",
          "y": 2,
          "yanchor": "bottom"
         },
         {
          "font": {
           "color": "yellow"
          },
          "showarrow": false,
          "text": "97.89%",
          "x": "0.0",
          "xanchor": "center",
          "y": 46.5,
          "yanchor": "center"
         }
        ],
        "title": "Rcuisine contemporary",
        "titlefont": {
         "size": 50
        },
        "xaxis": {
         "type": "category"
        },
        "yaxis": {
         "title": "count"
        }
       }
      },
      "text/html": [
       "<div id=\"00e6d2d8-6b52-473e-aef0-989ab9c8d552\" style=\"height: 525px; width: 100%;\" class=\"plotly-graph-div\"></div><script type=\"text/javascript\">require([\"plotly\"], function(Plotly) { window.PLOTLYENV=window.PLOTLYENV || {};window.PLOTLYENV.BASE_URL=\"https://plot.ly\";Plotly.newPlot(\"00e6d2d8-6b52-473e-aef0-989ab9c8d552\", [{\"type\": \"bar\", \"x\": [\"0.0\", \"1.0\"], \"y\": [93, 2]}], {\"title\": \"Rcuisine contemporary\", \"titlefont\": {\"size\": 50}, \"yaxis\": {\"title\": \"count\"}, \"xaxis\": {\"type\": \"category\"}, \"annotations\": [{\"x\": \"0.0\", \"y\": 93, \"showarrow\": false, \"font\": {\"size\": 19.5}, \"text\": \"93\", \"xanchor\": \"center\", \"yanchor\": \"bottom\"}, {\"x\": \"1.0\", \"y\": 2, \"showarrow\": false, \"font\": {\"size\": 19.5}, \"text\": \"2\", \"xanchor\": \"center\", \"yanchor\": \"bottom\"}, {\"x\": \"0.0\", \"y\": 46.5, \"showarrow\": false, \"text\": \"97.89%\", \"xanchor\": \"center\", \"yanchor\": \"center\", \"font\": {\"color\": \"yellow\"}}]}, {\"showLink\": true, \"linkText\": \"Export to plot.ly\"})});</script>"
      ],
      "text/vnd.plotly.v1+html": [
       "<div id=\"00e6d2d8-6b52-473e-aef0-989ab9c8d552\" style=\"height: 525px; width: 100%;\" class=\"plotly-graph-div\"></div><script type=\"text/javascript\">require([\"plotly\"], function(Plotly) { window.PLOTLYENV=window.PLOTLYENV || {};window.PLOTLYENV.BASE_URL=\"https://plot.ly\";Plotly.newPlot(\"00e6d2d8-6b52-473e-aef0-989ab9c8d552\", [{\"type\": \"bar\", \"x\": [\"0.0\", \"1.0\"], \"y\": [93, 2]}], {\"title\": \"Rcuisine contemporary\", \"titlefont\": {\"size\": 50}, \"yaxis\": {\"title\": \"count\"}, \"xaxis\": {\"type\": \"category\"}, \"annotations\": [{\"x\": \"0.0\", \"y\": 93, \"showarrow\": false, \"font\": {\"size\": 19.5}, \"text\": \"93\", \"xanchor\": \"center\", \"yanchor\": \"bottom\"}, {\"x\": \"1.0\", \"y\": 2, \"showarrow\": false, \"font\": {\"size\": 19.5}, \"text\": \"2\", \"xanchor\": \"center\", \"yanchor\": \"bottom\"}, {\"x\": \"0.0\", \"y\": 46.5, \"showarrow\": false, \"text\": \"97.89%\", \"xanchor\": \"center\", \"yanchor\": \"center\", \"font\": {\"color\": \"yellow\"}}]}, {\"showLink\": true, \"linkText\": \"Export to plot.ly\"})});</script>"
      ]
     },
     "metadata": {},
     "output_type": "display_data"
    },
    {
     "data": {
      "application/vnd.plotly.v1+json": {
       "data": [
        {
         "type": "bar",
         "x": [
          "0.0",
          "1.0"
         ],
         "y": [
          93,
          2
         ]
        }
       ],
       "layout": {
        "annotations": [
         {
          "font": {
           "size": 19.5
          },
          "showarrow": false,
          "text": "93",
          "x": "0.0",
          "xanchor": "center",
          "y": 93,
          "yanchor": "bottom"
         },
         {
          "font": {
           "size": 19.5
          },
          "showarrow": false,
          "text": "2",
          "x": "1.0",
          "xanchor": "center",
          "y": 2,
          "yanchor": "bottom"
         },
         {
          "font": {
           "color": "yellow"
          },
          "showarrow": false,
          "text": "97.89%",
          "x": "0.0",
          "xanchor": "center",
          "y": 46.5,
          "yanchor": "center"
         }
        ],
        "title": "Rcuisine family",
        "titlefont": {
         "size": 50
        },
        "xaxis": {
         "type": "category"
        },
        "yaxis": {
         "title": "count"
        }
       }
      },
      "text/html": [
       "<div id=\"5847dc1c-2410-4c4f-b887-e2c08c9f6dbe\" style=\"height: 525px; width: 100%;\" class=\"plotly-graph-div\"></div><script type=\"text/javascript\">require([\"plotly\"], function(Plotly) { window.PLOTLYENV=window.PLOTLYENV || {};window.PLOTLYENV.BASE_URL=\"https://plot.ly\";Plotly.newPlot(\"5847dc1c-2410-4c4f-b887-e2c08c9f6dbe\", [{\"type\": \"bar\", \"x\": [\"0.0\", \"1.0\"], \"y\": [93, 2]}], {\"title\": \"Rcuisine family\", \"titlefont\": {\"size\": 50}, \"yaxis\": {\"title\": \"count\"}, \"xaxis\": {\"type\": \"category\"}, \"annotations\": [{\"x\": \"0.0\", \"y\": 93, \"showarrow\": false, \"font\": {\"size\": 19.5}, \"text\": \"93\", \"xanchor\": \"center\", \"yanchor\": \"bottom\"}, {\"x\": \"1.0\", \"y\": 2, \"showarrow\": false, \"font\": {\"size\": 19.5}, \"text\": \"2\", \"xanchor\": \"center\", \"yanchor\": \"bottom\"}, {\"x\": \"0.0\", \"y\": 46.5, \"showarrow\": false, \"text\": \"97.89%\", \"xanchor\": \"center\", \"yanchor\": \"center\", \"font\": {\"color\": \"yellow\"}}]}, {\"showLink\": true, \"linkText\": \"Export to plot.ly\"})});</script>"
      ],
      "text/vnd.plotly.v1+html": [
       "<div id=\"5847dc1c-2410-4c4f-b887-e2c08c9f6dbe\" style=\"height: 525px; width: 100%;\" class=\"plotly-graph-div\"></div><script type=\"text/javascript\">require([\"plotly\"], function(Plotly) { window.PLOTLYENV=window.PLOTLYENV || {};window.PLOTLYENV.BASE_URL=\"https://plot.ly\";Plotly.newPlot(\"5847dc1c-2410-4c4f-b887-e2c08c9f6dbe\", [{\"type\": \"bar\", \"x\": [\"0.0\", \"1.0\"], \"y\": [93, 2]}], {\"title\": \"Rcuisine family\", \"titlefont\": {\"size\": 50}, \"yaxis\": {\"title\": \"count\"}, \"xaxis\": {\"type\": \"category\"}, \"annotations\": [{\"x\": \"0.0\", \"y\": 93, \"showarrow\": false, \"font\": {\"size\": 19.5}, \"text\": \"93\", \"xanchor\": \"center\", \"yanchor\": \"bottom\"}, {\"x\": \"1.0\", \"y\": 2, \"showarrow\": false, \"font\": {\"size\": 19.5}, \"text\": \"2\", \"xanchor\": \"center\", \"yanchor\": \"bottom\"}, {\"x\": \"0.0\", \"y\": 46.5, \"showarrow\": false, \"text\": \"97.89%\", \"xanchor\": \"center\", \"yanchor\": \"center\", \"font\": {\"color\": \"yellow\"}}]}, {\"showLink\": true, \"linkText\": \"Export to plot.ly\"})});</script>"
      ]
     },
     "metadata": {},
     "output_type": "display_data"
    },
    {
     "data": {
      "application/vnd.plotly.v1+json": {
       "data": [
        {
         "type": "bar",
         "x": [
          "0.0",
          "1.0"
         ],
         "y": [
          87,
          8
         ]
        }
       ],
       "layout": {
        "annotations": [
         {
          "font": {
           "size": 19.5
          },
          "showarrow": false,
          "text": "87",
          "x": "0.0",
          "xanchor": "center",
          "y": 87,
          "yanchor": "bottom"
         },
         {
          "font": {
           "size": 19.5
          },
          "showarrow": false,
          "text": "8",
          "x": "1.0",
          "xanchor": "center",
          "y": 8,
          "yanchor": "bottom"
         },
         {
          "font": {
           "color": "yellow"
          },
          "showarrow": false,
          "text": "91.58%",
          "x": "0.0",
          "xanchor": "center",
          "y": 43.5,
          "yanchor": "center"
         }
        ],
        "title": "Rcuisine fast food",
        "titlefont": {
         "size": 50
        },
        "xaxis": {
         "type": "category"
        },
        "yaxis": {
         "title": "count"
        }
       }
      },
      "text/html": [
       "<div id=\"e1b502fc-ae63-4c7e-8f17-c8d630771228\" style=\"height: 525px; width: 100%;\" class=\"plotly-graph-div\"></div><script type=\"text/javascript\">require([\"plotly\"], function(Plotly) { window.PLOTLYENV=window.PLOTLYENV || {};window.PLOTLYENV.BASE_URL=\"https://plot.ly\";Plotly.newPlot(\"e1b502fc-ae63-4c7e-8f17-c8d630771228\", [{\"type\": \"bar\", \"x\": [\"0.0\", \"1.0\"], \"y\": [87, 8]}], {\"title\": \"Rcuisine fast food\", \"titlefont\": {\"size\": 50}, \"yaxis\": {\"title\": \"count\"}, \"xaxis\": {\"type\": \"category\"}, \"annotations\": [{\"x\": \"0.0\", \"y\": 87, \"showarrow\": false, \"font\": {\"size\": 19.5}, \"text\": \"87\", \"xanchor\": \"center\", \"yanchor\": \"bottom\"}, {\"x\": \"1.0\", \"y\": 8, \"showarrow\": false, \"font\": {\"size\": 19.5}, \"text\": \"8\", \"xanchor\": \"center\", \"yanchor\": \"bottom\"}, {\"x\": \"0.0\", \"y\": 43.5, \"showarrow\": false, \"text\": \"91.58%\", \"xanchor\": \"center\", \"yanchor\": \"center\", \"font\": {\"color\": \"yellow\"}}]}, {\"showLink\": true, \"linkText\": \"Export to plot.ly\"})});</script>"
      ],
      "text/vnd.plotly.v1+html": [
       "<div id=\"e1b502fc-ae63-4c7e-8f17-c8d630771228\" style=\"height: 525px; width: 100%;\" class=\"plotly-graph-div\"></div><script type=\"text/javascript\">require([\"plotly\"], function(Plotly) { window.PLOTLYENV=window.PLOTLYENV || {};window.PLOTLYENV.BASE_URL=\"https://plot.ly\";Plotly.newPlot(\"e1b502fc-ae63-4c7e-8f17-c8d630771228\", [{\"type\": \"bar\", \"x\": [\"0.0\", \"1.0\"], \"y\": [87, 8]}], {\"title\": \"Rcuisine fast food\", \"titlefont\": {\"size\": 50}, \"yaxis\": {\"title\": \"count\"}, \"xaxis\": {\"type\": \"category\"}, \"annotations\": [{\"x\": \"0.0\", \"y\": 87, \"showarrow\": false, \"font\": {\"size\": 19.5}, \"text\": \"87\", \"xanchor\": \"center\", \"yanchor\": \"bottom\"}, {\"x\": \"1.0\", \"y\": 8, \"showarrow\": false, \"font\": {\"size\": 19.5}, \"text\": \"8\", \"xanchor\": \"center\", \"yanchor\": \"bottom\"}, {\"x\": \"0.0\", \"y\": 43.5, \"showarrow\": false, \"text\": \"91.58%\", \"xanchor\": \"center\", \"yanchor\": \"center\", \"font\": {\"color\": \"yellow\"}}]}, {\"showLink\": true, \"linkText\": \"Export to plot.ly\"})});</script>"
      ]
     },
     "metadata": {},
     "output_type": "display_data"
    },
    {
     "data": {
      "application/vnd.plotly.v1+json": {
       "data": [
        {
         "type": "bar",
         "x": [
          "0.0",
          "1.0"
         ],
         "y": [
          94,
          1
         ]
        }
       ],
       "layout": {
        "annotations": [
         {
          "font": {
           "size": 19.5
          },
          "showarrow": false,
          "text": "94",
          "x": "0.0",
          "xanchor": "center",
          "y": 94,
          "yanchor": "bottom"
         },
         {
          "font": {
           "size": 19.5
          },
          "showarrow": false,
          "text": "1",
          "x": "1.0",
          "xanchor": "center",
          "y": 1,
          "yanchor": "bottom"
         },
         {
          "font": {
           "color": "yellow"
          },
          "showarrow": false,
          "text": "98.95%",
          "x": "0.0",
          "xanchor": "center",
          "y": 47,
          "yanchor": "center"
         }
        ],
        "title": "Rcuisine game",
        "titlefont": {
         "size": 50
        },
        "xaxis": {
         "type": "category"
        },
        "yaxis": {
         "title": "count"
        }
       }
      },
      "text/html": [
       "<div id=\"585c27dd-8acc-42d9-ab29-bdc5fee8b92e\" style=\"height: 525px; width: 100%;\" class=\"plotly-graph-div\"></div><script type=\"text/javascript\">require([\"plotly\"], function(Plotly) { window.PLOTLYENV=window.PLOTLYENV || {};window.PLOTLYENV.BASE_URL=\"https://plot.ly\";Plotly.newPlot(\"585c27dd-8acc-42d9-ab29-bdc5fee8b92e\", [{\"type\": \"bar\", \"x\": [\"0.0\", \"1.0\"], \"y\": [94, 1]}], {\"title\": \"Rcuisine game\", \"titlefont\": {\"size\": 50}, \"yaxis\": {\"title\": \"count\"}, \"xaxis\": {\"type\": \"category\"}, \"annotations\": [{\"x\": \"0.0\", \"y\": 94, \"showarrow\": false, \"font\": {\"size\": 19.5}, \"text\": \"94\", \"xanchor\": \"center\", \"yanchor\": \"bottom\"}, {\"x\": \"1.0\", \"y\": 1, \"showarrow\": false, \"font\": {\"size\": 19.5}, \"text\": \"1\", \"xanchor\": \"center\", \"yanchor\": \"bottom\"}, {\"x\": \"0.0\", \"y\": 47.0, \"showarrow\": false, \"text\": \"98.95%\", \"xanchor\": \"center\", \"yanchor\": \"center\", \"font\": {\"color\": \"yellow\"}}]}, {\"showLink\": true, \"linkText\": \"Export to plot.ly\"})});</script>"
      ],
      "text/vnd.plotly.v1+html": [
       "<div id=\"585c27dd-8acc-42d9-ab29-bdc5fee8b92e\" style=\"height: 525px; width: 100%;\" class=\"plotly-graph-div\"></div><script type=\"text/javascript\">require([\"plotly\"], function(Plotly) { window.PLOTLYENV=window.PLOTLYENV || {};window.PLOTLYENV.BASE_URL=\"https://plot.ly\";Plotly.newPlot(\"585c27dd-8acc-42d9-ab29-bdc5fee8b92e\", [{\"type\": \"bar\", \"x\": [\"0.0\", \"1.0\"], \"y\": [94, 1]}], {\"title\": \"Rcuisine game\", \"titlefont\": {\"size\": 50}, \"yaxis\": {\"title\": \"count\"}, \"xaxis\": {\"type\": \"category\"}, \"annotations\": [{\"x\": \"0.0\", \"y\": 94, \"showarrow\": false, \"font\": {\"size\": 19.5}, \"text\": \"94\", \"xanchor\": \"center\", \"yanchor\": \"bottom\"}, {\"x\": \"1.0\", \"y\": 1, \"showarrow\": false, \"font\": {\"size\": 19.5}, \"text\": \"1\", \"xanchor\": \"center\", \"yanchor\": \"bottom\"}, {\"x\": \"0.0\", \"y\": 47.0, \"showarrow\": false, \"text\": \"98.95%\", \"xanchor\": \"center\", \"yanchor\": \"center\", \"font\": {\"color\": \"yellow\"}}]}, {\"showLink\": true, \"linkText\": \"Export to plot.ly\"})});</script>"
      ]
     },
     "metadata": {},
     "output_type": "display_data"
    },
    {
     "data": {
      "application/vnd.plotly.v1+json": {
       "data": [
        {
         "type": "bar",
         "x": [
          "0.0",
          "1.0"
         ],
         "y": [
          91,
          4
         ]
        }
       ],
       "layout": {
        "annotations": [
         {
          "font": {
           "size": 19.5
          },
          "showarrow": false,
          "text": "91",
          "x": "0.0",
          "xanchor": "center",
          "y": 91,
          "yanchor": "bottom"
         },
         {
          "font": {
           "size": 19.5
          },
          "showarrow": false,
          "text": "4",
          "x": "1.0",
          "xanchor": "center",
          "y": 4,
          "yanchor": "bottom"
         },
         {
          "font": {
           "color": "yellow"
          },
          "showarrow": false,
          "text": "95.79%",
          "x": "0.0",
          "xanchor": "center",
          "y": 45.5,
          "yanchor": "center"
         }
        ],
        "title": "Rcuisine international",
        "titlefont": {
         "size": 50
        },
        "xaxis": {
         "type": "category"
        },
        "yaxis": {
         "title": "count"
        }
       }
      },
      "text/html": [
       "<div id=\"bb4b1999-679b-4b31-8352-e8fa448a6909\" style=\"height: 525px; width: 100%;\" class=\"plotly-graph-div\"></div><script type=\"text/javascript\">require([\"plotly\"], function(Plotly) { window.PLOTLYENV=window.PLOTLYENV || {};window.PLOTLYENV.BASE_URL=\"https://plot.ly\";Plotly.newPlot(\"bb4b1999-679b-4b31-8352-e8fa448a6909\", [{\"type\": \"bar\", \"x\": [\"0.0\", \"1.0\"], \"y\": [91, 4]}], {\"title\": \"Rcuisine international\", \"titlefont\": {\"size\": 50}, \"yaxis\": {\"title\": \"count\"}, \"xaxis\": {\"type\": \"category\"}, \"annotations\": [{\"x\": \"0.0\", \"y\": 91, \"showarrow\": false, \"font\": {\"size\": 19.5}, \"text\": \"91\", \"xanchor\": \"center\", \"yanchor\": \"bottom\"}, {\"x\": \"1.0\", \"y\": 4, \"showarrow\": false, \"font\": {\"size\": 19.5}, \"text\": \"4\", \"xanchor\": \"center\", \"yanchor\": \"bottom\"}, {\"x\": \"0.0\", \"y\": 45.5, \"showarrow\": false, \"text\": \"95.79%\", \"xanchor\": \"center\", \"yanchor\": \"center\", \"font\": {\"color\": \"yellow\"}}]}, {\"showLink\": true, \"linkText\": \"Export to plot.ly\"})});</script>"
      ],
      "text/vnd.plotly.v1+html": [
       "<div id=\"bb4b1999-679b-4b31-8352-e8fa448a6909\" style=\"height: 525px; width: 100%;\" class=\"plotly-graph-div\"></div><script type=\"text/javascript\">require([\"plotly\"], function(Plotly) { window.PLOTLYENV=window.PLOTLYENV || {};window.PLOTLYENV.BASE_URL=\"https://plot.ly\";Plotly.newPlot(\"bb4b1999-679b-4b31-8352-e8fa448a6909\", [{\"type\": \"bar\", \"x\": [\"0.0\", \"1.0\"], \"y\": [91, 4]}], {\"title\": \"Rcuisine international\", \"titlefont\": {\"size\": 50}, \"yaxis\": {\"title\": \"count\"}, \"xaxis\": {\"type\": \"category\"}, \"annotations\": [{\"x\": \"0.0\", \"y\": 91, \"showarrow\": false, \"font\": {\"size\": 19.5}, \"text\": \"91\", \"xanchor\": \"center\", \"yanchor\": \"bottom\"}, {\"x\": \"1.0\", \"y\": 4, \"showarrow\": false, \"font\": {\"size\": 19.5}, \"text\": \"4\", \"xanchor\": \"center\", \"yanchor\": \"bottom\"}, {\"x\": \"0.0\", \"y\": 45.5, \"showarrow\": false, \"text\": \"95.79%\", \"xanchor\": \"center\", \"yanchor\": \"center\", \"font\": {\"color\": \"yellow\"}}]}, {\"showLink\": true, \"linkText\": \"Export to plot.ly\"})});</script>"
      ]
     },
     "metadata": {},
     "output_type": "display_data"
    },
    {
     "data": {
      "application/vnd.plotly.v1+json": {
       "data": [
        {
         "type": "bar",
         "x": [
          "0.0",
          "1.0"
         ],
         "y": [
          91,
          4
         ]
        }
       ],
       "layout": {
        "annotations": [
         {
          "font": {
           "size": 19.5
          },
          "showarrow": false,
          "text": "91",
          "x": "0.0",
          "xanchor": "center",
          "y": 91,
          "yanchor": "bottom"
         },
         {
          "font": {
           "size": 19.5
          },
          "showarrow": false,
          "text": "4",
          "x": "1.0",
          "xanchor": "center",
          "y": 4,
          "yanchor": "bottom"
         },
         {
          "font": {
           "color": "yellow"
          },
          "showarrow": false,
          "text": "95.79%",
          "x": "0.0",
          "xanchor": "center",
          "y": 45.5,
          "yanchor": "center"
         }
        ],
        "title": "Rcuisine italian",
        "titlefont": {
         "size": 50
        },
        "xaxis": {
         "type": "category"
        },
        "yaxis": {
         "title": "count"
        }
       }
      },
      "text/html": [
       "<div id=\"7bac3544-c570-4961-8214-73374a345cfc\" style=\"height: 525px; width: 100%;\" class=\"plotly-graph-div\"></div><script type=\"text/javascript\">require([\"plotly\"], function(Plotly) { window.PLOTLYENV=window.PLOTLYENV || {};window.PLOTLYENV.BASE_URL=\"https://plot.ly\";Plotly.newPlot(\"7bac3544-c570-4961-8214-73374a345cfc\", [{\"type\": \"bar\", \"x\": [\"0.0\", \"1.0\"], \"y\": [91, 4]}], {\"title\": \"Rcuisine italian\", \"titlefont\": {\"size\": 50}, \"yaxis\": {\"title\": \"count\"}, \"xaxis\": {\"type\": \"category\"}, \"annotations\": [{\"x\": \"0.0\", \"y\": 91, \"showarrow\": false, \"font\": {\"size\": 19.5}, \"text\": \"91\", \"xanchor\": \"center\", \"yanchor\": \"bottom\"}, {\"x\": \"1.0\", \"y\": 4, \"showarrow\": false, \"font\": {\"size\": 19.5}, \"text\": \"4\", \"xanchor\": \"center\", \"yanchor\": \"bottom\"}, {\"x\": \"0.0\", \"y\": 45.5, \"showarrow\": false, \"text\": \"95.79%\", \"xanchor\": \"center\", \"yanchor\": \"center\", \"font\": {\"color\": \"yellow\"}}]}, {\"showLink\": true, \"linkText\": \"Export to plot.ly\"})});</script>"
      ],
      "text/vnd.plotly.v1+html": [
       "<div id=\"7bac3544-c570-4961-8214-73374a345cfc\" style=\"height: 525px; width: 100%;\" class=\"plotly-graph-div\"></div><script type=\"text/javascript\">require([\"plotly\"], function(Plotly) { window.PLOTLYENV=window.PLOTLYENV || {};window.PLOTLYENV.BASE_URL=\"https://plot.ly\";Plotly.newPlot(\"7bac3544-c570-4961-8214-73374a345cfc\", [{\"type\": \"bar\", \"x\": [\"0.0\", \"1.0\"], \"y\": [91, 4]}], {\"title\": \"Rcuisine italian\", \"titlefont\": {\"size\": 50}, \"yaxis\": {\"title\": \"count\"}, \"xaxis\": {\"type\": \"category\"}, \"annotations\": [{\"x\": \"0.0\", \"y\": 91, \"showarrow\": false, \"font\": {\"size\": 19.5}, \"text\": \"91\", \"xanchor\": \"center\", \"yanchor\": \"bottom\"}, {\"x\": \"1.0\", \"y\": 4, \"showarrow\": false, \"font\": {\"size\": 19.5}, \"text\": \"4\", \"xanchor\": \"center\", \"yanchor\": \"bottom\"}, {\"x\": \"0.0\", \"y\": 45.5, \"showarrow\": false, \"text\": \"95.79%\", \"xanchor\": \"center\", \"yanchor\": \"center\", \"font\": {\"color\": \"yellow\"}}]}, {\"showLink\": true, \"linkText\": \"Export to plot.ly\"})});</script>"
      ]
     },
     "metadata": {},
     "output_type": "display_data"
    },
    {
     "data": {
      "application/vnd.plotly.v1+json": {
       "data": [
        {
         "type": "bar",
         "x": [
          "0.0",
          "1.0"
         ],
         "y": [
          90,
          5
         ]
        }
       ],
       "layout": {
        "annotations": [
         {
          "font": {
           "size": 19.5
          },
          "showarrow": false,
          "text": "90",
          "x": "0.0",
          "xanchor": "center",
          "y": 90,
          "yanchor": "bottom"
         },
         {
          "font": {
           "size": 19.5
          },
          "showarrow": false,
          "text": "5",
          "x": "1.0",
          "xanchor": "center",
          "y": 5,
          "yanchor": "bottom"
         },
         {
          "font": {
           "color": "yellow"
          },
          "showarrow": false,
          "text": "94.74%",
          "x": "0.0",
          "xanchor": "center",
          "y": 45,
          "yanchor": "center"
         }
        ],
        "title": "Rcuisine japanese",
        "titlefont": {
         "size": 50
        },
        "xaxis": {
         "type": "category"
        },
        "yaxis": {
         "title": "count"
        }
       }
      },
      "text/html": [
       "<div id=\"69d8135f-1616-4311-bfff-dfa478bc457c\" style=\"height: 525px; width: 100%;\" class=\"plotly-graph-div\"></div><script type=\"text/javascript\">require([\"plotly\"], function(Plotly) { window.PLOTLYENV=window.PLOTLYENV || {};window.PLOTLYENV.BASE_URL=\"https://plot.ly\";Plotly.newPlot(\"69d8135f-1616-4311-bfff-dfa478bc457c\", [{\"type\": \"bar\", \"x\": [\"0.0\", \"1.0\"], \"y\": [90, 5]}], {\"title\": \"Rcuisine japanese\", \"titlefont\": {\"size\": 50}, \"yaxis\": {\"title\": \"count\"}, \"xaxis\": {\"type\": \"category\"}, \"annotations\": [{\"x\": \"0.0\", \"y\": 90, \"showarrow\": false, \"font\": {\"size\": 19.5}, \"text\": \"90\", \"xanchor\": \"center\", \"yanchor\": \"bottom\"}, {\"x\": \"1.0\", \"y\": 5, \"showarrow\": false, \"font\": {\"size\": 19.5}, \"text\": \"5\", \"xanchor\": \"center\", \"yanchor\": \"bottom\"}, {\"x\": \"0.0\", \"y\": 45.0, \"showarrow\": false, \"text\": \"94.74%\", \"xanchor\": \"center\", \"yanchor\": \"center\", \"font\": {\"color\": \"yellow\"}}]}, {\"showLink\": true, \"linkText\": \"Export to plot.ly\"})});</script>"
      ],
      "text/vnd.plotly.v1+html": [
       "<div id=\"69d8135f-1616-4311-bfff-dfa478bc457c\" style=\"height: 525px; width: 100%;\" class=\"plotly-graph-div\"></div><script type=\"text/javascript\">require([\"plotly\"], function(Plotly) { window.PLOTLYENV=window.PLOTLYENV || {};window.PLOTLYENV.BASE_URL=\"https://plot.ly\";Plotly.newPlot(\"69d8135f-1616-4311-bfff-dfa478bc457c\", [{\"type\": \"bar\", \"x\": [\"0.0\", \"1.0\"], \"y\": [90, 5]}], {\"title\": \"Rcuisine japanese\", \"titlefont\": {\"size\": 50}, \"yaxis\": {\"title\": \"count\"}, \"xaxis\": {\"type\": \"category\"}, \"annotations\": [{\"x\": \"0.0\", \"y\": 90, \"showarrow\": false, \"font\": {\"size\": 19.5}, \"text\": \"90\", \"xanchor\": \"center\", \"yanchor\": \"bottom\"}, {\"x\": \"1.0\", \"y\": 5, \"showarrow\": false, \"font\": {\"size\": 19.5}, \"text\": \"5\", \"xanchor\": \"center\", \"yanchor\": \"bottom\"}, {\"x\": \"0.0\", \"y\": 45.0, \"showarrow\": false, \"text\": \"94.74%\", \"xanchor\": \"center\", \"yanchor\": \"center\", \"font\": {\"color\": \"yellow\"}}]}, {\"showLink\": true, \"linkText\": \"Export to plot.ly\"})});</script>"
      ]
     },
     "metadata": {},
     "output_type": "display_data"
    },
    {
     "data": {
      "application/vnd.plotly.v1+json": {
       "data": [
        {
         "type": "bar",
         "x": [
          "0.0",
          "1.0"
         ],
         "y": [
          94,
          1
         ]
        }
       ],
       "layout": {
        "annotations": [
         {
          "font": {
           "size": 19.5
          },
          "showarrow": false,
          "text": "94",
          "x": "0.0",
          "xanchor": "center",
          "y": 94,
          "yanchor": "bottom"
         },
         {
          "font": {
           "size": 19.5
          },
          "showarrow": false,
          "text": "1",
          "x": "1.0",
          "xanchor": "center",
          "y": 1,
          "yanchor": "bottom"
         },
         {
          "font": {
           "color": "yellow"
          },
          "showarrow": false,
          "text": "98.95%",
          "x": "0.0",
          "xanchor": "center",
          "y": 47,
          "yanchor": "center"
         }
        ],
        "title": "Rcuisine mediterranean",
        "titlefont": {
         "size": 50
        },
        "xaxis": {
         "type": "category"
        },
        "yaxis": {
         "title": "count"
        }
       }
      },
      "text/html": [
       "<div id=\"0f75d633-c4e1-4a20-9463-7ee5a955cede\" style=\"height: 525px; width: 100%;\" class=\"plotly-graph-div\"></div><script type=\"text/javascript\">require([\"plotly\"], function(Plotly) { window.PLOTLYENV=window.PLOTLYENV || {};window.PLOTLYENV.BASE_URL=\"https://plot.ly\";Plotly.newPlot(\"0f75d633-c4e1-4a20-9463-7ee5a955cede\", [{\"type\": \"bar\", \"x\": [\"0.0\", \"1.0\"], \"y\": [94, 1]}], {\"title\": \"Rcuisine mediterranean\", \"titlefont\": {\"size\": 50}, \"yaxis\": {\"title\": \"count\"}, \"xaxis\": {\"type\": \"category\"}, \"annotations\": [{\"x\": \"0.0\", \"y\": 94, \"showarrow\": false, \"font\": {\"size\": 19.5}, \"text\": \"94\", \"xanchor\": \"center\", \"yanchor\": \"bottom\"}, {\"x\": \"1.0\", \"y\": 1, \"showarrow\": false, \"font\": {\"size\": 19.5}, \"text\": \"1\", \"xanchor\": \"center\", \"yanchor\": \"bottom\"}, {\"x\": \"0.0\", \"y\": 47.0, \"showarrow\": false, \"text\": \"98.95%\", \"xanchor\": \"center\", \"yanchor\": \"center\", \"font\": {\"color\": \"yellow\"}}]}, {\"showLink\": true, \"linkText\": \"Export to plot.ly\"})});</script>"
      ],
      "text/vnd.plotly.v1+html": [
       "<div id=\"0f75d633-c4e1-4a20-9463-7ee5a955cede\" style=\"height: 525px; width: 100%;\" class=\"plotly-graph-div\"></div><script type=\"text/javascript\">require([\"plotly\"], function(Plotly) { window.PLOTLYENV=window.PLOTLYENV || {};window.PLOTLYENV.BASE_URL=\"https://plot.ly\";Plotly.newPlot(\"0f75d633-c4e1-4a20-9463-7ee5a955cede\", [{\"type\": \"bar\", \"x\": [\"0.0\", \"1.0\"], \"y\": [94, 1]}], {\"title\": \"Rcuisine mediterranean\", \"titlefont\": {\"size\": 50}, \"yaxis\": {\"title\": \"count\"}, \"xaxis\": {\"type\": \"category\"}, \"annotations\": [{\"x\": \"0.0\", \"y\": 94, \"showarrow\": false, \"font\": {\"size\": 19.5}, \"text\": \"94\", \"xanchor\": \"center\", \"yanchor\": \"bottom\"}, {\"x\": \"1.0\", \"y\": 1, \"showarrow\": false, \"font\": {\"size\": 19.5}, \"text\": \"1\", \"xanchor\": \"center\", \"yanchor\": \"bottom\"}, {\"x\": \"0.0\", \"y\": 47.0, \"showarrow\": false, \"text\": \"98.95%\", \"xanchor\": \"center\", \"yanchor\": \"center\", \"font\": {\"color\": \"yellow\"}}]}, {\"showLink\": true, \"linkText\": \"Export to plot.ly\"})});</script>"
      ]
     },
     "metadata": {},
     "output_type": "display_data"
    },
    {
     "data": {
      "application/vnd.plotly.v1+json": {
       "data": [
        {
         "type": "bar",
         "x": [
          "0.0",
          "1.0"
         ],
         "y": [
          67,
          28
         ]
        }
       ],
       "layout": {
        "annotations": [
         {
          "font": {
           "size": 19.5
          },
          "showarrow": false,
          "text": "67",
          "x": "0.0",
          "xanchor": "center",
          "y": 67,
          "yanchor": "bottom"
         },
         {
          "font": {
           "size": 19.5
          },
          "showarrow": false,
          "text": "28",
          "x": "1.0",
          "xanchor": "center",
          "y": 28,
          "yanchor": "bottom"
         },
         {
          "font": {
           "color": "yellow"
          },
          "showarrow": false,
          "text": "70.53%",
          "x": "0.0",
          "xanchor": "center",
          "y": 33.5,
          "yanchor": "center"
         },
         {
          "font": {
           "color": "yellow"
          },
          "showarrow": false,
          "text": "29.47%",
          "x": "1.0",
          "xanchor": "center",
          "y": 14,
          "yanchor": "center"
         }
        ],
        "title": "Rcuisine mexican",
        "titlefont": {
         "size": 50
        },
        "xaxis": {
         "type": "category"
        },
        "yaxis": {
         "title": "count"
        }
       }
      },
      "text/html": [
       "<div id=\"cea6ea98-da6f-49f9-9098-fb8d2dc4bf2b\" style=\"height: 525px; width: 100%;\" class=\"plotly-graph-div\"></div><script type=\"text/javascript\">require([\"plotly\"], function(Plotly) { window.PLOTLYENV=window.PLOTLYENV || {};window.PLOTLYENV.BASE_URL=\"https://plot.ly\";Plotly.newPlot(\"cea6ea98-da6f-49f9-9098-fb8d2dc4bf2b\", [{\"type\": \"bar\", \"x\": [\"0.0\", \"1.0\"], \"y\": [67, 28]}], {\"title\": \"Rcuisine mexican\", \"titlefont\": {\"size\": 50}, \"yaxis\": {\"title\": \"count\"}, \"xaxis\": {\"type\": \"category\"}, \"annotations\": [{\"x\": \"0.0\", \"y\": 67, \"showarrow\": false, \"font\": {\"size\": 19.5}, \"text\": \"67\", \"xanchor\": \"center\", \"yanchor\": \"bottom\"}, {\"x\": \"1.0\", \"y\": 28, \"showarrow\": false, \"font\": {\"size\": 19.5}, \"text\": \"28\", \"xanchor\": \"center\", \"yanchor\": \"bottom\"}, {\"x\": \"0.0\", \"y\": 33.5, \"showarrow\": false, \"text\": \"70.53%\", \"xanchor\": \"center\", \"yanchor\": \"center\", \"font\": {\"color\": \"yellow\"}}, {\"x\": \"1.0\", \"y\": 14.0, \"showarrow\": false, \"text\": \"29.47%\", \"xanchor\": \"center\", \"yanchor\": \"center\", \"font\": {\"color\": \"yellow\"}}]}, {\"showLink\": true, \"linkText\": \"Export to plot.ly\"})});</script>"
      ],
      "text/vnd.plotly.v1+html": [
       "<div id=\"cea6ea98-da6f-49f9-9098-fb8d2dc4bf2b\" style=\"height: 525px; width: 100%;\" class=\"plotly-graph-div\"></div><script type=\"text/javascript\">require([\"plotly\"], function(Plotly) { window.PLOTLYENV=window.PLOTLYENV || {};window.PLOTLYENV.BASE_URL=\"https://plot.ly\";Plotly.newPlot(\"cea6ea98-da6f-49f9-9098-fb8d2dc4bf2b\", [{\"type\": \"bar\", \"x\": [\"0.0\", \"1.0\"], \"y\": [67, 28]}], {\"title\": \"Rcuisine mexican\", \"titlefont\": {\"size\": 50}, \"yaxis\": {\"title\": \"count\"}, \"xaxis\": {\"type\": \"category\"}, \"annotations\": [{\"x\": \"0.0\", \"y\": 67, \"showarrow\": false, \"font\": {\"size\": 19.5}, \"text\": \"67\", \"xanchor\": \"center\", \"yanchor\": \"bottom\"}, {\"x\": \"1.0\", \"y\": 28, \"showarrow\": false, \"font\": {\"size\": 19.5}, \"text\": \"28\", \"xanchor\": \"center\", \"yanchor\": \"bottom\"}, {\"x\": \"0.0\", \"y\": 33.5, \"showarrow\": false, \"text\": \"70.53%\", \"xanchor\": \"center\", \"yanchor\": \"center\", \"font\": {\"color\": \"yellow\"}}, {\"x\": \"1.0\", \"y\": 14.0, \"showarrow\": false, \"text\": \"29.47%\", \"xanchor\": \"center\", \"yanchor\": \"center\", \"font\": {\"color\": \"yellow\"}}]}, {\"showLink\": true, \"linkText\": \"Export to plot.ly\"})});</script>"
      ]
     },
     "metadata": {},
     "output_type": "display_data"
    },
    {
     "data": {
      "application/vnd.plotly.v1+json": {
       "data": [
        {
         "type": "bar",
         "x": [
          "0.0",
          "1.0"
         ],
         "y": [
          90,
          5
         ]
        }
       ],
       "layout": {
        "annotations": [
         {
          "font": {
           "size": 19.5
          },
          "showarrow": false,
          "text": "90",
          "x": "0.0",
          "xanchor": "center",
          "y": 90,
          "yanchor": "bottom"
         },
         {
          "font": {
           "size": 19.5
          },
          "showarrow": false,
          "text": "5",
          "x": "1.0",
          "xanchor": "center",
          "y": 5,
          "yanchor": "bottom"
         },
         {
          "font": {
           "color": "yellow"
          },
          "showarrow": false,
          "text": "94.74%",
          "x": "0.0",
          "xanchor": "center",
          "y": 45,
          "yanchor": "center"
         }
        ],
        "title": "Rcuisine pizzeria",
        "titlefont": {
         "size": 50
        },
        "xaxis": {
         "type": "category"
        },
        "yaxis": {
         "title": "count"
        }
       }
      },
      "text/html": [
       "<div id=\"e285b994-09d7-4c66-b0a7-36c347523131\" style=\"height: 525px; width: 100%;\" class=\"plotly-graph-div\"></div><script type=\"text/javascript\">require([\"plotly\"], function(Plotly) { window.PLOTLYENV=window.PLOTLYENV || {};window.PLOTLYENV.BASE_URL=\"https://plot.ly\";Plotly.newPlot(\"e285b994-09d7-4c66-b0a7-36c347523131\", [{\"type\": \"bar\", \"x\": [\"0.0\", \"1.0\"], \"y\": [90, 5]}], {\"title\": \"Rcuisine pizzeria\", \"titlefont\": {\"size\": 50}, \"yaxis\": {\"title\": \"count\"}, \"xaxis\": {\"type\": \"category\"}, \"annotations\": [{\"x\": \"0.0\", \"y\": 90, \"showarrow\": false, \"font\": {\"size\": 19.5}, \"text\": \"90\", \"xanchor\": \"center\", \"yanchor\": \"bottom\"}, {\"x\": \"1.0\", \"y\": 5, \"showarrow\": false, \"font\": {\"size\": 19.5}, \"text\": \"5\", \"xanchor\": \"center\", \"yanchor\": \"bottom\"}, {\"x\": \"0.0\", \"y\": 45.0, \"showarrow\": false, \"text\": \"94.74%\", \"xanchor\": \"center\", \"yanchor\": \"center\", \"font\": {\"color\": \"yellow\"}}]}, {\"showLink\": true, \"linkText\": \"Export to plot.ly\"})});</script>"
      ],
      "text/vnd.plotly.v1+html": [
       "<div id=\"e285b994-09d7-4c66-b0a7-36c347523131\" style=\"height: 525px; width: 100%;\" class=\"plotly-graph-div\"></div><script type=\"text/javascript\">require([\"plotly\"], function(Plotly) { window.PLOTLYENV=window.PLOTLYENV || {};window.PLOTLYENV.BASE_URL=\"https://plot.ly\";Plotly.newPlot(\"e285b994-09d7-4c66-b0a7-36c347523131\", [{\"type\": \"bar\", \"x\": [\"0.0\", \"1.0\"], \"y\": [90, 5]}], {\"title\": \"Rcuisine pizzeria\", \"titlefont\": {\"size\": 50}, \"yaxis\": {\"title\": \"count\"}, \"xaxis\": {\"type\": \"category\"}, \"annotations\": [{\"x\": \"0.0\", \"y\": 90, \"showarrow\": false, \"font\": {\"size\": 19.5}, \"text\": \"90\", \"xanchor\": \"center\", \"yanchor\": \"bottom\"}, {\"x\": \"1.0\", \"y\": 5, \"showarrow\": false, \"font\": {\"size\": 19.5}, \"text\": \"5\", \"xanchor\": \"center\", \"yanchor\": \"bottom\"}, {\"x\": \"0.0\", \"y\": 45.0, \"showarrow\": false, \"text\": \"94.74%\", \"xanchor\": \"center\", \"yanchor\": \"center\", \"font\": {\"color\": \"yellow\"}}]}, {\"showLink\": true, \"linkText\": \"Export to plot.ly\"})});</script>"
      ]
     },
     "metadata": {},
     "output_type": "display_data"
    },
    {
     "data": {
      "application/vnd.plotly.v1+json": {
       "data": [
        {
         "type": "bar",
         "x": [
          "0.0",
          "1.0"
         ],
         "y": [
          94,
          1
         ]
        }
       ],
       "layout": {
        "annotations": [
         {
          "font": {
           "size": 19.5
          },
          "showarrow": false,
          "text": "94",
          "x": "0.0",
          "xanchor": "center",
          "y": 94,
          "yanchor": "bottom"
         },
         {
          "font": {
           "size": 19.5
          },
          "showarrow": false,
          "text": "1",
          "x": "1.0",
          "xanchor": "center",
          "y": 1,
          "yanchor": "bottom"
         },
         {
          "font": {
           "color": "yellow"
          },
          "showarrow": false,
          "text": "98.95%",
          "x": "0.0",
          "xanchor": "center",
          "y": 47,
          "yanchor": "center"
         }
        ],
        "title": "Rcuisine regional",
        "titlefont": {
         "size": 50
        },
        "xaxis": {
         "type": "category"
        },
        "yaxis": {
         "title": "count"
        }
       }
      },
      "text/html": [
       "<div id=\"9c0d8839-1108-447d-80ea-7f97d5391774\" style=\"height: 525px; width: 100%;\" class=\"plotly-graph-div\"></div><script type=\"text/javascript\">require([\"plotly\"], function(Plotly) { window.PLOTLYENV=window.PLOTLYENV || {};window.PLOTLYENV.BASE_URL=\"https://plot.ly\";Plotly.newPlot(\"9c0d8839-1108-447d-80ea-7f97d5391774\", [{\"type\": \"bar\", \"x\": [\"0.0\", \"1.0\"], \"y\": [94, 1]}], {\"title\": \"Rcuisine regional\", \"titlefont\": {\"size\": 50}, \"yaxis\": {\"title\": \"count\"}, \"xaxis\": {\"type\": \"category\"}, \"annotations\": [{\"x\": \"0.0\", \"y\": 94, \"showarrow\": false, \"font\": {\"size\": 19.5}, \"text\": \"94\", \"xanchor\": \"center\", \"yanchor\": \"bottom\"}, {\"x\": \"1.0\", \"y\": 1, \"showarrow\": false, \"font\": {\"size\": 19.5}, \"text\": \"1\", \"xanchor\": \"center\", \"yanchor\": \"bottom\"}, {\"x\": \"0.0\", \"y\": 47.0, \"showarrow\": false, \"text\": \"98.95%\", \"xanchor\": \"center\", \"yanchor\": \"center\", \"font\": {\"color\": \"yellow\"}}]}, {\"showLink\": true, \"linkText\": \"Export to plot.ly\"})});</script>"
      ],
      "text/vnd.plotly.v1+html": [
       "<div id=\"9c0d8839-1108-447d-80ea-7f97d5391774\" style=\"height: 525px; width: 100%;\" class=\"plotly-graph-div\"></div><script type=\"text/javascript\">require([\"plotly\"], function(Plotly) { window.PLOTLYENV=window.PLOTLYENV || {};window.PLOTLYENV.BASE_URL=\"https://plot.ly\";Plotly.newPlot(\"9c0d8839-1108-447d-80ea-7f97d5391774\", [{\"type\": \"bar\", \"x\": [\"0.0\", \"1.0\"], \"y\": [94, 1]}], {\"title\": \"Rcuisine regional\", \"titlefont\": {\"size\": 50}, \"yaxis\": {\"title\": \"count\"}, \"xaxis\": {\"type\": \"category\"}, \"annotations\": [{\"x\": \"0.0\", \"y\": 94, \"showarrow\": false, \"font\": {\"size\": 19.5}, \"text\": \"94\", \"xanchor\": \"center\", \"yanchor\": \"bottom\"}, {\"x\": \"1.0\", \"y\": 1, \"showarrow\": false, \"font\": {\"size\": 19.5}, \"text\": \"1\", \"xanchor\": \"center\", \"yanchor\": \"bottom\"}, {\"x\": \"0.0\", \"y\": 47.0, \"showarrow\": false, \"text\": \"98.95%\", \"xanchor\": \"center\", \"yanchor\": \"center\", \"font\": {\"color\": \"yellow\"}}]}, {\"showLink\": true, \"linkText\": \"Export to plot.ly\"})});</script>"
      ]
     },
     "metadata": {},
     "output_type": "display_data"
    },
    {
     "data": {
      "application/vnd.plotly.v1+json": {
       "data": [
        {
         "type": "bar",
         "x": [
          "0.0",
          "1.0"
         ],
         "y": [
          90,
          5
         ]
        }
       ],
       "layout": {
        "annotations": [
         {
          "font": {
           "size": 19.5
          },
          "showarrow": false,
          "text": "90",
          "x": "0.0",
          "xanchor": "center",
          "y": 90,
          "yanchor": "bottom"
         },
         {
          "font": {
           "size": 19.5
          },
          "showarrow": false,
          "text": "5",
          "x": "1.0",
          "xanchor": "center",
          "y": 5,
          "yanchor": "bottom"
         },
         {
          "font": {
           "color": "yellow"
          },
          "showarrow": false,
          "text": "94.74%",
          "x": "0.0",
          "xanchor": "center",
          "y": 45,
          "yanchor": "center"
         }
        ],
        "title": "Rcuisine seafood",
        "titlefont": {
         "size": 50
        },
        "xaxis": {
         "type": "category"
        },
        "yaxis": {
         "title": "count"
        }
       }
      },
      "text/html": [
       "<div id=\"d7466d74-6add-4a0e-9c23-0b475e7f0f3b\" style=\"height: 525px; width: 100%;\" class=\"plotly-graph-div\"></div><script type=\"text/javascript\">require([\"plotly\"], function(Plotly) { window.PLOTLYENV=window.PLOTLYENV || {};window.PLOTLYENV.BASE_URL=\"https://plot.ly\";Plotly.newPlot(\"d7466d74-6add-4a0e-9c23-0b475e7f0f3b\", [{\"type\": \"bar\", \"x\": [\"0.0\", \"1.0\"], \"y\": [90, 5]}], {\"title\": \"Rcuisine seafood\", \"titlefont\": {\"size\": 50}, \"yaxis\": {\"title\": \"count\"}, \"xaxis\": {\"type\": \"category\"}, \"annotations\": [{\"x\": \"0.0\", \"y\": 90, \"showarrow\": false, \"font\": {\"size\": 19.5}, \"text\": \"90\", \"xanchor\": \"center\", \"yanchor\": \"bottom\"}, {\"x\": \"1.0\", \"y\": 5, \"showarrow\": false, \"font\": {\"size\": 19.5}, \"text\": \"5\", \"xanchor\": \"center\", \"yanchor\": \"bottom\"}, {\"x\": \"0.0\", \"y\": 45.0, \"showarrow\": false, \"text\": \"94.74%\", \"xanchor\": \"center\", \"yanchor\": \"center\", \"font\": {\"color\": \"yellow\"}}]}, {\"showLink\": true, \"linkText\": \"Export to plot.ly\"})});</script>"
      ],
      "text/vnd.plotly.v1+html": [
       "<div id=\"d7466d74-6add-4a0e-9c23-0b475e7f0f3b\" style=\"height: 525px; width: 100%;\" class=\"plotly-graph-div\"></div><script type=\"text/javascript\">require([\"plotly\"], function(Plotly) { window.PLOTLYENV=window.PLOTLYENV || {};window.PLOTLYENV.BASE_URL=\"https://plot.ly\";Plotly.newPlot(\"d7466d74-6add-4a0e-9c23-0b475e7f0f3b\", [{\"type\": \"bar\", \"x\": [\"0.0\", \"1.0\"], \"y\": [90, 5]}], {\"title\": \"Rcuisine seafood\", \"titlefont\": {\"size\": 50}, \"yaxis\": {\"title\": \"count\"}, \"xaxis\": {\"type\": \"category\"}, \"annotations\": [{\"x\": \"0.0\", \"y\": 90, \"showarrow\": false, \"font\": {\"size\": 19.5}, \"text\": \"90\", \"xanchor\": \"center\", \"yanchor\": \"bottom\"}, {\"x\": \"1.0\", \"y\": 5, \"showarrow\": false, \"font\": {\"size\": 19.5}, \"text\": \"5\", \"xanchor\": \"center\", \"yanchor\": \"bottom\"}, {\"x\": \"0.0\", \"y\": 45.0, \"showarrow\": false, \"text\": \"94.74%\", \"xanchor\": \"center\", \"yanchor\": \"center\", \"font\": {\"color\": \"yellow\"}}]}, {\"showLink\": true, \"linkText\": \"Export to plot.ly\"})});</script>"
      ]
     },
     "metadata": {},
     "output_type": "display_data"
    },
    {
     "data": {
      "application/vnd.plotly.v1+json": {
       "data": [
        {
         "type": "bar",
         "x": [
          "0.0",
          "1.0"
         ],
         "y": [
          94,
          1
         ]
        }
       ],
       "layout": {
        "annotations": [
         {
          "font": {
           "size": 19.5
          },
          "showarrow": false,
          "text": "94",
          "x": "0.0",
          "xanchor": "center",
          "y": 94,
          "yanchor": "bottom"
         },
         {
          "font": {
           "size": 19.5
          },
          "showarrow": false,
          "text": "1",
          "x": "1.0",
          "xanchor": "center",
          "y": 1,
          "yanchor": "bottom"
         },
         {
          "font": {
           "color": "yellow"
          },
          "showarrow": false,
          "text": "98.95%",
          "x": "0.0",
          "xanchor": "center",
          "y": 47,
          "yanchor": "center"
         }
        ],
        "title": "Rcuisine vietnamese",
        "titlefont": {
         "size": 50
        },
        "xaxis": {
         "type": "category"
        },
        "yaxis": {
         "title": "count"
        }
       }
      },
      "text/html": [
       "<div id=\"5c86a298-89d4-4d13-bfa8-71f3eebdbd4d\" style=\"height: 525px; width: 100%;\" class=\"plotly-graph-div\"></div><script type=\"text/javascript\">require([\"plotly\"], function(Plotly) { window.PLOTLYENV=window.PLOTLYENV || {};window.PLOTLYENV.BASE_URL=\"https://plot.ly\";Plotly.newPlot(\"5c86a298-89d4-4d13-bfa8-71f3eebdbd4d\", [{\"type\": \"bar\", \"x\": [\"0.0\", \"1.0\"], \"y\": [94, 1]}], {\"title\": \"Rcuisine vietnamese\", \"titlefont\": {\"size\": 50}, \"yaxis\": {\"title\": \"count\"}, \"xaxis\": {\"type\": \"category\"}, \"annotations\": [{\"x\": \"0.0\", \"y\": 94, \"showarrow\": false, \"font\": {\"size\": 19.5}, \"text\": \"94\", \"xanchor\": \"center\", \"yanchor\": \"bottom\"}, {\"x\": \"1.0\", \"y\": 1, \"showarrow\": false, \"font\": {\"size\": 19.5}, \"text\": \"1\", \"xanchor\": \"center\", \"yanchor\": \"bottom\"}, {\"x\": \"0.0\", \"y\": 47.0, \"showarrow\": false, \"text\": \"98.95%\", \"xanchor\": \"center\", \"yanchor\": \"center\", \"font\": {\"color\": \"yellow\"}}]}, {\"showLink\": true, \"linkText\": \"Export to plot.ly\"})});</script>"
      ],
      "text/vnd.plotly.v1+html": [
       "<div id=\"5c86a298-89d4-4d13-bfa8-71f3eebdbd4d\" style=\"height: 525px; width: 100%;\" class=\"plotly-graph-div\"></div><script type=\"text/javascript\">require([\"plotly\"], function(Plotly) { window.PLOTLYENV=window.PLOTLYENV || {};window.PLOTLYENV.BASE_URL=\"https://plot.ly\";Plotly.newPlot(\"5c86a298-89d4-4d13-bfa8-71f3eebdbd4d\", [{\"type\": \"bar\", \"x\": [\"0.0\", \"1.0\"], \"y\": [94, 1]}], {\"title\": \"Rcuisine vietnamese\", \"titlefont\": {\"size\": 50}, \"yaxis\": {\"title\": \"count\"}, \"xaxis\": {\"type\": \"category\"}, \"annotations\": [{\"x\": \"0.0\", \"y\": 94, \"showarrow\": false, \"font\": {\"size\": 19.5}, \"text\": \"94\", \"xanchor\": \"center\", \"yanchor\": \"bottom\"}, {\"x\": \"1.0\", \"y\": 1, \"showarrow\": false, \"font\": {\"size\": 19.5}, \"text\": \"1\", \"xanchor\": \"center\", \"yanchor\": \"bottom\"}, {\"x\": \"0.0\", \"y\": 47.0, \"showarrow\": false, \"text\": \"98.95%\", \"xanchor\": \"center\", \"yanchor\": \"center\", \"font\": {\"color\": \"yellow\"}}]}, {\"showLink\": true, \"linkText\": \"Export to plot.ly\"})});</script>"
      ]
     },
     "metadata": {},
     "output_type": "display_data"
    },
    {
     "data": {
      "application/vnd.plotly.v1+json": {
       "data": [
        {
         "type": "bar",
         "x": [
          "1.0",
          "0.0"
         ],
         "y": [
          65,
          65
         ]
        }
       ],
       "layout": {
        "annotations": [
         {
          "font": {
           "size": 19.5
          },
          "showarrow": false,
          "text": "65",
          "x": "1.0",
          "xanchor": "center",
          "y": 65,
          "yanchor": "bottom"
         },
         {
          "font": {
           "size": 19.5
          },
          "showarrow": false,
          "text": "65",
          "x": "0.0",
          "xanchor": "center",
          "y": 65,
          "yanchor": "bottom"
         },
         {
          "font": {
           "color": "yellow"
          },
          "showarrow": false,
          "text": "50.0%",
          "x": "1.0",
          "xanchor": "center",
          "y": 32.5,
          "yanchor": "center"
         },
         {
          "font": {
           "color": "yellow"
          },
          "showarrow": false,
          "text": "50.0%",
          "x": "0.0",
          "xanchor": "center",
          "y": 32.5,
          "yanchor": "center"
         }
        ],
        "title": "Parking lot none",
        "titlefont": {
         "size": 50
        },
        "xaxis": {
         "type": "category"
        },
        "yaxis": {
         "title": "count"
        }
       }
      },
      "text/html": [
       "<div id=\"6a058652-4a30-46be-af09-edf4fca001a0\" style=\"height: 525px; width: 100%;\" class=\"plotly-graph-div\"></div><script type=\"text/javascript\">require([\"plotly\"], function(Plotly) { window.PLOTLYENV=window.PLOTLYENV || {};window.PLOTLYENV.BASE_URL=\"https://plot.ly\";Plotly.newPlot(\"6a058652-4a30-46be-af09-edf4fca001a0\", [{\"type\": \"bar\", \"x\": [\"1.0\", \"0.0\"], \"y\": [65, 65]}], {\"title\": \"Parking lot none\", \"titlefont\": {\"size\": 50}, \"yaxis\": {\"title\": \"count\"}, \"xaxis\": {\"type\": \"category\"}, \"annotations\": [{\"x\": \"1.0\", \"y\": 65, \"showarrow\": false, \"font\": {\"size\": 19.5}, \"text\": \"65\", \"xanchor\": \"center\", \"yanchor\": \"bottom\"}, {\"x\": \"0.0\", \"y\": 65, \"showarrow\": false, \"font\": {\"size\": 19.5}, \"text\": \"65\", \"xanchor\": \"center\", \"yanchor\": \"bottom\"}, {\"x\": \"1.0\", \"y\": 32.5, \"showarrow\": false, \"text\": \"50.0%\", \"xanchor\": \"center\", \"yanchor\": \"center\", \"font\": {\"color\": \"yellow\"}}, {\"x\": \"0.0\", \"y\": 32.5, \"showarrow\": false, \"text\": \"50.0%\", \"xanchor\": \"center\", \"yanchor\": \"center\", \"font\": {\"color\": \"yellow\"}}]}, {\"showLink\": true, \"linkText\": \"Export to plot.ly\"})});</script>"
      ],
      "text/vnd.plotly.v1+html": [
       "<div id=\"6a058652-4a30-46be-af09-edf4fca001a0\" style=\"height: 525px; width: 100%;\" class=\"plotly-graph-div\"></div><script type=\"text/javascript\">require([\"plotly\"], function(Plotly) { window.PLOTLYENV=window.PLOTLYENV || {};window.PLOTLYENV.BASE_URL=\"https://plot.ly\";Plotly.newPlot(\"6a058652-4a30-46be-af09-edf4fca001a0\", [{\"type\": \"bar\", \"x\": [\"1.0\", \"0.0\"], \"y\": [65, 65]}], {\"title\": \"Parking lot none\", \"titlefont\": {\"size\": 50}, \"yaxis\": {\"title\": \"count\"}, \"xaxis\": {\"type\": \"category\"}, \"annotations\": [{\"x\": \"1.0\", \"y\": 65, \"showarrow\": false, \"font\": {\"size\": 19.5}, \"text\": \"65\", \"xanchor\": \"center\", \"yanchor\": \"bottom\"}, {\"x\": \"0.0\", \"y\": 65, \"showarrow\": false, \"font\": {\"size\": 19.5}, \"text\": \"65\", \"xanchor\": \"center\", \"yanchor\": \"bottom\"}, {\"x\": \"1.0\", \"y\": 32.5, \"showarrow\": false, \"text\": \"50.0%\", \"xanchor\": \"center\", \"yanchor\": \"center\", \"font\": {\"color\": \"yellow\"}}, {\"x\": \"0.0\", \"y\": 32.5, \"showarrow\": false, \"text\": \"50.0%\", \"xanchor\": \"center\", \"yanchor\": \"center\", \"font\": {\"color\": \"yellow\"}}]}, {\"showLink\": true, \"linkText\": \"Export to plot.ly\"})});</script>"
      ]
     },
     "metadata": {},
     "output_type": "display_data"
    },
    {
     "data": {
      "application/vnd.plotly.v1+json": {
       "data": [
        {
         "type": "bar",
         "x": [
          "0.0",
          "1.0"
         ],
         "y": [
          114,
          16
         ]
        }
       ],
       "layout": {
        "annotations": [
         {
          "font": {
           "size": 19.5
          },
          "showarrow": false,
          "text": "114",
          "x": "0.0",
          "xanchor": "center",
          "y": 114,
          "yanchor": "bottom"
         },
         {
          "font": {
           "size": 19.5
          },
          "showarrow": false,
          "text": "16",
          "x": "1.0",
          "xanchor": "center",
          "y": 16,
          "yanchor": "bottom"
         },
         {
          "font": {
           "color": "yellow"
          },
          "showarrow": false,
          "text": "87.69%",
          "x": "0.0",
          "xanchor": "center",
          "y": 57,
          "yanchor": "center"
         },
         {
          "font": {
           "color": "yellow"
          },
          "showarrow": false,
          "text": "12.31%",
          "x": "1.0",
          "xanchor": "center",
          "y": 8,
          "yanchor": "center"
         }
        ],
        "title": "Parking lot public",
        "titlefont": {
         "size": 50
        },
        "xaxis": {
         "type": "category"
        },
        "yaxis": {
         "title": "count"
        }
       }
      },
      "text/html": [
       "<div id=\"f4adfbeb-c9c9-4814-87cb-7dd55e4723e0\" style=\"height: 525px; width: 100%;\" class=\"plotly-graph-div\"></div><script type=\"text/javascript\">require([\"plotly\"], function(Plotly) { window.PLOTLYENV=window.PLOTLYENV || {};window.PLOTLYENV.BASE_URL=\"https://plot.ly\";Plotly.newPlot(\"f4adfbeb-c9c9-4814-87cb-7dd55e4723e0\", [{\"type\": \"bar\", \"x\": [\"0.0\", \"1.0\"], \"y\": [114, 16]}], {\"title\": \"Parking lot public\", \"titlefont\": {\"size\": 50}, \"yaxis\": {\"title\": \"count\"}, \"xaxis\": {\"type\": \"category\"}, \"annotations\": [{\"x\": \"0.0\", \"y\": 114, \"showarrow\": false, \"font\": {\"size\": 19.5}, \"text\": \"114\", \"xanchor\": \"center\", \"yanchor\": \"bottom\"}, {\"x\": \"1.0\", \"y\": 16, \"showarrow\": false, \"font\": {\"size\": 19.5}, \"text\": \"16\", \"xanchor\": \"center\", \"yanchor\": \"bottom\"}, {\"x\": \"0.0\", \"y\": 57.0, \"showarrow\": false, \"text\": \"87.69%\", \"xanchor\": \"center\", \"yanchor\": \"center\", \"font\": {\"color\": \"yellow\"}}, {\"x\": \"1.0\", \"y\": 8.0, \"showarrow\": false, \"text\": \"12.31%\", \"xanchor\": \"center\", \"yanchor\": \"center\", \"font\": {\"color\": \"yellow\"}}]}, {\"showLink\": true, \"linkText\": \"Export to plot.ly\"})});</script>"
      ],
      "text/vnd.plotly.v1+html": [
       "<div id=\"f4adfbeb-c9c9-4814-87cb-7dd55e4723e0\" style=\"height: 525px; width: 100%;\" class=\"plotly-graph-div\"></div><script type=\"text/javascript\">require([\"plotly\"], function(Plotly) { window.PLOTLYENV=window.PLOTLYENV || {};window.PLOTLYENV.BASE_URL=\"https://plot.ly\";Plotly.newPlot(\"f4adfbeb-c9c9-4814-87cb-7dd55e4723e0\", [{\"type\": \"bar\", \"x\": [\"0.0\", \"1.0\"], \"y\": [114, 16]}], {\"title\": \"Parking lot public\", \"titlefont\": {\"size\": 50}, \"yaxis\": {\"title\": \"count\"}, \"xaxis\": {\"type\": \"category\"}, \"annotations\": [{\"x\": \"0.0\", \"y\": 114, \"showarrow\": false, \"font\": {\"size\": 19.5}, \"text\": \"114\", \"xanchor\": \"center\", \"yanchor\": \"bottom\"}, {\"x\": \"1.0\", \"y\": 16, \"showarrow\": false, \"font\": {\"size\": 19.5}, \"text\": \"16\", \"xanchor\": \"center\", \"yanchor\": \"bottom\"}, {\"x\": \"0.0\", \"y\": 57.0, \"showarrow\": false, \"text\": \"87.69%\", \"xanchor\": \"center\", \"yanchor\": \"center\", \"font\": {\"color\": \"yellow\"}}, {\"x\": \"1.0\", \"y\": 8.0, \"showarrow\": false, \"text\": \"12.31%\", \"xanchor\": \"center\", \"yanchor\": \"center\", \"font\": {\"color\": \"yellow\"}}]}, {\"showLink\": true, \"linkText\": \"Export to plot.ly\"})});</script>"
      ]
     },
     "metadata": {},
     "output_type": "display_data"
    },
    {
     "data": {
      "application/vnd.plotly.v1+json": {
       "data": [
        {
         "type": "bar",
         "x": [
          "0.0",
          "1.0"
         ],
         "y": [
          127,
          3
         ]
        }
       ],
       "layout": {
        "annotations": [
         {
          "font": {
           "size": 19.5
          },
          "showarrow": false,
          "text": "127",
          "x": "0.0",
          "xanchor": "center",
          "y": 127,
          "yanchor": "bottom"
         },
         {
          "font": {
           "size": 19.5
          },
          "showarrow": false,
          "text": "3",
          "x": "1.0",
          "xanchor": "center",
          "y": 3,
          "yanchor": "bottom"
         },
         {
          "font": {
           "color": "yellow"
          },
          "showarrow": false,
          "text": "97.69%",
          "x": "0.0",
          "xanchor": "center",
          "y": 63.5,
          "yanchor": "center"
         }
        ],
        "title": "Parking lot valet parking",
        "titlefont": {
         "size": 50
        },
        "xaxis": {
         "type": "category"
        },
        "yaxis": {
         "title": "count"
        }
       }
      },
      "text/html": [
       "<div id=\"b788c09e-95d9-4351-88bf-10a5886c43f9\" style=\"height: 525px; width: 100%;\" class=\"plotly-graph-div\"></div><script type=\"text/javascript\">require([\"plotly\"], function(Plotly) { window.PLOTLYENV=window.PLOTLYENV || {};window.PLOTLYENV.BASE_URL=\"https://plot.ly\";Plotly.newPlot(\"b788c09e-95d9-4351-88bf-10a5886c43f9\", [{\"type\": \"bar\", \"x\": [\"0.0\", \"1.0\"], \"y\": [127, 3]}], {\"title\": \"Parking lot valet parking\", \"titlefont\": {\"size\": 50}, \"yaxis\": {\"title\": \"count\"}, \"xaxis\": {\"type\": \"category\"}, \"annotations\": [{\"x\": \"0.0\", \"y\": 127, \"showarrow\": false, \"font\": {\"size\": 19.5}, \"text\": \"127\", \"xanchor\": \"center\", \"yanchor\": \"bottom\"}, {\"x\": \"1.0\", \"y\": 3, \"showarrow\": false, \"font\": {\"size\": 19.5}, \"text\": \"3\", \"xanchor\": \"center\", \"yanchor\": \"bottom\"}, {\"x\": \"0.0\", \"y\": 63.5, \"showarrow\": false, \"text\": \"97.69%\", \"xanchor\": \"center\", \"yanchor\": \"center\", \"font\": {\"color\": \"yellow\"}}]}, {\"showLink\": true, \"linkText\": \"Export to plot.ly\"})});</script>"
      ],
      "text/vnd.plotly.v1+html": [
       "<div id=\"b788c09e-95d9-4351-88bf-10a5886c43f9\" style=\"height: 525px; width: 100%;\" class=\"plotly-graph-div\"></div><script type=\"text/javascript\">require([\"plotly\"], function(Plotly) { window.PLOTLYENV=window.PLOTLYENV || {};window.PLOTLYENV.BASE_URL=\"https://plot.ly\";Plotly.newPlot(\"b788c09e-95d9-4351-88bf-10a5886c43f9\", [{\"type\": \"bar\", \"x\": [\"0.0\", \"1.0\"], \"y\": [127, 3]}], {\"title\": \"Parking lot valet parking\", \"titlefont\": {\"size\": 50}, \"yaxis\": {\"title\": \"count\"}, \"xaxis\": {\"type\": \"category\"}, \"annotations\": [{\"x\": \"0.0\", \"y\": 127, \"showarrow\": false, \"font\": {\"size\": 19.5}, \"text\": \"127\", \"xanchor\": \"center\", \"yanchor\": \"bottom\"}, {\"x\": \"1.0\", \"y\": 3, \"showarrow\": false, \"font\": {\"size\": 19.5}, \"text\": \"3\", \"xanchor\": \"center\", \"yanchor\": \"bottom\"}, {\"x\": \"0.0\", \"y\": 63.5, \"showarrow\": false, \"text\": \"97.69%\", \"xanchor\": \"center\", \"yanchor\": \"center\", \"font\": {\"color\": \"yellow\"}}]}, {\"showLink\": true, \"linkText\": \"Export to plot.ly\"})});</script>"
      ]
     },
     "metadata": {},
     "output_type": "display_data"
    },
    {
     "data": {
      "application/vnd.plotly.v1+json": {
       "data": [
        {
         "type": "bar",
         "x": [
          "0.0",
          "1.0"
         ],
         "y": [
          84,
          46
         ]
        }
       ],
       "layout": {
        "annotations": [
         {
          "font": {
           "size": 19.5
          },
          "showarrow": false,
          "text": "84",
          "x": "0.0",
          "xanchor": "center",
          "y": 84,
          "yanchor": "bottom"
         },
         {
          "font": {
           "size": 19.5
          },
          "showarrow": false,
          "text": "46",
          "x": "1.0",
          "xanchor": "center",
          "y": 46,
          "yanchor": "bottom"
         },
         {
          "font": {
           "color": "yellow"
          },
          "showarrow": false,
          "text": "64.62%",
          "x": "0.0",
          "xanchor": "center",
          "y": 42,
          "yanchor": "center"
         },
         {
          "font": {
           "color": "yellow"
          },
          "showarrow": false,
          "text": "35.38%",
          "x": "1.0",
          "xanchor": "center",
          "y": 23,
          "yanchor": "center"
         }
        ],
        "title": "Parking lot yes",
        "titlefont": {
         "size": 50
        },
        "xaxis": {
         "type": "category"
        },
        "yaxis": {
         "title": "count"
        }
       }
      },
      "text/html": [
       "<div id=\"14b06aaa-b2ac-4a2d-9636-cda9648b7892\" style=\"height: 525px; width: 100%;\" class=\"plotly-graph-div\"></div><script type=\"text/javascript\">require([\"plotly\"], function(Plotly) { window.PLOTLYENV=window.PLOTLYENV || {};window.PLOTLYENV.BASE_URL=\"https://plot.ly\";Plotly.newPlot(\"14b06aaa-b2ac-4a2d-9636-cda9648b7892\", [{\"type\": \"bar\", \"x\": [\"0.0\", \"1.0\"], \"y\": [84, 46]}], {\"title\": \"Parking lot yes\", \"titlefont\": {\"size\": 50}, \"yaxis\": {\"title\": \"count\"}, \"xaxis\": {\"type\": \"category\"}, \"annotations\": [{\"x\": \"0.0\", \"y\": 84, \"showarrow\": false, \"font\": {\"size\": 19.5}, \"text\": \"84\", \"xanchor\": \"center\", \"yanchor\": \"bottom\"}, {\"x\": \"1.0\", \"y\": 46, \"showarrow\": false, \"font\": {\"size\": 19.5}, \"text\": \"46\", \"xanchor\": \"center\", \"yanchor\": \"bottom\"}, {\"x\": \"0.0\", \"y\": 42.0, \"showarrow\": false, \"text\": \"64.62%\", \"xanchor\": \"center\", \"yanchor\": \"center\", \"font\": {\"color\": \"yellow\"}}, {\"x\": \"1.0\", \"y\": 23.0, \"showarrow\": false, \"text\": \"35.38%\", \"xanchor\": \"center\", \"yanchor\": \"center\", \"font\": {\"color\": \"yellow\"}}]}, {\"showLink\": true, \"linkText\": \"Export to plot.ly\"})});</script>"
      ],
      "text/vnd.plotly.v1+html": [
       "<div id=\"14b06aaa-b2ac-4a2d-9636-cda9648b7892\" style=\"height: 525px; width: 100%;\" class=\"plotly-graph-div\"></div><script type=\"text/javascript\">require([\"plotly\"], function(Plotly) { window.PLOTLYENV=window.PLOTLYENV || {};window.PLOTLYENV.BASE_URL=\"https://plot.ly\";Plotly.newPlot(\"14b06aaa-b2ac-4a2d-9636-cda9648b7892\", [{\"type\": \"bar\", \"x\": [\"0.0\", \"1.0\"], \"y\": [84, 46]}], {\"title\": \"Parking lot yes\", \"titlefont\": {\"size\": 50}, \"yaxis\": {\"title\": \"count\"}, \"xaxis\": {\"type\": \"category\"}, \"annotations\": [{\"x\": \"0.0\", \"y\": 84, \"showarrow\": false, \"font\": {\"size\": 19.5}, \"text\": \"84\", \"xanchor\": \"center\", \"yanchor\": \"bottom\"}, {\"x\": \"1.0\", \"y\": 46, \"showarrow\": false, \"font\": {\"size\": 19.5}, \"text\": \"46\", \"xanchor\": \"center\", \"yanchor\": \"bottom\"}, {\"x\": \"0.0\", \"y\": 42.0, \"showarrow\": false, \"text\": \"64.62%\", \"xanchor\": \"center\", \"yanchor\": \"center\", \"font\": {\"color\": \"yellow\"}}, {\"x\": \"1.0\", \"y\": 23.0, \"showarrow\": false, \"text\": \"35.38%\", \"xanchor\": \"center\", \"yanchor\": \"center\", \"font\": {\"color\": \"yellow\"}}]}, {\"showLink\": true, \"linkText\": \"Export to plot.ly\"})});</script>"
      ]
     },
     "metadata": {},
     "output_type": "display_data"
    },
    {
     "data": {
      "application/vnd.plotly.v1+json": {
       "data": [
        {
         "type": "bar",
         "x": [
          "No_Alcohol_Served",
          "Wine-Beer",
          "Full_Bar"
         ],
         "y": [
          87,
          34,
          9
         ]
        }
       ],
       "layout": {
        "annotations": [
         {
          "font": {
           "size": 19.25
          },
          "showarrow": false,
          "text": "87",
          "x": "No_Alcohol_Served",
          "xanchor": "center",
          "y": 87,
          "yanchor": "bottom"
         },
         {
          "font": {
           "size": 19.25
          },
          "showarrow": false,
          "text": "34",
          "x": "Wine-Beer",
          "xanchor": "center",
          "y": 34,
          "yanchor": "bottom"
         },
         {
          "font": {
           "size": 19.25
          },
          "showarrow": false,
          "text": "9",
          "x": "Full_Bar",
          "xanchor": "center",
          "y": 9,
          "yanchor": "bottom"
         },
         {
          "font": {
           "color": "yellow"
          },
          "showarrow": false,
          "text": "66.92%",
          "x": "No_Alcohol_Served",
          "xanchor": "center",
          "y": 43.5,
          "yanchor": "center"
         },
         {
          "font": {
           "color": "yellow"
          },
          "showarrow": false,
          "text": "26.15%",
          "x": "Wine-Beer",
          "xanchor": "center",
          "y": 17,
          "yanchor": "center"
         }
        ],
        "title": "Alcohol",
        "titlefont": {
         "size": 50
        },
        "xaxis": {
         "type": "category"
        },
        "yaxis": {
         "title": "count"
        }
       }
      },
      "text/html": [
       "<div id=\"5fc7aa1f-4866-411e-804c-dcca07b93e33\" style=\"height: 525px; width: 100%;\" class=\"plotly-graph-div\"></div><script type=\"text/javascript\">require([\"plotly\"], function(Plotly) { window.PLOTLYENV=window.PLOTLYENV || {};window.PLOTLYENV.BASE_URL=\"https://plot.ly\";Plotly.newPlot(\"5fc7aa1f-4866-411e-804c-dcca07b93e33\", [{\"type\": \"bar\", \"x\": [\"No_Alcohol_Served\", \"Wine-Beer\", \"Full_Bar\"], \"y\": [87, 34, 9]}], {\"title\": \"Alcohol\", \"titlefont\": {\"size\": 50}, \"yaxis\": {\"title\": \"count\"}, \"xaxis\": {\"type\": \"category\"}, \"annotations\": [{\"x\": \"No_Alcohol_Served\", \"y\": 87, \"showarrow\": false, \"font\": {\"size\": 19.25}, \"text\": \"87\", \"xanchor\": \"center\", \"yanchor\": \"bottom\"}, {\"x\": \"Wine-Beer\", \"y\": 34, \"showarrow\": false, \"font\": {\"size\": 19.25}, \"text\": \"34\", \"xanchor\": \"center\", \"yanchor\": \"bottom\"}, {\"x\": \"Full_Bar\", \"y\": 9, \"showarrow\": false, \"font\": {\"size\": 19.25}, \"text\": \"9\", \"xanchor\": \"center\", \"yanchor\": \"bottom\"}, {\"x\": \"No_Alcohol_Served\", \"y\": 43.5, \"showarrow\": false, \"text\": \"66.92%\", \"xanchor\": \"center\", \"yanchor\": \"center\", \"font\": {\"color\": \"yellow\"}}, {\"x\": \"Wine-Beer\", \"y\": 17.0, \"showarrow\": false, \"text\": \"26.15%\", \"xanchor\": \"center\", \"yanchor\": \"center\", \"font\": {\"color\": \"yellow\"}}]}, {\"showLink\": true, \"linkText\": \"Export to plot.ly\"})});</script>"
      ],
      "text/vnd.plotly.v1+html": [
       "<div id=\"5fc7aa1f-4866-411e-804c-dcca07b93e33\" style=\"height: 525px; width: 100%;\" class=\"plotly-graph-div\"></div><script type=\"text/javascript\">require([\"plotly\"], function(Plotly) { window.PLOTLYENV=window.PLOTLYENV || {};window.PLOTLYENV.BASE_URL=\"https://plot.ly\";Plotly.newPlot(\"5fc7aa1f-4866-411e-804c-dcca07b93e33\", [{\"type\": \"bar\", \"x\": [\"No_Alcohol_Served\", \"Wine-Beer\", \"Full_Bar\"], \"y\": [87, 34, 9]}], {\"title\": \"Alcohol\", \"titlefont\": {\"size\": 50}, \"yaxis\": {\"title\": \"count\"}, \"xaxis\": {\"type\": \"category\"}, \"annotations\": [{\"x\": \"No_Alcohol_Served\", \"y\": 87, \"showarrow\": false, \"font\": {\"size\": 19.25}, \"text\": \"87\", \"xanchor\": \"center\", \"yanchor\": \"bottom\"}, {\"x\": \"Wine-Beer\", \"y\": 34, \"showarrow\": false, \"font\": {\"size\": 19.25}, \"text\": \"34\", \"xanchor\": \"center\", \"yanchor\": \"bottom\"}, {\"x\": \"Full_Bar\", \"y\": 9, \"showarrow\": false, \"font\": {\"size\": 19.25}, \"text\": \"9\", \"xanchor\": \"center\", \"yanchor\": \"bottom\"}, {\"x\": \"No_Alcohol_Served\", \"y\": 43.5, \"showarrow\": false, \"text\": \"66.92%\", \"xanchor\": \"center\", \"yanchor\": \"center\", \"font\": {\"color\": \"yellow\"}}, {\"x\": \"Wine-Beer\", \"y\": 17.0, \"showarrow\": false, \"text\": \"26.15%\", \"xanchor\": \"center\", \"yanchor\": \"center\", \"font\": {\"color\": \"yellow\"}}]}, {\"showLink\": true, \"linkText\": \"Export to plot.ly\"})});</script>"
      ]
     },
     "metadata": {},
     "output_type": "display_data"
    },
    {
     "data": {
      "application/vnd.plotly.v1+json": {
       "data": [
        {
         "type": "bar",
         "x": [
          "none",
          "not permitted",
          "section",
          "permitted",
          "only at bar"
         ],
         "y": [
          70,
          25,
          24,
          9,
          2
         ]
        }
       ],
       "layout": {
        "annotations": [
         {
          "font": {
           "size": 18.75
          },
          "showarrow": false,
          "text": "70",
          "x": "none",
          "xanchor": "center",
          "y": 70,
          "yanchor": "bottom"
         },
         {
          "font": {
           "size": 18.75
          },
          "showarrow": false,
          "text": "25",
          "x": "not permitted",
          "xanchor": "center",
          "y": 25,
          "yanchor": "bottom"
         },
         {
          "font": {
           "size": 18.75
          },
          "showarrow": false,
          "text": "24",
          "x": "section",
          "xanchor": "center",
          "y": 24,
          "yanchor": "bottom"
         },
         {
          "font": {
           "size": 18.75
          },
          "showarrow": false,
          "text": "9",
          "x": "permitted",
          "xanchor": "center",
          "y": 9,
          "yanchor": "bottom"
         },
         {
          "font": {
           "size": 18.75
          },
          "showarrow": false,
          "text": "2",
          "x": "only at bar",
          "xanchor": "center",
          "y": 2,
          "yanchor": "bottom"
         },
         {
          "font": {
           "color": "yellow"
          },
          "showarrow": false,
          "text": "53.85%",
          "x": "none",
          "xanchor": "center",
          "y": 35,
          "yanchor": "center"
         },
         {
          "font": {
           "color": "yellow"
          },
          "showarrow": false,
          "text": "19.23%",
          "x": "not permitted",
          "xanchor": "center",
          "y": 12.5,
          "yanchor": "center"
         },
         {
          "font": {
           "color": "yellow"
          },
          "showarrow": false,
          "text": "18.46%",
          "x": "section",
          "xanchor": "center",
          "y": 12,
          "yanchor": "center"
         }
        ],
        "title": "Smoking area",
        "titlefont": {
         "size": 50
        },
        "xaxis": {
         "type": "category"
        },
        "yaxis": {
         "title": "count"
        }
       }
      },
      "text/html": [
       "<div id=\"405f7fca-6bc1-4bac-9596-e95199a3370e\" style=\"height: 525px; width: 100%;\" class=\"plotly-graph-div\"></div><script type=\"text/javascript\">require([\"plotly\"], function(Plotly) { window.PLOTLYENV=window.PLOTLYENV || {};window.PLOTLYENV.BASE_URL=\"https://plot.ly\";Plotly.newPlot(\"405f7fca-6bc1-4bac-9596-e95199a3370e\", [{\"type\": \"bar\", \"x\": [\"none\", \"not permitted\", \"section\", \"permitted\", \"only at bar\"], \"y\": [70, 25, 24, 9, 2]}], {\"title\": \"Smoking area\", \"titlefont\": {\"size\": 50}, \"yaxis\": {\"title\": \"count\"}, \"xaxis\": {\"type\": \"category\"}, \"annotations\": [{\"x\": \"none\", \"y\": 70, \"showarrow\": false, \"font\": {\"size\": 18.75}, \"text\": \"70\", \"xanchor\": \"center\", \"yanchor\": \"bottom\"}, {\"x\": \"not permitted\", \"y\": 25, \"showarrow\": false, \"font\": {\"size\": 18.75}, \"text\": \"25\", \"xanchor\": \"center\", \"yanchor\": \"bottom\"}, {\"x\": \"section\", \"y\": 24, \"showarrow\": false, \"font\": {\"size\": 18.75}, \"text\": \"24\", \"xanchor\": \"center\", \"yanchor\": \"bottom\"}, {\"x\": \"permitted\", \"y\": 9, \"showarrow\": false, \"font\": {\"size\": 18.75}, \"text\": \"9\", \"xanchor\": \"center\", \"yanchor\": \"bottom\"}, {\"x\": \"only at bar\", \"y\": 2, \"showarrow\": false, \"font\": {\"size\": 18.75}, \"text\": \"2\", \"xanchor\": \"center\", \"yanchor\": \"bottom\"}, {\"x\": \"none\", \"y\": 35.0, \"showarrow\": false, \"text\": \"53.85%\", \"xanchor\": \"center\", \"yanchor\": \"center\", \"font\": {\"color\": \"yellow\"}}, {\"x\": \"not permitted\", \"y\": 12.5, \"showarrow\": false, \"text\": \"19.23%\", \"xanchor\": \"center\", \"yanchor\": \"center\", \"font\": {\"color\": \"yellow\"}}, {\"x\": \"section\", \"y\": 12.0, \"showarrow\": false, \"text\": \"18.46%\", \"xanchor\": \"center\", \"yanchor\": \"center\", \"font\": {\"color\": \"yellow\"}}]}, {\"showLink\": true, \"linkText\": \"Export to plot.ly\"})});</script>"
      ],
      "text/vnd.plotly.v1+html": [
       "<div id=\"405f7fca-6bc1-4bac-9596-e95199a3370e\" style=\"height: 525px; width: 100%;\" class=\"plotly-graph-div\"></div><script type=\"text/javascript\">require([\"plotly\"], function(Plotly) { window.PLOTLYENV=window.PLOTLYENV || {};window.PLOTLYENV.BASE_URL=\"https://plot.ly\";Plotly.newPlot(\"405f7fca-6bc1-4bac-9596-e95199a3370e\", [{\"type\": \"bar\", \"x\": [\"none\", \"not permitted\", \"section\", \"permitted\", \"only at bar\"], \"y\": [70, 25, 24, 9, 2]}], {\"title\": \"Smoking area\", \"titlefont\": {\"size\": 50}, \"yaxis\": {\"title\": \"count\"}, \"xaxis\": {\"type\": \"category\"}, \"annotations\": [{\"x\": \"none\", \"y\": 70, \"showarrow\": false, \"font\": {\"size\": 18.75}, \"text\": \"70\", \"xanchor\": \"center\", \"yanchor\": \"bottom\"}, {\"x\": \"not permitted\", \"y\": 25, \"showarrow\": false, \"font\": {\"size\": 18.75}, \"text\": \"25\", \"xanchor\": \"center\", \"yanchor\": \"bottom\"}, {\"x\": \"section\", \"y\": 24, \"showarrow\": false, \"font\": {\"size\": 18.75}, \"text\": \"24\", \"xanchor\": \"center\", \"yanchor\": \"bottom\"}, {\"x\": \"permitted\", \"y\": 9, \"showarrow\": false, \"font\": {\"size\": 18.75}, \"text\": \"9\", \"xanchor\": \"center\", \"yanchor\": \"bottom\"}, {\"x\": \"only at bar\", \"y\": 2, \"showarrow\": false, \"font\": {\"size\": 18.75}, \"text\": \"2\", \"xanchor\": \"center\", \"yanchor\": \"bottom\"}, {\"x\": \"none\", \"y\": 35.0, \"showarrow\": false, \"text\": \"53.85%\", \"xanchor\": \"center\", \"yanchor\": \"center\", \"font\": {\"color\": \"yellow\"}}, {\"x\": \"not permitted\", \"y\": 12.5, \"showarrow\": false, \"text\": \"19.23%\", \"xanchor\": \"center\", \"yanchor\": \"center\", \"font\": {\"color\": \"yellow\"}}, {\"x\": \"section\", \"y\": 12.0, \"showarrow\": false, \"text\": \"18.46%\", \"xanchor\": \"center\", \"yanchor\": \"center\", \"font\": {\"color\": \"yellow\"}}]}, {\"showLink\": true, \"linkText\": \"Export to plot.ly\"})});</script>"
      ]
     },
     "metadata": {},
     "output_type": "display_data"
    },
    {
     "data": {
      "application/vnd.plotly.v1+json": {
       "data": [
        {
         "type": "bar",
         "x": [
          "familiar",
          "quiet"
         ],
         "y": [
          121,
          9
         ]
        }
       ],
       "layout": {
        "annotations": [
         {
          "font": {
           "size": 19.5
          },
          "showarrow": false,
          "text": "121",
          "x": "familiar",
          "xanchor": "center",
          "y": 121,
          "yanchor": "bottom"
         },
         {
          "font": {
           "size": 19.5
          },
          "showarrow": false,
          "text": "9",
          "x": "quiet",
          "xanchor": "center",
          "y": 9,
          "yanchor": "bottom"
         },
         {
          "font": {
           "color": "yellow"
          },
          "showarrow": false,
          "text": "93.08%",
          "x": "familiar",
          "xanchor": "center",
          "y": 60.5,
          "yanchor": "center"
         }
        ],
        "title": "Rambience",
        "titlefont": {
         "size": 50
        },
        "xaxis": {
         "type": "category"
        },
        "yaxis": {
         "title": "count"
        }
       }
      },
      "text/html": [
       "<div id=\"f8bf624b-303c-4b2b-8dbb-c325adc70be0\" style=\"height: 525px; width: 100%;\" class=\"plotly-graph-div\"></div><script type=\"text/javascript\">require([\"plotly\"], function(Plotly) { window.PLOTLYENV=window.PLOTLYENV || {};window.PLOTLYENV.BASE_URL=\"https://plot.ly\";Plotly.newPlot(\"f8bf624b-303c-4b2b-8dbb-c325adc70be0\", [{\"type\": \"bar\", \"x\": [\"familiar\", \"quiet\"], \"y\": [121, 9]}], {\"title\": \"Rambience\", \"titlefont\": {\"size\": 50}, \"yaxis\": {\"title\": \"count\"}, \"xaxis\": {\"type\": \"category\"}, \"annotations\": [{\"x\": \"familiar\", \"y\": 121, \"showarrow\": false, \"font\": {\"size\": 19.5}, \"text\": \"121\", \"xanchor\": \"center\", \"yanchor\": \"bottom\"}, {\"x\": \"quiet\", \"y\": 9, \"showarrow\": false, \"font\": {\"size\": 19.5}, \"text\": \"9\", \"xanchor\": \"center\", \"yanchor\": \"bottom\"}, {\"x\": \"familiar\", \"y\": 60.5, \"showarrow\": false, \"text\": \"93.08%\", \"xanchor\": \"center\", \"yanchor\": \"center\", \"font\": {\"color\": \"yellow\"}}]}, {\"showLink\": true, \"linkText\": \"Export to plot.ly\"})});</script>"
      ],
      "text/vnd.plotly.v1+html": [
       "<div id=\"f8bf624b-303c-4b2b-8dbb-c325adc70be0\" style=\"height: 525px; width: 100%;\" class=\"plotly-graph-div\"></div><script type=\"text/javascript\">require([\"plotly\"], function(Plotly) { window.PLOTLYENV=window.PLOTLYENV || {};window.PLOTLYENV.BASE_URL=\"https://plot.ly\";Plotly.newPlot(\"f8bf624b-303c-4b2b-8dbb-c325adc70be0\", [{\"type\": \"bar\", \"x\": [\"familiar\", \"quiet\"], \"y\": [121, 9]}], {\"title\": \"Rambience\", \"titlefont\": {\"size\": 50}, \"yaxis\": {\"title\": \"count\"}, \"xaxis\": {\"type\": \"category\"}, \"annotations\": [{\"x\": \"familiar\", \"y\": 121, \"showarrow\": false, \"font\": {\"size\": 19.5}, \"text\": \"121\", \"xanchor\": \"center\", \"yanchor\": \"bottom\"}, {\"x\": \"quiet\", \"y\": 9, \"showarrow\": false, \"font\": {\"size\": 19.5}, \"text\": \"9\", \"xanchor\": \"center\", \"yanchor\": \"bottom\"}, {\"x\": \"familiar\", \"y\": 60.5, \"showarrow\": false, \"text\": \"93.08%\", \"xanchor\": \"center\", \"yanchor\": \"center\", \"font\": {\"color\": \"yellow\"}}]}, {\"showLink\": true, \"linkText\": \"Export to plot.ly\"})});</script>"
      ]
     },
     "metadata": {},
     "output_type": "display_data"
    },
    {
     "data": {
      "application/vnd.plotly.v1+json": {
       "data": [
        {
         "type": "bar",
         "x": [
          "none",
          "variety",
          "Internet"
         ],
         "y": [
          119,
          7,
          4
         ]
        }
       ],
       "layout": {
        "annotations": [
         {
          "font": {
           "size": 19.25
          },
          "showarrow": false,
          "text": "119",
          "x": "none",
          "xanchor": "center",
          "y": 119,
          "yanchor": "bottom"
         },
         {
          "font": {
           "size": 19.25
          },
          "showarrow": false,
          "text": "7",
          "x": "variety",
          "xanchor": "center",
          "y": 7,
          "yanchor": "bottom"
         },
         {
          "font": {
           "size": 19.25
          },
          "showarrow": false,
          "text": "4",
          "x": "Internet",
          "xanchor": "center",
          "y": 4,
          "yanchor": "bottom"
         },
         {
          "font": {
           "color": "yellow"
          },
          "showarrow": false,
          "text": "91.54%",
          "x": "none",
          "xanchor": "center",
          "y": 59.5,
          "yanchor": "center"
         }
        ],
        "title": "Other services",
        "titlefont": {
         "size": 50
        },
        "xaxis": {
         "type": "category"
        },
        "yaxis": {
         "title": "count"
        }
       }
      },
      "text/html": [
       "<div id=\"95768e2e-f8d6-4175-98d7-cd8ec5896f3e\" style=\"height: 525px; width: 100%;\" class=\"plotly-graph-div\"></div><script type=\"text/javascript\">require([\"plotly\"], function(Plotly) { window.PLOTLYENV=window.PLOTLYENV || {};window.PLOTLYENV.BASE_URL=\"https://plot.ly\";Plotly.newPlot(\"95768e2e-f8d6-4175-98d7-cd8ec5896f3e\", [{\"type\": \"bar\", \"x\": [\"none\", \"variety\", \"Internet\"], \"y\": [119, 7, 4]}], {\"title\": \"Other services\", \"titlefont\": {\"size\": 50}, \"yaxis\": {\"title\": \"count\"}, \"xaxis\": {\"type\": \"category\"}, \"annotations\": [{\"x\": \"none\", \"y\": 119, \"showarrow\": false, \"font\": {\"size\": 19.25}, \"text\": \"119\", \"xanchor\": \"center\", \"yanchor\": \"bottom\"}, {\"x\": \"variety\", \"y\": 7, \"showarrow\": false, \"font\": {\"size\": 19.25}, \"text\": \"7\", \"xanchor\": \"center\", \"yanchor\": \"bottom\"}, {\"x\": \"Internet\", \"y\": 4, \"showarrow\": false, \"font\": {\"size\": 19.25}, \"text\": \"4\", \"xanchor\": \"center\", \"yanchor\": \"bottom\"}, {\"x\": \"none\", \"y\": 59.5, \"showarrow\": false, \"text\": \"91.54%\", \"xanchor\": \"center\", \"yanchor\": \"center\", \"font\": {\"color\": \"yellow\"}}]}, {\"showLink\": true, \"linkText\": \"Export to plot.ly\"})});</script>"
      ],
      "text/vnd.plotly.v1+html": [
       "<div id=\"95768e2e-f8d6-4175-98d7-cd8ec5896f3e\" style=\"height: 525px; width: 100%;\" class=\"plotly-graph-div\"></div><script type=\"text/javascript\">require([\"plotly\"], function(Plotly) { window.PLOTLYENV=window.PLOTLYENV || {};window.PLOTLYENV.BASE_URL=\"https://plot.ly\";Plotly.newPlot(\"95768e2e-f8d6-4175-98d7-cd8ec5896f3e\", [{\"type\": \"bar\", \"x\": [\"none\", \"variety\", \"Internet\"], \"y\": [119, 7, 4]}], {\"title\": \"Other services\", \"titlefont\": {\"size\": 50}, \"yaxis\": {\"title\": \"count\"}, \"xaxis\": {\"type\": \"category\"}, \"annotations\": [{\"x\": \"none\", \"y\": 119, \"showarrow\": false, \"font\": {\"size\": 19.25}, \"text\": \"119\", \"xanchor\": \"center\", \"yanchor\": \"bottom\"}, {\"x\": \"variety\", \"y\": 7, \"showarrow\": false, \"font\": {\"size\": 19.25}, \"text\": \"7\", \"xanchor\": \"center\", \"yanchor\": \"bottom\"}, {\"x\": \"Internet\", \"y\": 4, \"showarrow\": false, \"font\": {\"size\": 19.25}, \"text\": \"4\", \"xanchor\": \"center\", \"yanchor\": \"bottom\"}, {\"x\": \"none\", \"y\": 59.5, \"showarrow\": false, \"text\": \"91.54%\", \"xanchor\": \"center\", \"yanchor\": \"center\", \"font\": {\"color\": \"yellow\"}}]}, {\"showLink\": true, \"linkText\": \"Export to plot.ly\"})});</script>"
      ]
     },
     "metadata": {},
     "output_type": "display_data"
    },
    {
     "data": {
      "application/vnd.plotly.v1+json": {
       "data": [
        {
         "type": "bar",
         "x": [
          "medium",
          "low",
          "high"
         ],
         "y": [
          60,
          45,
          25
         ]
        }
       ],
       "layout": {
        "annotations": [
         {
          "font": {
           "size": 19.25
          },
          "showarrow": false,
          "text": "60",
          "x": "medium",
          "xanchor": "center",
          "y": 60,
          "yanchor": "bottom"
         },
         {
          "font": {
           "size": 19.25
          },
          "showarrow": false,
          "text": "45",
          "x": "low",
          "xanchor": "center",
          "y": 45,
          "yanchor": "bottom"
         },
         {
          "font": {
           "size": 19.25
          },
          "showarrow": false,
          "text": "25",
          "x": "high",
          "xanchor": "center",
          "y": 25,
          "yanchor": "bottom"
         },
         {
          "font": {
           "color": "yellow"
          },
          "showarrow": false,
          "text": "46.15%",
          "x": "medium",
          "xanchor": "center",
          "y": 30,
          "yanchor": "center"
         },
         {
          "font": {
           "color": "yellow"
          },
          "showarrow": false,
          "text": "34.62%",
          "x": "low",
          "xanchor": "center",
          "y": 22.5,
          "yanchor": "center"
         },
         {
          "font": {
           "color": "yellow"
          },
          "showarrow": false,
          "text": "19.23%",
          "x": "high",
          "xanchor": "center",
          "y": 12.5,
          "yanchor": "center"
         }
        ],
        "title": "Price",
        "titlefont": {
         "size": 50
        },
        "xaxis": {
         "type": "category"
        },
        "yaxis": {
         "title": "count"
        }
       }
      },
      "text/html": [
       "<div id=\"cce86bdd-74fc-4133-9842-8906419e02d1\" style=\"height: 525px; width: 100%;\" class=\"plotly-graph-div\"></div><script type=\"text/javascript\">require([\"plotly\"], function(Plotly) { window.PLOTLYENV=window.PLOTLYENV || {};window.PLOTLYENV.BASE_URL=\"https://plot.ly\";Plotly.newPlot(\"cce86bdd-74fc-4133-9842-8906419e02d1\", [{\"type\": \"bar\", \"x\": [\"medium\", \"low\", \"high\"], \"y\": [60, 45, 25]}], {\"title\": \"Price\", \"titlefont\": {\"size\": 50}, \"yaxis\": {\"title\": \"count\"}, \"xaxis\": {\"type\": \"category\"}, \"annotations\": [{\"x\": \"medium\", \"y\": 60, \"showarrow\": false, \"font\": {\"size\": 19.25}, \"text\": \"60\", \"xanchor\": \"center\", \"yanchor\": \"bottom\"}, {\"x\": \"low\", \"y\": 45, \"showarrow\": false, \"font\": {\"size\": 19.25}, \"text\": \"45\", \"xanchor\": \"center\", \"yanchor\": \"bottom\"}, {\"x\": \"high\", \"y\": 25, \"showarrow\": false, \"font\": {\"size\": 19.25}, \"text\": \"25\", \"xanchor\": \"center\", \"yanchor\": \"bottom\"}, {\"x\": \"medium\", \"y\": 30.0, \"showarrow\": false, \"text\": \"46.15%\", \"xanchor\": \"center\", \"yanchor\": \"center\", \"font\": {\"color\": \"yellow\"}}, {\"x\": \"low\", \"y\": 22.5, \"showarrow\": false, \"text\": \"34.62%\", \"xanchor\": \"center\", \"yanchor\": \"center\", \"font\": {\"color\": \"yellow\"}}, {\"x\": \"high\", \"y\": 12.5, \"showarrow\": false, \"text\": \"19.23%\", \"xanchor\": \"center\", \"yanchor\": \"center\", \"font\": {\"color\": \"yellow\"}}]}, {\"showLink\": true, \"linkText\": \"Export to plot.ly\"})});</script>"
      ],
      "text/vnd.plotly.v1+html": [
       "<div id=\"cce86bdd-74fc-4133-9842-8906419e02d1\" style=\"height: 525px; width: 100%;\" class=\"plotly-graph-div\"></div><script type=\"text/javascript\">require([\"plotly\"], function(Plotly) { window.PLOTLYENV=window.PLOTLYENV || {};window.PLOTLYENV.BASE_URL=\"https://plot.ly\";Plotly.newPlot(\"cce86bdd-74fc-4133-9842-8906419e02d1\", [{\"type\": \"bar\", \"x\": [\"medium\", \"low\", \"high\"], \"y\": [60, 45, 25]}], {\"title\": \"Price\", \"titlefont\": {\"size\": 50}, \"yaxis\": {\"title\": \"count\"}, \"xaxis\": {\"type\": \"category\"}, \"annotations\": [{\"x\": \"medium\", \"y\": 60, \"showarrow\": false, \"font\": {\"size\": 19.25}, \"text\": \"60\", \"xanchor\": \"center\", \"yanchor\": \"bottom\"}, {\"x\": \"low\", \"y\": 45, \"showarrow\": false, \"font\": {\"size\": 19.25}, \"text\": \"45\", \"xanchor\": \"center\", \"yanchor\": \"bottom\"}, {\"x\": \"high\", \"y\": 25, \"showarrow\": false, \"font\": {\"size\": 19.25}, \"text\": \"25\", \"xanchor\": \"center\", \"yanchor\": \"bottom\"}, {\"x\": \"medium\", \"y\": 30.0, \"showarrow\": false, \"text\": \"46.15%\", \"xanchor\": \"center\", \"yanchor\": \"center\", \"font\": {\"color\": \"yellow\"}}, {\"x\": \"low\", \"y\": 22.5, \"showarrow\": false, \"text\": \"34.62%\", \"xanchor\": \"center\", \"yanchor\": \"center\", \"font\": {\"color\": \"yellow\"}}, {\"x\": \"high\", \"y\": 12.5, \"showarrow\": false, \"text\": \"19.23%\", \"xanchor\": \"center\", \"yanchor\": \"center\", \"font\": {\"color\": \"yellow\"}}]}, {\"showLink\": true, \"linkText\": \"Export to plot.ly\"})});</script>"
      ]
     },
     "metadata": {},
     "output_type": "display_data"
    },
    {
     "data": {
      "application/vnd.plotly.v1+json": {
       "data": [
        {
         "type": "bar",
         "x": [
          "informal",
          "casual",
          "formal"
         ],
         "y": [
          118,
          10,
          2
         ]
        }
       ],
       "layout": {
        "annotations": [
         {
          "font": {
           "size": 19.25
          },
          "showarrow": false,
          "text": "118",
          "x": "informal",
          "xanchor": "center",
          "y": 118,
          "yanchor": "bottom"
         },
         {
          "font": {
           "size": 19.25
          },
          "showarrow": false,
          "text": "10",
          "x": "casual",
          "xanchor": "center",
          "y": 10,
          "yanchor": "bottom"
         },
         {
          "font": {
           "size": 19.25
          },
          "showarrow": false,
          "text": "2",
          "x": "formal",
          "xanchor": "center",
          "y": 2,
          "yanchor": "bottom"
         },
         {
          "font": {
           "color": "yellow"
          },
          "showarrow": false,
          "text": "90.77%",
          "x": "informal",
          "xanchor": "center",
          "y": 59,
          "yanchor": "center"
         }
        ],
        "title": "Dress code",
        "titlefont": {
         "size": 50
        },
        "xaxis": {
         "type": "category"
        },
        "yaxis": {
         "title": "count"
        }
       }
      },
      "text/html": [
       "<div id=\"9cdaaf13-5de3-4fc6-9fe3-d953c469114e\" style=\"height: 525px; width: 100%;\" class=\"plotly-graph-div\"></div><script type=\"text/javascript\">require([\"plotly\"], function(Plotly) { window.PLOTLYENV=window.PLOTLYENV || {};window.PLOTLYENV.BASE_URL=\"https://plot.ly\";Plotly.newPlot(\"9cdaaf13-5de3-4fc6-9fe3-d953c469114e\", [{\"type\": \"bar\", \"x\": [\"informal\", \"casual\", \"formal\"], \"y\": [118, 10, 2]}], {\"title\": \"Dress code\", \"titlefont\": {\"size\": 50}, \"yaxis\": {\"title\": \"count\"}, \"xaxis\": {\"type\": \"category\"}, \"annotations\": [{\"x\": \"informal\", \"y\": 118, \"showarrow\": false, \"font\": {\"size\": 19.25}, \"text\": \"118\", \"xanchor\": \"center\", \"yanchor\": \"bottom\"}, {\"x\": \"casual\", \"y\": 10, \"showarrow\": false, \"font\": {\"size\": 19.25}, \"text\": \"10\", \"xanchor\": \"center\", \"yanchor\": \"bottom\"}, {\"x\": \"formal\", \"y\": 2, \"showarrow\": false, \"font\": {\"size\": 19.25}, \"text\": \"2\", \"xanchor\": \"center\", \"yanchor\": \"bottom\"}, {\"x\": \"informal\", \"y\": 59.0, \"showarrow\": false, \"text\": \"90.77%\", \"xanchor\": \"center\", \"yanchor\": \"center\", \"font\": {\"color\": \"yellow\"}}]}, {\"showLink\": true, \"linkText\": \"Export to plot.ly\"})});</script>"
      ],
      "text/vnd.plotly.v1+html": [
       "<div id=\"9cdaaf13-5de3-4fc6-9fe3-d953c469114e\" style=\"height: 525px; width: 100%;\" class=\"plotly-graph-div\"></div><script type=\"text/javascript\">require([\"plotly\"], function(Plotly) { window.PLOTLYENV=window.PLOTLYENV || {};window.PLOTLYENV.BASE_URL=\"https://plot.ly\";Plotly.newPlot(\"9cdaaf13-5de3-4fc6-9fe3-d953c469114e\", [{\"type\": \"bar\", \"x\": [\"informal\", \"casual\", \"formal\"], \"y\": [118, 10, 2]}], {\"title\": \"Dress code\", \"titlefont\": {\"size\": 50}, \"yaxis\": {\"title\": \"count\"}, \"xaxis\": {\"type\": \"category\"}, \"annotations\": [{\"x\": \"informal\", \"y\": 118, \"showarrow\": false, \"font\": {\"size\": 19.25}, \"text\": \"118\", \"xanchor\": \"center\", \"yanchor\": \"bottom\"}, {\"x\": \"casual\", \"y\": 10, \"showarrow\": false, \"font\": {\"size\": 19.25}, \"text\": \"10\", \"xanchor\": \"center\", \"yanchor\": \"bottom\"}, {\"x\": \"formal\", \"y\": 2, \"showarrow\": false, \"font\": {\"size\": 19.25}, \"text\": \"2\", \"xanchor\": \"center\", \"yanchor\": \"bottom\"}, {\"x\": \"informal\", \"y\": 59.0, \"showarrow\": false, \"text\": \"90.77%\", \"xanchor\": \"center\", \"yanchor\": \"center\", \"font\": {\"color\": \"yellow\"}}]}, {\"showLink\": true, \"linkText\": \"Export to plot.ly\"})});</script>"
      ]
     },
     "metadata": {},
     "output_type": "display_data"
    },
    {
     "data": {
      "application/vnd.plotly.v1+json": {
       "data": [
        {
         "type": "bar",
         "x": [
          "no_accessibility",
          "completely",
          "partially"
         ],
         "y": [
          76,
          45,
          9
         ]
        }
       ],
       "layout": {
        "annotations": [
         {
          "font": {
           "size": 19.25
          },
          "showarrow": false,
          "text": "76",
          "x": "no_accessibility",
          "xanchor": "center",
          "y": 76,
          "yanchor": "bottom"
         },
         {
          "font": {
           "size": 19.25
          },
          "showarrow": false,
          "text": "45",
          "x": "completely",
          "xanchor": "center",
          "y": 45,
          "yanchor": "bottom"
         },
         {
          "font": {
           "size": 19.25
          },
          "showarrow": false,
          "text": "9",
          "x": "partially",
          "xanchor": "center",
          "y": 9,
          "yanchor": "bottom"
         },
         {
          "font": {
           "color": "yellow"
          },
          "showarrow": false,
          "text": "58.46%",
          "x": "no_accessibility",
          "xanchor": "center",
          "y": 38,
          "yanchor": "center"
         },
         {
          "font": {
           "color": "yellow"
          },
          "showarrow": false,
          "text": "34.62%",
          "x": "completely",
          "xanchor": "center",
          "y": 22.5,
          "yanchor": "center"
         }
        ],
        "title": "Accessibility",
        "titlefont": {
         "size": 50
        },
        "xaxis": {
         "type": "category"
        },
        "yaxis": {
         "title": "count"
        }
       }
      },
      "text/html": [
       "<div id=\"916c7939-aaec-485a-a287-ed4f6b2c011f\" style=\"height: 525px; width: 100%;\" class=\"plotly-graph-div\"></div><script type=\"text/javascript\">require([\"plotly\"], function(Plotly) { window.PLOTLYENV=window.PLOTLYENV || {};window.PLOTLYENV.BASE_URL=\"https://plot.ly\";Plotly.newPlot(\"916c7939-aaec-485a-a287-ed4f6b2c011f\", [{\"type\": \"bar\", \"x\": [\"no_accessibility\", \"completely\", \"partially\"], \"y\": [76, 45, 9]}], {\"title\": \"Accessibility\", \"titlefont\": {\"size\": 50}, \"yaxis\": {\"title\": \"count\"}, \"xaxis\": {\"type\": \"category\"}, \"annotations\": [{\"x\": \"no_accessibility\", \"y\": 76, \"showarrow\": false, \"font\": {\"size\": 19.25}, \"text\": \"76\", \"xanchor\": \"center\", \"yanchor\": \"bottom\"}, {\"x\": \"completely\", \"y\": 45, \"showarrow\": false, \"font\": {\"size\": 19.25}, \"text\": \"45\", \"xanchor\": \"center\", \"yanchor\": \"bottom\"}, {\"x\": \"partially\", \"y\": 9, \"showarrow\": false, \"font\": {\"size\": 19.25}, \"text\": \"9\", \"xanchor\": \"center\", \"yanchor\": \"bottom\"}, {\"x\": \"no_accessibility\", \"y\": 38.0, \"showarrow\": false, \"text\": \"58.46%\", \"xanchor\": \"center\", \"yanchor\": \"center\", \"font\": {\"color\": \"yellow\"}}, {\"x\": \"completely\", \"y\": 22.5, \"showarrow\": false, \"text\": \"34.62%\", \"xanchor\": \"center\", \"yanchor\": \"center\", \"font\": {\"color\": \"yellow\"}}]}, {\"showLink\": true, \"linkText\": \"Export to plot.ly\"})});</script>"
      ],
      "text/vnd.plotly.v1+html": [
       "<div id=\"916c7939-aaec-485a-a287-ed4f6b2c011f\" style=\"height: 525px; width: 100%;\" class=\"plotly-graph-div\"></div><script type=\"text/javascript\">require([\"plotly\"], function(Plotly) { window.PLOTLYENV=window.PLOTLYENV || {};window.PLOTLYENV.BASE_URL=\"https://plot.ly\";Plotly.newPlot(\"916c7939-aaec-485a-a287-ed4f6b2c011f\", [{\"type\": \"bar\", \"x\": [\"no_accessibility\", \"completely\", \"partially\"], \"y\": [76, 45, 9]}], {\"title\": \"Accessibility\", \"titlefont\": {\"size\": 50}, \"yaxis\": {\"title\": \"count\"}, \"xaxis\": {\"type\": \"category\"}, \"annotations\": [{\"x\": \"no_accessibility\", \"y\": 76, \"showarrow\": false, \"font\": {\"size\": 19.25}, \"text\": \"76\", \"xanchor\": \"center\", \"yanchor\": \"bottom\"}, {\"x\": \"completely\", \"y\": 45, \"showarrow\": false, \"font\": {\"size\": 19.25}, \"text\": \"45\", \"xanchor\": \"center\", \"yanchor\": \"bottom\"}, {\"x\": \"partially\", \"y\": 9, \"showarrow\": false, \"font\": {\"size\": 19.25}, \"text\": \"9\", \"xanchor\": \"center\", \"yanchor\": \"bottom\"}, {\"x\": \"no_accessibility\", \"y\": 38.0, \"showarrow\": false, \"text\": \"58.46%\", \"xanchor\": \"center\", \"yanchor\": \"center\", \"font\": {\"color\": \"yellow\"}}, {\"x\": \"completely\", \"y\": 22.5, \"showarrow\": false, \"text\": \"34.62%\", \"xanchor\": \"center\", \"yanchor\": \"center\", \"font\": {\"color\": \"yellow\"}}]}, {\"showLink\": true, \"linkText\": \"Export to plot.ly\"})});</script>"
      ]
     },
     "metadata": {},
     "output_type": "display_data"
    },
    {
     "data": {
      "application/vnd.plotly.v1+json": {
       "data": [
        {
         "type": "bar",
         "x": [
          "closed",
          "open"
         ],
         "y": [
          115,
          15
         ]
        }
       ],
       "layout": {
        "annotations": [
         {
          "font": {
           "size": 19.5
          },
          "showarrow": false,
          "text": "115",
          "x": "closed",
          "xanchor": "center",
          "y": 115,
          "yanchor": "bottom"
         },
         {
          "font": {
           "size": 19.5
          },
          "showarrow": false,
          "text": "15",
          "x": "open",
          "xanchor": "center",
          "y": 15,
          "yanchor": "bottom"
         },
         {
          "font": {
           "color": "yellow"
          },
          "showarrow": false,
          "text": "88.46%",
          "x": "closed",
          "xanchor": "center",
          "y": 57.5,
          "yanchor": "center"
         },
         {
          "font": {
           "color": "yellow"
          },
          "showarrow": false,
          "text": "11.54%",
          "x": "open",
          "xanchor": "center",
          "y": 7.5,
          "yanchor": "center"
         }
        ],
        "title": "Area",
        "titlefont": {
         "size": 50
        },
        "xaxis": {
         "type": "category"
        },
        "yaxis": {
         "title": "count"
        }
       }
      },
      "text/html": [
       "<div id=\"64093dee-9e6a-4c47-8068-5e81f6d7b727\" style=\"height: 525px; width: 100%;\" class=\"plotly-graph-div\"></div><script type=\"text/javascript\">require([\"plotly\"], function(Plotly) { window.PLOTLYENV=window.PLOTLYENV || {};window.PLOTLYENV.BASE_URL=\"https://plot.ly\";Plotly.newPlot(\"64093dee-9e6a-4c47-8068-5e81f6d7b727\", [{\"type\": \"bar\", \"x\": [\"closed\", \"open\"], \"y\": [115, 15]}], {\"title\": \"Area\", \"titlefont\": {\"size\": 50}, \"yaxis\": {\"title\": \"count\"}, \"xaxis\": {\"type\": \"category\"}, \"annotations\": [{\"x\": \"closed\", \"y\": 115, \"showarrow\": false, \"font\": {\"size\": 19.5}, \"text\": \"115\", \"xanchor\": \"center\", \"yanchor\": \"bottom\"}, {\"x\": \"open\", \"y\": 15, \"showarrow\": false, \"font\": {\"size\": 19.5}, \"text\": \"15\", \"xanchor\": \"center\", \"yanchor\": \"bottom\"}, {\"x\": \"closed\", \"y\": 57.5, \"showarrow\": false, \"text\": \"88.46%\", \"xanchor\": \"center\", \"yanchor\": \"center\", \"font\": {\"color\": \"yellow\"}}, {\"x\": \"open\", \"y\": 7.5, \"showarrow\": false, \"text\": \"11.54%\", \"xanchor\": \"center\", \"yanchor\": \"center\", \"font\": {\"color\": \"yellow\"}}]}, {\"showLink\": true, \"linkText\": \"Export to plot.ly\"})});</script>"
      ],
      "text/vnd.plotly.v1+html": [
       "<div id=\"64093dee-9e6a-4c47-8068-5e81f6d7b727\" style=\"height: 525px; width: 100%;\" class=\"plotly-graph-div\"></div><script type=\"text/javascript\">require([\"plotly\"], function(Plotly) { window.PLOTLYENV=window.PLOTLYENV || {};window.PLOTLYENV.BASE_URL=\"https://plot.ly\";Plotly.newPlot(\"64093dee-9e6a-4c47-8068-5e81f6d7b727\", [{\"type\": \"bar\", \"x\": [\"closed\", \"open\"], \"y\": [115, 15]}], {\"title\": \"Area\", \"titlefont\": {\"size\": 50}, \"yaxis\": {\"title\": \"count\"}, \"xaxis\": {\"type\": \"category\"}, \"annotations\": [{\"x\": \"closed\", \"y\": 115, \"showarrow\": false, \"font\": {\"size\": 19.5}, \"text\": \"115\", \"xanchor\": \"center\", \"yanchor\": \"bottom\"}, {\"x\": \"open\", \"y\": 15, \"showarrow\": false, \"font\": {\"size\": 19.5}, \"text\": \"15\", \"xanchor\": \"center\", \"yanchor\": \"bottom\"}, {\"x\": \"closed\", \"y\": 57.5, \"showarrow\": false, \"text\": \"88.46%\", \"xanchor\": \"center\", \"yanchor\": \"center\", \"font\": {\"color\": \"yellow\"}}, {\"x\": \"open\", \"y\": 7.5, \"showarrow\": false, \"text\": \"11.54%\", \"xanchor\": \"center\", \"yanchor\": \"center\", \"font\": {\"color\": \"yellow\"}}]}, {\"showLink\": true, \"linkText\": \"Export to plot.ly\"})});</script>"
      ]
     },
     "metadata": {},
     "output_type": "display_data"
    }
   ],
   "source": [
    "for col in X_val:\n",
    "    _ = plot_value_counts(col,0,1)"
   ]
  },
  {
   "cell_type": "markdown",
   "metadata": {},
   "source": [
    "### Calculate the mean rating of restaurant"
   ]
  },
  {
   "cell_type": "code",
   "execution_count": 109,
   "metadata": {
    "collapsed": true
   },
   "outputs": [],
   "source": [
    "#Method to get mean value\n",
    "def calculate_Mean(col1,col2):\n",
    "    col1 = col1*col2\n",
    "    mean =  (np.sum(col1,axis=1)/np.sum((col2 == 1.0), axis=1)).reshape(col1.shape[0],1)\n",
    "    return mean"
   ]
  },
  {
   "cell_type": "code",
   "execution_count": 110,
   "metadata": {
    "collapsed": true
   },
   "outputs": [],
   "source": [
    "#Taking mean value of all kind of rating like combined rating, food rating, service rating\n",
    "combined_mean_Y = calculate_Mean(combined_Y,Rate)\n",
    "food_mean_Y = calculate_Mean(food_Y,Rate)\n",
    "service_mean_Y = calculate_Mean(service_Y,Rate)"
   ]
  },
  {
   "cell_type": "markdown",
   "metadata": {},
   "source": [
    "#### Plotting mean value of all rating by using matplotlib"
   ]
  },
  {
   "cell_type": "code",
   "execution_count": 111,
   "metadata": {
    "collapsed": true
   },
   "outputs": [],
   "source": [
    "#Method to to print the ratings of different groups of restaurants based on different value\n",
    "\n",
    "def mean_rating_plotting(df,rotate=False):\n",
    "    \n",
    "    n = df.shape[1]\n",
    "    columns = df.columns.values\n",
    "    \n",
    "    if n > 1:\n",
    "        combined_y = [ combined_mean_Y[df[i] == 1].mean() for i in columns ]\n",
    "        food_y = [food_mean_Y[df[i] == 1].mean() for i in columns ]\n",
    "        service_y = [service_mean_Y[df[i] == 1].mean() for i in columns ] \n",
    "        y = pd.DataFrame({'combined':combined_y, 'food':food_y, 'service':service_y},\n",
    "                         columns=['combined','food','service'],index=columns) \n",
    "        ticks = columns\n",
    "        \n",
    "    else:\n",
    "        values = df[columns[0]].unique()\n",
    "        values = values[values != '?']\n",
    "        combined_y = [combined_mean_Y[df[columns[0]] == i].mean() for i in values ]\n",
    "        food_y = [food_mean_Y[df[columns[0]] == i].mean() for i in values ]\n",
    "        service_y = [service_mean_Y[df[columns[0]] == i].mean() for i in values ] \n",
    "        y = pd.DataFrame({'combined':combined_y, 'food':food_y, 'service':service_y},\n",
    "                         columns=['combined','food','service'],index=values) \n",
    "        ticks = values\n",
    "   \n",
    "    fig = plt.figure()\n",
    "    plt.plot(range(y.shape[0]),y['combined'],'-o',c='g',label='combined')\n",
    "    plt.plot(range(y.shape[0]),y['food'],'-o',c='r',label='food')   \n",
    "    plt.plot(range(y.shape[0]),y['service'],'-o',c='b',label='service')\n",
    "    plt.xticks(range(y.shape[0]),ticks,fontsize=13)\n",
    "    if rotate: plt.xticks(rotation=40)\n",
    "    plt.yticks(fontsize=13) \n",
    "    if n == 1: plt.xlabel(columns[0],fontsize=15)\n",
    "    plt.ylabel('mean rating',fontsize=15)\n",
    "    plt.legend(fontsize=15,frameon=False)\n",
    "    plt.show()\n",
    "    \n",
    "    print(y)"
   ]
  },
  {
   "cell_type": "code",
   "execution_count": 112,
   "metadata": {},
   "outputs": [
    {
     "data": {
      "text/plain": [
       "Index(['Rcuisine_American', 'Rcuisine_Armenian', 'Rcuisine_Bakery',\n",
       "       'Rcuisine_Bar', 'Rcuisine_Bar_Pub_Brewery', 'Rcuisine_Breakfast-Brunch',\n",
       "       'Rcuisine_Burgers', 'Rcuisine_Cafe-Coffee_Shop', 'Rcuisine_Cafeteria',\n",
       "       'Rcuisine_Chinese', 'Rcuisine_Contemporary', 'Rcuisine_Family',\n",
       "       'Rcuisine_Fast_Food', 'Rcuisine_Game', 'Rcuisine_International',\n",
       "       'Rcuisine_Italian', 'Rcuisine_Japanese', 'Rcuisine_Mediterranean',\n",
       "       'Rcuisine_Mexican', 'Rcuisine_Pizzeria', 'Rcuisine_Regional',\n",
       "       'Rcuisine_Seafood', 'Rcuisine_Vietnamese', 'parking_lot_none',\n",
       "       'parking_lot_public', 'parking_lot_valet parking', 'parking_lot_yes',\n",
       "       'alcohol', 'smoking_area', 'Rambience', 'other_services', 'price',\n",
       "       'dress_code', 'accessibility', 'area'],\n",
       "      dtype='object')"
      ]
     },
     "execution_count": 112,
     "metadata": {},
     "output_type": "execute_result"
    }
   ],
   "source": [
    "X_val.columns"
   ]
  },
  {
   "cell_type": "code",
   "execution_count": 113,
   "metadata": {
    "collapsed": true
   },
   "outputs": [],
   "source": [
    "features_col=['parking_lot_none',\n",
    "       'parking_lot_public', 'parking_lot_valet parking', 'parking_lot_yes',\n",
    "       'alcohol', 'smoking_area', 'Rambience', 'other_services', 'price',\n",
    "       'dress_code', 'accessibility', 'area']"
   ]
  },
  {
   "cell_type": "markdown",
   "metadata": {},
   "source": [
    "#### Analysing some features_col by using matplotlib"
   ]
  },
  {
   "cell_type": "code",
   "execution_count": 114,
   "metadata": {},
   "outputs": [
    {
     "data": {
      "text/plain": [
       "medium    60\n",
       "low       45\n",
       "high      25\n",
       "Name: price, dtype: int64"
      ]
     },
     "execution_count": 114,
     "metadata": {},
     "output_type": "execute_result"
    }
   ],
   "source": [
    "#Getting price detail\n",
    "X_val.price.value_counts()"
   ]
  },
  {
   "cell_type": "code",
   "execution_count": 115,
   "metadata": {},
   "outputs": [
    {
     "data": {
      "text/plain": [
       "medium    91\n",
       "low       35\n",
       "?          7\n",
       "high       5\n",
       "Name: budget, dtype: int64"
      ]
     },
     "execution_count": 115,
     "metadata": {},
     "output_type": "execute_result"
    }
   ],
   "source": [
    "#Finding budget detail\n",
    "userprofile_df.budget.value_counts()"
   ]
  },
  {
   "cell_type": "code",
   "execution_count": 116,
   "metadata": {},
   "outputs": [
    {
     "data": {
      "image/png": "[encoded data removed]",
      "text/plain": [
       "<matplotlib.figure.Figure at 0x7f5163ae77b8>"
      ]
     },
     "metadata": {},
     "output_type": "display_data"
    },
    {
     "name": "stdout",
     "output_type": "stream",
     "text": [
      "        combined      food   service\n",
      "low     1.063059  1.135805  0.935632\n",
      "medium  1.234342  1.255871  1.161361\n",
      "high    1.258106  1.253816  1.174754\n"
     ]
    }
   ],
   "source": [
    "# plotting the mean rating as a function of price\n",
    "mean_rating_plotting(X_val[['price']])"
   ]
  },
  {
   "cell_type": "code",
   "execution_count": 117,
   "metadata": {},
   "outputs": [
    {
     "data": {
      "text/plain": [
       "parking_lot_none             65.0\n",
       "parking_lot_public           16.0\n",
       "parking_lot_valet parking     3.0\n",
       "parking_lot_yes              46.0\n",
       "dtype: float64"
      ]
     },
     "execution_count": 117,
     "metadata": {},
     "output_type": "execute_result"
    }
   ],
   "source": [
    "#Taking subset of features which is imoortant for parking \n",
    "columns = ['parking_lot_none','parking_lot_public', 'parking_lot_valet parking','parking_lot_yes']\n",
    "X_val[columns].sum()"
   ]
  },
  {
   "cell_type": "code",
   "execution_count": 118,
   "metadata": {},
   "outputs": [
    {
     "data": {
      "text/plain": [
       "130.0"
      ]
     },
     "execution_count": 118,
     "metadata": {},
     "output_type": "execute_result"
    }
   ],
   "source": [
    "#Finding the tital sum of parking features\n",
    "X_val[columns].sum().sum()"
   ]
  },
  {
   "cell_type": "code",
   "execution_count": 119,
   "metadata": {},
   "outputs": [
    {
     "data": {
      "image/png": "[encoded data removed]",
      "text/plain": [
       "<matplotlib.figure.Figure at 0x7f516287ab70>"
      ]
     },
     "metadata": {},
     "output_type": "display_data"
    },
    {
     "name": "stdout",
     "output_type": "stream",
     "text": [
      "                           combined      food   service\n",
      "parking_lot_none           1.170202  1.194014  1.097035\n",
      "parking_lot_public         1.101438  1.233839  0.977173\n",
      "parking_lot_valet parking  1.393519  1.324074  1.300926\n",
      "parking_lot_yes            1.206176  1.227920  1.093676\n"
     ]
    }
   ],
   "source": [
    "# finding mean rating of parking features\n",
    "mean_rating_plotting(X_val[columns], rotate=True)"
   ]
  },
  {
   "cell_type": "code",
   "execution_count": 120,
   "metadata": {},
   "outputs": [
    {
     "data": {
      "text/plain": [
       "high      3\n",
       "medium    0\n",
       "low       0\n",
       "Name: price, dtype: int64"
      ]
     },
     "execution_count": 120,
     "metadata": {},
     "output_type": "execute_result"
    }
   ],
   "source": [
    "X_val.price[X_val['parking_lot_valet parking']==1].value_counts()"
   ]
  },
  {
   "cell_type": "code",
   "execution_count": 121,
   "metadata": {},
   "outputs": [
    {
     "data": {
      "text/plain": [
       "medium    8\n",
       "low       7\n",
       "high      1\n",
       "Name: price, dtype: int64"
      ]
     },
     "execution_count": 121,
     "metadata": {},
     "output_type": "execute_result"
    }
   ],
   "source": [
    "X_val.price[X_val['parking_lot_public']==1].value_counts()"
   ]
  },
  {
   "cell_type": "code",
   "execution_count": 122,
   "metadata": {},
   "outputs": [
    {
     "data": {
      "text/plain": [
       "low       31\n",
       "medium    29\n",
       "high       5\n",
       "Name: price, dtype: int64"
      ]
     },
     "execution_count": 122,
     "metadata": {},
     "output_type": "execute_result"
    }
   ],
   "source": [
    "X_val.price[X_val['parking_lot_none']==1].value_counts()"
   ]
  },
  {
   "cell_type": "code",
   "execution_count": 123,
   "metadata": {},
   "outputs": [
    {
     "data": {
      "text/plain": [
       "none             70\n",
       "not permitted    25\n",
       "section          24\n",
       "permitted         9\n",
       "only at bar       2\n",
       "Name: smoking_area, dtype: int64"
      ]
     },
     "execution_count": 123,
     "metadata": {},
     "output_type": "execute_result"
    }
   ],
   "source": [
    "X_val.smoking_area.value_counts()"
   ]
  },
  {
   "cell_type": "code",
   "execution_count": 124,
   "metadata": {},
   "outputs": [
    {
     "data": {
      "text/plain": [
       "false    109\n",
       "true      26\n",
       "Name: smoker, dtype: int64"
      ]
     },
     "execution_count": 124,
     "metadata": {},
     "output_type": "execute_result"
    }
   ],
   "source": [
    "features_user.smoker.value_counts()"
   ]
  },
  {
   "cell_type": "code",
   "execution_count": 125,
   "metadata": {},
   "outputs": [
    {
     "data": {
      "image/png": "[encoded data removed]",
      "text/plain": [
       "<matplotlib.figure.Figure at 0x7f5164b5ab38>"
      ]
     },
     "metadata": {},
     "output_type": "display_data"
    },
    {
     "name": "stdout",
     "output_type": "stream",
     "text": [
      "               combined      food   service\n",
      "permitted      1.201852  1.331481  1.128704\n",
      "none           1.171497  1.208648  1.086371\n",
      "not permitted  1.071238  1.175244  0.986184\n",
      "section        1.291368  1.221073  1.147479\n",
      "only at bar    1.377778  1.266667  1.377778\n"
     ]
    }
   ],
   "source": [
    "# Mean rating of smoking area \n",
    "mean_rating_plotting(X_val[['smoking_area']])"
   ]
  },
  {
   "cell_type": "code",
   "execution_count": 126,
   "metadata": {},
   "outputs": [
    {
     "data": {
      "text/plain": [
       "No_Alcohol_Served    87\n",
       "Wine-Beer            34\n",
       "Full_Bar              9\n",
       "Name: alcohol, dtype: int64"
      ]
     },
     "execution_count": 126,
     "metadata": {},
     "output_type": "execute_result"
    }
   ],
   "source": [
    "X_val.alcohol.value_counts()"
   ]
  },
  {
   "cell_type": "code",
   "execution_count": 127,
   "metadata": {},
   "outputs": [
    {
     "data": {
      "image/png": "[encoded data removed]",
      "text/plain": [
       "<matplotlib.figure.Figure at 0x7f516101d390>"
      ]
     },
     "metadata": {},
     "output_type": "display_data"
    },
    {
     "name": "stdout",
     "output_type": "stream",
     "text": [
      "                   combined      food   service\n",
      "No_Alcohol_Served  1.148075  1.194730  1.042417\n",
      "Full_Bar           1.287124  1.218315  1.170311\n",
      "Wine-Beer          1.231887  1.261840  1.174437\n"
     ]
    }
   ],
   "source": [
    "# mean rating as a function of alcohol\n",
    "mean_rating_plotting(X_val[['alcohol']])"
   ]
  },
  {
   "cell_type": "code",
   "execution_count": 128,
   "metadata": {},
   "outputs": [
    {
     "data": {
      "text/plain": [
       "medium    41\n",
       "low       39\n",
       "high       7\n",
       "Name: price, dtype: int64"
      ]
     },
     "execution_count": 128,
     "metadata": {},
     "output_type": "execute_result"
    }
   ],
   "source": [
    "X_val.price[X_val.alcohol == 'No_Alcohol_Served'].value_counts()"
   ]
  },
  {
   "cell_type": "code",
   "execution_count": 129,
   "metadata": {},
   "outputs": [
    {
     "data": {
      "text/plain": [
       "medium    15\n",
       "high      14\n",
       "low        5\n",
       "Name: price, dtype: int64"
      ]
     },
     "execution_count": 129,
     "metadata": {},
     "output_type": "execute_result"
    }
   ],
   "source": [
    "X_val.price[X_val.alcohol == 'Wine-Beer'].value_counts()"
   ]
  },
  {
   "cell_type": "code",
   "execution_count": 130,
   "metadata": {},
   "outputs": [
    {
     "data": {
      "text/plain": [
       "medium    4\n",
       "high      4\n",
       "low       1\n",
       "Name: price, dtype: int64"
      ]
     },
     "execution_count": 130,
     "metadata": {},
     "output_type": "execute_result"
    }
   ],
   "source": [
    "X_val.price[X_val.alcohol == 'Full_Bar'].value_counts()"
   ]
  },
  {
   "cell_type": "code",
   "execution_count": 131,
   "metadata": {},
   "outputs": [
    {
     "data": {
      "text/plain": [
       "none        119\n",
       "variety       7\n",
       "Internet      4\n",
       "Name: other_services, dtype: int64"
      ]
     },
     "execution_count": 131,
     "metadata": {},
     "output_type": "execute_result"
    }
   ],
   "source": [
    "X_val.other_services.value_counts()"
   ]
  },
  {
   "cell_type": "code",
   "execution_count": 132,
   "metadata": {},
   "outputs": [
    {
     "data": {
      "image/png": "[encoded data removed]",
      "text/plain": [
       "<matplotlib.figure.Figure at 0x7f5160f8c710>"
      ]
     },
     "metadata": {},
     "output_type": "display_data"
    },
    {
     "name": "stdout",
     "output_type": "stream",
     "text": [
      "          combined      food   service\n",
      "none      1.156273  1.193252  1.067643\n",
      "variety   1.498639  1.520748  1.322449\n",
      "Internet  1.315972  1.291667  1.211806\n"
     ]
    }
   ],
   "source": [
    "# mean rating as a function of other_services\n",
    "mean_rating_plotting(X_val[['other_services']])"
   ]
  },
  {
   "cell_type": "code",
   "execution_count": 133,
   "metadata": {},
   "outputs": [
    {
     "data": {
      "text/plain": [
       "medium    4\n",
       "low       2\n",
       "high      1\n",
       "Name: price, dtype: int64"
      ]
     },
     "execution_count": 133,
     "metadata": {},
     "output_type": "execute_result"
    }
   ],
   "source": [
    "X_val.price[X_val.other_services == 'variety'].value_counts()"
   ]
  },
  {
   "cell_type": "code",
   "execution_count": 134,
   "metadata": {},
   "outputs": [
    {
     "data": {
      "text/plain": [
       "medium    53\n",
       "low       43\n",
       "high      23\n",
       "Name: price, dtype: int64"
      ]
     },
     "execution_count": 134,
     "metadata": {},
     "output_type": "execute_result"
    }
   ],
   "source": [
    "X_val.price[X_val.other_services == 'none'].value_counts()"
   ]
  },
  {
   "cell_type": "code",
   "execution_count": 135,
   "metadata": {},
   "outputs": [
    {
     "data": {
      "text/plain": [
       "informal    118\n",
       "casual       10\n",
       "formal        2\n",
       "Name: dress_code, dtype: int64"
      ]
     },
     "execution_count": 135,
     "metadata": {},
     "output_type": "execute_result"
    }
   ],
   "source": [
    "X_val.dress_code.value_counts()"
   ]
  },
  {
   "cell_type": "code",
   "execution_count": 136,
   "metadata": {},
   "outputs": [
    {
     "data": {
      "image/png": "[encoded data removed]",
      "text/plain": [
       "<matplotlib.figure.Figure at 0x7f5160f23a20>"
      ]
     },
     "metadata": {},
     "output_type": "display_data"
    },
    {
     "name": "stdout",
     "output_type": "stream",
     "text": [
      "          combined      food   service\n",
      "informal  1.166441  1.200562  1.068978\n",
      "casual    1.187739  1.264256  1.118116\n",
      "formal    1.916667  1.750000  1.916667\n"
     ]
    }
   ],
   "source": [
    "# Mean rating of dress code function\n",
    "mean_rating_plotting(X_val[['dress_code']])"
   ]
  },
  {
   "cell_type": "code",
   "execution_count": 137,
   "metadata": {},
   "outputs": [
    {
     "data": {
      "text/plain": [
       "medium    1\n",
       "high      1\n",
       "low       0\n",
       "Name: price, dtype: int64"
      ]
     },
     "execution_count": 137,
     "metadata": {},
     "output_type": "execute_result"
    }
   ],
   "source": [
    "X_val.price[X_val.dress_code == 'formal'].value_counts()"
   ]
  },
  {
   "cell_type": "code",
   "execution_count": 138,
   "metadata": {},
   "outputs": [
    {
     "data": {
      "text/plain": [
       "medium    57\n",
       "low       40\n",
       "high      21\n",
       "Name: price, dtype: int64"
      ]
     },
     "execution_count": 138,
     "metadata": {},
     "output_type": "execute_result"
    }
   ],
   "source": [
    "X_val.price[X_val.dress_code == 'informal'].value_counts()"
   ]
  },
  {
   "cell_type": "code",
   "execution_count": 139,
   "metadata": {},
   "outputs": [
    {
     "data": {
      "text/plain": [
       "low       5\n",
       "high      3\n",
       "medium    2\n",
       "Name: price, dtype: int64"
      ]
     },
     "execution_count": 139,
     "metadata": {},
     "output_type": "execute_result"
    }
   ],
   "source": [
    "X_val.price[X_val.dress_code == 'casual'].value_counts()"
   ]
  },
  {
   "cell_type": "code",
   "execution_count": 140,
   "metadata": {},
   "outputs": [
    {
     "data": {
      "text/plain": [
       "no_accessibility    76\n",
       "completely          45\n",
       "partially            9\n",
       "Name: accessibility, dtype: int64"
      ]
     },
     "execution_count": 140,
     "metadata": {},
     "output_type": "execute_result"
    }
   ],
   "source": [
    "X_val.accessibility.value_counts()"
   ]
  },
  {
   "cell_type": "code",
   "execution_count": 141,
   "metadata": {},
   "outputs": [
    {
     "data": {
      "image/png": "[encoded data removed]",
      "text/plain": [
       "<matplotlib.figure.Figure at 0x7f5160f9a358>"
      ]
     },
     "metadata": {},
     "output_type": "display_data"
    },
    {
     "name": "stdout",
     "output_type": "stream",
     "text": [
      "                  combined      food   service\n",
      "no_accessibility  1.196189  1.206242  1.091278\n",
      "completely        1.132494  1.203597  1.049709\n",
      "partially         1.275356  1.330294  1.219991\n"
     ]
    }
   ],
   "source": [
    "# mean rating as a function of dress accessibility\n",
    "mean_rating_plotting(X_val[['accessibility']])"
   ]
  },
  {
   "cell_type": "code",
   "execution_count": 142,
   "metadata": {},
   "outputs": [
    {
     "data": {
      "text/plain": [
       "medium    8\n",
       "low       1\n",
       "high      0\n",
       "Name: price, dtype: int64"
      ]
     },
     "execution_count": 142,
     "metadata": {},
     "output_type": "execute_result"
    }
   ],
   "source": [
    "X_val.price[X_val.accessibility == 'partially'].value_counts()"
   ]
  },
  {
   "cell_type": "code",
   "execution_count": 143,
   "metadata": {},
   "outputs": [
    {
     "data": {
      "text/plain": [
       "medium    39\n",
       "high      23\n",
       "low       14\n",
       "Name: price, dtype: int64"
      ]
     },
     "execution_count": 143,
     "metadata": {},
     "output_type": "execute_result"
    }
   ],
   "source": [
    "X_val.price[X_val.accessibility == 'no_accessibility'].value_counts()"
   ]
  },
  {
   "cell_type": "code",
   "execution_count": 144,
   "metadata": {},
   "outputs": [
    {
     "data": {
      "text/plain": [
       "low       30\n",
       "medium    13\n",
       "high       2\n",
       "Name: price, dtype: int64"
      ]
     },
     "execution_count": 144,
     "metadata": {},
     "output_type": "execute_result"
    }
   ],
   "source": [
    "X_val.price[X_val.accessibility == 'completely'].value_counts()"
   ]
  },
  {
   "cell_type": "code",
   "execution_count": 145,
   "metadata": {},
   "outputs": [
    {
     "data": {
      "text/plain": [
       "closed    115\n",
       "open       15\n",
       "Name: area, dtype: int64"
      ]
     },
     "execution_count": 145,
     "metadata": {},
     "output_type": "execute_result"
    }
   ],
   "source": [
    "X_val.area.value_counts()"
   ]
  },
  {
   "cell_type": "code",
   "execution_count": 146,
   "metadata": {},
   "outputs": [
    {
     "data": {
      "image/png": "[encoded data removed]",
      "text/plain": [
       "<matplotlib.figure.Figure at 0x7f5160f679e8>"
      ]
     },
     "metadata": {},
     "output_type": "display_data"
    },
    {
     "name": "stdout",
     "output_type": "stream",
     "text": [
      "        combined      food   service\n",
      "open    1.069992  1.231315  0.949101\n",
      "closed  1.193921  1.211645  1.103630\n"
     ]
    }
   ],
   "source": [
    "# mean rating as a function of area\n",
    "mean_rating_plotting(X_val[['area']])"
   ]
  },
  {
   "cell_type": "code",
   "execution_count": 147,
   "metadata": {
    "collapsed": true
   },
   "outputs": [],
   "source": [
    "X_cuisine = X_val[['Rcuisine_American', 'Rcuisine_Armenian', 'Rcuisine_Bakery',\n",
    "       'Rcuisine_Bar', 'Rcuisine_Bar_Pub_Brewery', 'Rcuisine_Breakfast-Brunch',\n",
    "       'Rcuisine_Burgers', 'Rcuisine_Cafe-Coffee_Shop', 'Rcuisine_Cafeteria',\n",
    "       'Rcuisine_Chinese', 'Rcuisine_Contemporary', 'Rcuisine_Family',\n",
    "       'Rcuisine_Fast_Food', 'Rcuisine_Game', 'Rcuisine_International',\n",
    "       'Rcuisine_Italian', 'Rcuisine_Japanese', 'Rcuisine_Mediterranean',\n",
    "       'Rcuisine_Mexican', 'Rcuisine_Pizzeria', 'Rcuisine_Regional',\n",
    "       'Rcuisine_Seafood', 'Rcuisine_Vietnamese']]\n"
   ]
  },
  {
   "cell_type": "markdown",
   "metadata": {},
   "source": [
    "#### Finding the correlation of categories wise with their respective mean value"
   ]
  },
  {
   "cell_type": "raw",
   "metadata": {},
   "source": [
    "Now assign the mean value into their respective category for finding the correlation."
   ]
  },
  {
   "cell_type": "code",
   "execution_count": 148,
   "metadata": {},
   "outputs": [
    {
     "name": "stderr",
     "output_type": "stream",
     "text": [
      "/home/kunal/anaconda3/lib/python3.6/site-packages/ipykernel_launcher.py:1: SettingWithCopyWarning:\n",
      "\n",
      "\n",
      "A value is trying to be set on a copy of a slice from a DataFrame.\n",
      "Try using .loc[row_indexer,col_indexer] = value instead\n",
      "\n",
      "See the caveats in the documentation: http://pandas.pydata.org/pandas-docs/stable/indexing.html#indexing-view-versus-copy\n",
      "\n",
      "/home/kunal/anaconda3/lib/python3.6/site-packages/ipykernel_launcher.py:2: SettingWithCopyWarning:\n",
      "\n",
      "\n",
      "A value is trying to be set on a copy of a slice from a DataFrame.\n",
      "Try using .loc[row_indexer,col_indexer] = value instead\n",
      "\n",
      "See the caveats in the documentation: http://pandas.pydata.org/pandas-docs/stable/indexing.html#indexing-view-versus-copy\n",
      "\n",
      "/home/kunal/anaconda3/lib/python3.6/site-packages/ipykernel_launcher.py:3: SettingWithCopyWarning:\n",
      "\n",
      "\n",
      "A value is trying to be set on a copy of a slice from a DataFrame.\n",
      "Try using .loc[row_indexer,col_indexer] = value instead\n",
      "\n",
      "See the caveats in the documentation: http://pandas.pydata.org/pandas-docs/stable/indexing.html#indexing-view-versus-copy\n",
      "\n"
     ]
    }
   ],
   "source": [
    "X_cuisine['food_Y'] = food_mean_Y\n",
    "X_cuisine['combined_Y'] = combined_mean_Y\n",
    "X_cuisine['service_Y'] = service_mean_Y"
   ]
  },
  {
   "cell_type": "markdown",
   "metadata": {},
   "source": [
    "### Correlation Matrix plot"
   ]
  },
  {
   "cell_type": "raw",
   "metadata": {},
   "source": [
    "Correlation gives an indication of how related the changes are between two variables. If two variables change in the same direction they are positively correlated. If the change in opposite directions together (one goes up, one goes down), then they are negatively correlated.\n",
    "\n",
    "You can calculate the correlation between each pair of attributes. This is called a correlation matrix. You can then plot the correlation matrix and get an idea of which variables have a high correlation with each other."
   ]
  },
  {
   "cell_type": "code",
   "execution_count": 149,
   "metadata": {},
   "outputs": [
    {
     "data": {
      "text/plain": [
       "(<matplotlib.figure.Figure at 0x7f5163af33c8>,\n",
       " <matplotlib.axes._subplots.AxesSubplot at 0x7f516288c9b0>)"
      ]
     },
     "execution_count": 149,
     "metadata": {},
     "output_type": "execute_result"
    },
    {
     "data": {
      "text/plain": [
       "<matplotlib.axes._subplots.AxesSubplot at 0x7f516288c9b0>"
      ]
     },
     "execution_count": 149,
     "metadata": {},
     "output_type": "execute_result"
    },
    {
     "data": {
      "image/png": "[encoded data removed]",
      "text/plain": [
       "<matplotlib.figure.Figure at 0x7f5163af33c8>"
      ]
     },
     "metadata": {},
     "output_type": "display_data"
    }
   ],
   "source": [
    "#plotting the data by finding the correlation\n",
    "binary_data = pd.get_dummies(X_cuisine)\n",
    "plt.subplots(figsize=(20,20))\n",
    "sns.heatmap(binary_data.corr(), square=True)\n",
    "plt.show()"
   ]
  },
  {
   "cell_type": "markdown",
   "metadata": {},
   "source": [
    "Note: We can see that the matrix is symmetrical, i.e. the bottom left of the matrix is the same as the top right. This is useful as we can see two different views on the same data in one plot. We can also see that each variable is perfectly positively correlated with each other in the diagonal line from top left to bottom right."
   ]
  },
  {
   "cell_type": "code",
   "execution_count": 150,
   "metadata": {},
   "outputs": [
    {
     "data": {
      "text/plain": [
       "Rcuisine_American            0.001860\n",
       "Rcuisine_Armenian            0.014780\n",
       "Rcuisine_Bakery              0.058773\n",
       "Rcuisine_Bar                 0.019786\n",
       "Rcuisine_Bar_Pub_Brewery     0.116406\n",
       "Rcuisine_Breakfast-Brunch   -0.058542\n",
       "Rcuisine_Burgers            -0.083035\n",
       "Rcuisine_Cafe-Coffee_Shop    0.112542\n",
       "Rcuisine_Cafeteria           0.010247\n",
       "Rcuisine_Chinese             0.013291\n",
       "Rcuisine_Contemporary        0.110369\n",
       "Rcuisine_Family              0.146112\n",
       "Rcuisine_Fast_Food          -0.098107\n",
       "Rcuisine_Game                0.067152\n",
       "Rcuisine_International       0.197299\n",
       "Rcuisine_Italian            -0.028509\n",
       "Rcuisine_Japanese            0.086276\n",
       "Rcuisine_Mediterranean       0.161423\n",
       "Rcuisine_Mexican            -0.101195\n",
       "Rcuisine_Pizzeria           -0.054471\n",
       "Rcuisine_Regional           -0.205184\n",
       "Name: combined_Y, dtype: float64"
      ]
     },
     "execution_count": 150,
     "metadata": {},
     "output_type": "execute_result"
    }
   ],
   "source": [
    "#Combined rating\n",
    "X_cuisine.corr()['combined_Y'][:-5]"
   ]
  },
  {
   "cell_type": "code",
   "execution_count": 151,
   "metadata": {},
   "outputs": [
    {
     "data": {
      "text/plain": [
       "Rcuisine_American           -0.092815\n",
       "Rcuisine_Armenian            0.235444\n",
       "Rcuisine_Bakery              0.048637\n",
       "Rcuisine_Bar                -0.105803\n",
       "Rcuisine_Bar_Pub_Brewery    -0.005632\n",
       "Rcuisine_Breakfast-Brunch   -0.145089\n",
       "Rcuisine_Burgers             0.014586\n",
       "Rcuisine_Cafe-Coffee_Shop    0.027880\n",
       "Rcuisine_Cafeteria          -0.102661\n",
       "Rcuisine_Chinese            -0.020661\n",
       "Rcuisine_Contemporary        0.073894\n",
       "Rcuisine_Family              0.102352\n",
       "Rcuisine_Fast_Food          -0.165883\n",
       "Rcuisine_Game               -0.075901\n",
       "Rcuisine_International       0.234228\n",
       "Rcuisine_Italian            -0.013019\n",
       "Rcuisine_Japanese            0.143163\n",
       "Rcuisine_Mediterranean       0.157608\n",
       "Rcuisine_Mexican             0.042431\n",
       "Rcuisine_Pizzeria           -0.067518\n",
       "Rcuisine_Regional           -0.075901\n",
       "Name: food_Y, dtype: float64"
      ]
     },
     "execution_count": 151,
     "metadata": {},
     "output_type": "execute_result"
    }
   ],
   "source": [
    "#Find food rating \n",
    "X_cuisine.corr()['food_Y'][:-5]"
   ]
  },
  {
   "cell_type": "code",
   "execution_count": 152,
   "metadata": {},
   "outputs": [
    {
     "name": "stdout",
     "output_type": "stream",
     "text": [
      "Rcuisine_American            0.046926\n",
      "Rcuisine_Armenian            0.047020\n",
      "Rcuisine_Bakery              0.092859\n",
      "Rcuisine_Bar                -0.017405\n",
      "Rcuisine_Bar_Pub_Brewery     0.104559\n",
      "Rcuisine_Breakfast-Brunch   -0.063335\n",
      "Rcuisine_Burgers            -0.174886\n",
      "Rcuisine_Cafe-Coffee_Shop    0.097953\n",
      "Rcuisine_Cafeteria          -0.006442\n",
      "Rcuisine_Chinese            -0.035177\n",
      "Rcuisine_Contemporary        0.136682\n",
      "Rcuisine_Family              0.208064\n",
      "Rcuisine_Fast_Food          -0.208497\n",
      "Rcuisine_Game               -0.029380\n",
      "Rcuisine_International       0.221540\n",
      "Rcuisine_Italian            -0.043081\n",
      "Rcuisine_Japanese            0.106286\n",
      "Rcuisine_Mediterranean      -0.029380\n",
      "Rcuisine_Mexican            -0.041290\n",
      "Rcuisine_Pizzeria           -0.035325\n",
      "Rcuisine_Regional           -0.258578\n",
      "Name: service_Y, dtype: float64\n"
     ]
    }
   ],
   "source": [
    "#service rating\n",
    "print(X_cuisine.corr()['service_Y'][:-5])"
   ]
  }
 ],
 "metadata": {
  "kernelspec": {
   "display_name": "Python 3",
   "language": "python",
   "name": "python3"
  },
  "language_info": {
   "codemirror_mode": {
    "name": "ipython",
    "version": 3
   },
   "file_extension": ".py",
   "mimetype": "text/x-python",
   "name": "python",
   "nbconvert_exporter": "python",
   "pygments_lexer": "ipython3",
   "version": "3.6.3"
  }
 },
 "nbformat": 4,
 "nbformat_minor": 2
}
